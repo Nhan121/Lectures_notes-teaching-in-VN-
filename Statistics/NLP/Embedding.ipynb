{
 "cells": [
  {
   "cell_type": "markdown",
   "metadata": {},
   "source": [
    "#### Outline.\n",
    "            1. Word Embedding: using Frequency Base method\n",
    "            \n",
    "            2. Word Embedding: Prediction Base method step by step.\n",
    "            \n",
    "            3. Word Embedding: using Word2vec & GloVe\n",
    "            \n",
    "            4. Using Keras Embedding Layer in some example of real-dataset."
   ]
  },
  {
   "cell_type": "code",
   "execution_count": 1,
   "metadata": {},
   "outputs": [],
   "source": [
    "import numpy as np\n",
    "import pandas as pd"
   ]
  },
  {
   "cell_type": "markdown",
   "metadata": {},
   "source": [
    "**`Word embedding`** is the collective name for a set of **`language modeling`** and **`feature learning`** techniques in **`Natural language processing (NLP)`** where `words` or `phrases` from the `vocabulary` are *mapped to vectors of real numbers*. \n",
    "\n",
    "Conceptually, it involves a `mathematical embedding` from a space with `many dimensions per word` to a `continuous vector space` with a much `lower dimension`.\n",
    "\n",
    "Methods to generate this mapping include `neural networks`, `dimensionality reduction` on the `co-occurrence matrix.`\n",
    "\n",
    "There are two different model architectures which can be leveraged by `Word2Vec` to create these word embedding representations; includes: `Continuous Bag of Words (CBOW)` and `Skip-gram`. Hence, before understanding `Word2Vec`; we will explore the `CBOW` and `skip-gram` in the section 2 `Prediction Base method`.\n",
    "\n",
    "The `GloVe (Global Vectorizer)` is an improvement from `Co-occurrence Matrix` which be presented in the following section.\n",
    "\n",
    "\n",
    "## 1. Word Embedding: using Frequency Base method\n",
    "\n",
    "Includes: `Count Vector`; `tf-idf Vector` and `Co-occurrence Matrix.`\n",
    "\n",
    "### 1.1. CountVectorizer using with `TfidfTransformer` \n",
    "\n",
    "First, consider the simple sentences."
   ]
  },
  {
   "cell_type": "code",
   "execution_count": 2,
   "metadata": {},
   "outputs": [
    {
     "name": "stdout",
     "output_type": "stream",
     "text": [
      "There are 5 sentences in this corpus\n",
      "The number of the different words is : 11 , and ... they are:\n",
      "['and', 'document', 'first', 'is', 'not', 'one', 'second', 'the', 'third', 'this', 'yours']\n"
     ]
    }
   ],
   "source": [
    "from sklearn.feature_extraction.text import CountVectorizer\n",
    "\n",
    "corpus = ['this is the first document',\n",
    "          'this document is the second document',\n",
    "          'and this is the third one',\n",
    "          'is this the first document?',\n",
    "          'this Document is not yours..']\n",
    "\n",
    "cvect = CountVectorizer()\n",
    "X = cvect.fit_transform(corpus)\n",
    "\n",
    "print(\"There are %d sentences in this corpus\"%(X.shape[0]))\n",
    "print('The number of the different words is :', X.shape[1], \", and ... they are:\")\n",
    "print(cvect.get_feature_names())"
   ]
  },
  {
   "cell_type": "markdown",
   "metadata": {},
   "source": [
    "- Firstly, they will count how many `different words` in this sentence, here are `11`; noting that both of the words \"`document`\" and \"`Document`\" will be changed to the lower scripts : `\"Document\"`.\n",
    "- Only the second document contains the `word has frequencies = 2`, it is `document`.\n",
    "- The `unique` words in the corpus will be arranged to the `English alphabet characters`; starting at the word \"**a**nd\" and ending by \"**y**ours\".\n",
    "- The `punctuation` (such as `\"?\"` or `\"!\"`, ....) will be ignored.\n",
    "\n"
   ]
  },
  {
   "cell_type": "code",
   "execution_count": 3,
   "metadata": {},
   "outputs": [
    {
     "data": {
      "text/plain": [
       "array([[0, 1, 1, 1, 0, 0, 0, 1, 0, 1, 0],\n",
       "       [0, 2, 0, 1, 0, 0, 1, 1, 0, 1, 0],\n",
       "       [1, 0, 0, 1, 0, 1, 0, 1, 1, 1, 0],\n",
       "       [0, 1, 1, 1, 0, 0, 0, 1, 0, 1, 0],\n",
       "       [0, 1, 0, 1, 1, 0, 0, 0, 0, 1, 1]], dtype=int64)"
      ]
     },
     "execution_count": 3,
     "metadata": {},
     "output_type": "execute_result"
    }
   ],
   "source": [
    "from sklearn.pipeline import Pipeline\n",
    "from sklearn.feature_extraction.text import TfidfTransformer\n",
    "\n",
    "vocabulary = cvect.get_feature_names()\n",
    "pipe = Pipeline([('count', CountVectorizer(vocabulary = vocabulary, min_df=2, max_df=0.5, ngram_range=(1,2))),\n",
    "                 ('tfid', TfidfTransformer(smooth_idf=False, use_idf=True))]).fit(corpus)\n",
    "pipe['count'].transform(corpus).toarray()"
   ]
  },
  {
   "cell_type": "markdown",
   "metadata": {},
   "source": [
    "Next, **compute the `IDF` values.** (An `idf` is constant per corpus, and **accounts** for the ratio of documents that include the word.)"
   ]
  },
  {
   "cell_type": "code",
   "execution_count": 4,
   "metadata": {},
   "outputs": [
    {
     "data": {
      "text/html": [
       "<div>\n",
       "<style scoped>\n",
       "    .dataframe tbody tr th:only-of-type {\n",
       "        vertical-align: middle;\n",
       "    }\n",
       "\n",
       "    .dataframe tbody tr th {\n",
       "        vertical-align: top;\n",
       "    }\n",
       "\n",
       "    .dataframe thead th {\n",
       "        text-align: right;\n",
       "    }\n",
       "</style>\n",
       "<table border=\"1\" class=\"dataframe\">\n",
       "  <thead>\n",
       "    <tr style=\"text-align: right;\">\n",
       "      <th></th>\n",
       "      <th>fea_names</th>\n",
       "      <th>idf_smooth_False)</th>\n",
       "    </tr>\n",
       "  </thead>\n",
       "  <tbody>\n",
       "    <tr>\n",
       "      <th>0</th>\n",
       "      <td>and</td>\n",
       "      <td>2.609438</td>\n",
       "    </tr>\n",
       "    <tr>\n",
       "      <th>1</th>\n",
       "      <td>document</td>\n",
       "      <td>1.223144</td>\n",
       "    </tr>\n",
       "    <tr>\n",
       "      <th>2</th>\n",
       "      <td>first</td>\n",
       "      <td>1.916291</td>\n",
       "    </tr>\n",
       "    <tr>\n",
       "      <th>3</th>\n",
       "      <td>is</td>\n",
       "      <td>1.000000</td>\n",
       "    </tr>\n",
       "    <tr>\n",
       "      <th>4</th>\n",
       "      <td>not</td>\n",
       "      <td>2.609438</td>\n",
       "    </tr>\n",
       "    <tr>\n",
       "      <th>5</th>\n",
       "      <td>one</td>\n",
       "      <td>2.609438</td>\n",
       "    </tr>\n",
       "    <tr>\n",
       "      <th>6</th>\n",
       "      <td>second</td>\n",
       "      <td>2.609438</td>\n",
       "    </tr>\n",
       "    <tr>\n",
       "      <th>7</th>\n",
       "      <td>the</td>\n",
       "      <td>1.223144</td>\n",
       "    </tr>\n",
       "    <tr>\n",
       "      <th>8</th>\n",
       "      <td>third</td>\n",
       "      <td>2.609438</td>\n",
       "    </tr>\n",
       "    <tr>\n",
       "      <th>9</th>\n",
       "      <td>this</td>\n",
       "      <td>1.000000</td>\n",
       "    </tr>\n",
       "    <tr>\n",
       "      <th>10</th>\n",
       "      <td>yours</td>\n",
       "      <td>2.609438</td>\n",
       "    </tr>\n",
       "  </tbody>\n",
       "</table>\n",
       "</div>"
      ],
      "text/plain": [
       "   fea_names  idf_smooth_False)\n",
       "0        and           2.609438\n",
       "1   document           1.223144\n",
       "2      first           1.916291\n",
       "3         is           1.000000\n",
       "4        not           2.609438\n",
       "5        one           2.609438\n",
       "6     second           2.609438\n",
       "7        the           1.223144\n",
       "8      third           2.609438\n",
       "9       this           1.000000\n",
       "10     yours           2.609438"
      ]
     },
     "execution_count": 4,
     "metadata": {},
     "output_type": "execute_result"
    }
   ],
   "source": [
    "table = pd.DataFrame({\"fea_names\": cvect.get_feature_names(), \"idf_smooth_False)\": pipe['tfid'].idf_})\n",
    "table"
   ]
  },
  {
   "cell_type": "markdown",
   "metadata": {},
   "source": [
    "According to https://github.com/scikit-learn/scikit-learn/blob/master/sklearn/feature_extraction/text.py#L987-L992 and https://scikit-learn.org/stable/modules/generated/sklearn.feature_extraction.text.TfidfTransformer.html?highlight=tfidf#sklearn.feature_extraction.text.TfidfTransformer\n",
    "\n",
    "- If `smooth_idf=False`); the formula that is used to compute the `tf-idf` for a term t of a document `d` in a document set is \n",
    "\n",
    "                                    tf-idf(w, d) = tf(w, d) * idf(w), \n",
    "\n",
    "and the `idf` is computed as \n",
    "\n",
    "                                        idf(w) = log [ n / df(w) ] + 1, \n",
    "\n",
    "where `n` is the `total number of documents in the corpus` and `df(t) is the document frequency of w`; the document frequency is the number of documents in the document set that contain the word `w`. \n",
    "\n",
    "The effect of adding `“1”` to the idf in the equation above is that terms with zero idf, i.e., terms that occur in all documents in a training set, ***will not be entirely ignored***. \n",
    "\n",
    "For example: \n",
    "1. The word `\"is\"`. We have a corpus of `5 sentences/ documents` and all of them contain this word (`\"is\"`); so \n",
    "\n",
    "                                    idf(\"is\") = log(5 / 5) + 1 = 1\n",
    "\n",
    "2. The word `\"and\"`, we have\n",
    "\n",
    "                                    idf(\"and\") = log(5 / 1) + 1 appox 2.609 \n",
    "                                \n",
    "Noting that, the `log` here is `natural logarithm (default)`.\n",
    "\n",
    "***Note that the `idf` formula above differs from the standard textbook notation that defines the idf as***\n",
    "\n",
    "                                    idf(w) = log [ n / (df(w) + 1) ].\n",
    "\n",
    "- If `smooth_idf=True` (the default), the constant `“1”` is added to the numerator and denominator of the idf as if an extra document was seen containing every term in the collection exactly once, which ***prevents zero divisions:*** \n",
    "\n",
    "                                    idf(d, t) = log [ (1 + n) / (1 + df(d, t)) ] + 1."
   ]
  },
  {
   "cell_type": "code",
   "execution_count": 5,
   "metadata": {},
   "outputs": [
    {
     "data": {
      "text/html": [
       "<div>\n",
       "<style scoped>\n",
       "    .dataframe tbody tr th:only-of-type {\n",
       "        vertical-align: middle;\n",
       "    }\n",
       "\n",
       "    .dataframe tbody tr th {\n",
       "        vertical-align: top;\n",
       "    }\n",
       "\n",
       "    .dataframe thead th {\n",
       "        text-align: right;\n",
       "    }\n",
       "</style>\n",
       "<table border=\"1\" class=\"dataframe\">\n",
       "  <thead>\n",
       "    <tr style=\"text-align: right;\">\n",
       "      <th></th>\n",
       "      <th>fea_names</th>\n",
       "      <th>idf_smooth_False)</th>\n",
       "      <th>idf_smooth_True</th>\n",
       "    </tr>\n",
       "  </thead>\n",
       "  <tbody>\n",
       "    <tr>\n",
       "      <th>0</th>\n",
       "      <td>and</td>\n",
       "      <td>2.609438</td>\n",
       "      <td>2.098612</td>\n",
       "    </tr>\n",
       "    <tr>\n",
       "      <th>1</th>\n",
       "      <td>document</td>\n",
       "      <td>1.223144</td>\n",
       "      <td>1.182322</td>\n",
       "    </tr>\n",
       "    <tr>\n",
       "      <th>2</th>\n",
       "      <td>first</td>\n",
       "      <td>1.916291</td>\n",
       "      <td>1.693147</td>\n",
       "    </tr>\n",
       "    <tr>\n",
       "      <th>3</th>\n",
       "      <td>is</td>\n",
       "      <td>1.000000</td>\n",
       "      <td>1.000000</td>\n",
       "    </tr>\n",
       "    <tr>\n",
       "      <th>4</th>\n",
       "      <td>not</td>\n",
       "      <td>2.609438</td>\n",
       "      <td>2.098612</td>\n",
       "    </tr>\n",
       "    <tr>\n",
       "      <th>5</th>\n",
       "      <td>one</td>\n",
       "      <td>2.609438</td>\n",
       "      <td>2.098612</td>\n",
       "    </tr>\n",
       "    <tr>\n",
       "      <th>6</th>\n",
       "      <td>second</td>\n",
       "      <td>2.609438</td>\n",
       "      <td>2.098612</td>\n",
       "    </tr>\n",
       "    <tr>\n",
       "      <th>7</th>\n",
       "      <td>the</td>\n",
       "      <td>1.223144</td>\n",
       "      <td>1.182322</td>\n",
       "    </tr>\n",
       "    <tr>\n",
       "      <th>8</th>\n",
       "      <td>third</td>\n",
       "      <td>2.609438</td>\n",
       "      <td>2.098612</td>\n",
       "    </tr>\n",
       "    <tr>\n",
       "      <th>9</th>\n",
       "      <td>this</td>\n",
       "      <td>1.000000</td>\n",
       "      <td>1.000000</td>\n",
       "    </tr>\n",
       "    <tr>\n",
       "      <th>10</th>\n",
       "      <td>yours</td>\n",
       "      <td>2.609438</td>\n",
       "      <td>2.098612</td>\n",
       "    </tr>\n",
       "  </tbody>\n",
       "</table>\n",
       "</div>"
      ],
      "text/plain": [
       "   fea_names  idf_smooth_False)  idf_smooth_True\n",
       "0        and           2.609438         2.098612\n",
       "1   document           1.223144         1.182322\n",
       "2      first           1.916291         1.693147\n",
       "3         is           1.000000         1.000000\n",
       "4        not           2.609438         2.098612\n",
       "5        one           2.609438         2.098612\n",
       "6     second           2.609438         2.098612\n",
       "7        the           1.223144         1.182322\n",
       "8      third           2.609438         2.098612\n",
       "9       this           1.000000         1.000000\n",
       "10     yours           2.609438         2.098612"
      ]
     },
     "execution_count": 5,
     "metadata": {},
     "output_type": "execute_result"
    }
   ],
   "source": [
    "pipe = Pipeline([('count', CountVectorizer(vocabulary = vocabulary, \n",
    "                                           min_df=2, max_df=0.5, ngram_range=(1,2))),\n",
    "                 ('tfid', TfidfTransformer(smooth_idf=True, use_idf=True))]).fit(corpus)\n",
    "\n",
    "table[\"idf_smooth_True\"] = pipe['tfid'].idf_\n",
    "table"
   ]
  },
  {
   "cell_type": "code",
   "execution_count": 6,
   "metadata": {},
   "outputs": [
    {
     "data": {
      "text/plain": [
       "(2.6094379124341005, 2.09861228866811)"
      ]
     },
     "execution_count": 6,
     "metadata": {},
     "output_type": "execute_result"
    }
   ],
   "source": [
    "## verify the idf_value of the word \"and\"\n",
    "\n",
    "np.log(5) + 1, np.log((1 + 5)/(1+1))+1"
   ]
  },
  {
   "cell_type": "markdown",
   "metadata": {},
   "source": [
    "**Compute the TFIDF score**, depend on how we compute the `idf_values`, the `tfidf` is defined by\n",
    "\n",
    "                                tf-idf(w, d) = tf(w, d) * idf(w)\n",
    "\n",
    "Recall that; the meaning of `TF` is **`term frequency`** and here defined by *the number of times that word `w` occurs in document `d`*\n",
    "\n",
    "For example; in the first sentence, `d = 1`; the word `\"and\"` is not in this sentence, so `tf(\"and\", d=1) = 0`.\n",
    "\n",
    "See the table bellow."
   ]
  },
  {
   "cell_type": "code",
   "execution_count": 7,
   "metadata": {},
   "outputs": [
    {
     "data": {
      "text/html": [
       "<div>\n",
       "<style scoped>\n",
       "    .dataframe tbody tr th:only-of-type {\n",
       "        vertical-align: middle;\n",
       "    }\n",
       "\n",
       "    .dataframe tbody tr th {\n",
       "        vertical-align: top;\n",
       "    }\n",
       "\n",
       "    .dataframe thead th {\n",
       "        text-align: right;\n",
       "    }\n",
       "</style>\n",
       "<table border=\"1\" class=\"dataframe\">\n",
       "  <thead>\n",
       "    <tr style=\"text-align: right;\">\n",
       "      <th></th>\n",
       "      <th>fea_names</th>\n",
       "      <th>idf_smooth_False)</th>\n",
       "      <th>idf_smooth_True</th>\n",
       "      <th>tfidf_smooth_True_1st_doc</th>\n",
       "      <th>tfidf_smooth_True_2nd_doc</th>\n",
       "      <th>tfidf_smooth_True_3rd_doc</th>\n",
       "    </tr>\n",
       "  </thead>\n",
       "  <tbody>\n",
       "    <tr>\n",
       "      <th>0</th>\n",
       "      <td>and</td>\n",
       "      <td>2.609438</td>\n",
       "      <td>2.098612</td>\n",
       "      <td>0.000000</td>\n",
       "      <td>0.000000</td>\n",
       "      <td>0.514923</td>\n",
       "    </tr>\n",
       "    <tr>\n",
       "      <th>1</th>\n",
       "      <td>document</td>\n",
       "      <td>1.223144</td>\n",
       "      <td>1.182322</td>\n",
       "      <td>0.427120</td>\n",
       "      <td>0.646126</td>\n",
       "      <td>0.000000</td>\n",
       "    </tr>\n",
       "    <tr>\n",
       "      <th>2</th>\n",
       "      <td>first</td>\n",
       "      <td>1.916291</td>\n",
       "      <td>1.693147</td>\n",
       "      <td>0.611659</td>\n",
       "      <td>0.000000</td>\n",
       "      <td>0.000000</td>\n",
       "    </tr>\n",
       "    <tr>\n",
       "      <th>3</th>\n",
       "      <td>is</td>\n",
       "      <td>1.000000</td>\n",
       "      <td>1.000000</td>\n",
       "      <td>0.361255</td>\n",
       "      <td>0.273244</td>\n",
       "      <td>0.245363</td>\n",
       "    </tr>\n",
       "    <tr>\n",
       "      <th>4</th>\n",
       "      <td>not</td>\n",
       "      <td>2.609438</td>\n",
       "      <td>2.098612</td>\n",
       "      <td>0.000000</td>\n",
       "      <td>0.000000</td>\n",
       "      <td>0.000000</td>\n",
       "    </tr>\n",
       "    <tr>\n",
       "      <th>5</th>\n",
       "      <td>one</td>\n",
       "      <td>2.609438</td>\n",
       "      <td>2.098612</td>\n",
       "      <td>0.000000</td>\n",
       "      <td>0.000000</td>\n",
       "      <td>0.514923</td>\n",
       "    </tr>\n",
       "    <tr>\n",
       "      <th>6</th>\n",
       "      <td>second</td>\n",
       "      <td>2.609438</td>\n",
       "      <td>2.098612</td>\n",
       "      <td>0.000000</td>\n",
       "      <td>0.573434</td>\n",
       "      <td>0.000000</td>\n",
       "    </tr>\n",
       "    <tr>\n",
       "      <th>7</th>\n",
       "      <td>the</td>\n",
       "      <td>1.223144</td>\n",
       "      <td>1.182322</td>\n",
       "      <td>0.427120</td>\n",
       "      <td>0.323063</td>\n",
       "      <td>0.290099</td>\n",
       "    </tr>\n",
       "    <tr>\n",
       "      <th>8</th>\n",
       "      <td>third</td>\n",
       "      <td>2.609438</td>\n",
       "      <td>2.098612</td>\n",
       "      <td>0.000000</td>\n",
       "      <td>0.000000</td>\n",
       "      <td>0.514923</td>\n",
       "    </tr>\n",
       "    <tr>\n",
       "      <th>9</th>\n",
       "      <td>this</td>\n",
       "      <td>1.000000</td>\n",
       "      <td>1.000000</td>\n",
       "      <td>0.361255</td>\n",
       "      <td>0.273244</td>\n",
       "      <td>0.245363</td>\n",
       "    </tr>\n",
       "    <tr>\n",
       "      <th>10</th>\n",
       "      <td>yours</td>\n",
       "      <td>2.609438</td>\n",
       "      <td>2.098612</td>\n",
       "      <td>0.000000</td>\n",
       "      <td>0.000000</td>\n",
       "      <td>0.000000</td>\n",
       "    </tr>\n",
       "  </tbody>\n",
       "</table>\n",
       "</div>"
      ],
      "text/plain": [
       "   fea_names  idf_smooth_False)  idf_smooth_True  tfidf_smooth_True_1st_doc  \\\n",
       "0        and           2.609438         2.098612                   0.000000   \n",
       "1   document           1.223144         1.182322                   0.427120   \n",
       "2      first           1.916291         1.693147                   0.611659   \n",
       "3         is           1.000000         1.000000                   0.361255   \n",
       "4        not           2.609438         2.098612                   0.000000   \n",
       "5        one           2.609438         2.098612                   0.000000   \n",
       "6     second           2.609438         2.098612                   0.000000   \n",
       "7        the           1.223144         1.182322                   0.427120   \n",
       "8      third           2.609438         2.098612                   0.000000   \n",
       "9       this           1.000000         1.000000                   0.361255   \n",
       "10     yours           2.609438         2.098612                   0.000000   \n",
       "\n",
       "    tfidf_smooth_True_2nd_doc  tfidf_smooth_True_3rd_doc  \n",
       "0                    0.000000                   0.514923  \n",
       "1                    0.646126                   0.000000  \n",
       "2                    0.000000                   0.000000  \n",
       "3                    0.273244                   0.245363  \n",
       "4                    0.000000                   0.000000  \n",
       "5                    0.000000                   0.514923  \n",
       "6                    0.573434                   0.000000  \n",
       "7                    0.323063                   0.290099  \n",
       "8                    0.000000                   0.514923  \n",
       "9                    0.273244                   0.245363  \n",
       "10                   0.000000                   0.000000  "
      ]
     },
     "execution_count": 7,
     "metadata": {},
     "output_type": "execute_result"
    }
   ],
   "source": [
    "vocabulary = cvect.get_feature_names()\n",
    "pipe = Pipeline([('count', CountVectorizer(vocabulary = vocabulary, \n",
    "                                           min_df=2, max_df=0.5, ngram_range=(1,2))),\n",
    "                 ('tfid', TfidfTransformer(smooth_idf=True, use_idf = True))]).fit(corpus)\n",
    "\n",
    "count_vector = pipe['count'].transform(corpus).toarray()  ## equivalent with CountVectorizer.fit_transform(corpus)\n",
    "\n",
    "tf_idf_vector = pipe['tfid'].transform(count_vector)\n",
    "tf_idf_vector[0].toarray()\n",
    "table[\"tfidf_smooth_True_1st_doc\"] = tf_idf_vector[0].T.toarray()\n",
    "table[\"tfidf_smooth_True_2nd_doc\"] = tf_idf_vector[1].T.toarray()\n",
    "table[\"tfidf_smooth_True_3rd_doc\"] = tf_idf_vector[2].T.toarray()\n",
    "table"
   ]
  },
  {
   "cell_type": "markdown",
   "metadata": {},
   "source": [
    "### 1.2. `TfidfVectorizer` is equivalent to the first method"
   ]
  },
  {
   "cell_type": "code",
   "execution_count": 8,
   "metadata": {},
   "outputs": [
    {
     "name": "stdout",
     "output_type": "stream",
     "text": [
      "['and', 'document', 'first', 'is', 'not', 'one', 'second', 'the', 'third', 'this', 'yours']\n"
     ]
    }
   ],
   "source": [
    "from sklearn.feature_extraction.text import TfidfVectorizer\n",
    "\n",
    "tf = TfidfVectorizer()\n",
    "tfidf_matrix =  tf.fit_transform(corpus)\n",
    "feature_names = tf.get_feature_names()\n",
    "print(feature_names)"
   ]
  },
  {
   "cell_type": "markdown",
   "metadata": {},
   "source": [
    "**Viewing the `tfidf-score` by using `TfidfVectorizer`; first looking at the `tfidf-values` in the first sentences.**"
   ]
  },
  {
   "cell_type": "code",
   "execution_count": 9,
   "metadata": {},
   "outputs": [
    {
     "data": {
      "text/plain": [
       "array([0.        , 0.42712001, 0.6116585 , 0.36125537, 0.        ,\n",
       "       0.        , 0.        , 0.42712001, 0.        , 0.36125537,\n",
       "       0.        ])"
      ]
     },
     "execution_count": 9,
     "metadata": {},
     "output_type": "execute_result"
    }
   ],
   "source": [
    "tfidf_vectorizer = TfidfVectorizer(use_idf=True)\n",
    "tfidf_vectorizer_vectors=tfidf_vectorizer.fit_transform(corpus)\n",
    "M = tfidf_vectorizer_vectors.toarray()\n",
    "M[0,:]"
   ]
  },
  {
   "cell_type": "markdown",
   "metadata": {},
   "source": [
    "**tf-idf values using Tfidfvectorizer**"
   ]
  },
  {
   "cell_type": "code",
   "execution_count": 10,
   "metadata": {},
   "outputs": [
    {
     "data": {
      "text/html": [
       "<div>\n",
       "<style scoped>\n",
       "    .dataframe tbody tr th:only-of-type {\n",
       "        vertical-align: middle;\n",
       "    }\n",
       "\n",
       "    .dataframe tbody tr th {\n",
       "        vertical-align: top;\n",
       "    }\n",
       "\n",
       "    .dataframe thead th {\n",
       "        text-align: right;\n",
       "    }\n",
       "</style>\n",
       "<table border=\"1\" class=\"dataframe\">\n",
       "  <thead>\n",
       "    <tr style=\"text-align: right;\">\n",
       "      <th></th>\n",
       "      <th>fea_names</th>\n",
       "      <th>tfidf_TfVec_1st_doc</th>\n",
       "      <th>tfidf_TfVec_2nd_doc</th>\n",
       "      <th>tfidf_TfVec_3rd_doc</th>\n",
       "    </tr>\n",
       "  </thead>\n",
       "  <tbody>\n",
       "    <tr>\n",
       "      <th>0</th>\n",
       "      <td>and</td>\n",
       "      <td>0.000000</td>\n",
       "      <td>0.000000</td>\n",
       "      <td>0.514923</td>\n",
       "    </tr>\n",
       "    <tr>\n",
       "      <th>1</th>\n",
       "      <td>document</td>\n",
       "      <td>0.427120</td>\n",
       "      <td>0.646126</td>\n",
       "      <td>0.000000</td>\n",
       "    </tr>\n",
       "    <tr>\n",
       "      <th>2</th>\n",
       "      <td>first</td>\n",
       "      <td>0.611659</td>\n",
       "      <td>0.000000</td>\n",
       "      <td>0.000000</td>\n",
       "    </tr>\n",
       "    <tr>\n",
       "      <th>3</th>\n",
       "      <td>is</td>\n",
       "      <td>0.361255</td>\n",
       "      <td>0.273244</td>\n",
       "      <td>0.245363</td>\n",
       "    </tr>\n",
       "    <tr>\n",
       "      <th>4</th>\n",
       "      <td>not</td>\n",
       "      <td>0.000000</td>\n",
       "      <td>0.000000</td>\n",
       "      <td>0.000000</td>\n",
       "    </tr>\n",
       "    <tr>\n",
       "      <th>5</th>\n",
       "      <td>one</td>\n",
       "      <td>0.000000</td>\n",
       "      <td>0.000000</td>\n",
       "      <td>0.514923</td>\n",
       "    </tr>\n",
       "    <tr>\n",
       "      <th>6</th>\n",
       "      <td>second</td>\n",
       "      <td>0.000000</td>\n",
       "      <td>0.573434</td>\n",
       "      <td>0.000000</td>\n",
       "    </tr>\n",
       "    <tr>\n",
       "      <th>7</th>\n",
       "      <td>the</td>\n",
       "      <td>0.427120</td>\n",
       "      <td>0.323063</td>\n",
       "      <td>0.290099</td>\n",
       "    </tr>\n",
       "    <tr>\n",
       "      <th>8</th>\n",
       "      <td>third</td>\n",
       "      <td>0.000000</td>\n",
       "      <td>0.000000</td>\n",
       "      <td>0.514923</td>\n",
       "    </tr>\n",
       "    <tr>\n",
       "      <th>9</th>\n",
       "      <td>this</td>\n",
       "      <td>0.361255</td>\n",
       "      <td>0.273244</td>\n",
       "      <td>0.245363</td>\n",
       "    </tr>\n",
       "    <tr>\n",
       "      <th>10</th>\n",
       "      <td>yours</td>\n",
       "      <td>0.000000</td>\n",
       "      <td>0.000000</td>\n",
       "      <td>0.000000</td>\n",
       "    </tr>\n",
       "  </tbody>\n",
       "</table>\n",
       "</div>"
      ],
      "text/plain": [
       "   fea_names  tfidf_TfVec_1st_doc  tfidf_TfVec_2nd_doc  tfidf_TfVec_3rd_doc\n",
       "0        and             0.000000             0.000000             0.514923\n",
       "1   document             0.427120             0.646126             0.000000\n",
       "2      first             0.611659             0.000000             0.000000\n",
       "3         is             0.361255             0.273244             0.245363\n",
       "4        not             0.000000             0.000000             0.000000\n",
       "5        one             0.000000             0.000000             0.514923\n",
       "6     second             0.000000             0.573434             0.000000\n",
       "7        the             0.427120             0.323063             0.290099\n",
       "8      third             0.000000             0.000000             0.514923\n",
       "9       this             0.361255             0.273244             0.245363\n",
       "10     yours             0.000000             0.000000             0.000000"
      ]
     },
     "execution_count": 10,
     "metadata": {},
     "output_type": "execute_result"
    }
   ],
   "source": [
    "pd.DataFrame({\"fea_names\": feature_names, \n",
    "              \"tfidf_TfVec_1st_doc\": M[0, :], \n",
    "              \"tfidf_TfVec_2nd_doc\": M[1, :],\n",
    "              \"tfidf_TfVec_3rd_doc\": M[2, :]})"
   ]
  },
  {
   "cell_type": "markdown",
   "metadata": {},
   "source": [
    "In a summary, the main difference between the two modules are as follows:\n",
    "\n",
    "- With `Tfidftransformer` you will systematically compute word counts using `CountVectorizer` and then compute the `Inverse Document Frequency (IDF)` values and only then compute the `Tf-idf scores`.\n",
    "\n",
    "- With `Tfidfvectorizer` on the contrary, **you will do all three steps at once**. It computes the word counts, IDF values, and Tf-idf scores all using the same dataset.\n",
    "\n",
    "**When to use what?**\n",
    "So now you may be wondering, why you should use more steps than necessary if you can get everything done in two steps. Well, there are cases where you want to use Tfidftransformer over Tfidfvectorizer and it is sometimes not that obvious. Here is a general guideline:\n",
    "\n",
    "- If you need the `term frequency` (term count) vectors for `different tasks`, use `Tfidftransformer`.\n",
    "- If you need to compute `tf-idf scores` on documents within your `“training”` dataset, use `Tfidfvectorizer`.\n",
    "- If you need to compute `tf-idf scores` on documents **`outside your “training”`** dataset, use either one, both will work.\n",
    "\n",
    "-----------------------------------"
   ]
  },
  {
   "cell_type": "code",
   "execution_count": 11,
   "metadata": {},
   "outputs": [],
   "source": [
    "import nltk\n",
    "from nltk import bigrams\n",
    "import itertools"
   ]
  },
  {
   "cell_type": "markdown",
   "metadata": {},
   "source": [
    "However, the `disadvantage` of both preceding methods is that it **only focuses on the frequency of occurrence of a word, leading to it having almost no contextual meaning**. Using **`co-occurrence matrix`** can solves that problem partially. \n",
    "\n",
    "------------------------\n",
    "\n",
    "### 1.3. Co-occurrence Matrix.\n",
    "\n",
    "------------------------\n",
    "\n",
    "**Definition.** `Co-occurrence matrix`, is a symmetric square matrix, each row or column will be the vector representing the corresponding word; it is measuring `co-occurrences` of `features` within a `user-defined context`. \n",
    "\n",
    "The `context` can be defined as a document or a `window` within a collection of documents, with an `optional vector of weights` applied to the co-occurrence counts.\n",
    "\n",
    "------------------------\n",
    "\n",
    "Hence, **`Co-occurrence Matrix`** has the ***advantage of preserving the semantic relationship between words, built on the number of occurrences of word pairs in the `Context Window`***. \n",
    "\n",
    "\n",
    "`A Context Window` is determined by its size and direction, the following table is an example of the `Context Window` with `size = 1`. \n",
    "- Given a text_data:\n",
    "\n",
    "            draft_text = [[\"I\", \"love\", \"you\", \"and\", \"hers\"], \n",
    "                          [\"Don't\", \"worried\", \"just\", \"kidding\"], \n",
    "                           [\"I\", \"love\", \"NLP\"],\n",
    "                           [\"I\", \"love\", \"Machine\", \"Learning\", \"and\", \"Mathematics\"]]\n",
    "\n",
    "\n",
    "- We want to create the matrix $X$ such that $X_{i, j}$ represents how often `word_i` appears in `context_of_word_j`. For example, there are 3 times word `word_i = \"love\"` is defined by the words `word_j = \"I\"` in these `context_sentences`: \"`I love` you and hers\", \"`I love` NLP\" and \"`I love` Machine Learning and Mathematics\".\n",
    "\n",
    "$$ X_{\\text{(\"I\", \"love\")}} = X_{\\text{(\"love\", \"I\")}} = 3 $$"
   ]
  },
  {
   "cell_type": "code",
   "execution_count": 77,
   "metadata": {},
   "outputs": [
    {
     "data": {
      "text/html": [
       "<div>\n",
       "<style scoped>\n",
       "    .dataframe tbody tr th:only-of-type {\n",
       "        vertical-align: middle;\n",
       "    }\n",
       "\n",
       "    .dataframe tbody tr th {\n",
       "        vertical-align: top;\n",
       "    }\n",
       "\n",
       "    .dataframe thead th {\n",
       "        text-align: right;\n",
       "    }\n",
       "</style>\n",
       "<table border=\"1\" class=\"dataframe\">\n",
       "  <thead>\n",
       "    <tr style=\"text-align: right;\">\n",
       "      <th></th>\n",
       "      <th>kidding</th>\n",
       "      <th>I</th>\n",
       "      <th>and</th>\n",
       "      <th>worried</th>\n",
       "      <th>Learning</th>\n",
       "      <th>Machine</th>\n",
       "      <th>Mathematics</th>\n",
       "      <th>just</th>\n",
       "      <th>hers</th>\n",
       "      <th>love</th>\n",
       "      <th>NLP</th>\n",
       "      <th>Don't</th>\n",
       "      <th>you</th>\n",
       "    </tr>\n",
       "  </thead>\n",
       "  <tbody>\n",
       "    <tr>\n",
       "      <th>kidding</th>\n",
       "      <td>0.0</td>\n",
       "      <td>1.0</td>\n",
       "      <td>0.0</td>\n",
       "      <td>0.0</td>\n",
       "      <td>0.0</td>\n",
       "      <td>0.0</td>\n",
       "      <td>0.0</td>\n",
       "      <td>1.0</td>\n",
       "      <td>0.0</td>\n",
       "      <td>0.0</td>\n",
       "      <td>0.0</td>\n",
       "      <td>0.0</td>\n",
       "      <td>0.0</td>\n",
       "    </tr>\n",
       "    <tr>\n",
       "      <th>I</th>\n",
       "      <td>1.0</td>\n",
       "      <td>0.0</td>\n",
       "      <td>0.0</td>\n",
       "      <td>0.0</td>\n",
       "      <td>0.0</td>\n",
       "      <td>0.0</td>\n",
       "      <td>0.0</td>\n",
       "      <td>0.0</td>\n",
       "      <td>0.0</td>\n",
       "      <td>3.0</td>\n",
       "      <td>1.0</td>\n",
       "      <td>0.0</td>\n",
       "      <td>0.0</td>\n",
       "    </tr>\n",
       "    <tr>\n",
       "      <th>and</th>\n",
       "      <td>0.0</td>\n",
       "      <td>0.0</td>\n",
       "      <td>0.0</td>\n",
       "      <td>0.0</td>\n",
       "      <td>1.0</td>\n",
       "      <td>0.0</td>\n",
       "      <td>1.0</td>\n",
       "      <td>0.0</td>\n",
       "      <td>1.0</td>\n",
       "      <td>0.0</td>\n",
       "      <td>0.0</td>\n",
       "      <td>0.0</td>\n",
       "      <td>1.0</td>\n",
       "    </tr>\n",
       "    <tr>\n",
       "      <th>worried</th>\n",
       "      <td>0.0</td>\n",
       "      <td>0.0</td>\n",
       "      <td>0.0</td>\n",
       "      <td>0.0</td>\n",
       "      <td>0.0</td>\n",
       "      <td>0.0</td>\n",
       "      <td>0.0</td>\n",
       "      <td>1.0</td>\n",
       "      <td>0.0</td>\n",
       "      <td>0.0</td>\n",
       "      <td>0.0</td>\n",
       "      <td>1.0</td>\n",
       "      <td>0.0</td>\n",
       "    </tr>\n",
       "    <tr>\n",
       "      <th>Learning</th>\n",
       "      <td>0.0</td>\n",
       "      <td>0.0</td>\n",
       "      <td>1.0</td>\n",
       "      <td>0.0</td>\n",
       "      <td>0.0</td>\n",
       "      <td>1.0</td>\n",
       "      <td>0.0</td>\n",
       "      <td>0.0</td>\n",
       "      <td>0.0</td>\n",
       "      <td>0.0</td>\n",
       "      <td>0.0</td>\n",
       "      <td>0.0</td>\n",
       "      <td>0.0</td>\n",
       "    </tr>\n",
       "    <tr>\n",
       "      <th>Machine</th>\n",
       "      <td>0.0</td>\n",
       "      <td>0.0</td>\n",
       "      <td>0.0</td>\n",
       "      <td>0.0</td>\n",
       "      <td>1.0</td>\n",
       "      <td>0.0</td>\n",
       "      <td>0.0</td>\n",
       "      <td>0.0</td>\n",
       "      <td>0.0</td>\n",
       "      <td>1.0</td>\n",
       "      <td>0.0</td>\n",
       "      <td>0.0</td>\n",
       "      <td>0.0</td>\n",
       "    </tr>\n",
       "    <tr>\n",
       "      <th>Mathematics</th>\n",
       "      <td>0.0</td>\n",
       "      <td>0.0</td>\n",
       "      <td>1.0</td>\n",
       "      <td>0.0</td>\n",
       "      <td>0.0</td>\n",
       "      <td>0.0</td>\n",
       "      <td>0.0</td>\n",
       "      <td>0.0</td>\n",
       "      <td>0.0</td>\n",
       "      <td>0.0</td>\n",
       "      <td>0.0</td>\n",
       "      <td>0.0</td>\n",
       "      <td>0.0</td>\n",
       "    </tr>\n",
       "    <tr>\n",
       "      <th>just</th>\n",
       "      <td>1.0</td>\n",
       "      <td>0.0</td>\n",
       "      <td>0.0</td>\n",
       "      <td>1.0</td>\n",
       "      <td>0.0</td>\n",
       "      <td>0.0</td>\n",
       "      <td>0.0</td>\n",
       "      <td>0.0</td>\n",
       "      <td>0.0</td>\n",
       "      <td>0.0</td>\n",
       "      <td>0.0</td>\n",
       "      <td>0.0</td>\n",
       "      <td>0.0</td>\n",
       "    </tr>\n",
       "    <tr>\n",
       "      <th>hers</th>\n",
       "      <td>0.0</td>\n",
       "      <td>0.0</td>\n",
       "      <td>1.0</td>\n",
       "      <td>0.0</td>\n",
       "      <td>0.0</td>\n",
       "      <td>0.0</td>\n",
       "      <td>0.0</td>\n",
       "      <td>0.0</td>\n",
       "      <td>0.0</td>\n",
       "      <td>0.0</td>\n",
       "      <td>0.0</td>\n",
       "      <td>1.0</td>\n",
       "      <td>0.0</td>\n",
       "    </tr>\n",
       "    <tr>\n",
       "      <th>love</th>\n",
       "      <td>0.0</td>\n",
       "      <td>3.0</td>\n",
       "      <td>0.0</td>\n",
       "      <td>0.0</td>\n",
       "      <td>0.0</td>\n",
       "      <td>1.0</td>\n",
       "      <td>0.0</td>\n",
       "      <td>0.0</td>\n",
       "      <td>0.0</td>\n",
       "      <td>0.0</td>\n",
       "      <td>1.0</td>\n",
       "      <td>0.0</td>\n",
       "      <td>1.0</td>\n",
       "    </tr>\n",
       "    <tr>\n",
       "      <th>NLP</th>\n",
       "      <td>0.0</td>\n",
       "      <td>1.0</td>\n",
       "      <td>0.0</td>\n",
       "      <td>0.0</td>\n",
       "      <td>0.0</td>\n",
       "      <td>0.0</td>\n",
       "      <td>0.0</td>\n",
       "      <td>0.0</td>\n",
       "      <td>0.0</td>\n",
       "      <td>1.0</td>\n",
       "      <td>0.0</td>\n",
       "      <td>0.0</td>\n",
       "      <td>0.0</td>\n",
       "    </tr>\n",
       "    <tr>\n",
       "      <th>Don't</th>\n",
       "      <td>0.0</td>\n",
       "      <td>0.0</td>\n",
       "      <td>0.0</td>\n",
       "      <td>1.0</td>\n",
       "      <td>0.0</td>\n",
       "      <td>0.0</td>\n",
       "      <td>0.0</td>\n",
       "      <td>0.0</td>\n",
       "      <td>1.0</td>\n",
       "      <td>0.0</td>\n",
       "      <td>0.0</td>\n",
       "      <td>0.0</td>\n",
       "      <td>0.0</td>\n",
       "    </tr>\n",
       "    <tr>\n",
       "      <th>you</th>\n",
       "      <td>0.0</td>\n",
       "      <td>0.0</td>\n",
       "      <td>1.0</td>\n",
       "      <td>0.0</td>\n",
       "      <td>0.0</td>\n",
       "      <td>0.0</td>\n",
       "      <td>0.0</td>\n",
       "      <td>0.0</td>\n",
       "      <td>0.0</td>\n",
       "      <td>1.0</td>\n",
       "      <td>0.0</td>\n",
       "      <td>0.0</td>\n",
       "      <td>0.0</td>\n",
       "    </tr>\n",
       "  </tbody>\n",
       "</table>\n",
       "</div>"
      ],
      "text/plain": [
       "             kidding    I  and  worried  Learning  Machine  Mathematics  just  \\\n",
       "kidding          0.0  1.0  0.0      0.0       0.0      0.0          0.0   1.0   \n",
       "I                1.0  0.0  0.0      0.0       0.0      0.0          0.0   0.0   \n",
       "and              0.0  0.0  0.0      0.0       1.0      0.0          1.0   0.0   \n",
       "worried          0.0  0.0  0.0      0.0       0.0      0.0          0.0   1.0   \n",
       "Learning         0.0  0.0  1.0      0.0       0.0      1.0          0.0   0.0   \n",
       "Machine          0.0  0.0  0.0      0.0       1.0      0.0          0.0   0.0   \n",
       "Mathematics      0.0  0.0  1.0      0.0       0.0      0.0          0.0   0.0   \n",
       "just             1.0  0.0  0.0      1.0       0.0      0.0          0.0   0.0   \n",
       "hers             0.0  0.0  1.0      0.0       0.0      0.0          0.0   0.0   \n",
       "love             0.0  3.0  0.0      0.0       0.0      1.0          0.0   0.0   \n",
       "NLP              0.0  1.0  0.0      0.0       0.0      0.0          0.0   0.0   \n",
       "Don't            0.0  0.0  0.0      1.0       0.0      0.0          0.0   0.0   \n",
       "you              0.0  0.0  1.0      0.0       0.0      0.0          0.0   0.0   \n",
       "\n",
       "             hers  love  NLP  Don't  you  \n",
       "kidding       0.0   0.0  0.0    0.0  0.0  \n",
       "I             0.0   3.0  1.0    0.0  0.0  \n",
       "and           1.0   0.0  0.0    0.0  1.0  \n",
       "worried       0.0   0.0  0.0    1.0  0.0  \n",
       "Learning      0.0   0.0  0.0    0.0  0.0  \n",
       "Machine       0.0   1.0  0.0    0.0  0.0  \n",
       "Mathematics   0.0   0.0  0.0    0.0  0.0  \n",
       "just          0.0   0.0  0.0    0.0  0.0  \n",
       "hers          0.0   0.0  0.0    1.0  0.0  \n",
       "love          0.0   0.0  1.0    0.0  1.0  \n",
       "NLP           0.0   1.0  0.0    0.0  0.0  \n",
       "Don't         1.0   0.0  0.0    0.0  0.0  \n",
       "you           0.0   1.0  0.0    0.0  0.0  "
      ]
     },
     "execution_count": 77,
     "metadata": {},
     "output_type": "execute_result"
    }
   ],
   "source": [
    "## ------------------------- hiden code --------------------------------------\n",
    "\n",
    "def generate_co_occurrence_matrix(corpus):\n",
    "    \n",
    "    ## Create the vocabulary_list, set and indexes\n",
    "    vocab = set(corpus)\n",
    "    vocab = list(vocab)\n",
    "    vocab_index = {word: i for i, word in enumerate(vocab)}\n",
    " \n",
    "    # Create bigrams from all words in corpus\n",
    "    bi_grams = list(bigrams(corpus))\n",
    " \n",
    "    # Frequency distribution of bigrams ((word1, word2), num_occurrences)\n",
    "    bigram_freq = nltk.FreqDist(bi_grams).most_common(len(bi_grams))\n",
    " \n",
    "    # Initialise co-occurrence matrix\n",
    "    # co_occurrence_matrix[current][previous]\n",
    "    co_occurrence_matrix = np.zeros((len(vocab), len(vocab)))\n",
    " \n",
    "    # Loop through the bigrams taking the current and previous word (one-way),\n",
    "    # and the number of occurrences of the bigram.\n",
    "    for bigram in bigram_freq:\n",
    "        current = bigram[0][1]\n",
    "        previous = bigram[0][0]\n",
    "        count = bigram[1]\n",
    "        pos_current = vocab_index[current]\n",
    "        pos_previous = vocab_index[previous]\n",
    "        co_occurrence_matrix[pos_current][pos_previous] = count\n",
    "    \n",
    "    # create a symetric matrix by combining it to its transpose to get the two-way\n",
    "    co_occurrence_matrix = np.matrix(co_occurrence_matrix + co_occurrence_matrix.T)\n",
    " \n",
    "    # return the matrix and the index\n",
    "    return co_occurrence_matrix, vocab_index\n",
    "\n",
    "draft_text = [[\"I\", \"love\", \"you\", \"and\", \"hers\"], \n",
    "              [\"Don't\", \"worried\", \"just\", \"kidding\"], \n",
    "              [\"I\", \"love\", \"NLP\"],\n",
    "              [\"I\", \"love\", \"Machine\", \"Learning\", \"and\", \"Mathematics\"]]\n",
    "data = list(itertools.chain.from_iterable(draft_text))\n",
    "matrix, vocab_index = generate_co_occurrence_matrix(data)\n",
    "  \n",
    "data_matrix = pd.DataFrame(matrix, index=vocab_index,\n",
    "                             columns=vocab_index)\n",
    "data_matrix"
   ]
  },
  {
   "cell_type": "markdown",
   "metadata": {},
   "source": [
    "with the `window_size = 1`, then using `bi-grams` is a `sensible way` to build this matrix. The `detailed-discussion` on **`Bi-grams` and `N-grams`** will be introduced later in this link:\n",
    "\n",
    "https://github.com/Nhan121/Lectures_notes-teaching-in-VN-/blob/master/Statistics/NLP/N-grams%20NLP.ipynb\n",
    "\n",
    "**Quick reminder: Bigrams**\n",
    "\n",
    "- A `bigram` or `digram` is a sequence of 2 `adjacent elements` from a `string of tokens`, which are typically `letters`, `syllables`, or `words`.\n",
    "\n",
    "-  The `frequency distribution` of every bigram in a string is commonly used for simple `statistical analysis of text` in many `applications`, such as `computational linguistics`, `cryptography`, `speech recognition`.\n",
    "\n",
    "- Bigrams help provide the `conditional probability` of a `token` given the **`preceding token`**, when the relation of the conditional probability is applied:\n",
    "\n",
    "$$ \\mathbb{P}\\left( \\text{token}_{k} \\left\\vert \\text{token}_{k-1}\\right. \\right) = \\dfrac{\\mathbb{P}\\left( \\text{token}_{k}, \\text{token}_{k-1} \\right)}{ \\mathbb{P} \\left( \\text{token}_{k-1} \\right)} $$\n",
    "\n",
    "For example, the sentence `\"The office building was destroyed yesterday\"` contains 5 `bigrams`:\n",
    "        \n",
    "        the office, office building, building was, was destroyed, destroyed yesterday."
   ]
  },
  {
   "cell_type": "code",
   "execution_count": 13,
   "metadata": {},
   "outputs": [
    {
     "data": {
      "text/plain": [
       "[('The', 'office'),\n",
       " ('office', 'building'),\n",
       " ('building', 'was'),\n",
       " ('was', 'destroyed'),\n",
       " ('destroyed', 'yesterday')]"
      ]
     },
     "execution_count": 13,
     "metadata": {},
     "output_type": "execute_result"
    }
   ],
   "source": [
    "sentence = \"The office building was destroyed yesterday\"\n",
    "bi_grams = list(bigrams(sentence.split()))\n",
    "bi_grams"
   ]
  },
  {
   "cell_type": "markdown",
   "metadata": {},
   "source": [
    "Before build-in a function for the `co_occurrence_matrix`; we will use a few classes and packages; Firstly \n",
    "\n",
    "**Insight coding**\n",
    "Use `itertools.chain.from_iterable`"
   ]
  },
  {
   "cell_type": "code",
   "execution_count": 14,
   "metadata": {},
   "outputs": [
    {
     "data": {
      "text/plain": [
       "<itertools.chain at 0x28f054abfc8>"
      ]
     },
     "execution_count": 14,
     "metadata": {},
     "output_type": "execute_result"
    }
   ],
   "source": [
    "draft_text = [[\"I\", \"love\", \"you\", \"and\", \"hers\"], \n",
    "              [\"Don't\", \"worried\", \"just\", \"kidding\"], \n",
    "              [\"I\", \"love\", \"NLP\"],\n",
    "              [\"I\", \"love\", \"Machine\", \"Learning\", \"and\", \"Mathematics\"]]\n",
    "\n",
    "z = itertools.chain.from_iterable(draft_text)\n",
    "z"
   ]
  },
  {
   "cell_type": "markdown",
   "metadata": {},
   "source": [
    "**put the `object: itertools.chain` to list, then we get an 1D vector**"
   ]
  },
  {
   "cell_type": "code",
   "execution_count": 15,
   "metadata": {},
   "outputs": [
    {
     "name": "stdout",
     "output_type": "stream",
     "text": [
      "['I', 'love', 'you', 'and', 'hers', \"Don't\", 'worried', 'just', 'kidding', 'I', 'love', 'NLP', 'I', 'love', 'Machine', 'Learning', 'and', 'Mathematics']\n"
     ]
    }
   ],
   "source": [
    "data = list(z)\n",
    "print(data)"
   ]
  },
  {
   "cell_type": "markdown",
   "metadata": {},
   "source": [
    "**Create the vocabulary_list, set and indexes**"
   ]
  },
  {
   "cell_type": "code",
   "execution_count": 16,
   "metadata": {},
   "outputs": [
    {
     "name": "stdout",
     "output_type": "stream",
     "text": [
      "['I', 'love', 'you', 'and', 'hers', \"Don't\", 'worried', 'just', 'kidding', 'I', 'love', 'NLP', 'I', 'love', 'Machine', 'Learning', 'and', 'Mathematics']\n"
     ]
    }
   ],
   "source": [
    "vocab = set(data)\n",
    "vocab = list(data)\n",
    "print(vocab)"
   ]
  },
  {
   "cell_type": "code",
   "execution_count": 17,
   "metadata": {},
   "outputs": [
    {
     "data": {
      "text/plain": [
       "18"
      ]
     },
     "execution_count": 17,
     "metadata": {},
     "output_type": "execute_result"
    }
   ],
   "source": [
    "len(vocab)"
   ]
  },
  {
   "cell_type": "code",
   "execution_count": 18,
   "metadata": {},
   "outputs": [
    {
     "data": {
      "text/plain": [
       "{'I': 12,\n",
       " 'love': 13,\n",
       " 'you': 2,\n",
       " 'and': 16,\n",
       " 'hers': 4,\n",
       " \"Don't\": 5,\n",
       " 'worried': 6,\n",
       " 'just': 7,\n",
       " 'kidding': 8,\n",
       " 'NLP': 11,\n",
       " 'Machine': 14,\n",
       " 'Learning': 15,\n",
       " 'Mathematics': 17}"
      ]
     },
     "execution_count": 18,
     "metadata": {},
     "output_type": "execute_result"
    }
   ],
   "source": [
    "vocab_index = {word: i for i, word in enumerate(vocab)}\n",
    "vocab_index"
   ]
  },
  {
   "cell_type": "markdown",
   "metadata": {},
   "source": [
    "This meant the last time the word appear in the whole sentences. \n",
    "\n",
    "For example the last time the word `Mathematics` appears in the data is `18 (index = 17 in python)` while the word `love` is `14 (index = 13)`; you is `3 (index = 2)`.\n",
    "\n",
    "-------------------------------\n",
    "\n",
    "**Create bigrams from all words in corpus**"
   ]
  },
  {
   "cell_type": "code",
   "execution_count": 19,
   "metadata": {},
   "outputs": [
    {
     "name": "stdout",
     "output_type": "stream",
     "text": [
      "[('I', 'love'), ('love', 'you'), ('you', 'and'), ('and', 'hers'), ('hers', \"Don't\"), (\"Don't\", 'worried'), ('worried', 'just'), ('just', 'kidding'), ('kidding', 'I'), ('I', 'love'), ('love', 'NLP'), ('NLP', 'I'), ('I', 'love'), ('love', 'Machine'), ('Machine', 'Learning'), ('Learning', 'and'), ('and', 'Mathematics')]\n"
     ]
    }
   ],
   "source": [
    "bi_grams = list(bigrams(data))\n",
    "print(bi_grams)"
   ]
  },
  {
   "cell_type": "markdown",
   "metadata": {},
   "source": [
    "***Count the bigrams***"
   ]
  },
  {
   "cell_type": "code",
   "execution_count": 20,
   "metadata": {},
   "outputs": [
    {
     "data": {
      "text/plain": [
       "[(('I', 'love'), 3),\n",
       " (('love', 'you'), 1),\n",
       " (('you', 'and'), 1),\n",
       " (('and', 'hers'), 1),\n",
       " (('hers', \"Don't\"), 1),\n",
       " ((\"Don't\", 'worried'), 1),\n",
       " (('worried', 'just'), 1),\n",
       " (('just', 'kidding'), 1),\n",
       " (('kidding', 'I'), 1),\n",
       " (('love', 'NLP'), 1),\n",
       " (('NLP', 'I'), 1),\n",
       " (('love', 'Machine'), 1),\n",
       " (('Machine', 'Learning'), 1),\n",
       " (('Learning', 'and'), 1),\n",
       " (('and', 'Mathematics'), 1)]"
      ]
     },
     "execution_count": 20,
     "metadata": {},
     "output_type": "execute_result"
    }
   ],
   "source": [
    "bigram_freq = nltk.FreqDist(bi_grams).most_common(len(bi_grams))\n",
    "bigram_freq"
   ]
  },
  {
   "cell_type": "markdown",
   "metadata": {},
   "source": [
    "Noting that; the `bigram_freq` now is the list of the `tupple`. \n",
    "\n",
    "For instance; the first element in this list is the `tupple: (('I', 'love'), 3)` is combined by the `set: ('I', 'love')` and an  `integer: 3`"
   ]
  },
  {
   "cell_type": "code",
   "execution_count": 21,
   "metadata": {},
   "outputs": [
    {
     "data": {
      "text/plain": [
       "(list, tuple, int)"
      ]
     },
     "execution_count": 21,
     "metadata": {},
     "output_type": "execute_result"
    }
   ],
   "source": [
    "type(bigram_freq), type(bigram_freq[1]), type(bigram_freq[0][1])"
   ]
  },
  {
   "cell_type": "markdown",
   "metadata": {},
   "source": [
    "NOW, assigning the `current(word) = bigram[0][1]` and the `previous(preceding word) = bigram[0][0]` for each iterations `bigram in bigram_freq`"
   ]
  },
  {
   "cell_type": "code",
   "execution_count": 22,
   "metadata": {},
   "outputs": [
    {
     "name": "stdout",
     "output_type": "stream",
     "text": [
      "(('I', 'love'), 3) \t\t love \t\t I \t\t 3\n",
      "(('love', 'you'), 1) \t\t you \t\t love \t\t 1\n",
      "(('you', 'and'), 1) \t\t and \t\t you \t\t 1\n",
      "(('and', 'hers'), 1) \t\t hers \t\t and \t\t 1\n",
      "(('hers', \"Don't\"), 1) \t\t Don't \t\t hers \t\t 1\n",
      "((\"Don't\", 'worried'), 1) \t\t worried \t\t Don't \t\t 1\n",
      "(('worried', 'just'), 1) \t\t just \t\t worried \t\t 1\n",
      "(('just', 'kidding'), 1) \t\t kidding \t\t just \t\t 1\n",
      "(('kidding', 'I'), 1) \t\t I \t\t kidding \t\t 1\n",
      "(('love', 'NLP'), 1) \t\t NLP \t\t love \t\t 1\n",
      "(('NLP', 'I'), 1) \t\t I \t\t NLP \t\t 1\n",
      "(('love', 'Machine'), 1) \t\t Machine \t\t love \t\t 1\n",
      "(('Machine', 'Learning'), 1) \t\t Learning \t\t Machine \t\t 1\n",
      "(('Learning', 'and'), 1) \t\t and \t\t Learning \t\t 1\n",
      "(('and', 'Mathematics'), 1) \t\t Mathematics \t\t and \t\t 1\n"
     ]
    }
   ],
   "source": [
    "co_occurrence_matrix = np.zeros((len(vocab), len(vocab)))\n",
    "for bigram in bigram_freq:\n",
    "    current = bigram[0][1]   ## row 1 ([0]); col 2 ([1]) of the first set in the 2D-set\n",
    "    previous = bigram[0][0]  ## row 1, col 1\n",
    "    count = bigram[1]        ## the values in the 2nd set\n",
    "    print(bigram, '\\t\\t', current, \"\\t\\t\", previous, \"\\t\\t\",count)"
   ]
  },
  {
   "cell_type": "markdown",
   "metadata": {},
   "source": [
    "**Build-in the function**"
   ]
  },
  {
   "cell_type": "code",
   "execution_count": 78,
   "metadata": {},
   "outputs": [
    {
     "data": {
      "text/html": [
       "<div>\n",
       "<style scoped>\n",
       "    .dataframe tbody tr th:only-of-type {\n",
       "        vertical-align: middle;\n",
       "    }\n",
       "\n",
       "    .dataframe tbody tr th {\n",
       "        vertical-align: top;\n",
       "    }\n",
       "\n",
       "    .dataframe thead th {\n",
       "        text-align: right;\n",
       "    }\n",
       "</style>\n",
       "<table border=\"1\" class=\"dataframe\">\n",
       "  <thead>\n",
       "    <tr style=\"text-align: right;\">\n",
       "      <th></th>\n",
       "      <th>kidding</th>\n",
       "      <th>I</th>\n",
       "      <th>and</th>\n",
       "      <th>worried</th>\n",
       "      <th>Learning</th>\n",
       "      <th>Machine</th>\n",
       "      <th>Mathematics</th>\n",
       "      <th>just</th>\n",
       "      <th>hers</th>\n",
       "      <th>love</th>\n",
       "      <th>NLP</th>\n",
       "      <th>Don't</th>\n",
       "      <th>you</th>\n",
       "    </tr>\n",
       "  </thead>\n",
       "  <tbody>\n",
       "    <tr>\n",
       "      <th>kidding</th>\n",
       "      <td>0.0</td>\n",
       "      <td>1.0</td>\n",
       "      <td>0.0</td>\n",
       "      <td>0.0</td>\n",
       "      <td>0.0</td>\n",
       "      <td>0.0</td>\n",
       "      <td>0.0</td>\n",
       "      <td>1.0</td>\n",
       "      <td>0.0</td>\n",
       "      <td>0.0</td>\n",
       "      <td>0.0</td>\n",
       "      <td>0.0</td>\n",
       "      <td>0.0</td>\n",
       "    </tr>\n",
       "    <tr>\n",
       "      <th>I</th>\n",
       "      <td>1.0</td>\n",
       "      <td>0.0</td>\n",
       "      <td>0.0</td>\n",
       "      <td>0.0</td>\n",
       "      <td>0.0</td>\n",
       "      <td>0.0</td>\n",
       "      <td>0.0</td>\n",
       "      <td>0.0</td>\n",
       "      <td>0.0</td>\n",
       "      <td>3.0</td>\n",
       "      <td>1.0</td>\n",
       "      <td>0.0</td>\n",
       "      <td>0.0</td>\n",
       "    </tr>\n",
       "    <tr>\n",
       "      <th>and</th>\n",
       "      <td>0.0</td>\n",
       "      <td>0.0</td>\n",
       "      <td>0.0</td>\n",
       "      <td>0.0</td>\n",
       "      <td>1.0</td>\n",
       "      <td>0.0</td>\n",
       "      <td>1.0</td>\n",
       "      <td>0.0</td>\n",
       "      <td>1.0</td>\n",
       "      <td>0.0</td>\n",
       "      <td>0.0</td>\n",
       "      <td>0.0</td>\n",
       "      <td>1.0</td>\n",
       "    </tr>\n",
       "    <tr>\n",
       "      <th>worried</th>\n",
       "      <td>0.0</td>\n",
       "      <td>0.0</td>\n",
       "      <td>0.0</td>\n",
       "      <td>0.0</td>\n",
       "      <td>0.0</td>\n",
       "      <td>0.0</td>\n",
       "      <td>0.0</td>\n",
       "      <td>1.0</td>\n",
       "      <td>0.0</td>\n",
       "      <td>0.0</td>\n",
       "      <td>0.0</td>\n",
       "      <td>1.0</td>\n",
       "      <td>0.0</td>\n",
       "    </tr>\n",
       "    <tr>\n",
       "      <th>Learning</th>\n",
       "      <td>0.0</td>\n",
       "      <td>0.0</td>\n",
       "      <td>1.0</td>\n",
       "      <td>0.0</td>\n",
       "      <td>0.0</td>\n",
       "      <td>1.0</td>\n",
       "      <td>0.0</td>\n",
       "      <td>0.0</td>\n",
       "      <td>0.0</td>\n",
       "      <td>0.0</td>\n",
       "      <td>0.0</td>\n",
       "      <td>0.0</td>\n",
       "      <td>0.0</td>\n",
       "    </tr>\n",
       "    <tr>\n",
       "      <th>Machine</th>\n",
       "      <td>0.0</td>\n",
       "      <td>0.0</td>\n",
       "      <td>0.0</td>\n",
       "      <td>0.0</td>\n",
       "      <td>1.0</td>\n",
       "      <td>0.0</td>\n",
       "      <td>0.0</td>\n",
       "      <td>0.0</td>\n",
       "      <td>0.0</td>\n",
       "      <td>1.0</td>\n",
       "      <td>0.0</td>\n",
       "      <td>0.0</td>\n",
       "      <td>0.0</td>\n",
       "    </tr>\n",
       "    <tr>\n",
       "      <th>Mathematics</th>\n",
       "      <td>0.0</td>\n",
       "      <td>0.0</td>\n",
       "      <td>1.0</td>\n",
       "      <td>0.0</td>\n",
       "      <td>0.0</td>\n",
       "      <td>0.0</td>\n",
       "      <td>0.0</td>\n",
       "      <td>0.0</td>\n",
       "      <td>0.0</td>\n",
       "      <td>0.0</td>\n",
       "      <td>0.0</td>\n",
       "      <td>0.0</td>\n",
       "      <td>0.0</td>\n",
       "    </tr>\n",
       "    <tr>\n",
       "      <th>just</th>\n",
       "      <td>1.0</td>\n",
       "      <td>0.0</td>\n",
       "      <td>0.0</td>\n",
       "      <td>1.0</td>\n",
       "      <td>0.0</td>\n",
       "      <td>0.0</td>\n",
       "      <td>0.0</td>\n",
       "      <td>0.0</td>\n",
       "      <td>0.0</td>\n",
       "      <td>0.0</td>\n",
       "      <td>0.0</td>\n",
       "      <td>0.0</td>\n",
       "      <td>0.0</td>\n",
       "    </tr>\n",
       "    <tr>\n",
       "      <th>hers</th>\n",
       "      <td>0.0</td>\n",
       "      <td>0.0</td>\n",
       "      <td>1.0</td>\n",
       "      <td>0.0</td>\n",
       "      <td>0.0</td>\n",
       "      <td>0.0</td>\n",
       "      <td>0.0</td>\n",
       "      <td>0.0</td>\n",
       "      <td>0.0</td>\n",
       "      <td>0.0</td>\n",
       "      <td>0.0</td>\n",
       "      <td>1.0</td>\n",
       "      <td>0.0</td>\n",
       "    </tr>\n",
       "    <tr>\n",
       "      <th>love</th>\n",
       "      <td>0.0</td>\n",
       "      <td>3.0</td>\n",
       "      <td>0.0</td>\n",
       "      <td>0.0</td>\n",
       "      <td>0.0</td>\n",
       "      <td>1.0</td>\n",
       "      <td>0.0</td>\n",
       "      <td>0.0</td>\n",
       "      <td>0.0</td>\n",
       "      <td>0.0</td>\n",
       "      <td>1.0</td>\n",
       "      <td>0.0</td>\n",
       "      <td>1.0</td>\n",
       "    </tr>\n",
       "    <tr>\n",
       "      <th>NLP</th>\n",
       "      <td>0.0</td>\n",
       "      <td>1.0</td>\n",
       "      <td>0.0</td>\n",
       "      <td>0.0</td>\n",
       "      <td>0.0</td>\n",
       "      <td>0.0</td>\n",
       "      <td>0.0</td>\n",
       "      <td>0.0</td>\n",
       "      <td>0.0</td>\n",
       "      <td>1.0</td>\n",
       "      <td>0.0</td>\n",
       "      <td>0.0</td>\n",
       "      <td>0.0</td>\n",
       "    </tr>\n",
       "    <tr>\n",
       "      <th>Don't</th>\n",
       "      <td>0.0</td>\n",
       "      <td>0.0</td>\n",
       "      <td>0.0</td>\n",
       "      <td>1.0</td>\n",
       "      <td>0.0</td>\n",
       "      <td>0.0</td>\n",
       "      <td>0.0</td>\n",
       "      <td>0.0</td>\n",
       "      <td>1.0</td>\n",
       "      <td>0.0</td>\n",
       "      <td>0.0</td>\n",
       "      <td>0.0</td>\n",
       "      <td>0.0</td>\n",
       "    </tr>\n",
       "    <tr>\n",
       "      <th>you</th>\n",
       "      <td>0.0</td>\n",
       "      <td>0.0</td>\n",
       "      <td>1.0</td>\n",
       "      <td>0.0</td>\n",
       "      <td>0.0</td>\n",
       "      <td>0.0</td>\n",
       "      <td>0.0</td>\n",
       "      <td>0.0</td>\n",
       "      <td>0.0</td>\n",
       "      <td>1.0</td>\n",
       "      <td>0.0</td>\n",
       "      <td>0.0</td>\n",
       "      <td>0.0</td>\n",
       "    </tr>\n",
       "  </tbody>\n",
       "</table>\n",
       "</div>"
      ],
      "text/plain": [
       "             kidding    I  and  worried  Learning  Machine  Mathematics  just  \\\n",
       "kidding          0.0  1.0  0.0      0.0       0.0      0.0          0.0   1.0   \n",
       "I                1.0  0.0  0.0      0.0       0.0      0.0          0.0   0.0   \n",
       "and              0.0  0.0  0.0      0.0       1.0      0.0          1.0   0.0   \n",
       "worried          0.0  0.0  0.0      0.0       0.0      0.0          0.0   1.0   \n",
       "Learning         0.0  0.0  1.0      0.0       0.0      1.0          0.0   0.0   \n",
       "Machine          0.0  0.0  0.0      0.0       1.0      0.0          0.0   0.0   \n",
       "Mathematics      0.0  0.0  1.0      0.0       0.0      0.0          0.0   0.0   \n",
       "just             1.0  0.0  0.0      1.0       0.0      0.0          0.0   0.0   \n",
       "hers             0.0  0.0  1.0      0.0       0.0      0.0          0.0   0.0   \n",
       "love             0.0  3.0  0.0      0.0       0.0      1.0          0.0   0.0   \n",
       "NLP              0.0  1.0  0.0      0.0       0.0      0.0          0.0   0.0   \n",
       "Don't            0.0  0.0  0.0      1.0       0.0      0.0          0.0   0.0   \n",
       "you              0.0  0.0  1.0      0.0       0.0      0.0          0.0   0.0   \n",
       "\n",
       "             hers  love  NLP  Don't  you  \n",
       "kidding       0.0   0.0  0.0    0.0  0.0  \n",
       "I             0.0   3.0  1.0    0.0  0.0  \n",
       "and           1.0   0.0  0.0    0.0  1.0  \n",
       "worried       0.0   0.0  0.0    1.0  0.0  \n",
       "Learning      0.0   0.0  0.0    0.0  0.0  \n",
       "Machine       0.0   1.0  0.0    0.0  0.0  \n",
       "Mathematics   0.0   0.0  0.0    0.0  0.0  \n",
       "just          0.0   0.0  0.0    0.0  0.0  \n",
       "hers          0.0   0.0  0.0    1.0  0.0  \n",
       "love          0.0   0.0  1.0    0.0  1.0  \n",
       "NLP           0.0   1.0  0.0    0.0  0.0  \n",
       "Don't         1.0   0.0  0.0    0.0  0.0  \n",
       "you           0.0   1.0  0.0    0.0  0.0  "
      ]
     },
     "execution_count": 78,
     "metadata": {},
     "output_type": "execute_result"
    }
   ],
   "source": [
    "def generate_co_occurrence_matrix(corpus):\n",
    "    \n",
    "    ## Create the vocabulary_list, set and indexes\n",
    "    vocab = set(corpus)\n",
    "    vocab = list(vocab)\n",
    "    vocab_index = {word: i for i, word in enumerate(vocab)}\n",
    " \n",
    "    # Create bigrams from all words in corpus\n",
    "    bi_grams = list(bigrams(corpus))\n",
    " \n",
    "    # Frequency distribution of bigrams ((word1, word2), num_occurrences)\n",
    "    bigram_freq = nltk.FreqDist(bi_grams).most_common(len(bi_grams))\n",
    " \n",
    "    # Initialise co-occurrence matrix\n",
    "    # co_occurrence_matrix[current][previous]\n",
    "    co_occurrence_matrix = np.zeros((len(vocab), len(vocab)))\n",
    " \n",
    "    # Loop through the bigrams taking the current and previous word (one-way),\n",
    "    # and the number of occurrences of the bigram.\n",
    "    for bigram in bigram_freq:\n",
    "        current = bigram[0][1]\n",
    "        previous = bigram[0][0]\n",
    "        count = bigram[1]\n",
    "        pos_current = vocab_index[current]\n",
    "        pos_previous = vocab_index[previous]\n",
    "        co_occurrence_matrix[pos_current][pos_previous] = count\n",
    "    \n",
    "    # create a symetric matrix by combining it to its transpose to get the two-way\n",
    "    co_occurrence_matrix = np.matrix(co_occurrence_matrix + co_occurrence_matrix.T)\n",
    " \n",
    "    # return the matrix and the index\n",
    "    return co_occurrence_matrix, vocab_index\n",
    "\n",
    "draft_data = list(itertools.chain.from_iterable(draft_text))\n",
    "matrix, vocab_index = generate_co_occurrence_matrix(draft_data)\n",
    "  \n",
    "data_matrix = pd.DataFrame(matrix, index=vocab_index,\n",
    "                             columns=vocab_index)\n",
    "data_matrix"
   ]
  },
  {
   "cell_type": "code",
   "execution_count": 81,
   "metadata": {},
   "outputs": [
    {
     "data": {
      "text/html": [
       "<div>\n",
       "<style scoped>\n",
       "    .dataframe tbody tr th:only-of-type {\n",
       "        vertical-align: middle;\n",
       "    }\n",
       "\n",
       "    .dataframe tbody tr th {\n",
       "        vertical-align: top;\n",
       "    }\n",
       "\n",
       "    .dataframe thead th {\n",
       "        text-align: right;\n",
       "    }\n",
       "</style>\n",
       "<table border=\"1\" class=\"dataframe\">\n",
       "  <thead>\n",
       "    <tr style=\"text-align: right;\">\n",
       "      <th></th>\n",
       "      <th>snake</th>\n",
       "      <th>I</th>\n",
       "      <th>dog</th>\n",
       "      <th>Biology</th>\n",
       "      <th>and</th>\n",
       "      <th>.</th>\n",
       "      <th>cat</th>\n",
       "      <th>hate</th>\n",
       "      <th>Math</th>\n",
       "      <th>love</th>\n",
       "      <th>Programming</th>\n",
       "    </tr>\n",
       "  </thead>\n",
       "  <tbody>\n",
       "    <tr>\n",
       "      <th>snake</th>\n",
       "      <td>0.0</td>\n",
       "      <td>0.0</td>\n",
       "      <td>0.0</td>\n",
       "      <td>0.0</td>\n",
       "      <td>1.0</td>\n",
       "      <td>0.0</td>\n",
       "      <td>0.0</td>\n",
       "      <td>0.0</td>\n",
       "      <td>0.0</td>\n",
       "      <td>0.0</td>\n",
       "      <td>0.0</td>\n",
       "    </tr>\n",
       "    <tr>\n",
       "      <th>I</th>\n",
       "      <td>0.0</td>\n",
       "      <td>0.0</td>\n",
       "      <td>0.0</td>\n",
       "      <td>2.0</td>\n",
       "      <td>0.0</td>\n",
       "      <td>3.0</td>\n",
       "      <td>0.0</td>\n",
       "      <td>2.0</td>\n",
       "      <td>0.0</td>\n",
       "      <td>4.0</td>\n",
       "      <td>0.0</td>\n",
       "    </tr>\n",
       "    <tr>\n",
       "      <th>dog</th>\n",
       "      <td>0.0</td>\n",
       "      <td>0.0</td>\n",
       "      <td>0.0</td>\n",
       "      <td>0.0</td>\n",
       "      <td>1.0</td>\n",
       "      <td>0.0</td>\n",
       "      <td>0.0</td>\n",
       "      <td>1.0</td>\n",
       "      <td>0.0</td>\n",
       "      <td>0.0</td>\n",
       "      <td>0.0</td>\n",
       "    </tr>\n",
       "    <tr>\n",
       "      <th>Biology</th>\n",
       "      <td>0.0</td>\n",
       "      <td>2.0</td>\n",
       "      <td>0.0</td>\n",
       "      <td>0.0</td>\n",
       "      <td>1.0</td>\n",
       "      <td>0.0</td>\n",
       "      <td>0.0</td>\n",
       "      <td>0.0</td>\n",
       "      <td>0.0</td>\n",
       "      <td>1.0</td>\n",
       "      <td>0.0</td>\n",
       "    </tr>\n",
       "    <tr>\n",
       "      <th>and</th>\n",
       "      <td>1.0</td>\n",
       "      <td>0.0</td>\n",
       "      <td>1.0</td>\n",
       "      <td>1.0</td>\n",
       "      <td>0.0</td>\n",
       "      <td>0.0</td>\n",
       "      <td>0.0</td>\n",
       "      <td>0.0</td>\n",
       "      <td>1.0</td>\n",
       "      <td>0.0</td>\n",
       "      <td>2.0</td>\n",
       "    </tr>\n",
       "    <tr>\n",
       "      <th>.</th>\n",
       "      <td>0.0</td>\n",
       "      <td>3.0</td>\n",
       "      <td>0.0</td>\n",
       "      <td>0.0</td>\n",
       "      <td>0.0</td>\n",
       "      <td>0.0</td>\n",
       "      <td>1.0</td>\n",
       "      <td>0.0</td>\n",
       "      <td>1.0</td>\n",
       "      <td>0.0</td>\n",
       "      <td>1.0</td>\n",
       "    </tr>\n",
       "    <tr>\n",
       "      <th>cat</th>\n",
       "      <td>0.0</td>\n",
       "      <td>0.0</td>\n",
       "      <td>0.0</td>\n",
       "      <td>0.0</td>\n",
       "      <td>0.0</td>\n",
       "      <td>1.0</td>\n",
       "      <td>0.0</td>\n",
       "      <td>1.0</td>\n",
       "      <td>0.0</td>\n",
       "      <td>0.0</td>\n",
       "      <td>0.0</td>\n",
       "    </tr>\n",
       "    <tr>\n",
       "      <th>hate</th>\n",
       "      <td>0.0</td>\n",
       "      <td>2.0</td>\n",
       "      <td>1.0</td>\n",
       "      <td>0.0</td>\n",
       "      <td>0.0</td>\n",
       "      <td>0.0</td>\n",
       "      <td>1.0</td>\n",
       "      <td>0.0</td>\n",
       "      <td>0.0</td>\n",
       "      <td>0.0</td>\n",
       "      <td>0.0</td>\n",
       "    </tr>\n",
       "    <tr>\n",
       "      <th>Math</th>\n",
       "      <td>0.0</td>\n",
       "      <td>0.0</td>\n",
       "      <td>0.0</td>\n",
       "      <td>0.0</td>\n",
       "      <td>1.0</td>\n",
       "      <td>1.0</td>\n",
       "      <td>0.0</td>\n",
       "      <td>0.0</td>\n",
       "      <td>0.0</td>\n",
       "      <td>2.0</td>\n",
       "      <td>0.0</td>\n",
       "    </tr>\n",
       "    <tr>\n",
       "      <th>love</th>\n",
       "      <td>0.0</td>\n",
       "      <td>4.0</td>\n",
       "      <td>0.0</td>\n",
       "      <td>1.0</td>\n",
       "      <td>0.0</td>\n",
       "      <td>0.0</td>\n",
       "      <td>0.0</td>\n",
       "      <td>0.0</td>\n",
       "      <td>2.0</td>\n",
       "      <td>0.0</td>\n",
       "      <td>1.0</td>\n",
       "    </tr>\n",
       "    <tr>\n",
       "      <th>Programming</th>\n",
       "      <td>0.0</td>\n",
       "      <td>0.0</td>\n",
       "      <td>0.0</td>\n",
       "      <td>0.0</td>\n",
       "      <td>2.0</td>\n",
       "      <td>1.0</td>\n",
       "      <td>0.0</td>\n",
       "      <td>0.0</td>\n",
       "      <td>0.0</td>\n",
       "      <td>1.0</td>\n",
       "      <td>0.0</td>\n",
       "    </tr>\n",
       "  </tbody>\n",
       "</table>\n",
       "</div>"
      ],
      "text/plain": [
       "             snake    I  dog  Biology  and    .  cat  hate  Math  love  \\\n",
       "snake          0.0  0.0  0.0      0.0  1.0  0.0  0.0   0.0   0.0   0.0   \n",
       "I              0.0  0.0  0.0      2.0  0.0  3.0  0.0   2.0   0.0   4.0   \n",
       "dog            0.0  0.0  0.0      0.0  1.0  0.0  0.0   1.0   0.0   0.0   \n",
       "Biology        0.0  2.0  0.0      0.0  1.0  0.0  0.0   0.0   0.0   1.0   \n",
       "and            1.0  0.0  1.0      1.0  0.0  0.0  0.0   0.0   1.0   0.0   \n",
       ".              0.0  3.0  0.0      0.0  0.0  0.0  1.0   0.0   1.0   0.0   \n",
       "cat            0.0  0.0  0.0      0.0  0.0  1.0  0.0   1.0   0.0   0.0   \n",
       "hate           0.0  2.0  1.0      0.0  0.0  0.0  1.0   0.0   0.0   0.0   \n",
       "Math           0.0  0.0  0.0      0.0  1.0  1.0  0.0   0.0   0.0   2.0   \n",
       "love           0.0  4.0  0.0      1.0  0.0  0.0  0.0   0.0   2.0   0.0   \n",
       "Programming    0.0  0.0  0.0      0.0  2.0  1.0  0.0   0.0   0.0   1.0   \n",
       "\n",
       "             Programming  \n",
       "snake                0.0  \n",
       "I                    0.0  \n",
       "dog                  0.0  \n",
       "Biology              0.0  \n",
       "and                  2.0  \n",
       ".                    1.0  \n",
       "cat                  0.0  \n",
       "hate                 0.0  \n",
       "Math                 0.0  \n",
       "love                 1.0  \n",
       "Programming          0.0  "
      ]
     },
     "execution_count": 81,
     "metadata": {},
     "output_type": "execute_result"
    }
   ],
   "source": [
    "text = [[\"I\", \"love\", \"Math\", \".\" , \"I\", \"love\", \"Programming\", \".\", \"I\", \"love\", \"Biology\"],\n",
    "         [\"I\", \"love\", \"Math\", \"and\", \"Programming\", \"and\", \"Biology\"],\n",
    "         [\"I\", \"hate\", \"cat\", \".\" , \"I\", \"hate\", \"dog\", \"and\", \"snake\"]]\n",
    "\n",
    "# Create one list using many lists\n",
    "data = list(itertools.chain.from_iterable(text))\n",
    "matrix, vocab_index = generate_co_occurrence_matrix(data)\n",
    "  \n",
    "data_matrix = pd.DataFrame(matrix, index=vocab_index,\n",
    "                             columns=vocab_index)\n",
    "data_matrix"
   ]
  },
  {
   "cell_type": "markdown",
   "metadata": {},
   "source": [
    "- Here the word `‘love’` is defined by the words `‘I’` and `‘Programming’`, meaning that we increment the value both for the `‘I love’` and the `‘love Programming’` co-occurrence. We do that for each window and obtain the preceding `co-occurrence matrix`.\n",
    "\n",
    "- Since `‘Programming’` and `‘Math’` share the same co-occurrence values, they would be placed in the same place; meaning that in this context they mean the same thing (or `‘pretty much’` the same thing). `‘Biology’` would be the closest word to these 2 meaning ‘it has the closest possible meaning but it’s not the same thing’, and so on for every word. The semantic and syntactic relationships generated by this technique are really powerful but it’s computationally expensive since we are talking about a very high-dimensional space. Therefore, we need a technique that reduces dimensionality for us with the least data-loss possible.\n",
    "\n",
    "----------------------------------\n",
    "### Summarizations.\n",
    "\n",
    "#### Advantages\n",
    "- It preserves the `semantic relationship` between words.\n",
    "- It uses `SVD (singular value decomposition)` at its core to reduce the size of vector, which produces more accurate word vector representations than existing methods.\n",
    "- It uses `factorization` which is a `well-defined problem` and can be efficiently solved.\n",
    "- It has to be computed once and can be used anytime once computed. In this sense, it is faster in comparison to others.\n",
    "\n",
    "#### Disadvantage\n",
    "The disadvantage of **`Co-occurrence Matrix (CM)`** is when the `text_data` contains a `large numbers of vocalbularies`; hence it requires huge memory to store the co-occurrence matrix. \n",
    "\n",
    "To make the representation of words clearer and save memory used to store **`CM`**; we have to choose or to remove some unnecessary words (such as **`stopwords`**).\n",
    "\n",
    "--------------------------\n",
    "\n",
    "## 2. Word Embedding: using Prediction Base method\n",
    "\n",
    "In this section, we will study 2 models : `Continuous Bag of Words (CBOW)` and `skip-gram`. Both of them\n",
    "\n",
    "### 2.1. `Continuous Bag of Words (CBOW)`:\n",
    "`CBOW` is learning to predict the word by the context. A context may be single word or multiple word for a given target words.\n",
    "\n",
    "The `CBOW model` architecture tries to predict the current target word (the center word) based on the source context words (surrounding words). \n",
    "\n",
    "------------------------------\n",
    "\n",
    "Considering a simple sentence, `“the office building was destroyed yesterday”`, this can be pairs of (`context_window`, `target_word`) where if we consider a `context window of size = 2`, we have examples like (`[the, building]`, `office`), (`[was, yesterday]`, `destroyed`), (`[office, was]`, `building`) and so on.\n",
    "\n",
    "Thus, the model ***tries to predict the target_word based on the context_window words***."
   ]
  },
  {
   "cell_type": "code",
   "execution_count": 25,
   "metadata": {},
   "outputs": [
    {
     "data": {
      "image/png": "[encoded data removed]",
      "text/plain": [
       "<IPython.core.display.Image object>"
      ]
     },
     "metadata": {
      "image/png": {
       "unconfined": true,
       "width": 590
      }
     },
     "output_type": "display_data"
    }
   ],
   "source": [
    "from IPython.core.display import Image, display\n",
    "\n",
    "display(Image(r\"C:\\Users\\Admin\\Desktop\\Nhan_pro\\Data\\cbow1.png\", width=590, unconfined=True))\n",
    "# https://github.com/Nhan121/Kaggle-6-first-projects/blob/master/NLP_Text_Classification/image_illustration/cbow1.png"
   ]
  },
  {
   "cell_type": "markdown",
   "metadata": {},
   "source": [
    "**Describe problem using 3 layers: `Input`; `hidden (Lambda layer)` & `output`**\n",
    "\n",
    "We breakdown the way this model works in these steps:\n",
    "- $W_i$ is weight matrix between `input layer` and `hidden layer` of size `[V * N]`\n",
    "- $W'$ is weight matrix between hidden layer and output layer of size `[N * V]`\n",
    "\n",
    "Step 1) We need pairs which consist of a `target centre word` $x_c$ and surround context words; So we first generate our `one hot word vectors` \n",
    "\n",
    "                            (x (c−m) , . . . , x (c−1) , x (c+1) , . . . , x (c+m) )\n",
    "            \n",
    "for the input context of size m. where x(c) is the center or target word that we want to predict. we have `C = 2m` one hot word vector of size `[1 * V]`. So, our `input layer` size is `[C * V]`; the `hidden layer` is an $N$-dimensional vector $\\textbf{h}$; and the `output layer` is output word in the training example which is also `one-hot encoded`. \n",
    "\n",
    "The one-hot encoded input vectors are connected to the hidden layer via a weight matrix and the `hidden layer` is connected to the output layer via a $N \\times V$ wieght matrix $W'$.\n",
    "\n",
    "Step 2) **[Forward Propagation]** Now we take average of these $2m $ vectors, shaped `[1 * N]` to evaluate the `output` of the `hidden layer` \n",
    "$$ \\textbf{h} = \\dfrac{1}{2m} W \\circ \\left( \\sum_{i=1}^C x_i \\right) := \\dfrac{1}{C} \\sum_{i=1}^C \\textbf{v}_{\\text{w}_i}^T $$\n",
    "\n",
    "where $\\textbf{v}_{\\text{w}_i}^T$ is the `vector representation` of the `input word` $\\text{w}_i$ (from the `input matrix` $W$).\n",
    "\n",
    "Then compute the `inputs to each node in the output layer` $$ u_j = \\textbf{v}'^T_{\\textbf{w}_j} \\circ \\textbf{h} $$\n",
    "\n",
    "where $\\textbf{v}'_{\\textbf{w}_j}$ is the $j^{th}$ column of the `output matrix` $W'$\n",
    "\n",
    "Step 3) Next, Compute the output of the output layer by using the `soft-max` as an activation\n",
    "\n",
    "$$ y_{j}=\\mathbb{P}\\left(\\textbf{w}_{y_{j}}\\left|\\textbf{w}_{y_{1}},\\ldots,\\textbf{w}_{y_{C}}\\right.\\right)=\\dfrac{\\exp\\left(u_{j}\\right)}{\\sum_{k=1}^{V}\\exp\\left(u_{k} \\right)} $$"
   ]
  },
  {
   "cell_type": "markdown",
   "metadata": {},
   "source": [
    "Since `input word` to the model be the `1-hot encoded vectors`, where the `size of the vector` is the `size of the vocabulary`; so we must have a **Quick reminder on `one-hot-encoder`.**  \n",
    "\n",
    "`One-hot representation` is a method in which only one element is 1 and the other elements are 0 in the vector. By setting 1 or 0 for each dimension, it represents `“that word or not”`.\n",
    "\n",
    "Let’s say, for example, we represent the word `“python”` as one-hot representation. Here, the vocabulary which is a set of words is 5 labels or words (`cold, python, hot, ruby, warm`). "
   ]
  },
  {
   "cell_type": "code",
   "execution_count": 26,
   "metadata": {},
   "outputs": [
    {
     "name": "stdout",
     "output_type": "stream",
     "text": [
      "text data:  ['warm' 'cold' 'cold' 'warm' 'cold' 'hot' 'ruby' 'cold' 'python']\n",
      "label for each class: ['cold' 'hot' 'python' 'ruby' 'warm']\n",
      "integer encode: [4 0 0 4 0 1 3 0 2]\n",
      "inverse_trans: [0, 0, 1, 3, 3, 4, 0, 1] = ['cold' 'cold' 'hot' 'ruby' 'ruby' 'warm' 'cold' 'hot']\n",
      "binary encode: \n",
      " [[0. 0. 0. 0. 1.]\n",
      " [1. 0. 0. 0. 0.]\n",
      " [1. 0. 0. 0. 0.]\n",
      " [0. 0. 0. 0. 1.]\n",
      " [1. 0. 0. 0. 0.]\n",
      " [0. 1. 0. 0. 0.]\n",
      " [0. 0. 0. 1. 0.]\n",
      " [1. 0. 0. 0. 0.]\n",
      " [0. 0. 1. 0. 0.]]\n",
      "first word:  ['warm']\n",
      "second word:  ['cold']\n",
      "last word:  ['python']\n"
     ]
    }
   ],
   "source": [
    "from sklearn.preprocessing import LabelEncoder\n",
    "from sklearn.preprocessing import OneHotEncoder\n",
    "\n",
    "data = ['warm', 'cold', 'cold', 'warm', 'cold', 'hot', 'ruby', 'cold', 'python']\n",
    "values = np.array(data)\n",
    "print('text data: ', values)\n",
    "\n",
    "## label_encoder\n",
    "label_encoder = LabelEncoder()\n",
    "integer_encoded = label_encoder.fit_transform(values)\n",
    "print('label for each class:', label_encoder.classes_)\n",
    "print('integer encode:', integer_encoded)\n",
    "print('inverse_trans:', [0, 0, 1, 3, 3, 4, 0, 1], '=', label_encoder.inverse_transform([0, 0, 1, 3, 3, 4, 0, 1]))\n",
    "\n",
    "## one_hot_encoder\n",
    "onehot_encoder = OneHotEncoder(sparse=False)\n",
    "integer_encoded = integer_encoded.reshape(len(integer_encoded), 1)\n",
    "onehot_encoded = onehot_encoder.fit_transform(integer_encoded)\n",
    "print('binary encode: \\n', onehot_encoded)\n",
    "print('first word: ', label_encoder.inverse_transform([np.argmax(onehot_encoded[0, :])]))\n",
    "print('second word: ', label_encoder.inverse_transform([np.argmax(onehot_encoded[1, :])]))\n",
    "print('last word: ', label_encoder.inverse_transform([np.argmax(onehot_encoded[-1, :])]))"
   ]
  },
  {
   "cell_type": "markdown",
   "metadata": {},
   "source": [
    "**Learning the Weight Matrices with Backpropagation.** \n",
    "\n",
    "In the process of learning the wieght matrices $W_j$ and $W'$, we begin with randomly initialized values. We then sequentially feed training examples into our model and observe the error which is some function of the difference between the expected output and the actual output. \n",
    "\n",
    "We then compute the gradient of this error with respect to the elements of both weight matrices and correct them in the direction of this gradient. This general optimization procedure is known as **SGD** but the method by which the gradients are derived is known as **backpropagation**.\n",
    "\n",
    "The first step is to define the loss function. The objective is to maximize the conditional probability of the output word given the input context, therefore our `loss function` as\n",
    "\n",
    "$$ E = -\\log p\\left( \\textbf{w}_{\\text{Output}} \\left| \\textbf{w}_{\\text{Input}} \\right. \\right)=-u_{j_{*}}  \\log\\sum_{k=1}^{V} \\exp \\left( u_{k}\\right) = -\\textbf{v}_{\\textbf{w}_{\\text{Output}}} \\circ \\textbf{h} -\\log \\sum_{k=1}^{V} \\exp \\left( \\textbf{v}_{\\textbf{w}_{k}}^{T} \\circ \\textbf{h}\\right) $$\n",
    "\n",
    "where $j_{*}$ is the `index` of the the **`actual output word`**. The next step is to derive the update equation for the hidden-output layer weights , then derive the weights for the input-hidden layer weights.\n",
    "\n",
    "---------------------------\n",
    "\n",
    "**Updating the `hidden-output layer` weights.**\n",
    "\n",
    "The first step is to compute the derivative of the `loss function` w.r.t the `input` to the node $j^{th}$ in the output layer $u_j$:\n",
    "\n",
    "$$ \\dfrac{\\partial E}{\\partial u_j} = y_j - t_j $$\n",
    "\n",
    "where $t_{j}=\\delta_{jj_{*}}$. This is simply the `prediction error` of node $j$ in the `output layer`. \n",
    "\n",
    "Next, using the `chain rule` to find partial derivaties w.r.t the output-weight,\n",
    "\n",
    "$$ \\dfrac{ \\partial E}{ \\partial\\text{w}_{ij}} = \\dfrac{ \\partial E}{\\partial u_{j}} \\dfrac{\\partial u_{j}}{\\partial \\text{w}_{ij}} = \\left(y_{j}-t_{j}\\right) h_{i} $$\n",
    "\n",
    "Using **SGD** for $\\eta > 0$, we obtain\n",
    "$$ \\text{w}_{ij\\left(\\text{new}\\right)}^{'}=\\text{w}_{ij\\left(\\text{old}\\right)}^{'}-\\eta\\left(y_{j}-t_{j}\\right) h_{i} $$\n",
    "and\n",
    "$$ \\textbf{v}'_{\\textbf{w}_{j\\left(\\text{new}\\right)}} = \\textbf{v}'_{\\textbf{w}_{j\\left(\\text{old}\\right)}}-\\eta\\left(y_{j}-t_{j}\\right)\\textbf{h}. $$"
   ]
  },
  {
   "cell_type": "markdown",
   "metadata": {},
   "source": [
    "**Updating the `input-hidden layer` weights.**\n",
    "\n",
    "By the `chain-rule` again; we calculate the derivative of w.r.t an arbitrary hidden node $h_i$\n",
    "\n",
    "$$ \\dfrac{\\partial E}{\\partial h_{i}}=\\sum_{j=1}^{V}\\dfrac{\\partial E}{\\partial u_{j}}\\dfrac{\\partial u_{j}}{\\partial h_{j}}=\\sum_{j=1}^{V}\\left(y_{j}-t_{j}\\right)\\text{w}'_{ij}$$\n",
    "\n",
    "where the sum is do to the fact that the hidden layer node $h_{i}$ is connected to each node of the output layer and therefore each prediction error must be incorporated. The next step is to compute the derivative $E$ of with respect to an arbitrary input weight \n",
    "\n",
    "$$\\text{w}_{ki}\\dfrac{\\partial E}{\\partial\\text{w}_{ki}}=\\sum_{i=1}^{V}\\dfrac{\\partial E}{\\partial h_{i}}\\dfrac{\\partial h_{i}}{\\partial\\text{w}_{ki}}=\\sum_{i=1}^{V}\\left(\\left(y_{j}-t_{j}\\right)\\text{w}'_{ij}\\right)\\left(C^{-1}x_{k}\\right)$$\n",
    "\n",
    "hence, by SGD again\n",
    "\n",
    "$$\\textbf{v}_{\\textbf{w}_{\\text{Input, c}}}^{\\text{(new)}'} = \\textbf{v}_{\\textbf{w}_{\\text{Input, c}}}^{\\text{(old)}'} - \\eta C^{-1}\\sum_{i=1}^{V}\\left(y_{j}-t_{j}\\right)\\text{w}'_{ij}x_{k}$$\n",
    "\n",
    "**Quick example for `keras.preprocessing.text.Tokenizer`**"
   ]
  },
  {
   "cell_type": "code",
   "execution_count": 27,
   "metadata": {},
   "outputs": [
    {
     "name": "stderr",
     "output_type": "stream",
     "text": [
      "Using TensorFlow backend.\n"
     ]
    },
    {
     "name": "stdout",
     "output_type": "stream",
     "text": [
      "sequences :  [[1, 2, 3, 6, 7]] \n",
      "\n",
      "word_index :  {'the': 1, 'earth': 2, 'is': 3, 'an': 4, 'awesome': 5, 'place': 6, 'live': 7}\n"
     ]
    }
   ],
   "source": [
    "from keras.preprocessing.text import Tokenizer\n",
    "t  = Tokenizer()\n",
    "fit_text = [\"The earth is an awesome place live\"]\n",
    "t.fit_on_texts(fit_text)\n",
    "test_text = [\"The earth is a great place live\"]\n",
    "sequences = t.texts_to_sequences(test_text)\n",
    "print(\"sequences : \", sequences,'\\n')\n",
    "print(\"word_index : \", t.word_index)"
   ]
  },
  {
   "cell_type": "markdown",
   "metadata": {},
   "source": [
    "2 sentences has the `conciding_words`; for example:\n",
    "- `the (index = 1)` is the first word in the first sentence (for fiting model)\n",
    "- `earth (index =2)`\n",
    "- and so on"
   ]
  },
  {
   "cell_type": "markdown",
   "metadata": {},
   "source": [
    "#### Build the corpus vocabulary.\n",
    "\n",
    "To start off, we will first build our corpus vocabulary where we **extract out each unique word from our vocabulary and map a unique numeric identifier to it**."
   ]
  },
  {
   "cell_type": "code",
   "execution_count": 28,
   "metadata": {},
   "outputs": [
    {
     "name": "stdout",
     "output_type": "stream",
     "text": [
      "Vocabulary Size: 61\n"
     ]
    },
    {
     "data": {
      "text/plain": [
       "{'the': 1,\n",
       " 'is': 2,\n",
       " 'this': 3,\n",
       " 'document': 4,\n",
       " 'and': 5,\n",
       " 'earth': 6,\n",
       " 'not': 7,\n",
       " 'of': 8,\n",
       " 'first': 9,\n",
       " 'an': 10,\n",
       " 'place': 11,\n",
       " 'live': 12,\n",
       " 'one': 13,\n",
       " 'without': 14,\n",
       " 'loss': 15,\n",
       " 'generality': 16,\n",
       " 'we': 17,\n",
       " 'consider': 18,\n",
       " 'firstly': 19,\n",
       " 'on': 20,\n",
       " 'unit': 21,\n",
       " 'ball': 22,\n",
       " 'great': 23,\n",
       " 'likewise': 24,\n",
       " 'second': 25,\n",
       " 'awesome': 26,\n",
       " 'third': 27,\n",
       " 'problem': 28,\n",
       " 'does': 29,\n",
       " 'hold': 30,\n",
       " 'slater': 31,\n",
       " 'condition': 32,\n",
       " 'jane': 33,\n",
       " 'fat': 34,\n",
       " 'fast': 35,\n",
       " 'yours': 36,\n",
       " 'laid': 37,\n",
       " 'by': 38,\n",
       " 'her': 39,\n",
       " 'said': 40,\n",
       " 'unto': 41,\n",
       " 'cain': 42,\n",
       " 'in': 43,\n",
       " 'beginning': 44,\n",
       " 'god': 45,\n",
       " 'created': 46,\n",
       " 'heaven': 47,\n",
       " 'next': 48,\n",
       " 'quick': 49,\n",
       " 'brown': 50,\n",
       " 'fox': 51,\n",
       " 'jumps': 52,\n",
       " 'over': 53,\n",
       " 'lazy': 54,\n",
       " 'dog': 55,\n",
       " 'finally': 56,\n",
       " 'all': 57,\n",
       " 'above': 58,\n",
       " 'are': 59,\n",
       " 'documents': 60,\n",
       " 'end': 61}"
      ]
     },
     "execution_count": 28,
     "metadata": {},
     "output_type": "execute_result"
    }
   ],
   "source": [
    "from keras.utils import np_utils\n",
    "from keras.preprocessing import sequence\n",
    "\n",
    "corpus2 = ['without loss of generality; we consider firstly on the unit ball',\n",
    "          'this is the first document: the Earth is an great place live',\n",
    "          'Likewise this document is the second document: the Earth is an awesome place live.',\n",
    "          'and this is the third one: this problem does not hold the Slater condition',\n",
    "          'is this the first document: Jane is not  fat and fast',\n",
    "          'this Document is not yours: laid by her , and said unto Cain',\n",
    "           'In the beginning God created heaven and earth',\n",
    "           \"next one is: the quick brown fox jumps over the lazy dog\",\n",
    "            'Finally, all of above are documents; the end']\n",
    "\n",
    "tokenizer = Tokenizer(num_words = None, \n",
    "                           filters = '!\"#$%&()*+,-./:;<=>?@[\\\\]^_`{|}~\\t\\n',\n",
    "                           lower = True)\n",
    "tokenizer.fit_on_texts(corpus2)\n",
    "\n",
    "word_index = tokenizer.word_index\n",
    "vocab_size = len(word_index)\n",
    "print('Vocabulary Size:', vocab_size)\n",
    "word_index"
   ]
  },
  {
   "cell_type": "markdown",
   "metadata": {},
   "source": [
    "This meant there are 61 vocalbularies in `corpus2`; the first vocabulary is the word has the highest frequency; here is an article `the`; the next one `is` and the last one is `end`."
   ]
  },
  {
   "cell_type": "markdown",
   "metadata": {},
   "source": [
    "#### Build vocabulary of unique words"
   ]
  },
  {
   "cell_type": "code",
   "execution_count": 29,
   "metadata": {},
   "outputs": [
    {
     "name": "stdout",
     "output_type": "stream",
     "text": [
      "Vocabulary Sample: \n",
      " [('the', 1), ('is', 2), ('this', 3), ('document', 4), ('and', 5)]\n"
     ]
    }
   ],
   "source": [
    "from keras.preprocessing import text\n",
    "\n",
    "## Re-arange the order in word_index as index : word\n",
    "id_word = {v:k for k, v in word_index.items()}\n",
    "\n",
    "## list of the index_words\n",
    "wids = [[word_index[w] for w in text.text_to_word_sequence(doc, \n",
    "                                                           filters='!\"#$%&()*+,-./:;<=>?@[\\\\]^_`{|}~\\t\\n', \n",
    "                                                           lower = True, split=' ')] \n",
    "        for doc in corpus2]\n",
    "\n",
    "embed_size = 10\n",
    "\n",
    "print('Vocabulary Sample: \\n', list(word_index.items())[:5])"
   ]
  },
  {
   "cell_type": "markdown",
   "metadata": {},
   "source": [
    "--------------------------------------\n",
    "\n",
    "Now, we can see that we have created a vocabulary of `unique words` in our `corpus` and also ways to map a word to `its unique identifier`. \n",
    "\n",
    "Take a look insight to understand `\"How the previous command-line works?\"`; To convenient, we consider the first documents in the `corpus2`; that is `corpus[0]`\n",
    "\n",
    "Noting that **`text.text_to_word_sequence`** returns sequence of words (or tokens); so the `wids` contains the `word_index`"
   ]
  },
  {
   "cell_type": "code",
   "execution_count": 30,
   "metadata": {},
   "outputs": [
    {
     "name": "stdout",
     "output_type": "stream",
     "text": [
      "['without', 'loss', 'of', 'generality', 'we', 'consider', 'firstly', 'on', 'the', 'unit', 'ball']\n"
     ]
    }
   ],
   "source": [
    "print(text.text_to_word_sequence(corpus2[0]))"
   ]
  },
  {
   "cell_type": "markdown",
   "metadata": {},
   "source": [
    "For example; the word `'without'` has index = 14; ..., `'ball'` has index = 22; so we recover a `list of index-word` for each sentence"
   ]
  },
  {
   "cell_type": "code",
   "execution_count": 31,
   "metadata": {},
   "outputs": [
    {
     "data": {
      "text/plain": [
       "[14, 15, 8, 16, 17, 18, 19, 20, 1, 21, 22]"
      ]
     },
     "execution_count": 31,
     "metadata": {},
     "output_type": "execute_result"
    }
   ],
   "source": [
    "[word_index[k] for k in text.text_to_word_sequence(corpus2[0])]"
   ]
  },
  {
   "cell_type": "markdown",
   "metadata": {},
   "source": [
    "Obviously, the values of `wids[0]` or `wids[:1]` must be concided the preceding line"
   ]
  },
  {
   "cell_type": "code",
   "execution_count": 32,
   "metadata": {},
   "outputs": [
    {
     "data": {
      "text/plain": [
       "[[14, 15, 8, 16, 17, 18, 19, 20, 1, 21, 22]]"
      ]
     },
     "execution_count": 32,
     "metadata": {},
     "output_type": "execute_result"
    }
   ],
   "source": [
    "wids[:1]  ## this is wids[0]"
   ]
  },
  {
   "cell_type": "markdown",
   "metadata": {},
   "source": [
    "Before going on to the `generating CBOW`; take a look to `sequence.pad_sequences` and  `np.utils.to_categorical`.\n",
    "\n",
    "Again; focus on the first document"
   ]
  },
  {
   "cell_type": "code",
   "execution_count": 33,
   "metadata": {},
   "outputs": [
    {
     "name": "stdout",
     "output_type": "stream",
     "text": [
      "context: [[15, 8]] \t label: [14]\n",
      "context: [[14, 8, 16]] \t label: [15]\n",
      "context: [[14, 15, 16, 17]] \t label: [8]\n",
      "context: [[15, 8, 17, 18]] \t label: [16]\n",
      "context: [[8, 16, 18, 19]] \t label: [17]\n",
      "context: [[16, 17, 19, 20]] \t label: [18]\n",
      "context: [[17, 18, 20, 1]] \t label: [19]\n",
      "context: [[18, 19, 1, 21]] \t label: [20]\n",
      "context: [[19, 20, 21, 22]] \t label: [1]\n",
      "context: [[20, 1, 22]] \t label: [21]\n",
      "context: [[1, 21]] \t label: [22]\n"
     ]
    }
   ],
   "source": [
    "window_size = 2 # context window size\n",
    "context_length = window_size*2\n",
    "for words in wids[:1]:\n",
    "    sentence_length = len(words)\n",
    "    for index, word in enumerate(words):\n",
    "        context_words = []\n",
    "        label_word   = []            \n",
    "        start = index - window_size\n",
    "        end = index + window_size + 1\n",
    "    \n",
    "        context_words.append([words[i] \n",
    "                             for i in range(start, end) \n",
    "                             if 0 <= i < sentence_length \n",
    "                            and i != index])\n",
    "        label_word.append(word)\n",
    "        print('context:', context_words, '\\t', 'label:', label_word)"
   ]
  },
  {
   "cell_type": "markdown",
   "metadata": {},
   "source": [
    "The `context_words` contain the indexes of the words $x_{c-m}, \\ldots, x_{c+m}$ which create a context while the `label_word` contain the indexes of the `center word` $x_c$. For example, in the first sentence `\"without loss of generality; we consider firsly on the unit ball.\"`; \n",
    "- For the `context_size = 2 < 4` (starting at the first 2 words); the term `without loss of` has the `context = loss [index = 15] of [8]` while the `target = \"without\" [14]` \n",
    "- For the `context_size = 3 < 4`; then the context be `\"without [14] of [8] generality [16]\"` and `target = \"loss [15]\"`\n",
    "- With `context_size = 4`; then `context = \"without [14] loss [15] generality [16] we [17]\"` and `target = \"of [8]\"`\n",
    "\n",
    "            ....\n",
    "\n",
    "- For the last 2 words (`context_size` = 2 again).\n",
    "\n",
    "\n",
    "The `sequence.pad_sequences` transforms a list of `num_samples` sequences (lists of integers) into a `2D Numpy array` of shape `(num_samples, num_timesteps)`. The `num_timesteps` is either the `maxlen` argument if provided, or the `length of the longest sequence` otherwise.\n",
    "\n",
    "The `np_utils.to_categorical` returns the values as a `categories`; for example the last label(`label_words[-1]`) in `label_words` is `[22]` so we will get a list of weights `{0, 1}`; the index has weight = 1 is `22`."
   ]
  },
  {
   "cell_type": "code",
   "execution_count": 34,
   "metadata": {},
   "outputs": [
    {
     "name": "stdout",
     "output_type": "stream",
     "text": [
      "[[ 0  0  1 21]]\n",
      "[0. 0. 0. 0. 0. 0. 0. 0. 0. 0. 0. 0. 0. 0. 0. 0. 0. 0. 0. 0. 0. 0. 1. 0.\n",
      " 0. 0. 0. 0. 0. 0. 0. 0. 0. 0. 0. 0. 0. 0. 0. 0. 0. 0. 0. 0. 0. 0. 0. 0.\n",
      " 0. 0. 0. 0. 0. 0. 0. 0. 0. 0. 0. 0. 0.]\n"
     ]
    }
   ],
   "source": [
    "x = sequence.pad_sequences(context_words, maxlen = context_length)\n",
    "y = np_utils.to_categorical(label_word[-1], vocab_size)\n",
    "print(x)\n",
    "print(y)"
   ]
  },
  {
   "cell_type": "markdown",
   "metadata": {},
   "source": [
    "----------------------------------\n",
    "\n",
    "#### Build a CBOW (context, target) generator\n",
    "\n",
    "We need pairs which consist of a `target centre word` $x_c$ and surround context words. \n",
    "\n",
    "In our implementation, a `target word` is of length 1 and `surrounding context` is of length `2 x window_size` where we take window_size words before and after the target word in our corpus. This will become clearer with the following example."
   ]
  },
  {
   "cell_type": "code",
   "execution_count": 35,
   "metadata": {},
   "outputs": [
    {
     "name": "stdout",
     "output_type": "stream",
     "text": [
      "Context (X): ['without', 'loss', 'generality', 'we'] \t\t\t---> Target (Y): of\n",
      "Context (X): ['loss', 'of', 'we', 'consider'] \t\t\t---> Target (Y): generality\n",
      "Context (X): ['of', 'generality', 'consider', 'firstly'] \t\t\t---> Target (Y): we\n",
      "Context (X): ['generality', 'we', 'firstly', 'on'] \t\t\t---> Target (Y): consider\n",
      "Context (X): ['we', 'consider', 'on', 'the'] \t\t\t---> Target (Y): firstly\n",
      "Context (X): ['consider', 'firstly', 'the', 'unit'] \t\t\t---> Target (Y): on\n",
      "Context (X): ['firstly', 'on', 'unit', 'ball'] \t\t\t---> Target (Y): the\n",
      "Context (X): ['this', 'is', 'first', 'document'] \t\t\t---> Target (Y): the\n",
      "Context (X): ['is', 'the', 'document', 'the'] \t\t\t---> Target (Y): first\n",
      "Context (X): ['the', 'first', 'the', 'earth'] \t\t\t---> Target (Y): document\n",
      "Context (X): ['first', 'document', 'earth', 'is'] \t\t\t---> Target (Y): the\n"
     ]
    }
   ],
   "source": [
    "def generate_CBOW(corpus, window_size, vocab_size):\n",
    "    context_length = window_size*2\n",
    "    for words in corpus:\n",
    "        sentence_length = len(words)\n",
    "        for index, word in enumerate(words):\n",
    "            context_words = []\n",
    "            label_word   = []            \n",
    "            start = index - window_size\n",
    "            end = index + window_size + 1\n",
    "            \n",
    "            context_words.append([words[i] \n",
    "                                 for i in range(start, end) \n",
    "                                 if 0 <= i < sentence_length \n",
    "                                 and i != index])\n",
    "            label_word.append(word)\n",
    "\n",
    "            x = sequence.pad_sequences(context_words, maxlen = context_length)\n",
    "            y = np_utils.to_categorical(label_word, vocab_size)\n",
    "            yield (x, y)            \n",
    "            \n",
    "# Test this out for some samples\n",
    "i = 0\n",
    "for x, y in generate_CBOW(corpus = wids, window_size=window_size, vocab_size=vocab_size):\n",
    "    if 0 not in x[0]:\n",
    "        print('Context (X):', [id_word[w] for w in x[0]], '\\t\\t\\t---> Target (Y):', id_word[np.argwhere(y[0])[0][0]])\n",
    "    \n",
    "        if i == 10:\n",
    "            break     ## stopping with the first 10 samples\n",
    "        i += 1"
   ]
  },
  {
   "cell_type": "markdown",
   "metadata": {},
   "source": [
    "--------------------------------\n",
    "\n",
    "The preceding output should give you some more perspective of how X forms our context words and we are trying to predict the target center word Y based on this context. \n",
    "\n",
    "For example, if the original text was `‘without loss of generality, we firstly consider on the unit ball’` which after pre-processing and removal of stopwords; then given `['without', 'loss', 'generality', 'we']` as the `context`, what the `target` center word is, which is `‘of’` in this case.\n",
    "\n",
    "------------------------------------\n",
    "\n",
    "#### Build the CBOW model architecture\n",
    "\n",
    "We now leverage `keras` on top of `tensorflow` to build our deep learning architecture for the `CBOW` model. For this our inputs will be our context words which are passed to an **`embedding layer`** (initialized with random weights). \n",
    "\n",
    "The **`word embeddings`** are propagated to a `lambda layer` where we average out the word embeddings (hence called CBOW because we don’t really consider the order or sequence in the context words when averaged)and then we pass this averaged context embedding to a dense softmax layer which predicts our target word. \n",
    "\n",
    "We match this with the actual target word, compute the loss by leveraging the categorical_crossentropy loss and perform backpropagation with each epoch to update the embedding layer in the process. Following code shows us our model architecture."
   ]
  },
  {
   "cell_type": "code",
   "execution_count": 36,
   "metadata": {},
   "outputs": [
    {
     "name": "stdout",
     "output_type": "stream",
     "text": [
      "Model: \"sequential_1\"\n",
      "_________________________________________________________________\n",
      "Layer (type)                 Output Shape              Param #   \n",
      "=================================================================\n",
      "embedding_1 (Embedding)      (None, 4, 10)             610       \n",
      "_________________________________________________________________\n",
      "lambda_1 (Lambda)            (None, 10)                0         \n",
      "_________________________________________________________________\n",
      "dense_1 (Dense)              (None, 61)                671       \n",
      "=================================================================\n",
      "Total params: 1,281\n",
      "Trainable params: 1,281\n",
      "Non-trainable params: 0\n",
      "_________________________________________________________________\n",
      "None\n"
     ]
    }
   ],
   "source": [
    "import keras.backend as K\n",
    "from keras.models import Sequential\n",
    "from keras.layers import Dense, Embedding, Lambda\n",
    "\n",
    "# build CBOW model\n",
    "cbow = Sequential()\n",
    "cbow.add(Embedding(input_dim = vocab_size, \n",
    "                   output_dim = embed_size, \n",
    "                   input_length = window_size*2))\n",
    "cbow.add(Lambda(lambda x: K.mean(x, axis = 1), \n",
    "                output_shape = (embed_size, )))\n",
    "cbow.add(Dense(vocab_size, activation = 'softmax'))\n",
    "cbow.compile(loss = 'categorical_crossentropy', \n",
    "             optimizer='rmsprop')\n",
    "\n",
    "# view model summary\n",
    "print(cbow.summary())"
   ]
  },
  {
   "cell_type": "code",
   "execution_count": 37,
   "metadata": {},
   "outputs": [
    {
     "data": {
      "image/svg+xml": [
       "<svg height=\"296pt\" viewBox=\"0.00 0.00 235.00 304.00\" width=\"228pt\" xmlns=\"http://www.w3.org/2000/svg\" xmlns:xlink=\"http://www.w3.org/1999/xlink\">\n",
       "<g class=\"graph\" id=\"graph0\" transform=\"scale(0.972222 0.972222) rotate(0) translate(4 300)\">\n",
       "<title>G</title>\n",
       "<polygon fill=\"white\" points=\"-4,4 -4,-300 231,-300 231,4 -4,4\" stroke=\"none\"/>\n",
       "<!-- 2813401388744 -->\n",
       "<g class=\"node\" id=\"node1\"><title>2813401388744</title>\n",
       "<polygon fill=\"none\" points=\"12,-249.5 12,-295.5 215,-295.5 215,-249.5 12,-249.5\" stroke=\"black\"/>\n",
       "<text font-family=\"Times New Roman,serif\" font-size=\"14.00\" text-anchor=\"middle\" x=\"50.5\" y=\"-268.8\">InputLayer</text>\n",
       "<polyline fill=\"none\" points=\"89,-249.5 89,-295.5 \" stroke=\"black\"/>\n",
       "<text font-family=\"Times New Roman,serif\" font-size=\"14.00\" text-anchor=\"middle\" x=\"117\" y=\"-280.3\">input:</text>\n",
       "<polyline fill=\"none\" points=\"89,-272.5 145,-272.5 \" stroke=\"black\"/>\n",
       "<text font-family=\"Times New Roman,serif\" font-size=\"14.00\" text-anchor=\"middle\" x=\"117\" y=\"-257.3\">output:</text>\n",
       "<polyline fill=\"none\" points=\"145,-249.5 145,-295.5 \" stroke=\"black\"/>\n",
       "<text font-family=\"Times New Roman,serif\" font-size=\"14.00\" text-anchor=\"middle\" x=\"180\" y=\"-280.3\">(None, 4)</text>\n",
       "<polyline fill=\"none\" points=\"145,-272.5 215,-272.5 \" stroke=\"black\"/>\n",
       "<text font-family=\"Times New Roman,serif\" font-size=\"14.00\" text-anchor=\"middle\" x=\"180\" y=\"-257.3\">(None, 4)</text>\n",
       "</g>\n",
       "<!-- 2813401387720 -->\n",
       "<g class=\"node\" id=\"node2\"><title>2813401387720</title>\n",
       "<polygon fill=\"none\" points=\"0,-166.5 0,-212.5 227,-212.5 227,-166.5 0,-166.5\" stroke=\"black\"/>\n",
       "<text font-family=\"Times New Roman,serif\" font-size=\"14.00\" text-anchor=\"middle\" x=\"40\" y=\"-185.8\">Embedding</text>\n",
       "<polyline fill=\"none\" points=\"80,-166.5 80,-212.5 \" stroke=\"black\"/>\n",
       "<text font-family=\"Times New Roman,serif\" font-size=\"14.00\" text-anchor=\"middle\" x=\"108\" y=\"-197.3\">input:</text>\n",
       "<polyline fill=\"none\" points=\"80,-189.5 136,-189.5 \" stroke=\"black\"/>\n",
       "<text font-family=\"Times New Roman,serif\" font-size=\"14.00\" text-anchor=\"middle\" x=\"108\" y=\"-174.3\">output:</text>\n",
       "<polyline fill=\"none\" points=\"136,-166.5 136,-212.5 \" stroke=\"black\"/>\n",
       "<text font-family=\"Times New Roman,serif\" font-size=\"14.00\" text-anchor=\"middle\" x=\"181.5\" y=\"-197.3\">(None, 4)</text>\n",
       "<polyline fill=\"none\" points=\"136,-189.5 227,-189.5 \" stroke=\"black\"/>\n",
       "<text font-family=\"Times New Roman,serif\" font-size=\"14.00\" text-anchor=\"middle\" x=\"181.5\" y=\"-174.3\">(None, 4, 10)</text>\n",
       "</g>\n",
       "<!-- 2813401388744&#45;&gt;2813401387720 -->\n",
       "<g class=\"edge\" id=\"edge1\"><title>2813401388744-&gt;2813401387720</title>\n",
       "<path d=\"M113.5,-249.366C113.5,-241.152 113.5,-231.658 113.5,-222.725\" fill=\"none\" stroke=\"black\"/>\n",
       "<polygon fill=\"black\" points=\"117,-222.607 113.5,-212.607 110,-222.607 117,-222.607\" stroke=\"black\"/>\n",
       "</g>\n",
       "<!-- 2813292554504 -->\n",
       "<g class=\"node\" id=\"node3\"><title>2813292554504</title>\n",
       "<polygon fill=\"none\" points=\"9,-83.5 9,-129.5 218,-129.5 218,-83.5 9,-83.5\" stroke=\"black\"/>\n",
       "<text font-family=\"Times New Roman,serif\" font-size=\"14.00\" text-anchor=\"middle\" x=\"40\" y=\"-102.8\">Lambda</text>\n",
       "<polyline fill=\"none\" points=\"71,-83.5 71,-129.5 \" stroke=\"black\"/>\n",
       "<text font-family=\"Times New Roman,serif\" font-size=\"14.00\" text-anchor=\"middle\" x=\"99\" y=\"-114.3\">input:</text>\n",
       "<polyline fill=\"none\" points=\"71,-106.5 127,-106.5 \" stroke=\"black\"/>\n",
       "<text font-family=\"Times New Roman,serif\" font-size=\"14.00\" text-anchor=\"middle\" x=\"99\" y=\"-91.3\">output:</text>\n",
       "<polyline fill=\"none\" points=\"127,-83.5 127,-129.5 \" stroke=\"black\"/>\n",
       "<text font-family=\"Times New Roman,serif\" font-size=\"14.00\" text-anchor=\"middle\" x=\"172.5\" y=\"-114.3\">(None, 4, 10)</text>\n",
       "<polyline fill=\"none\" points=\"127,-106.5 218,-106.5 \" stroke=\"black\"/>\n",
       "<text font-family=\"Times New Roman,serif\" font-size=\"14.00\" text-anchor=\"middle\" x=\"172.5\" y=\"-91.3\">(None, 10)</text>\n",
       "</g>\n",
       "<!-- 2813401387720&#45;&gt;2813292554504 -->\n",
       "<g class=\"edge\" id=\"edge2\"><title>2813401387720-&gt;2813292554504</title>\n",
       "<path d=\"M113.5,-166.366C113.5,-158.152 113.5,-148.658 113.5,-139.725\" fill=\"none\" stroke=\"black\"/>\n",
       "<polygon fill=\"black\" points=\"117,-139.607 113.5,-129.607 110,-139.607 117,-139.607\" stroke=\"black\"/>\n",
       "</g>\n",
       "<!-- 2813403346248 -->\n",
       "<g class=\"node\" id=\"node4\"><title>2813403346248</title>\n",
       "<polygon fill=\"none\" points=\"21.5,-0.5 21.5,-46.5 205.5,-46.5 205.5,-0.5 21.5,-0.5\" stroke=\"black\"/>\n",
       "<text font-family=\"Times New Roman,serif\" font-size=\"14.00\" text-anchor=\"middle\" x=\"47\" y=\"-19.8\">Dense</text>\n",
       "<polyline fill=\"none\" points=\"72.5,-0.5 72.5,-46.5 \" stroke=\"black\"/>\n",
       "<text font-family=\"Times New Roman,serif\" font-size=\"14.00\" text-anchor=\"middle\" x=\"100.5\" y=\"-31.3\">input:</text>\n",
       "<polyline fill=\"none\" points=\"72.5,-23.5 128.5,-23.5 \" stroke=\"black\"/>\n",
       "<text font-family=\"Times New Roman,serif\" font-size=\"14.00\" text-anchor=\"middle\" x=\"100.5\" y=\"-8.3\">output:</text>\n",
       "<polyline fill=\"none\" points=\"128.5,-0.5 128.5,-46.5 \" stroke=\"black\"/>\n",
       "<text font-family=\"Times New Roman,serif\" font-size=\"14.00\" text-anchor=\"middle\" x=\"167\" y=\"-31.3\">(None, 10)</text>\n",
       "<polyline fill=\"none\" points=\"128.5,-23.5 205.5,-23.5 \" stroke=\"black\"/>\n",
       "<text font-family=\"Times New Roman,serif\" font-size=\"14.00\" text-anchor=\"middle\" x=\"167\" y=\"-8.3\">(None, 61)</text>\n",
       "</g>\n",
       "<!-- 2813292554504&#45;&gt;2813403346248 -->\n",
       "<g class=\"edge\" id=\"edge3\"><title>2813292554504-&gt;2813403346248</title>\n",
       "<path d=\"M113.5,-83.3664C113.5,-75.1516 113.5,-65.6579 113.5,-56.7252\" fill=\"none\" stroke=\"black\"/>\n",
       "<polygon fill=\"black\" points=\"117,-56.6068 113.5,-46.6068 110,-56.6069 117,-56.6068\" stroke=\"black\"/>\n",
       "</g>\n",
       "</g>\n",
       "</svg>"
      ],
      "text/plain": [
       "<IPython.core.display.SVG object>"
      ]
     },
     "execution_count": 37,
     "metadata": {},
     "output_type": "execute_result"
    }
   ],
   "source": [
    "# visualize model structure\n",
    "from IPython.display import SVG\n",
    "from keras.utils.vis_utils import model_to_dot\n",
    "\n",
    "SVG(model_to_dot(cbow, show_shapes = True, show_layer_names=False, dpi = 70, \n",
    "                 rankdir = 'TB').create(prog = 'dot', format ='svg'))"
   ]
  },
  {
   "cell_type": "markdown",
   "metadata": {},
   "source": [
    "We have input context words of dimensions `V x N` (`2 x window_size`), we will pass them to an embedding layer of size `(vocab_size x embed_size)` which will give us dense word embeddings for each of these context words `(1 x embed_size for each word)`. \n",
    "\n",
    "We compare this with the actual target word, compute the `loss`, `backpropagate` the errors to adjust the weights (in the embedding layer) and repeat this process for all (context, target) pairs for multiple epochs."
   ]
  },
  {
   "cell_type": "code",
   "execution_count": 38,
   "metadata": {},
   "outputs": [
    {
     "data": {
      "image/png": "[encoded data removed]",
      "text/plain": [
       "<IPython.core.display.Image object>"
      ]
     },
     "metadata": {
      "image/png": {
       "height": 400,
       "unconfined": true,
       "width": 690
      }
     },
     "output_type": "display_data"
    }
   ],
   "source": [
    "display(Image(r\"C:\\Users\\Admin\\Desktop\\Nhan_pro\\Data\\cbow.png\", width=690, height=400, unconfined=True))"
   ]
  },
  {
   "cell_type": "markdown",
   "metadata": {},
   "source": [
    "![cbow.png](cbow.png)\n",
    "\n",
    "link: https://github.com/Nhan121/Kaggle-6-first-projects/blob/master/NLP_Text_Classification/image_illustration/cbow.png"
   ]
  },
  {
   "cell_type": "code",
   "execution_count": 39,
   "metadata": {},
   "outputs": [
    {
     "name": "stdout",
     "output_type": "stream",
     "text": [
      "(60, 10)\n"
     ]
    },
    {
     "data": {
      "text/html": [
       "<div>\n",
       "<style scoped>\n",
       "    .dataframe tbody tr th:only-of-type {\n",
       "        vertical-align: middle;\n",
       "    }\n",
       "\n",
       "    .dataframe tbody tr th {\n",
       "        vertical-align: top;\n",
       "    }\n",
       "\n",
       "    .dataframe thead th {\n",
       "        text-align: right;\n",
       "    }\n",
       "</style>\n",
       "<table border=\"1\" class=\"dataframe\">\n",
       "  <thead>\n",
       "    <tr style=\"text-align: right;\">\n",
       "      <th></th>\n",
       "      <th>0</th>\n",
       "      <th>1</th>\n",
       "      <th>2</th>\n",
       "      <th>3</th>\n",
       "      <th>4</th>\n",
       "      <th>5</th>\n",
       "      <th>6</th>\n",
       "      <th>7</th>\n",
       "      <th>8</th>\n",
       "      <th>9</th>\n",
       "    </tr>\n",
       "  </thead>\n",
       "  <tbody>\n",
       "    <tr>\n",
       "      <th>is</th>\n",
       "      <td>0.016374</td>\n",
       "      <td>-0.014322</td>\n",
       "      <td>-0.005712</td>\n",
       "      <td>-0.017625</td>\n",
       "      <td>0.035299</td>\n",
       "      <td>-0.043018</td>\n",
       "      <td>0.010757</td>\n",
       "      <td>-0.011466</td>\n",
       "      <td>0.019159</td>\n",
       "      <td>0.049869</td>\n",
       "    </tr>\n",
       "    <tr>\n",
       "      <th>this</th>\n",
       "      <td>-0.023159</td>\n",
       "      <td>-0.022306</td>\n",
       "      <td>-0.035548</td>\n",
       "      <td>-0.035271</td>\n",
       "      <td>-0.019866</td>\n",
       "      <td>0.041361</td>\n",
       "      <td>-0.037700</td>\n",
       "      <td>-0.023062</td>\n",
       "      <td>0.017496</td>\n",
       "      <td>0.033480</td>\n",
       "    </tr>\n",
       "    <tr>\n",
       "      <th>document</th>\n",
       "      <td>0.034384</td>\n",
       "      <td>0.042061</td>\n",
       "      <td>0.025708</td>\n",
       "      <td>0.048929</td>\n",
       "      <td>-0.018929</td>\n",
       "      <td>-0.026459</td>\n",
       "      <td>-0.021748</td>\n",
       "      <td>-0.011505</td>\n",
       "      <td>-0.015332</td>\n",
       "      <td>0.014108</td>\n",
       "    </tr>\n",
       "    <tr>\n",
       "      <th>and</th>\n",
       "      <td>-0.030579</td>\n",
       "      <td>0.001208</td>\n",
       "      <td>0.030153</td>\n",
       "      <td>0.000730</td>\n",
       "      <td>0.010112</td>\n",
       "      <td>0.047483</td>\n",
       "      <td>-0.011834</td>\n",
       "      <td>-0.045395</td>\n",
       "      <td>-0.008348</td>\n",
       "      <td>-0.036018</td>\n",
       "    </tr>\n",
       "    <tr>\n",
       "      <th>earth</th>\n",
       "      <td>-0.035756</td>\n",
       "      <td>-0.021383</td>\n",
       "      <td>0.002778</td>\n",
       "      <td>0.015716</td>\n",
       "      <td>0.018819</td>\n",
       "      <td>0.020379</td>\n",
       "      <td>0.037985</td>\n",
       "      <td>0.024450</td>\n",
       "      <td>0.006182</td>\n",
       "      <td>0.020792</td>\n",
       "    </tr>\n",
       "  </tbody>\n",
       "</table>\n",
       "</div>"
      ],
      "text/plain": [
       "                 0         1         2         3         4         5  \\\n",
       "is        0.016374 -0.014322 -0.005712 -0.017625  0.035299 -0.043018   \n",
       "this     -0.023159 -0.022306 -0.035548 -0.035271 -0.019866  0.041361   \n",
       "document  0.034384  0.042061  0.025708  0.048929 -0.018929 -0.026459   \n",
       "and      -0.030579  0.001208  0.030153  0.000730  0.010112  0.047483   \n",
       "earth    -0.035756 -0.021383  0.002778  0.015716  0.018819  0.020379   \n",
       "\n",
       "                 6         7         8         9  \n",
       "is        0.010757 -0.011466  0.019159  0.049869  \n",
       "this     -0.037700 -0.023062  0.017496  0.033480  \n",
       "document -0.021748 -0.011505 -0.015332  0.014108  \n",
       "and      -0.011834 -0.045395 -0.008348 -0.036018  \n",
       "earth     0.037985  0.024450  0.006182  0.020792  "
      ]
     },
     "execution_count": 39,
     "metadata": {},
     "output_type": "execute_result"
    }
   ],
   "source": [
    "weights = cbow.get_weights()[0]\n",
    "weights = weights[1:]\n",
    "print(weights.shape)\n",
    "\n",
    "pd.DataFrame(weights, index=list(id_word.values())[1:]).head()"
   ]
  },
  {
   "cell_type": "code",
   "execution_count": 40,
   "metadata": {},
   "outputs": [
    {
     "name": "stdout",
     "output_type": "stream",
     "text": [
      "(60, 60)\n"
     ]
    },
    {
     "data": {
      "text/html": [
       "<div>\n",
       "<style scoped>\n",
       "    .dataframe tbody tr th:only-of-type {\n",
       "        vertical-align: middle;\n",
       "    }\n",
       "\n",
       "    .dataframe tbody tr th {\n",
       "        vertical-align: top;\n",
       "    }\n",
       "\n",
       "    .dataframe thead th {\n",
       "        text-align: right;\n",
       "    }\n",
       "</style>\n",
       "<table border=\"1\" class=\"dataframe\">\n",
       "  <thead>\n",
       "    <tr style=\"text-align: right;\">\n",
       "      <th></th>\n",
       "      <th>god</th>\n",
       "      <th>documents</th>\n",
       "      <th>we</th>\n",
       "    </tr>\n",
       "  </thead>\n",
       "  <tbody>\n",
       "    <tr>\n",
       "      <th>0</th>\n",
       "      <td>is</td>\n",
       "      <td>place</td>\n",
       "      <td>problem</td>\n",
       "    </tr>\n",
       "    <tr>\n",
       "      <th>1</th>\n",
       "      <td>fat</td>\n",
       "      <td>all</td>\n",
       "      <td>this</td>\n",
       "    </tr>\n",
       "    <tr>\n",
       "      <th>2</th>\n",
       "      <td>first</td>\n",
       "      <td>lazy</td>\n",
       "      <td>unto</td>\n",
       "    </tr>\n",
       "    <tr>\n",
       "      <th>3</th>\n",
       "      <td>on</td>\n",
       "      <td>first</td>\n",
       "      <td>her</td>\n",
       "    </tr>\n",
       "    <tr>\n",
       "      <th>4</th>\n",
       "      <td>awesome</td>\n",
       "      <td>ball</td>\n",
       "      <td>fat</td>\n",
       "    </tr>\n",
       "  </tbody>\n",
       "</table>\n",
       "</div>"
      ],
      "text/plain": [
       "       god documents       we\n",
       "0       is     place  problem\n",
       "1      fat       all     this\n",
       "2    first      lazy     unto\n",
       "3       on     first      her\n",
       "4  awesome      ball      fat"
      ]
     },
     "execution_count": 40,
     "metadata": {},
     "output_type": "execute_result"
    }
   ],
   "source": [
    "from sklearn.metrics.pairwise import euclidean_distances\n",
    "\n",
    "# compute pairwise distance matrix\n",
    "distance_matrix = euclidean_distances(weights)\n",
    "print(distance_matrix.shape)\n",
    "\n",
    "# view contextually similar words\n",
    "similar_words = {search_term: [id_word[idx] for idx in distance_matrix[word_index[search_term]-1].argsort()[1:6]+1] \n",
    "                   for search_term in ['god', 'documents', 'we']}\n",
    "\n",
    "pd.DataFrame(similar_words)"
   ]
  },
  {
   "cell_type": "markdown",
   "metadata": {},
   "source": [
    "### 2.2. `Skip-gram` model\n",
    "\n",
    "The `skip-gram model` is introduced in Mikolov et al. (2013a,b). Figure 3 shows the skipgram model. It is the opposite of the `CBOW` model. The `target word` is now at the `input layer`, and the `context words` are on the `output layer`."
   ]
  },
  {
   "cell_type": "code",
   "execution_count": 41,
   "metadata": {},
   "outputs": [
    {
     "data": {
      "image/png": "[encoded data removed]",
      "text/plain": [
       "<IPython.core.display.Image object>"
      ]
     },
     "metadata": {
      "image/png": {
       "unconfined": true,
       "width": 450
      }
     },
     "output_type": "display_data"
    }
   ],
   "source": [
    "display(Image(r\"C:\\Users\\Admin\\Desktop\\Nhan_pro\\Data\\skip-gram.png\", width=450, unconfined=True))"
   ]
  },
  {
   "cell_type": "markdown",
   "metadata": {},
   "source": [
    "Hence, in `skip gram` architecture of `word2vec`, the `input` is the `center word` and the `predictions` are the context words. For example; when the `sliding window_size = 2` then the array of words `W`, if `W(i)` is a `input` (center word), then `W(i-2), W(i-1), W(i+1), and W(i+2)` are the `context words`.\n",
    "\n",
    "------------------------------------------------\n",
    "\n",
    "#### Build a skip-gram [(target, context), relevancy] generator\n",
    "\n",
    "`Keras` has a `nifty skipgrams utility` which can be used and we don’t have to manually implement this `generator` like we did in `CBOW`.\n",
    "\n",
    "------------------------------------------------\n",
    "\n",
    "**Note:** The function `skipgrams` *transforms a sequence of word indexes (list of integers) into tuples of words of the form*:\n",
    "- (word, word in the same window), with label 1 (positive samples).\n",
    "- (word, random word from the vocabulary), with label 0 (negative samples)."
   ]
  },
  {
   "cell_type": "code",
   "execution_count": 42,
   "metadata": {},
   "outputs": [
    {
     "name": "stdout",
     "output_type": "stream",
     "text": [
      "pair_index: \n",
      " [[21, 18], [20, 8], [18, 17], [19, 1], [17, 18], [22, 18], [16, 20], [15, 8], [20, 60], [18, 15], [15, 19], [8, 28], [17, 4], [19, 8], [21, 56], [14, 22], [8, 27], [19, 8], [8, 15], [16, 21], [1, 20], [20, 1], [15, 16], [21, 10], [21, 9], [8, 22], [17, 20], [16, 54], [1, 14], [15, 1], [20, 22], [21, 14], [8, 39], [17, 16], [17, 22], [8, 33], [15, 6], [16, 1], [18, 2], [16, 17], [14, 1], [22, 20], [22, 18], [8, 16], [1, 25], [14, 8], [14, 20], [15, 59], [19, 21], [15, 14], [20, 30], [19, 3], [18, 1], [15, 21], [16, 33], [21, 22], [22, 32], [17, 25], [14, 2], [20, 17], [17, 36], [17, 8], [17, 21], [15, 13], [22, 19], [19, 2], [17, 1], [18, 20], [22, 27], [1, 47], [16, 19], [16, 7], [22, 47], [18, 22], [1, 17], [14, 51], [15, 21], [20, 16], [19, 12], [8, 17], [18, 50], [14, 34], [21, 55], [19, 18], [14, 22], [8, 21], [21, 4], [15, 16], [19, 16], [20, 21], [14, 55], [16, 8], [14, 19], [17, 14], [16, 12], [20, 2], [22, 58], [8, 45], [20, 42], [15, 13], [14, 21], [22, 8], [15, 19], [17, 19], [16, 15], [14, 16], [20, 3], [16, 21], [8, 17], [1, 22], [14, 10], [8, 14], [20, 34], [19, 10], [20, 14], [19, 17], [18, 21], [15, 36], [22, 60], [8, 14], [15, 18], [1, 58], [1, 42], [8, 1], [1, 8], [16, 34], [8, 18], [17, 51], [16, 19], [1, 15], [16, 16], [16, 20], [18, 14], [17, 8], [18, 15], [21, 20], [17, 2], [19, 33], [20, 19], [20, 53], [22, 16], [18, 59], [14, 34], [18, 8], [17, 26], [21, 15], [21, 1], [19, 17], [18, 17], [14, 10], [14, 15], [1, 21], [21, 33], [22, 10], [16, 35], [19, 18], [19, 22], [21, 1], [17, 23], [14, 18], [1, 18], [21, 27], [20, 50], [19, 20], [1, 4], [8, 42], [8, 55], [15, 17], [21, 1], [18, 59], [1, 16], [1, 5], [18, 51], [21, 16], [19, 21], [22, 56], [22, 14], [16, 14], [19, 15], [20, 18], [21, 19], [8, 56], [20, 5], [1, 38], [16, 18], [18, 46], [20, 49], [1, 14], [14, 31], [1, 59], [17, 25], [19, 14], [18, 60], [18, 16], [22, 14], [15, 25], [14, 60], [1, 19], [19, 8], [18, 4], [21, 13], [8, 20], [22, 43], [20, 15], [22, 17], [14, 17], [15, 5], [22, 21], [18, 19], [21, 17], [22, 15], [17, 54], [22, 1], [17, 15], [15, 22], [15, 20], [1, 60], [21, 8], [8, 19], [16, 22]]\n",
      "labels: \n",
      " [1, 1, 1, 1, 1, 0, 1, 1, 0, 0, 0, 0, 0, 0, 0, 0, 0, 0, 1, 1, 1, 1, 1, 0, 0, 1, 1, 0, 0, 1, 1, 1, 0, 1, 1, 0, 0, 1, 0, 1, 1, 1, 1, 1, 0, 1, 1, 0, 1, 1, 0, 0, 1, 1, 0, 1, 0, 0, 0, 1, 0, 1, 1, 0, 1, 0, 1, 1, 0, 0, 1, 0, 0, 1, 1, 0, 0, 1, 0, 0, 0, 0, 0, 1, 1, 1, 0, 0, 1, 1, 0, 1, 1, 1, 0, 0, 0, 0, 0, 0, 1, 1, 1, 1, 1, 1, 0, 0, 1, 1, 0, 0, 0, 0, 1, 0, 1, 0, 0, 1, 1, 0, 0, 1, 1, 0, 1, 0, 0, 1, 0, 0, 1, 0, 1, 1, 0, 0, 1, 0, 1, 0, 0, 1, 0, 1, 1, 1, 0, 0, 1, 1, 0, 0, 0, 0, 1, 0, 0, 1, 1, 0, 0, 1, 0, 0, 0, 1, 0, 0, 1, 0, 0, 1, 0, 0, 0, 1, 1, 1, 1, 0, 0, 0, 1, 0, 0, 1, 0, 0, 0, 1, 0, 1, 1, 0, 0, 1, 1, 0, 0, 1, 0, 1, 1, 1, 0, 1, 1, 1, 1, 0, 1, 1, 1, 1, 0, 1, 1, 1]\n"
     ]
    }
   ],
   "source": [
    "from keras.preprocessing.sequence import skipgrams\n",
    "\n",
    "# generate skip-grams\n",
    "skip_grams = [skipgrams(wid, vocabulary_size=vocab_size, window_size=10) for wid in wids]\n",
    "print('pair_index: \\n', skip_grams[0][0])\n",
    "print('labels: \\n', skip_grams[0][1])"
   ]
  },
  {
   "cell_type": "code",
   "execution_count": 43,
   "metadata": {},
   "outputs": [
    {
     "name": "stdout",
     "output_type": "stream",
     "text": [
      "(unit (21), consider (18)) -> 1\n",
      "(on (20), of (8)) -> 1\n",
      "(consider (18), we (17)) -> 1\n",
      "(firstly (19), the (1)) -> 1\n",
      "(we (17), consider (18)) -> 1\n",
      "(ball (22), consider (18)) -> 0\n",
      "(generality (16), on (20)) -> 1\n",
      "(loss (15), of (8)) -> 1\n",
      "(on (20), documents (60)) -> 0\n",
      "(consider (18), loss (15)) -> 0\n"
     ]
    }
   ],
   "source": [
    "# view sample skip-grams\n",
    "pairs, labels = skip_grams[0][0], skip_grams[0][1]\n",
    "for i in range(10):\n",
    "    print(\"({:s} ({:d}), {:s} ({:d})) -> {:d}\".format(\n",
    "          id_word[pairs[i][0]], pairs[i][0], \n",
    "          id_word[pairs[i][1]], pairs[i][1], \n",
    "          labels[i]))"
   ]
  },
  {
   "cell_type": "markdown",
   "metadata": {},
   "source": [
    "    Thus you can see we have successfully generated our required skip-grams and based on the sample skip-grams in the preceding output, you can clearly see what is relevant and what is irrelevant based on the label (0 or 1).\n",
    "    \n",
    "### Summarization\n",
    "\n",
    "|                    |                                  |                                                                          ------------------- CBOW model -------------                                                                          |                                             skip gram model                                             |\n",
    "|:------------------:|:--------------------------------:|:----------------------------------------------------------------------------------------------------------------------------------------------------------------------------------------------:|:-------------------------------------------------------------------------------------------------------:|\n",
    "|     Input layer    |                                  |                                                                                      1 or multi contexts                                                                                       |                                                1 context                                                |\n",
    "|    Hidden layer    |                                  |                                                                 $\\textbf{h} = C^{-1} \\sum_{i=1}^C \\textbf{v}_{\\textbf{w}_i}^T$                                                                 |                                $\\textbf{h} = \\textbf{v}_{\\textbf{w}_I}^T$                               |\n",
    "|    Output layer    |                                  |                                                                             $y_j = \\dfrac{e^{u_j}}{\\sum e^{u_k} }$                                                                             |                              $y_j = \\dfrac{e^{u_{c,j}}}{\\sum_k e^{u_{k}} }$                             |\n",
    "|                    |                                  |                                                                        where $u_k = \\textbf{v}'_{\\text{w}_j} \\textbf{h}$                                                                       |                       where $u_{c,j} = u_j = \\textbf{v}'_{\\text{w}_j} \\textbf{h}$                       |\n",
    "|                    |                                  |                                                                                                                                                                                                | with $\\text{w}_j$ is the word $j^{th}$ of vocab $\\text{w}_j$-the column of the (hidden --> output) $W'$ |\n",
    "|    Loss function   |                                  |                                      $E = -\\textbf{v}_{\\textbf{w}_\\text{O}} \\textbf{h} - \\log \\sum_{k=1}^V \\exp \\left( \\textbf{w}_k^T \\textbf{h} \\right) $                                     |         $E:= -\\sum_{c=1}^C u_{j_c^{*}} + C \\log \\sum_{k=1}^V \\exp \\left( \\textbf{u}_k \\right) $         |\n",
    "| Update  using  SGD |  matrix weights  of input-hidden | $\\textbf{v}_{\\textbf{w}_{\\text{Input, c}}}^{\\text{(new)}'} = \\textbf{v}_{\\textbf{w}_{\\text{Input, c}}}^{\\text{(old)}'} - \\eta C^{-1}\\sum_{i=1}^{V}\\left(y_{j}-t_{j}\\right)\\text{w}'_{ij}x_{k}$ |                                                                                                         |\n",
    "|                    |  matrix weights of hidden-output |                       $\\textbf{v}'_{\\textbf{w}_{j\\left(\\text{new}\\right)}} = \\textbf{v}'_{\\textbf{w}_{j\\left(\\text{old}\\right)}}-\\eta\\left(y_{j}-t_{j}\\right)\\textbf{h}.$                      |                                                                                                         |\n",
    "|                    |                                  |                                                                                                                                                                                                |                                                                                                         |\n",
    "\n",
    "Both have their own advantages and disadvantages. \n",
    "\n",
    "- According to Mikolov, `Skip Gram` works well with `small amount of data` and is found to `represent rare words` well.\n",
    "\n",
    "- On the other hand, `CBOW` is `faster and has better representations for more frequent words`."
   ]
  },
  {
   "cell_type": "code",
   "execution_count": 44,
   "metadata": {},
   "outputs": [
    {
     "data": {
      "image/png": "[encoded data removed]",
      "text/plain": [
       "<IPython.core.display.Image object>"
      ]
     },
     "metadata": {
      "image/png": {
       "unconfined": true,
       "width": 650
      }
     },
     "output_type": "display_data"
    }
   ],
   "source": [
    "display(Image(r\"C:\\Users\\Admin\\Desktop\\Nhan_pro\\Data\\word2vec.png\", width=650, unconfined=True))"
   ]
  },
  {
   "cell_type": "markdown",
   "metadata": {},
   "source": [
    "## 3. `Word2Vec` & `GloVe`\n",
    "\n",
    "Now, we study directly the supported libraries and packages of them.\n",
    "\n",
    "### 3.1 Word Embedding with `Word2Vec`\n",
    "\n",
    "`word2vec` is an `unsupervised` method based on the idea that `similar words` have `similar neighbors`. There are 2 main approaches for training `word2vec` models : `CBOW (continuous bag of words)` and `Skip-Grams`. \n",
    "\n",
    "In both cases, we consider a fixed `size word window` which you slide across the text. \n",
    "- In case of `CBOW`, the model is trained to *predict the current words given its neighbors in the window*, and \n",
    "- In `skip-gram`, the model predicts the *surrounding words in the window given the current word*.\n",
    "\n",
    "----------------------------------------\n",
    "\n",
    "The words are `input` to the model as `1-hot encoded vectors`, where the size of the vector is the size of the vocabulary. WE can control the size of the vocabulary by setting a minimum frequency, considering only top N words by frequency, etc. \n",
    "\n",
    "Output is a fixed size dense vector, where the size is the embedding size you select for your model. The model itself is a fully connected network, with one or more hidden layers. \n",
    "\n",
    "Once your model reaches the desired level of accuracy, you remove the final layer and run your sparse word vectors through the truncated network to get your embeddings.\n",
    "\n",
    "Using `gensim.model`, now we can work conveniently with `Word2Vec`.\n",
    "\n",
    "https://radimrehurek.com/gensim/models/word2vec.html"
   ]
  },
  {
   "cell_type": "markdown",
   "metadata": {},
   "source": [
    "**Using `cosine-similarity` to evaluate the similar of a pair of word** This metric isn’t semantic distance; but tends to place two words close to each other if they occur in similar contexts; and defined by\n",
    "\n",
    "$$ \\cos \\left( A, B \\right) = \\dfrac{A \\circ B}{\\Vert A \\Vert_2 \\Vert B \\Vert_2} $$\n",
    "\n",
    "- If two words are very close to synonymous, we will expect them to show up in similar contexts, and indeed synonymous words tend to be close.\n",
    "- It’s positive when the words are close to each other, negative when the words are far.  For two completely random words, the similarity is pretty close to 0.\n",
    "\n",
    "In python; we press `model.wv.similarity(\"word_A\", \"word_B\")`\n",
    "\n",
    "Firstly, loading dataset "
   ]
  },
  {
   "cell_type": "code",
   "execution_count": 45,
   "metadata": {},
   "outputs": [
    {
     "name": "stderr",
     "output_type": "stream",
     "text": [
      "unable to import 'smart_open.gcs', disabling that module\n"
     ]
    },
    {
     "name": "stdout",
     "output_type": "stream",
     "text": [
      "The first line of data: \n",
      " ['alice', \"'s\", 'adventures', 'in', 'wonderland', 'alice', \"'s\", 'adventures', 'in', 'wonderland', 'lewis', 'carroll', 'the', 'millennium', 'fulcrum', 'edition', '3.0', 'chapter', 'i', 'down', 'the', 'rabbit-hole', 'alice', 'was', 'beginning', 'to', 'get', 'very', 'tired', 'of', 'sitting', 'by', 'her', 'sister', 'on', 'the', 'bank', ',', 'and', 'of', 'having', 'nothing', 'to', 'do', ':', 'once', 'or', 'twice', 'she', 'had', 'peeped', 'into', 'the', 'book', 'her', 'sister', 'was', 'reading', ',', 'but', 'it', 'had', 'no', 'pictures', 'or', 'conversations', 'in', 'it', ',', '`', 'and', 'what', 'is', 'the', 'use', 'of', 'a', 'book', ',', \"'\", 'thought', 'alice', '`', 'without', 'pictures', 'or', 'conversation', '?', \"'\"]\n"
     ]
    }
   ],
   "source": [
    "import gensim \n",
    "from gensim.models import Word2Vec\n",
    "from gensim.models.phrases import Phrases, Phraser\n",
    "from nltk.tokenize import sent_tokenize, word_tokenize \n",
    "\n",
    "sample = open(r\"C:\\Users\\Admin\\Desktop\\Nhan_pro\\Data\\ML\\alice.txt\", \"r\")\n",
    "s = sample.read() \n",
    "  \n",
    "# Replaces escape character with space \n",
    "f = s.replace(\"\\n\", \" \") \n",
    "  \n",
    "data = [] \n",
    "  \n",
    "# iterate through each sentence in the file \n",
    "for i in sent_tokenize(f): \n",
    "    temp = [] \n",
    "      \n",
    "    # tokenize the sentence into words \n",
    "    for j in word_tokenize(i): \n",
    "        temp.append(j.lower()) \n",
    "  \n",
    "    data.append(temp) \n",
    "\n",
    "print('The first line of data: \\n', data[0])    "
   ]
  },
  {
   "cell_type": "markdown",
   "metadata": {},
   "source": [
    "`Create CBOW model without load the pre-trained` \n",
    "\n",
    "                Word2Vec(sentences, min_count=10, size = 100, window = 5, sg = 1) \n",
    "\n",
    "Noting that :\n",
    "- **`min_count`** Ignores all words with total frequency lower than this; its reasonable value is between `0-100` (default = 5), ***depending on the size of your dataset***.\n",
    "- **`size = 100`** is size of the `NN layers`, which correspond to the `“degrees” of freedom` the training algorithm has. A bigger size values require more training data, but can lead to better (more accurate) models. Reasonable values are in the tens to hundreds.\n",
    "- **`window = 5`**: size of `context_window` or the maximum distance between the `current` and `predicted` word `within a sentence`\n",
    "- **`sg = {0, 1}`** Training algorithm: `1 for skip-gram`; `otherwise CBOW`."
   ]
  },
  {
   "cell_type": "code",
   "execution_count": 46,
   "metadata": {},
   "outputs": [
    {
     "name": "stdout",
     "output_type": "stream",
     "text": [
      "Cosine similarity between 'alice' and 'wonderland' - CBOW :  0.99826735\n",
      "Cosine similarity between 'alice' and 'machines' - CBOW :  0.9911171\n",
      "Cosine similarity between 'alice' and 'wonderland' - Skip Gram :  0.91983867\n",
      "Cosine similarity between 'alice' and 'machines' - Skip Gram :  0.91821283\n"
     ]
    }
   ],
   "source": [
    "model1 = Word2Vec(data, min_count = 1, size = 100, window = 10) \n",
    "  \n",
    "model2 = Word2Vec(data, min_count = 1, size = 100, window = 10, sg = 1) \n",
    "\n",
    "## display\n",
    "print(\"Cosine similarity between 'alice' \" + \"and 'wonderland' - CBOW : \", model1.wv.similarity('alice', 'wonderland')) \n",
    "      \n",
    "print(\"Cosine similarity between 'alice' \" + \"and 'machines' - CBOW : \",  model1.wv.similarity('alice', 'machines')) \n",
    "  \n",
    "print(\"Cosine similarity between 'alice' \" + \"and 'wonderland' - Skip Gram : \", model2.wv.similarity('alice', 'wonderland')) \n",
    "      \n",
    "print(\"Cosine similarity between 'alice' \" + \"and 'machines' - Skip Gram : \", model2.wv.similarity('alice', 'machines'))"
   ]
  },
  {
   "cell_type": "markdown",
   "metadata": {},
   "source": [
    "**The most similar words**"
   ]
  },
  {
   "cell_type": "code",
   "execution_count": 47,
   "metadata": {},
   "outputs": [
    {
     "data": {
      "text/plain": [
       "[('came', 0.999174177646637),\n",
       " ('rather', 0.9991662502288818),\n",
       " ('moment', 0.9991574287414551),\n",
       " ('again', 0.9991551041603088),\n",
       " ('in', 0.9991456270217896),\n",
       " ('were', 0.9991435408592224),\n",
       " ('now', 0.9991378784179688),\n",
       " ('their', 0.9991366863250732),\n",
       " ('head', 0.9991320371627808),\n",
       " ('them', 0.9991269111633301)]"
      ]
     },
     "execution_count": 47,
     "metadata": {},
     "output_type": "execute_result"
    }
   ],
   "source": [
    "model1.wv.most_similar('deep')"
   ]
  },
  {
   "cell_type": "code",
   "execution_count": 48,
   "metadata": {},
   "outputs": [
    {
     "data": {
      "text/plain": [
       "2625"
      ]
     },
     "execution_count": 48,
     "metadata": {},
     "output_type": "execute_result"
    }
   ],
   "source": [
    "len(list(model1.wv.vocab))"
   ]
  },
  {
   "cell_type": "markdown",
   "metadata": {},
   "source": [
    "We can see that `cosine similarity` is not sementic distance. In this model's dataset, the words `deep` and `away` are understood as a `synonym`; since both words are likely to occur in contexts where we’re talking about `distance`. \n",
    "\n",
    "Because this model only contained 2625 vocabularies, hence the result isn't what we expected.\n",
    "\n",
    "Now, we try to Load **`Google’s Word2Vec Embedding`**\n",
    "\n",
    "Training your own word vectors may be the best approach for a given NLP problem.\n",
    "\n",
    "But it can take a long time, a fast computer with a lot of RAM and disk space, and perhaps some expertise in finessing the input data and training algorithm.\n",
    "\n",
    "An alternative is to simply use an existing pre-trained word embedding.\n",
    "\n",
    "Along with the paper and code for word2vec, Google also published a pre-trained word2vec model on the Word2Vec Google Code Project.\n",
    "\n",
    "A pre-trained model is nothing more than a file containing tokens and their associated word vectors. The pre-trained Google word2vec model was trained on Google news data (about 100 billion words); it contains 3 million words and phrases and was fit using 300-dimensional word vectors.\n",
    "\n",
    "The `Gensim library` provides tools to load this file. Specifically, you can call the `KeyedVectors.load_word2vec_format()` function to load this model into memory."
   ]
  },
  {
   "cell_type": "code",
   "execution_count": 49,
   "metadata": {},
   "outputs": [],
   "source": [
    "from gensim.models import KeyedVectors\n",
    "filename = r\"D:\\Nhan\\GoogleNews-vectors-negative300.bin\\GoogleNews-vectors-negative300.bin\"\n",
    "model = KeyedVectors.load_word2vec_format(filename, binary=True)"
   ]
  },
  {
   "cell_type": "code",
   "execution_count": 50,
   "metadata": {},
   "outputs": [
    {
     "data": {
      "text/plain": [
       "[('deeper', 0.6928303241729736),\n",
       " ('deepest', 0.6820540428161621),\n",
       " ('depths', 0.5342872142791748),\n",
       " ('shallow', 0.527501106262207),\n",
       " ('gravelly_voice_fills', 0.5268532633781433),\n",
       " ('Deep', 0.5056449174880981),\n",
       " ('depth', 0.4998552203178406),\n",
       " ('deepening', 0.4924544095993042),\n",
       " ('Deeper', 0.49067163467407227),\n",
       " ('water_newbuilding_drillships', 0.48911160230636597)]"
      ]
     },
     "execution_count": 50,
     "metadata": {},
     "output_type": "execute_result"
    }
   ],
   "source": [
    "model.most_similar('deep')"
   ]
  },
  {
   "cell_type": "markdown",
   "metadata": {},
   "source": [
    "Another interesting thing that you can do is do a little linear algebra arithmetic with words.\n",
    "\n",
    "For example, a popular example described in lectures and introduction papers `queen = (king - man) + woman`. That is the word queen is the closest word given the subtraction of the notion of man from king and adding the word woman. \n",
    "\n",
    "The `“man-ness”` in king is replaced with `“woman-ness”` to give us `queen`. A very cool concept.\n",
    "\n",
    "`Gensim` provides an interface for performing these types of operations in the `most_similar()` function on the trained or loaded model."
   ]
  },
  {
   "cell_type": "code",
   "execution_count": 51,
   "metadata": {},
   "outputs": [
    {
     "name": "stdout",
     "output_type": "stream",
     "text": [
      "[('queen', 0.7118192911148071)]\n"
     ]
    }
   ],
   "source": [
    "result = model.most_similar(positive=['woman', 'king'], negative=['man'], topn=1)\n",
    "print(result)"
   ]
  },
  {
   "cell_type": "markdown",
   "metadata": {},
   "source": [
    "This meant calculating the `(king – man) + woman = ?` operation on the word vectors for those words then the answer, as we would expect, `is queen` with a `cosine_similarity_distance` is about `0.712`."
   ]
  },
  {
   "cell_type": "markdown",
   "metadata": {},
   "source": [
    "**Using `get_tmpfile` to initialize a model by load another pre-trained model**"
   ]
  },
  {
   "cell_type": "code",
   "execution_count": 52,
   "metadata": {},
   "outputs": [
    {
     "data": {
      "text/plain": [
       "<gensim.models.word2vec.Word2Vec at 0x290f0b2bb88>"
      ]
     },
     "execution_count": 52,
     "metadata": {},
     "output_type": "execute_result"
    }
   ],
   "source": [
    "from gensim.test.utils import common_texts, get_tmpfile\n",
    "path = get_tmpfile(\"word2vec.model\")\n",
    "\n",
    "## The training is streamed, meaning sentences can be a generator, reading input data from disk on-the-fly, \n",
    "## without loading the entire corpus into RAM.\n",
    "model = Word2Vec(common_texts, size=100, window=5, min_count=1, workers=4)\n",
    "model"
   ]
  },
  {
   "cell_type": "markdown",
   "metadata": {},
   "source": [
    "`saving; loading and training with a word_vector of a list of list 3 words: \"hello\", \"world\", \"Python\"` and `\"married\", \"love\", \"wedding\"`\n",
    "\n",
    "**Describe params.** \n",
    "                    \n",
    "     Word2Vec.train(sentences, total_examples, total_words, epochs, start_alpha, end_alpha, word_count, report_delay)\n",
    "     \n",
    "where:\n",
    "- **`total_examples`**: `count of sentences`; while `total_words` be the `count of raw words in sentences`.\n",
    "- **`epochs`** Number of iterations (epochs) over the corpus.\n",
    "- **`start_alpha`** Initial learning rate. If supplied, replaces the starting `alpha` from the constructor, for this one call to `train()`. Use only if making multiple calls to `train()`, when you want to manage the alpha learning-rate yourself **`(not recommended)`**.\n",
    "- **`end_alpha`** : Final learning rate. Drops linearly from `start_alpha`. If supplied, this replaces the final `min_alpha` from the constructor, for this one call to `train()`. Use only if making multiple calls to `train()`, when you want to manage the alpha learning-rate yourself **`(not recommended)`**.\n",
    "- **`word_count`**: Count of words already trained. Set this to 0 for the usual case of training on all words in sentences.\n",
    "- **`report_delay`**: Seconds to wait before reporting progress"
   ]
  },
  {
   "cell_type": "code",
   "execution_count": 53,
   "metadata": {},
   "outputs": [
    {
     "data": {
      "text/plain": [
       "(0, 6)"
      ]
     },
     "execution_count": 53,
     "metadata": {},
     "output_type": "execute_result"
    }
   ],
   "source": [
    "model.save(\"word2vec.model\")\n",
    "\n",
    "sentences = [[\"hello\", \"world\", \"python\"], [\"married\", \"love\", \"wedding\"]]\n",
    "\n",
    "## load\n",
    "model = Word2Vec.load(\"word2vec.model\")\n",
    "model.train(sentences, total_examples=1, epochs=1)"
   ]
  },
  {
   "cell_type": "markdown",
   "metadata": {},
   "source": [
    "the second values in the output is proportional to the `epochs` values"
   ]
  },
  {
   "cell_type": "code",
   "execution_count": 54,
   "metadata": {},
   "outputs": [
    {
     "data": {
      "text/plain": [
       "(0, 54)"
      ]
     },
     "execution_count": 54,
     "metadata": {},
     "output_type": "execute_result"
    }
   ],
   "source": [
    "model.train(sentences, total_examples=1, epochs=9)"
   ]
  },
  {
   "cell_type": "markdown",
   "metadata": {},
   "source": [
    "However, if we initialize a `non pre-trainned` model, then change `total_examples = new_model.corpus_count` and `epochs = new_model.epochs`; we receive the"
   ]
  },
  {
   "cell_type": "code",
   "execution_count": 55,
   "metadata": {},
   "outputs": [
    {
     "data": {
      "text/plain": [
       "(0, 54)"
      ]
     },
     "execution_count": 55,
     "metadata": {},
     "output_type": "execute_result"
    }
   ],
   "source": [
    "model.train(sentences, total_examples = model.corpus_count, epochs = model.epochs)  # train word vectors"
   ]
  },
  {
   "cell_type": "markdown",
   "metadata": {},
   "source": [
    "The trained word vectors are stored in a `KeyedVectors` instance in `model.wv`:"
   ]
  },
  {
   "cell_type": "code",
   "execution_count": 56,
   "metadata": {},
   "outputs": [
    {
     "name": "stdout",
     "output_type": "stream",
     "text": [
      "word-vector : [ 4.6374695e-03  3.8004338e-03  3.9516883e-03  3.0571078e-03\n",
      "  3.0187371e-03  1.3688032e-03  8.2205472e-05 -1.7625822e-03\n",
      " -1.0712222e-03  5.6733604e-04  2.3015589e-03 -1.9375277e-03\n",
      "  1.9433218e-03 -1.6468958e-03  1.2422104e-03  3.8283681e-03\n",
      "  1.2573547e-04 -3.6531506e-04 -2.9098275e-03 -4.4494984e-03\n",
      "  2.1532997e-03  3.9021450e-04 -3.5824541e-03 -4.9733664e-03\n",
      "  2.7548305e-03 -1.6873782e-03  4.8454395e-03  4.9152020e-03\n",
      "  1.1316553e-03  5.7840900e-04 -4.4945152e-03 -1.2906215e-03\n",
      "  1.0511394e-03  4.5608459e-03  1.7331257e-03  2.1293822e-03\n",
      " -4.0510092e-03  1.8281363e-03  4.9793157e-03 -2.5910109e-03\n",
      "  2.5926996e-03 -1.4593911e-03 -2.0880715e-03 -1.2196095e-03\n",
      " -1.5261088e-03  1.0013124e-03 -4.1133119e-03 -4.4411663e-03\n",
      " -4.8677982e-03 -3.8316811e-03 -2.4052897e-05  1.1891911e-03\n",
      " -7.1668159e-04  2.2617027e-03  4.6161106e-03 -3.0584345e-04\n",
      " -2.5558150e-03  2.8921210e-03 -4.8195859e-04 -3.8402143e-03\n",
      " -1.1130279e-03 -3.6406587e-03  6.4178283e-04 -3.2462596e-03\n",
      "  4.3629166e-03  1.3764610e-03 -2.8997925e-04 -3.7474735e-03\n",
      " -7.1318547e-04  2.4673913e-03 -3.0780970e-03 -1.1469595e-03\n",
      "  1.4764089e-03  3.6219526e-03 -4.0473277e-03 -2.0424458e-03\n",
      " -1.6258698e-03  4.4090785e-03 -2.5366754e-03  4.8867147e-03\n",
      " -1.2381939e-04  4.4754037e-04  4.3849307e-03 -1.4291605e-03\n",
      "  8.2998717e-04 -1.9130728e-03  2.7863979e-03 -2.9735561e-04\n",
      "  4.3135965e-03  3.2801786e-03 -5.3675274e-05 -4.9534868e-03\n",
      " -2.2424869e-03 -1.0122766e-04  3.8569793e-03 -1.1093114e-03\n",
      "  4.2766505e-03 -6.1977078e-04 -2.8415329e-03  2.8374507e-03]\n",
      "shape : (100,)\n"
     ]
    }
   ],
   "source": [
    "vector = model.wv['computer']  # numpy vector of a word\n",
    "print('word-vector :', vector)\n",
    "print('shape :', vector.shape)"
   ]
  },
  {
   "cell_type": "markdown",
   "metadata": {},
   "source": [
    "The reason for separating the trained vectors into `KeyedVectors` is that if you don’t need the full model state any more (don’t need to continue training), the state can discarded, resulting in a much smaller and faster object that can be mmapped for lightning fast loading and sharing the vectors in RAM between processes:"
   ]
  },
  {
   "cell_type": "code",
   "execution_count": 57,
   "metadata": {},
   "outputs": [
    {
     "name": "stdout",
     "output_type": "stream",
     "text": [
      "word-vector : [ 4.6374695e-03  3.8004338e-03  3.9516883e-03  3.0571078e-03\n",
      "  3.0187371e-03  1.3688032e-03  8.2205472e-05 -1.7625822e-03\n",
      " -1.0712222e-03  5.6733604e-04  2.3015589e-03 -1.9375277e-03\n",
      "  1.9433218e-03 -1.6468958e-03  1.2422104e-03  3.8283681e-03\n",
      "  1.2573547e-04 -3.6531506e-04 -2.9098275e-03 -4.4494984e-03\n",
      "  2.1532997e-03  3.9021450e-04 -3.5824541e-03 -4.9733664e-03\n",
      "  2.7548305e-03 -1.6873782e-03  4.8454395e-03  4.9152020e-03\n",
      "  1.1316553e-03  5.7840900e-04 -4.4945152e-03 -1.2906215e-03\n",
      "  1.0511394e-03  4.5608459e-03  1.7331257e-03  2.1293822e-03\n",
      " -4.0510092e-03  1.8281363e-03  4.9793157e-03 -2.5910109e-03\n",
      "  2.5926996e-03 -1.4593911e-03 -2.0880715e-03 -1.2196095e-03\n",
      " -1.5261088e-03  1.0013124e-03 -4.1133119e-03 -4.4411663e-03\n",
      " -4.8677982e-03 -3.8316811e-03 -2.4052897e-05  1.1891911e-03\n",
      " -7.1668159e-04  2.2617027e-03  4.6161106e-03 -3.0584345e-04\n",
      " -2.5558150e-03  2.8921210e-03 -4.8195859e-04 -3.8402143e-03\n",
      " -1.1130279e-03 -3.6406587e-03  6.4178283e-04 -3.2462596e-03\n",
      "  4.3629166e-03  1.3764610e-03 -2.8997925e-04 -3.7474735e-03\n",
      " -7.1318547e-04  2.4673913e-03 -3.0780970e-03 -1.1469595e-03\n",
      "  1.4764089e-03  3.6219526e-03 -4.0473277e-03 -2.0424458e-03\n",
      " -1.6258698e-03  4.4090785e-03 -2.5366754e-03  4.8867147e-03\n",
      " -1.2381939e-04  4.4754037e-04  4.3849307e-03 -1.4291605e-03\n",
      "  8.2998717e-04 -1.9130728e-03  2.7863979e-03 -2.9735561e-04\n",
      "  4.3135965e-03  3.2801786e-03 -5.3675274e-05 -4.9534868e-03\n",
      " -2.2424869e-03 -1.0122766e-04  3.8569793e-03 -1.1093114e-03\n",
      "  4.2766505e-03 -6.1977078e-04 -2.8415329e-03  2.8374507e-03]\n",
      "shape : (100,)\n"
     ]
    }
   ],
   "source": [
    "path = get_tmpfile(\"wordvectors.kv\")\n",
    "model.wv.save(path)\n",
    "model.wv = KeyedVectors.load(path, mmap='r')\n",
    "vector = model.wv['computer']  # numpy vector of a word\n",
    "print('word-vector :', vector)\n",
    "print('shape :', vector.shape)"
   ]
  },
  {
   "cell_type": "markdown",
   "metadata": {},
   "source": [
    "Comeback the pre-trained model\n",
    "\n",
    "                    model = KeyedVectors.load_word2vec_format(filename, binary=True)\n",
    "\n",
    "if we don't want to use this; we can initialize then train the `text_data`\n",
    "\n",
    "                    model = Word2Vec(min_count = 20,\n",
    "                                         window = 2,\n",
    "                                         size = 300,\n",
    "                                         sample= 6e-5, \n",
    "                                         alpha = 0.03, \n",
    "                                         min_alpha = 0.0007, \n",
    "                                         negative = 20,\n",
    "                                         workers = 2)\n",
    "                    model.build_vocab(data, progress_per = 10000)\n",
    "                    model.train(data, total_examples = model.corpus_count, epochs=30, report_delay=1)"
   ]
  },
  {
   "cell_type": "code",
   "execution_count": 66,
   "metadata": {},
   "outputs": [],
   "source": [
    "model = KeyedVectors.load_word2vec_format(filename, binary=True)"
   ]
  },
  {
   "cell_type": "markdown",
   "metadata": {},
   "source": [
    "**Using `Word2Vec` to explore the `positive-similar` words of `\"the\"`**"
   ]
  },
  {
   "cell_type": "code",
   "execution_count": 59,
   "metadata": {},
   "outputs": [
    {
     "data": {
      "text/plain": [
       "[('this', 0.5937378406524658),\n",
       " ('in', 0.5429296493530273),\n",
       " ('that', 0.5262569785118103),\n",
       " ('ofthe', 0.515028178691864),\n",
       " ('another', 0.47483524680137634),\n",
       " ('however', 0.4748331904411316),\n",
       " ('one', 0.4665869474411011),\n",
       " ('entire', 0.46198248863220215),\n",
       " ('its', 0.460594117641449),\n",
       " ('which', 0.4595310688018799)]"
      ]
     },
     "execution_count": 59,
     "metadata": {},
     "output_type": "execute_result"
    }
   ],
   "source": [
    "model.init_sims(replace=True)\n",
    "model.most_similar(positive=[\"the\"])"
   ]
  },
  {
   "cell_type": "markdown",
   "metadata": {},
   "source": [
    "**Build a `scatterplot` of the similar word by using `t-SNE`**\n",
    "\n",
    "Reference `t-SNE`:\n",
    "https://scikit-learn.org/stable/modules/generated/sklearn.manifold.TSNE.html\n",
    "\n",
    "mygithub"
   ]
  },
  {
   "cell_type": "code",
   "execution_count": 67,
   "metadata": {},
   "outputs": [
    {
     "data": {
      "image/png": "[encoded data removed]",
      "text/plain": [
       "<Figure size 1008x648 with 1 Axes>"
      ]
     },
     "metadata": {
      "needs_background": "light"
     },
     "output_type": "display_data"
    }
   ],
   "source": [
    "import seaborn as sns\n",
    "import matplotlib.pyplot as plt\n",
    "from sklearn.manifold import TSNE\n",
    "from sklearn.decomposition import PCA\n",
    "\n",
    "def tsnescatterplot(model, word, list_names):\n",
    "    \"\"\" Plot in seaborn the results from the t-SNE dimensionality reduction algorithm of the vectors of a query word,\n",
    "    its list of most similar words, and a list of words.\n",
    "    \"\"\"\n",
    "    arrays = np.empty((0, 300), dtype='f')\n",
    "    word_labels = [word]\n",
    "    color_list  = ['red']\n",
    "\n",
    "    # adds the vector of the query word\n",
    "    arrays = np.append(arrays, model.__getitem__([word]), axis=0)\n",
    "    \n",
    "    # gets list of most similar words\n",
    "    close_words = model.most_similar([word])\n",
    "    \n",
    "    # adds the vector for each of the closest words to the array\n",
    "    for wrd_score in close_words:\n",
    "        wrd_vector = model.__getitem__([wrd_score[0]])    ## using either model.wv__getitem__ or model.__getitem__\n",
    "        word_labels.append(wrd_score[0])\n",
    "        color_list.append('blue')\n",
    "        arrays = np.append(arrays, wrd_vector, axis=0)\n",
    "    \n",
    "    # adds the vector for each of the words from list_names to the array\n",
    "    for wrd in list_names:\n",
    "        wrd_vector = model.__getitem__([wrd])\n",
    "        word_labels.append(wrd)\n",
    "        color_list.append('green')\n",
    "        arrays = np.append(arrays, wrd_vector, axis=0)\n",
    "        \n",
    "    # Reduces the dimensionality from 300 to 50 dimensions with PCA\n",
    "    reduc = PCA(n_components=10).fit_transform(arrays)\n",
    "    \n",
    "    # Finds t-SNE coordinates for 2 dimensions\n",
    "    np.set_printoptions(suppress=True)\n",
    "    \n",
    "    Y = TSNE(n_components=2, random_state=0, perplexity=15).fit_transform(reduc)\n",
    "    \n",
    "    # Sets everything up to plot\n",
    "    df = pd.DataFrame({'x': [x for x in Y[:, 0]],\n",
    "                       'y': [y for y in Y[:, 1]],\n",
    "                       'words': word_labels,\n",
    "                       'color': color_list})\n",
    "    \n",
    "    fig, _ = plt.subplots()\n",
    "    fig.set_size_inches(14, 9)\n",
    "    \n",
    "    # Basic plot\n",
    "    p1 = sns.regplot(data=df,\n",
    "                     x=\"x\",\n",
    "                     y=\"y\",\n",
    "                     fit_reg=False,\n",
    "                     marker=\"o\",\n",
    "                     scatter_kws={'s': 40,\n",
    "                                  'facecolors': df['color']\n",
    "                                 }\n",
    "                    )\n",
    "    \n",
    "    # Adds annotations one by one with a loop\n",
    "    for line in range(0, df.shape[0]):\n",
    "         p1.text(df[\"x\"][line],\n",
    "                 df['y'][line],\n",
    "                 '  ' + df[\"words\"][line].title(),\n",
    "                 horizontalalignment='left',\n",
    "                 verticalalignment='bottom', size='medium',\n",
    "                 color=df['color'][line],\n",
    "                 weight='normal'\n",
    "                ).set_size(15)\n",
    "\n",
    "    \n",
    "    plt.xlim(Y[:, 0].min()-50, Y[:, 0].max()+50)\n",
    "    plt.ylim(Y[:, 1].min()-50, Y[:, 1].max()+50)\n",
    "            \n",
    "    plt.title('t-SNE visualization for the word \"{}\"\"'.format(word.title()))\n",
    "    \n",
    "tsnescatterplot(model, 'the', ['king', 'queen', 'alice', 'go', 'away'])"
   ]
  },
  {
   "cell_type": "markdown",
   "metadata": {},
   "source": [
    "The Word to Vec model produces a vocabulary, with each word being represented by an n-dimensional numpy array (100 values in this example)"
   ]
  },
  {
   "cell_type": "code",
   "execution_count": 68,
   "metadata": {},
   "outputs": [
    {
     "data": {
      "image/png": "[encoded data removed]",
      "text/plain": [
       "<Figure size 1152x1152 with 1 Axes>"
      ]
     },
     "metadata": {
      "needs_background": "light"
     },
     "output_type": "display_data"
    }
   ],
   "source": [
    "# model = KeyedVectors.load_word2vec_format(filename, binary=True)\n",
    "new_model = Word2Vec(data, size=100, window=20, min_count=50, workers=4)\n",
    "\n",
    "def tsne_plot(model):\n",
    "    \"Creates and TSNE model and plots it\"\n",
    "    labels = []\n",
    "    tokens = []\n",
    "\n",
    "    for word in model.wv.vocab:\n",
    "        tokens.append(model.wv[word])\n",
    "        labels.append(word)\n",
    "    \n",
    "    tsne_model = TSNE(perplexity = 40, n_components = 2, init='pca', n_iter=2500, random_state=23)\n",
    "    new_values = tsne_model.fit_transform(tokens)\n",
    "\n",
    "    x = []\n",
    "    y = []\n",
    "    for value in new_values:\n",
    "        x.append(value[0])\n",
    "        y.append(value[1])\n",
    "        \n",
    "    plt.figure(figsize=(16, 16)) \n",
    "    for i in range(len(x)):\n",
    "        plt.scatter(x[i],y[i])\n",
    "        plt.annotate(labels[i],\n",
    "                     xy=(x[i], y[i]),\n",
    "                     xytext=(5, 2),\n",
    "                     textcoords='offset points',\n",
    "                     ha='right',\n",
    "                     va='bottom')\n",
    "    plt.show()\n",
    "\n",
    "tsne_plot(new_model)"
   ]
  },
  {
   "cell_type": "markdown",
   "metadata": {},
   "source": [
    "### 3.2. Glove Embedding\n",
    "\n",
    "After Tomas Mikolov et al. released the word2vec tool, there was a boom of articles about word vector representations. One of the best of these articles is `Stanford’s GloVe`: `Global Vectors for Word Representation`, which explained why such algorithms work and reformulated word2vec optimizations as a special kind of factoriazation for word `co-occurence matrices`.\n",
    "\n",
    "Ref: https://www.coursera.org/lecture/nlp-sequence-models/glove-word-vectors-IxDTG\n",
    "\n",
    "\n",
    "http://text2vec.org/glove.html"
   ]
  },
  {
   "cell_type": "code",
   "execution_count": null,
   "metadata": {},
   "outputs": [],
   "source": []
  },
  {
   "cell_type": "code",
   "execution_count": null,
   "metadata": {},
   "outputs": [],
   "source": []
  },
  {
   "cell_type": "code",
   "execution_count": null,
   "metadata": {},
   "outputs": [],
   "source": []
  },
  {
   "cell_type": "markdown",
   "metadata": {},
   "source": [
    "## 4. Using `Keras Embedding layers`\n",
    "\n",
    "https://stackoverflow.com/questions/42762849/keras-embedding-layers-how-do-they-work\n",
    "\n",
    "### 4.1. Something about `Keras Embedding layers`"
   ]
  },
  {
   "cell_type": "code",
   "execution_count": null,
   "metadata": {},
   "outputs": [],
   "source": []
  },
  {
   "cell_type": "code",
   "execution_count": null,
   "metadata": {},
   "outputs": [],
   "source": []
  },
  {
   "cell_type": "markdown",
   "metadata": {},
   "source": [
    "### 4.2 Using `TfidfVectorizer` in `keras`"
   ]
  },
  {
   "cell_type": "code",
   "execution_count": null,
   "metadata": {},
   "outputs": [],
   "source": []
  },
  {
   "cell_type": "code",
   "execution_count": null,
   "metadata": {},
   "outputs": [],
   "source": []
  },
  {
   "cell_type": "markdown",
   "metadata": {},
   "source": [
    "### 4.3. Using `onehot_encode` in `keras`"
   ]
  },
  {
   "cell_type": "code",
   "execution_count": null,
   "metadata": {},
   "outputs": [],
   "source": []
  },
  {
   "cell_type": "code",
   "execution_count": null,
   "metadata": {},
   "outputs": [],
   "source": []
  },
  {
   "cell_type": "markdown",
   "metadata": {},
   "source": [
    "### 4.4. Using `GloVe` in `keras`"
   ]
  },
  {
   "cell_type": "code",
   "execution_count": null,
   "metadata": {},
   "outputs": [],
   "source": []
  },
  {
   "cell_type": "code",
   "execution_count": null,
   "metadata": {},
   "outputs": [],
   "source": []
  },
  {
   "cell_type": "markdown",
   "metadata": {},
   "source": [
    "### 4.5. Using `word2vec` in `keras`"
   ]
  },
  {
   "cell_type": "code",
   "execution_count": 69,
   "metadata": {},
   "outputs": [
    {
     "name": "stdout",
     "output_type": "stream",
     "text": [
      "Word2Vec(vocab=14, size=100, alpha=0.025)\n",
      "['this', 'is', 'the', 'first', 'sentence', 'for', 'word2vec', 'second', 'yet', 'another', 'one', 'more', 'and', 'final']\n",
      "[-0.00015893  0.00287407 -0.00426507 -0.00423382 -0.00306007 -0.00222442\n",
      " -0.00303092 -0.00112493 -0.0032701  -0.00221968  0.00281707 -0.00496206\n",
      " -0.00191959  0.00446632 -0.00410913  0.00296664  0.0037364  -0.00449985\n",
      " -0.001058    0.00011125 -0.00255899  0.00314805 -0.00417091 -0.00420754\n",
      "  0.00106403 -0.00397521 -0.00137095 -0.00096702 -0.00453471 -0.00200761\n",
      "  0.00478932 -0.00114659  0.00128061 -0.00088818 -0.00148076  0.00129967\n",
      "  0.00159002  0.00115354  0.00365708  0.00339411 -0.00120659  0.00414635\n",
      " -0.00367501 -0.00374393  0.00396464 -0.00485322 -0.0033033   0.00000419\n",
      " -0.00014421 -0.00458221  0.00099943 -0.00183815 -0.00148023  0.00150522\n",
      "  0.00025621 -0.00350808  0.00475423  0.00197863  0.00256623 -0.00107192\n",
      " -0.00444032  0.00033437  0.00341899  0.00413578  0.00192679  0.00206821\n",
      " -0.00457029  0.00312194  0.00214492 -0.00352409  0.00082904 -0.00088288\n",
      "  0.00416367 -0.00322543  0.0003385   0.00057223  0.0036134  -0.00403994\n",
      "  0.00484406 -0.00250814  0.00013693  0.00205603  0.00460087 -0.00369403\n",
      " -0.00095505  0.00151538  0.00357507  0.00406995  0.00154616  0.0017817\n",
      " -0.00463973  0.00449207  0.00474048 -0.00277052  0.00408341 -0.0035452\n",
      "  0.00025889 -0.00323125 -0.00182725  0.00108998]\n",
      "Word2Vec(vocab=14, size=100, alpha=0.025)\n"
     ]
    }
   ],
   "source": [
    "sentences = [['this', 'is', 'the', 'first', 'sentence', 'for', 'word2vec'],\n",
    "             ['this', 'is', 'the', 'second', 'sentence'],\n",
    "            ['yet', 'another', 'sentence'],\n",
    "            ['one', 'more', 'sentence'],\n",
    "            ['and', 'the', 'final', 'sentence']]\n",
    "# train model\n",
    "model = Word2Vec(sentences, min_count=1)\n",
    "# summarize the loaded model\n",
    "print(model)\n",
    "# summarize vocabulary\n",
    "words = list(model.wv.vocab)\n",
    "print(words)\n",
    "# access vector for one word\n",
    "print(model.wv['sentence'])\n",
    "# save model\n",
    "model.save('model.bin')\n",
    "# load model\n",
    "new_model = Word2Vec.load('model.bin')\n",
    "print(new_model)"
   ]
  },
  {
   "cell_type": "code",
   "execution_count": null,
   "metadata": {},
   "outputs": [],
   "source": []
  },
  {
   "cell_type": "code",
   "execution_count": null,
   "metadata": {},
   "outputs": [],
   "source": []
  },
  {
   "cell_type": "code",
   "execution_count": null,
   "metadata": {},
   "outputs": [],
   "source": []
  },
  {
   "cell_type": "code",
   "execution_count": null,
   "metadata": {},
   "outputs": [],
   "source": []
  },
  {
   "cell_type": "markdown",
   "metadata": {},
   "source": [
    "#### References:\n",
    "\n",
    "1 https://machinelearningmastery.com/develop-word-embeddings-python-gensim/\n",
    "\n",
    "2 https://www.coursera.org/lecture/nlp-sequence-models/glove-word-vectors-IxDTG\n",
    "\n",
    "3 https://radimrehurek.com/gensim/models/word2vec.html"
   ]
  }
 ],
 "metadata": {
  "kernelspec": {
   "display_name": "Python 3",
   "language": "python",
   "name": "python3"
  },
  "language_info": {
   "codemirror_mode": {
    "name": "ipython",
    "version": 3
   },
   "file_extension": ".py",
   "mimetype": "text/x-python",
   "name": "python",
   "nbconvert_exporter": "python",
   "pygments_lexer": "ipython3",
   "version": "3.7.7"
  }
 },
 "nbformat": 4,
 "nbformat_minor": 4
}
