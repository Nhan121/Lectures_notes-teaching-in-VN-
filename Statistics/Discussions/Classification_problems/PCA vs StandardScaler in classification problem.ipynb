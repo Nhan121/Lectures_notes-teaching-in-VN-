{
 "cells": [
  {
   "cell_type": "markdown",
   "metadata": {},
   "source": [
    "In this file, we will discuss on **`Comparision of using PCA vs StandardScaler in classification problem`**!\n",
    "\n",
    "Moreover, I only focus on using `SVM` to evaluate the model!\n",
    "\n",
    "> Section A. using `iris_data` with 150 observations & 4 features only\n",
    ">\n",
    "> Section B. using `mnist_data` with over 60000 observations\n",
    "\n",
    "In each Section, we will consider 4 approaches:\n",
    ">> `Using StandarScaler() without PCA()`\n",
    ">\n",
    ">> `Using PCA() without StandarScaler()`\n",
    ">\n",
    ">> `Using StandarScaler() then PCA()`\n",
    ">\n",
    ">> `Using PCA() then StandarScaler()`"
   ]
  },
  {
   "cell_type": "code",
   "execution_count": 1,
   "metadata": {
    "_cell_guid": "b1076dfc-b9ad-4769-8c92-a6c4dae69d19",
    "_uuid": "8f2839f25d086af736a60e9eeb907d3b93b6e0e5"
   },
   "outputs": [],
   "source": [
    "import numpy as np \n",
    "import pandas as pd \n",
    "import seaborn as sns\n",
    "import matplotlib.pyplot as plt\n",
    "from sklearn.preprocessing import StandardScaler"
   ]
  },
  {
   "cell_type": "markdown",
   "metadata": {},
   "source": [
    "## A. With iris_data"
   ]
  },
  {
   "cell_type": "code",
   "execution_count": 2,
   "metadata": {},
   "outputs": [
    {
     "name": "stdout",
     "output_type": "stream",
     "text": [
      "column_names in this dataset Index(['sepal_length', 'sepal_width', 'petal_length', 'petal_width',\n",
      "       'species'],\n",
      "      dtype='object')\n",
      "unique_values in species : ['setosa' 'versicolor' 'virginica']\n"
     ]
    }
   ],
   "source": [
    "iris = sns.load_dataset(\"iris\")\n",
    "print('column_names in this dataset', iris.columns)\n",
    "y = iris['species']\n",
    "print('unique_values in species :', y.unique())"
   ]
  },
  {
   "cell_type": "markdown",
   "metadata": {},
   "source": [
    "Now, assign the values in the label `species` to {0, 1, 2} then look at these following boxplot"
   ]
  },
  {
   "cell_type": "code",
   "execution_count": 3,
   "metadata": {},
   "outputs": [
    {
     "name": "stdout",
     "output_type": "stream",
     "text": [
      "shape of data (features): (150, 4)\n",
      "Label_unique_values after replacing:  [0 1 2]\n"
     ]
    },
    {
     "data": {
      "image/png": "[encoded data removed]",
      "text/plain": [
       "<Figure size 1440x864 with 4 Axes>"
      ]
     },
     "metadata": {
      "needs_background": "light"
     },
     "output_type": "display_data"
    }
   ],
   "source": [
    "y = iris['species'].replace({'setosa': 0, 'versicolor': 1, 'virginica': 2})\n",
    "X = iris.iloc[:, :-1]\n",
    "\n",
    "print('shape of data (features):', X.shape)\n",
    "\n",
    "print('Label_unique_values after replacing: ', y.unique())\n",
    "plt.figure(figsize = (20, 12))\n",
    "for k in range(4):\n",
    "    plt.subplot(2, 2, k+1)\n",
    "    sns.boxplot(x = iris.columns[k], y = 'species', data = iris)"
   ]
  },
  {
   "cell_type": "markdown",
   "metadata": {},
   "source": [
    "### A.1. Using StandardScaler vs SVM only (without using PCA)"
   ]
  },
  {
   "cell_type": "code",
   "execution_count": 4,
   "metadata": {
    "_cell_guid": "79c7e3d0-c299-4dcb-8224-4455121ee9b0",
    "_uuid": "d629ff2d2480ee46fbb7e2d37f6b5fab8052498a"
   },
   "outputs": [],
   "source": [
    "ssc = StandardScaler()\n",
    "X_sc = ssc.fit_transform(X)"
   ]
  },
  {
   "cell_type": "code",
   "execution_count": 5,
   "metadata": {},
   "outputs": [],
   "source": [
    "from sklearn.model_selection import train_test_split\n",
    "\n",
    "X_train, X_test, y_train, y_test = train_test_split(X_sc, y, test_size = 0.33, stratify = y, random_state = 11)"
   ]
  },
  {
   "cell_type": "markdown",
   "metadata": {},
   "source": [
    "### using SVM to predict"
   ]
  },
  {
   "cell_type": "code",
   "execution_count": 6,
   "metadata": {},
   "outputs": [
    {
     "name": "stdout",
     "output_type": "stream",
     "text": [
      "Confusion matrix: \n",
      " [[16  0  0]\n",
      " [ 0 17  1]\n",
      " [ 0  0 16]]\n",
      "Train_acc = 0.97 \n",
      "Test_acc = 0.98\n",
      "Classification report: \n",
      "               precision    recall  f1-score   support\n",
      "\n",
      "           0       1.00      1.00      1.00        16\n",
      "           1       1.00      0.94      0.97        18\n",
      "           2       0.94      1.00      0.97        16\n",
      "\n",
      "    accuracy                           0.98        50\n",
      "   macro avg       0.98      0.98      0.98        50\n",
      "weighted avg       0.98      0.98      0.98        50\n",
      "\n"
     ]
    }
   ],
   "source": [
    "from sklearn.svm import SVC\n",
    "from sklearn.metrics import classification_report, confusion_matrix, accuracy_score\n",
    "\n",
    "clf = SVC()\n",
    "clf.fit(X_train, y_train)\n",
    "y_pred_train = clf.predict(X_train)\n",
    "y_pred_test = clf.predict(X_test)\n",
    "\n",
    "print('Confusion matrix: \\n', confusion_matrix(y_pred_test, y_test))\n",
    "\n",
    "print('Train_acc = %s \\nTest_acc = %s'%\n",
    "      (accuracy_score(y_pred_train, y_train), accuracy_score(y_pred_test, y_test)))\n",
    "\n",
    "print('Classification report: \\n', classification_report(y_pred_test, y_test))"
   ]
  },
  {
   "cell_type": "markdown",
   "metadata": {},
   "source": [
    "### A.2. Using PCA(0.99) and SVM only (without StandardScaler)"
   ]
  },
  {
   "cell_type": "code",
   "execution_count": 7,
   "metadata": {},
   "outputs": [
    {
     "data": {
      "text/plain": [
       "3"
      ]
     },
     "execution_count": 7,
     "metadata": {},
     "output_type": "execute_result"
    }
   ],
   "source": [
    "from sklearn.decomposition import PCA\n",
    "\n",
    "X_train, X_test, y_train, y_test = train_test_split(X, y, test_size = 0.33, stratify = y, random_state = 11)\n",
    "\n",
    "pca = PCA(0.99)\n",
    "pca.fit(X_train)\n",
    "pca.n_components_"
   ]
  },
  {
   "cell_type": "markdown",
   "metadata": {},
   "source": [
    "So, to keep at-least 99% information from the dataset we must use 3 components (PC's) in this dataset"
   ]
  },
  {
   "cell_type": "code",
   "execution_count": 8,
   "metadata": {},
   "outputs": [
    {
     "data": {
      "text/plain": [
       "((100, 3), (50, 3))"
      ]
     },
     "execution_count": 8,
     "metadata": {},
     "output_type": "execute_result"
    }
   ],
   "source": [
    "X_train_pca = pca.transform(X_train)\n",
    "X_test_pca = pca.transform(X_test)\n",
    "X_train_pca.shape, X_test_pca.shape"
   ]
  },
  {
   "cell_type": "code",
   "execution_count": 9,
   "metadata": {},
   "outputs": [
    {
     "name": "stdout",
     "output_type": "stream",
     "text": [
      "Confusion matrix: \n",
      " [[16  0  0]\n",
      " [ 0 17  2]\n",
      " [ 0  0 15]]\n",
      "Train_acc = 0.97 \n",
      "Test_acc = 0.96\n",
      "Classification report: \n",
      "               precision    recall  f1-score   support\n",
      "\n",
      "           0       1.00      1.00      1.00        16\n",
      "           1       1.00      0.89      0.94        19\n",
      "           2       0.88      1.00      0.94        15\n",
      "\n",
      "    accuracy                           0.96        50\n",
      "   macro avg       0.96      0.96      0.96        50\n",
      "weighted avg       0.96      0.96      0.96        50\n",
      "\n"
     ]
    }
   ],
   "source": [
    "clf = SVC()\n",
    "clf.fit(X_train_pca, y_train)\n",
    "y_pred_train = clf.predict(X_train_pca)\n",
    "y_pred_test = clf.predict(X_test_pca)\n",
    "\n",
    "print('Confusion matrix: \\n', confusion_matrix(y_pred_test, y_test))\n",
    "\n",
    "print('Train_acc = %s \\nTest_acc = %s'%\n",
    "      (accuracy_score(y_pred_train, y_train), accuracy_score(y_pred_test, y_test)))\n",
    "\n",
    "print('Classification report: \\n', classification_report(y_pred_test, y_test))"
   ]
  },
  {
   "cell_type": "markdown",
   "metadata": {},
   "source": [
    "The `iris_data` is not `big_data problem` so using `PCA` leads to reducing the `f1_score` and `accuracy`"
   ]
  },
  {
   "cell_type": "markdown",
   "metadata": {},
   "source": [
    "### A.3. Using StandardScaler then PCA before using SVM"
   ]
  },
  {
   "cell_type": "code",
   "execution_count": 10,
   "metadata": {},
   "outputs": [
    {
     "name": "stdout",
     "output_type": "stream",
     "text": [
      "Confusion matrix: \n",
      " [[16  0  0]\n",
      " [ 0 17  1]\n",
      " [ 0  0 16]]\n",
      "Train_acc = 0.97 \n",
      "Test_acc = 0.98\n",
      "Classification report: \n",
      "               precision    recall  f1-score   support\n",
      "\n",
      "           0       1.00      1.00      1.00        16\n",
      "           1       1.00      0.94      0.97        18\n",
      "           2       0.94      1.00      0.97        16\n",
      "\n",
      "    accuracy                           0.98        50\n",
      "   macro avg       0.98      0.98      0.98        50\n",
      "weighted avg       0.98      0.98      0.98        50\n",
      "\n"
     ]
    }
   ],
   "source": [
    "ssc = StandardScaler()\n",
    "X_sc = ssc.fit_transform(X)\n",
    "\n",
    "pca = PCA(0.99)\n",
    "pca.fit(X_sc)\n",
    "X_sc_pca = pca.transform(X_sc)\n",
    "X_train, X_test, y_train, y_test = train_test_split(X_sc_pca, y, test_size = 0.33, stratify = y, random_state = 11)\n",
    "\n",
    "clf = SVC()\n",
    "clf.fit(X_train, y_train)\n",
    "y_pred_train = clf.predict(X_train)\n",
    "y_pred_test = clf.predict(X_test)\n",
    "\n",
    "print('Confusion matrix: \\n', confusion_matrix(y_pred_test, y_test))\n",
    "\n",
    "print('Train_acc = %s \\nTest_acc = %s'%\n",
    "      (accuracy_score(y_pred_train, y_train), accuracy_score(y_pred_test, y_test)))\n",
    "\n",
    "print('Classification report: \\n', classification_report(y_pred_test, y_test))"
   ]
  },
  {
   "cell_type": "markdown",
   "metadata": {},
   "source": [
    "### A.4. Using PCA then StandardScaler before using SVM"
   ]
  },
  {
   "cell_type": "code",
   "execution_count": 11,
   "metadata": {},
   "outputs": [
    {
     "name": "stdout",
     "output_type": "stream",
     "text": [
      "Confusion matrix: \n",
      " [[16  0  0]\n",
      " [ 0 17  0]\n",
      " [ 0  0 17]]\n",
      "Train_acc = 0.95 \n",
      "Test_acc = 1.0\n",
      "Classification report: \n",
      "               precision    recall  f1-score   support\n",
      "\n",
      "           0       1.00      1.00      1.00        16\n",
      "           1       1.00      1.00      1.00        17\n",
      "           2       1.00      1.00      1.00        17\n",
      "\n",
      "    accuracy                           1.00        50\n",
      "   macro avg       1.00      1.00      1.00        50\n",
      "weighted avg       1.00      1.00      1.00        50\n",
      "\n"
     ]
    }
   ],
   "source": [
    "pca = PCA(0.99)\n",
    "pca.fit(X)\n",
    "X_pca = pca.transform(X)\n",
    "ssc = StandardScaler()\n",
    "X_pca_sc = ssc.fit_transform(X_pca)\n",
    "\n",
    "X_train, X_test, y_train, y_test = train_test_split(X_pca_sc, y, test_size = 0.33, stratify = y, random_state = 11)\n",
    "\n",
    "clf = SVC()\n",
    "clf.fit(X_train, y_train)\n",
    "y_pred_train = clf.predict(X_train)\n",
    "y_pred_test = clf.predict(X_test)\n",
    "\n",
    "print('Confusion matrix: \\n', confusion_matrix(y_pred_test, y_test))\n",
    "\n",
    "print('Train_acc = %s \\nTest_acc = %s'%\n",
    "      (accuracy_score(y_pred_train, y_train), accuracy_score(y_pred_test, y_test)))\n",
    "\n",
    "print('Classification report: \\n', classification_report(y_pred_test, y_test))"
   ]
  },
  {
   "cell_type": "markdown",
   "metadata": {},
   "source": [
    "### Compare X_pca_sc and X_sc_pca"
   ]
  },
  {
   "cell_type": "code",
   "execution_count": 12,
   "metadata": {},
   "outputs": [
    {
     "data": {
      "text/plain": [
       "(False, False)"
      ]
     },
     "execution_count": 12,
     "metadata": {},
     "output_type": "execute_result"
    }
   ],
   "source": [
    "(X_pca_sc == X_sc_pca).all(), (X_pca_sc == X_sc_pca).any()"
   ]
  },
  {
   "cell_type": "code",
   "execution_count": 13,
   "metadata": {},
   "outputs": [
    {
     "data": {
      "text/plain": [
       "False"
      ]
     },
     "execution_count": 13,
     "metadata": {},
     "output_type": "execute_result"
    }
   ],
   "source": [
    "np.array_equal(X_pca_sc, X_sc_pca)"
   ]
  },
  {
   "cell_type": "markdown",
   "metadata": {},
   "source": [
    "- So with the `non-big dataset` like `iris_data` in the `classification_problem`, using `PCA() & StandardScaler()` or only `StandardScaler()` give the nice `f1_score`.\n",
    "\n",
    "- But using `PCA()` in case the dataset has only 150 observations and 4 features will miss the importance_information (if we reduce the `numbers of PC's` to 1 or 2)!\n",
    "\n",
    "- Using `PCA()` in the `big_data` will be better since we can decrease a large number of `non_importance_informations` from the `original_data`!\n",
    "\n",
    "\n",
    "## B. With `mnist_data`"
   ]
  },
  {
   "cell_type": "code",
   "execution_count": 14,
   "metadata": {},
   "outputs": [
    {
     "name": "stdout",
     "output_type": "stream",
     "text": [
      "Wall time: 252 ms\n"
     ]
    }
   ],
   "source": [
    "import tensorflow as tf\n",
    "%time (x_train, y_train), (x_test, y_test) = tf.keras.datasets.mnist.load_data()"
   ]
  },
  {
   "cell_type": "markdown",
   "metadata": {},
   "source": [
    "### Display the target's information"
   ]
  },
  {
   "cell_type": "code",
   "execution_count": 15,
   "metadata": {},
   "outputs": [
    {
     "data": {
      "image/png": "[encoded data removed]",
      "text/plain": [
       "<Figure size 1728x720 with 10 Axes>"
      ]
     },
     "metadata": {
      "needs_background": "light"
     },
     "output_type": "display_data"
    }
   ],
   "source": [
    "import matplotlib.pyplot as plt\n",
    "\n",
    "label_dict = {\n",
    " 0: 'zero(0)',\n",
    " 1: 'One (1)',\n",
    " 2: 'Two (2)',\n",
    " 3: 'Three (3)',\n",
    " 4: 'four (4)',\n",
    " 5: 'five (5)',\n",
    " 6: 'six (6)',\n",
    " 7: 'seven (7)',\n",
    " 8: 'eight (8)',\n",
    " 9: 'Nine (9)',\n",
    "}\n",
    "\n",
    "plt.figure(figsize=[24, 10])\n",
    "\n",
    "# Display the 5 first images in training data  (5 top images)\n",
    "for k in range(5):\n",
    "    plt.subplot(2, 5, k+1)\n",
    "    curr_img = x_train[k]\n",
    "    plt.imshow(curr_img, cmap='Greys')\n",
    "    plt.title(\"(Label: \" + str(label_dict[y_train[k]]) + \")\")\n",
    "    plt.xlabel(\"in the training set\")\n",
    "\n",
    "    # Display the first 5 images in testing data\n",
    "    plt.subplot(2, 5, k+6)\n",
    "    curr_img = x_test[k]\n",
    "    plt.imshow(curr_img, cmap='Greys')\n",
    "    plt.title(\"(Label: \" + str(label_dict[y_test[k]]) + \")\")\n",
    "    plt.xlabel(\"in the testing set\")"
   ]
  },
  {
   "cell_type": "markdown",
   "metadata": {},
   "source": [
    "Viewing shape of data"
   ]
  },
  {
   "cell_type": "code",
   "execution_count": 16,
   "metadata": {},
   "outputs": [
    {
     "name": "stdout",
     "output_type": "stream",
     "text": [
      "x_train_shape: \t (60000, 28, 28)\n",
      "y_train_shape: \t (60000,)\n",
      "x_test_shape: \t (10000, 28, 28)\n",
      "y_test_shape: \t (10000,)\n"
     ]
    }
   ],
   "source": [
    "names = ['x_train', 'y_train', 'x_test', 'y_test']\n",
    "data = [x_train, y_train, x_test, y_test]\n",
    "for k in range(4):\n",
    "    print(names[k]+'_shape: \\t', data[k].shape)"
   ]
  },
  {
   "cell_type": "markdown",
   "metadata": {},
   "source": [
    "Since the shapes of `x_train, x_test` is an `3D_arrays` so to using `train_test_split`, we must reshape them to `2D_arrays`"
   ]
  },
  {
   "cell_type": "markdown",
   "metadata": {},
   "source": [
    "### B.1. The same approach with A.1"
   ]
  },
  {
   "cell_type": "code",
   "execution_count": 17,
   "metadata": {},
   "outputs": [
    {
     "data": {
      "text/plain": [
       "((60000, 784), (10000, 784), (60000,), (10000,))"
      ]
     },
     "execution_count": 17,
     "metadata": {},
     "output_type": "execute_result"
    }
   ],
   "source": [
    "X_train = x_train.reshape(x_train.shape[0], -1)\n",
    "X_test = x_test.reshape(x_test.shape[0], -1)\n",
    "ssc = StandardScaler()\n",
    "X_train_sc = ssc.fit_transform(X_train)\n",
    "X_test_sc = ssc.transform(X_test)\n",
    "\n",
    "X_train_sc.shape, X_test_sc.shape, y_train.shape, y_test.shape"
   ]
  },
  {
   "cell_type": "code",
   "execution_count": 18,
   "metadata": {},
   "outputs": [
    {
     "name": "stdout",
     "output_type": "stream",
     "text": [
      "Wall time: 9min 29s\n",
      "Wall time: 9min 5s\n",
      "Wall time: 1min 28s\n",
      "Confusion matrix: \n",
      " [[ 951    0   10    7    3    7   12    2   12    6]\n",
      " [   0 1119   13    1    2    6    3    8    6    7]\n",
      " [   5    6  956   15   18    7   13   23   11    6]\n",
      " [   2    2   11  941    1   41    1   13   28   10]\n",
      " [   2    0    7    0  929    6    8   10    8   36]\n",
      " [   8    1    4   16    0  789   17    1   24    4]\n",
      " [   8    2    5    1    3   12  902    0    9    1]\n",
      " [   2    1    6    6    5    2    0  945    6   23]\n",
      " [   1    4   18   19    4   19    2    5  858   13]\n",
      " [   1    0    2    4   17    3    0   21   12  903]]\n",
      "Train_acc = 0.9821 \n",
      "Test_acc = 0.9293\n",
      "Classification report: \n",
      "               precision    recall  f1-score   support\n",
      "\n",
      "           0       0.97      0.94      0.96      1010\n",
      "           1       0.99      0.96      0.97      1165\n",
      "           2       0.93      0.90      0.91      1060\n",
      "           3       0.93      0.90      0.91      1050\n",
      "           4       0.95      0.92      0.93      1006\n",
      "           5       0.88      0.91      0.90       864\n",
      "           6       0.94      0.96      0.95       943\n",
      "           7       0.92      0.95      0.93       996\n",
      "           8       0.88      0.91      0.90       943\n",
      "           9       0.89      0.94      0.92       963\n",
      "\n",
      "    accuracy                           0.93     10000\n",
      "   macro avg       0.93      0.93      0.93     10000\n",
      "weighted avg       0.93      0.93      0.93     10000\n",
      "\n"
     ]
    }
   ],
   "source": [
    "svc = SVC(kernel = 'linear')\n",
    "%time svc.fit(X_train_sc, y_train)\n",
    "\n",
    "%time y_pred_train = svc.predict(X_train_sc)\n",
    "%time y_pred_test = svc.predict(X_test_sc)\n",
    "   \n",
    "print('Confusion matrix: \\n', confusion_matrix(y_pred_test, y_test))\n",
    "\n",
    "print('Train_acc = %.4f \\nTest_acc = %.4f'%\n",
    "      (accuracy_score(y_pred_train, y_train), accuracy_score(y_pred_test, y_test)))\n",
    "\n",
    "print('Classification report: \\n', classification_report(y_pred_test, y_test))"
   ]
  },
  {
   "cell_type": "markdown",
   "metadata": {},
   "source": [
    "### B.2. The same approach with A.2"
   ]
  },
  {
   "cell_type": "code",
   "execution_count": 19,
   "metadata": {},
   "outputs": [
    {
     "name": "stdout",
     "output_type": "stream",
     "text": [
      "Wall time: 5.82 s\n",
      "Wall time: 121 ms\n",
      "331\n"
     ]
    },
    {
     "data": {
      "text/plain": [
       "((60000, 331), (10000, 331))"
      ]
     },
     "execution_count": 19,
     "metadata": {},
     "output_type": "execute_result"
    }
   ],
   "source": [
    "X_train = x_train.reshape(x_train.shape[0], -1)\n",
    "X_test = x_test.reshape(x_test.shape[0], -1)\n",
    "pca = PCA(0.99)\n",
    "%time X_train_pca = pca.fit_transform(X_train)\n",
    "%time X_test_pca = pca.transform(X_test)\n",
    "print(pca.n_components_)\n",
    "X_train_pca.shape, X_test_pca.shape"
   ]
  },
  {
   "cell_type": "markdown",
   "metadata": {},
   "source": [
    "This meant to keep 99% information, we only use the first `331 PC's` in total 784 columns"
   ]
  },
  {
   "cell_type": "code",
   "execution_count": 20,
   "metadata": {},
   "outputs": [
    {
     "name": "stdout",
     "output_type": "stream",
     "text": [
      "Wall time: 3min 36s\n",
      "Wall time: 5min\n",
      "Wall time: 48.3 s\n",
      "Confusion matrix: \n",
      " [[ 973    0    5    0    0    2    5    0    3    3]\n",
      " [   0 1127    1    0    0    0    2    5    0    4]\n",
      " [   1    3 1013    1    3    0    0    9    2    1]\n",
      " [   0    1    0  998    0    6    0    1    5    6]\n",
      " [   0    0    1    0  964    0    2    0    4   10]\n",
      " [   2    1    0    2    0  877    3    0    2    1]\n",
      " [   1    1    1    0    4    3  945    0    1    1]\n",
      " [   1    1    7    5    0    1    0 1003    2    6]\n",
      " [   2    1    3    3    1    2    1    1  952    2]\n",
      " [   0    0    1    1   10    1    0    9    3  975]]\n",
      "Train_acc = 0.9940 \n",
      "Test_acc = 0.9827\n",
      "Classification report: \n",
      "               precision    recall  f1-score   support\n",
      "\n",
      "           0       0.99      0.98      0.99       991\n",
      "           1       0.99      0.99      0.99      1139\n",
      "           2       0.98      0.98      0.98      1033\n",
      "           3       0.99      0.98      0.98      1017\n",
      "           4       0.98      0.98      0.98       981\n",
      "           5       0.98      0.99      0.99       888\n",
      "           6       0.99      0.99      0.99       957\n",
      "           7       0.98      0.98      0.98      1026\n",
      "           8       0.98      0.98      0.98       968\n",
      "           9       0.97      0.97      0.97      1000\n",
      "\n",
      "    accuracy                           0.98     10000\n",
      "   macro avg       0.98      0.98      0.98     10000\n",
      "weighted avg       0.98      0.98      0.98     10000\n",
      "\n"
     ]
    }
   ],
   "source": [
    "from sklearn.svm import SVC\n",
    "from sklearn.metrics import classification_report, confusion_matrix, accuracy_score\n",
    "\n",
    "svc = SVC()\n",
    "%time svc.fit(X_train_pca, y_train)\n",
    "\n",
    "%time y_pred_train = svc.predict(X_train_pca)\n",
    "%time y_pred_test = svc.predict(X_test_pca)\n",
    "\n",
    "print('Confusion matrix: \\n', confusion_matrix(y_pred_test, y_test))\n",
    "\n",
    "print('Train_acc = %.4f \\nTest_acc = %.4f'%\n",
    "      (accuracy_score(y_pred_train, y_train), accuracy_score(y_pred_test, y_test)))\n",
    "\n",
    "print('Classification report: \\n', classification_report(y_pred_test, y_test))"
   ]
  },
  {
   "cell_type": "markdown",
   "metadata": {},
   "source": [
    "In this case, we have improve the `train_acc, test_acc` and `f1_score` by using only `PCA()`"
   ]
  },
  {
   "cell_type": "markdown",
   "metadata": {},
   "source": [
    "### B.3 Same approach with A.3"
   ]
  },
  {
   "cell_type": "code",
   "execution_count": 21,
   "metadata": {},
   "outputs": [
    {
     "name": "stdout",
     "output_type": "stream",
     "text": [
      "Wall time: 1.43 s\n",
      "Wall time: 242 ms\n",
      "Wall time: 964 ms\n",
      "Wall time: 163 ms\n",
      "Wall time: 7min 40s\n",
      "Wall time: 9min 41s\n",
      "Wall time: 1min 30s\n",
      "Confusion matrix: \n",
      " [[ 968    0    5    0    0    2    6    1    3    4]\n",
      " [   0 1126    1    0    0    0    2    6    0    4]\n",
      " [   1    4  996    3   13    2    0   13    6    6]\n",
      " [   1    0    2  982    0   11    0    3    5   10]\n",
      " [   0    0    2    1  945    1    4    3    6   14]\n",
      " [   3    1    0    6    2  857    7    0    9    3]\n",
      " [   3    2    1    0    3    6  929    0    3    0]\n",
      " [   2    0   15   11    7    5    6  989   12   21]\n",
      " [   2    2    9    7    2    6    4    0  927    3]\n",
      " [   0    0    1    0   10    2    0   13    3  944]]\n",
      "Train_acc = 0.9862 \n",
      "Test_acc = 0.9663\n",
      "Classification report: \n",
      "               precision    recall  f1-score   support\n",
      "\n",
      "           0       0.99      0.98      0.98       989\n",
      "           1       0.99      0.99      0.99      1139\n",
      "           2       0.97      0.95      0.96      1044\n",
      "           3       0.97      0.97      0.97      1014\n",
      "           4       0.96      0.97      0.97       976\n",
      "           5       0.96      0.97      0.96       888\n",
      "           6       0.97      0.98      0.98       947\n",
      "           7       0.96      0.93      0.94      1068\n",
      "           8       0.95      0.96      0.96       962\n",
      "           9       0.94      0.97      0.95       973\n",
      "\n",
      "    accuracy                           0.97     10000\n",
      "   macro avg       0.97      0.97      0.97     10000\n",
      "weighted avg       0.97      0.97      0.97     10000\n",
      "\n"
     ]
    }
   ],
   "source": [
    "ssc = StandardScaler()\n",
    "%time X_train_sc = ssc.fit_transform(X_train)\n",
    "%time X_test_sc = ssc.fit_transform(X_test)\n",
    "\n",
    "pca = PCA(0.99)\n",
    "pca.fit(X_train_sc, y_train)\n",
    "%time X_train_sc_pca = pca.transform(X_train_sc)\n",
    "%time X_test_sc_pca = pca.transform(X_test_sc)\n",
    "\n",
    "svc = SVC()\n",
    "%time svc.fit(X_train_sc_pca, y_train)\n",
    "%time y_pred_train = svc.predict(X_train_sc_pca)\n",
    "%time y_pred_test = svc.predict(X_test_sc_pca)\n",
    "\n",
    "print('Confusion matrix: \\n', confusion_matrix(y_pred_test, y_test))\n",
    "\n",
    "print('Train_acc = %.4f \\nTest_acc = %.4f'%\n",
    "      (accuracy_score(y_pred_train, y_train), accuracy_score(y_pred_test, y_test)))\n",
    "\n",
    "print('Classification report: \\n', classification_report(y_pred_test, y_test))"
   ]
  },
  {
   "cell_type": "markdown",
   "metadata": {},
   "source": [
    "In this case (`big_data` like `mnist-dataset`), using both `Standard()` then `PCA` won't improve the `f1_score` also the `accuracy`, compared with using `PCA()` only!"
   ]
  },
  {
   "cell_type": "markdown",
   "metadata": {},
   "source": [
    "### B.4. The same with A.4"
   ]
  },
  {
   "cell_type": "code",
   "execution_count": 22,
   "metadata": {},
   "outputs": [
    {
     "name": "stdout",
     "output_type": "stream",
     "text": [
      "Wall time: 709 ms\n",
      "Wall time: 154 ms\n",
      "Wall time: 563 ms\n",
      "Wall time: 21.4 ms\n",
      "Wall time: 13min 3s\n",
      "Wall time: 12min 46s\n",
      "Wall time: 2min 6s\n",
      "Confusion matrix: \n",
      " [[ 966    0    7    0    0    4    6    0    5    4]\n",
      " [   0 1121    2    1    0    2    3    5    0    3]\n",
      " [   2    3  991   11    9    3    4   19    6    4]\n",
      " [   2    0    4  964    0   16    0    4    8   14]\n",
      " [   1    1    3    1  954    4    4    4    2   16]\n",
      " [   3    1    0   10    0  844    6    2    4    0]\n",
      " [   3    4    5    0    2    9  933    0    2    0]\n",
      " [   0    1    4    9    2    0    0  980    3   14]\n",
      " [   3    4   15   12    3    9    2    2  943    8]\n",
      " [   0    0    1    2   12    1    0   12    1  946]]\n",
      "Train_acc = 0.9947 \n",
      "Test_acc = 0.9642\n",
      "Classification report: \n",
      "               precision    recall  f1-score   support\n",
      "\n",
      "           0       0.99      0.97      0.98       992\n",
      "           1       0.99      0.99      0.99      1137\n",
      "           2       0.96      0.94      0.95      1052\n",
      "           3       0.95      0.95      0.95      1012\n",
      "           4       0.97      0.96      0.97       990\n",
      "           5       0.95      0.97      0.96       870\n",
      "           6       0.97      0.97      0.97       958\n",
      "           7       0.95      0.97      0.96      1013\n",
      "           8       0.97      0.94      0.95      1001\n",
      "           9       0.94      0.97      0.95       975\n",
      "\n",
      "    accuracy                           0.96     10000\n",
      "   macro avg       0.96      0.96      0.96     10000\n",
      "weighted avg       0.96      0.96      0.96     10000\n",
      "\n"
     ]
    }
   ],
   "source": [
    "pca = PCA(0.99)\n",
    "pca.fit(X_train)\n",
    "%time X_train_pca = pca.transform(X_train)\n",
    "%time X_test_pca = pca.transform(X_test)\n",
    "\n",
    "ssc = StandardScaler()\n",
    "%time X_train_pca_sc = ssc.fit_transform(X_train_pca)\n",
    "%time X_test_pca_sc = ssc.transform(X_test_pca)\n",
    "\n",
    "svc = SVC()\n",
    "%time svc.fit(X_train_pca_sc, y_train)\n",
    "%time y_pred_train = svc.predict(X_train_pca_sc)\n",
    "%time y_pred_test = svc.predict(X_test_pca_sc)\n",
    "\n",
    "print('Confusion matrix: \\n', confusion_matrix(y_pred_test, y_test))\n",
    "\n",
    "print('Train_acc = %.4f \\nTest_acc = %.4f'%\n",
    "      (accuracy_score(y_pred_train, y_train), accuracy_score(y_pred_test, y_test)))\n",
    "\n",
    "print('Classification report: \\n', classification_report(y_pred_test, y_test))"
   ]
  },
  {
   "cell_type": "markdown",
   "metadata": {},
   "source": [
    "> So, in this case, using `PCA` only will get the best `f1-score` among 4 `mentioned approaches`\n",
    "\n",
    "**Remarks 1.** Noting that the numbers of `PC's` :\n",
    "- When using `PCA()` only **is equal to**  using `PCA() then StandardScaler()`\n",
    "- When using `PCA() then StandardScaler()` **is not equal to** `StandardScaler() then PCA()` since the `structure` of the data has been changed!!\n",
    "\n",
    "**`Verify`**"
   ]
  },
  {
   "cell_type": "code",
   "execution_count": 23,
   "metadata": {},
   "outputs": [
    {
     "name": "stdout",
     "output_type": "stream",
     "text": [
      "(60000, 331) (60000, 543)\n"
     ]
    },
    {
     "data": {
      "text/plain": [
       "False"
      ]
     },
     "execution_count": 23,
     "metadata": {},
     "output_type": "execute_result"
    }
   ],
   "source": [
    "print(X_train_pca_sc.shape, X_train_sc_pca.shape)\n",
    "np.array_equal(X_train_pca_sc, X_train_sc_pca)"
   ]
  },
  {
   "cell_type": "markdown",
   "metadata": {},
   "source": [
    "**Remarks 2.**\n",
    "- In this verification, the numbers of `PC's` when using `StandardScaler()` before `PCA()` is 543 >> 331 : the numbers of `PC's` when using `PCA()` then `StandardScaler()`!! So, the `B3_approach` keep more information than `B4_approach`; which leads to the `f1_score` and `accuarcy` in `B3` will be better than in `B4's approach`.\n",
    "\n",
    "- When using `PCA()`, each `PC's` now is `independence` each others and distributed `normal` centered at `0`! See the following histograms of the first 9 PC's"
   ]
  },
  {
   "cell_type": "code",
   "execution_count": 25,
   "metadata": {},
   "outputs": [
    {
     "data": {
      "image/png": "[encoded data removed]",
      "text/plain": [
       "<Figure size 1440x1296 with 9 Axes>"
      ]
     },
     "metadata": {
      "needs_background": "light"
     },
     "output_type": "display_data"
    }
   ],
   "source": [
    "import matplotlib.pyplot as plt\n",
    "\n",
    "plt.figure(figsize = (20, 18))\n",
    "for k in range(9):\n",
    "    plt.subplot(3, 3, k+1)\n",
    "    plt.hist(X_train_pca[:, k], bins = 18, density = True)\n",
    "    plt.title('PC %s'%(k+1))"
   ]
  }
 ],
 "metadata": {
  "kernelspec": {
   "display_name": "Python 3",
   "language": "python",
   "name": "python3"
  },
  "language_info": {
   "codemirror_mode": {
    "name": "ipython",
    "version": 3
   },
   "file_extension": ".py",
   "mimetype": "text/x-python",
   "name": "python",
   "nbconvert_exporter": "python",
   "pygments_lexer": "ipython3",
   "version": "3.7.7"
  },
  "toc": {
   "base_numbering": 1,
   "nav_menu": {},
   "number_sections": false,
   "sideBar": true,
   "skip_h1_title": false,
   "title_cell": "Table of Contents",
   "title_sidebar": "Contents",
   "toc_cell": false,
   "toc_position": {},
   "toc_section_display": true,
   "toc_window_display": false
  }
 },
 "nbformat": 4,
 "nbformat_minor": 4
}
