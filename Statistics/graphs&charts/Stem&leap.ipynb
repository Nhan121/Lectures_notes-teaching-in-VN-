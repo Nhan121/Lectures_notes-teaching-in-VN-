{
 "cells": [
  {
   "cell_type": "code",
   "execution_count": 1,
   "metadata": {},
   "outputs": [],
   "source": [
    "#pip install stemgraphic"
   ]
  },
  {
   "cell_type": "markdown",
   "metadata": {},
   "source": [
    "A `stemplot` is like a histogram — they are both tools to help you visualize a data set. Stemplots show a *little more information* than a histogram and have been a common tool for displaying data sets since the 1970s. \n",
    "\n",
    "They are typically used when there is a medium amount of quantitative variables to analyze. The stem-and-leaf plot of quantitative data is said as `textual graph` as that presents the data according to their `most significant numeric digit`. Stem and Leaf Plot graph is mainly suitable for smaller data sets (less than 80).\n",
    "\n",
    "The name `“Stem plot”` comes because there is one `“stem”` with the largest place-value digits to the left and one `“leaf”` to the right."
   ]
  },
  {
   "cell_type": "code",
   "execution_count": 2,
   "metadata": {},
   "outputs": [],
   "source": [
    "import stemgraphic\n",
    "\n",
    "#help(stemgraphic.stem_graphic)"
   ]
  },
  {
   "cell_type": "code",
   "execution_count": 3,
   "metadata": {},
   "outputs": [
    {
     "name": "stdout",
     "output_type": "stream",
     "text": [
      "Data x contains 16 elements \n"
     ]
    },
    {
     "data": {
      "text/plain": [
       "(<Figure size 540x216 with 1 Axes>,\n",
       " <matplotlib.axes._axes.Axes at 0x21ff678da48>)"
      ]
     },
     "execution_count": 3,
     "metadata": {},
     "output_type": "execute_result"
    },
    {
     "data": {
      "image/png": "[encoded data removed]",
      "text/plain": [
       "<Figure size 540x216 with 1 Axes>"
      ]
     },
     "metadata": {
      "needs_background": "light"
     },
     "output_type": "display_data"
    }
   ],
   "source": [
    "x = [16, 25, 47, 56, 23, 45, 83, 92, 95, 99, 19, 55, 44, 27, 69, 72] \n",
    "print('Data x contains %d elements '%len(x))  \n",
    "stemgraphic.stem_graphic(x) "
   ]
  },
  {
   "cell_type": "markdown",
   "metadata": {},
   "source": [
    "**Explain.**\n",
    "\n",
    "- On the first `vertical line`, there are two values, one is the `bottom_most = 16` while the last one `top_most = 99`. This is the maximum and minimum of the data in the list `x`\n",
    "\n",
    "- The column on the left contains the indexes of the `sorted list`; the midle contains the `stem` and the right column contains the corresponding `leaf` such as :\n",
    "\n",
    "- 1) The last row of the left column : There are 2 first minimum `(16, 19)`; at the `stem (1)` and they are splitted into 2 `leaf (6, 9)`\n",
    "- 2) Likewise, the first row; There are `16 - 13 = 3` first maximum `(92, 95, 99)`; `stem (9)` and `leaf (2, 5, 9)`\n",
    "- 3) The `stem (3)` doesn't contain any `leaf` since there are observations in the range[30, 40).\n",
    "\n",
    "\n",
    "***Now, we will display the stemleafplot of data by using matplotlib.pyplot.stem***\n",
    "\n",
    "Since we want to fix the stem be the integer in (0,1,...,9). \n",
    "\n",
    "For example; leaf = 16 and 19; stem = 1;  that meant we take the `largest integer that is less than or equal to x/10`\n",
    "\n",
    "So we will use the function `floor` after divide the list_data by 10."
   ]
  },
  {
   "cell_type": "code",
   "execution_count": 4,
   "metadata": {},
   "outputs": [
    {
     "data": {
      "text/plain": [
       "array([1., 1., 2., 2., 2., 4., 4., 4., 5., 5., 6., 7., 8., 9., 9., 9.])"
      ]
     },
     "execution_count": 4,
     "metadata": {},
     "output_type": "execute_result"
    }
   ],
   "source": [
    "import matplotlib.pyplot as plt \n",
    "import numpy as np\n",
    "\n",
    "# Sort the list of data\n",
    "x = sorted(x)\n",
    "\n",
    "# Separating the stem parts; \n",
    "stem = np.floor(np.array(x) / 10)\n",
    "stem  "
   ]
  },
  {
   "cell_type": "code",
   "execution_count": 5,
   "metadata": {},
   "outputs": [
    {
     "data": {
      "text/plain": [
       "<StemContainer object of 3 artists>"
      ]
     },
     "execution_count": 5,
     "metadata": {},
     "output_type": "execute_result"
    },
    {
     "data": {
      "image/png": "[encoded data removed]",
      "text/plain": [
       "<Figure size 432x288 with 1 Axes>"
      ]
     },
     "metadata": {
      "needs_background": "light"
     },
     "output_type": "display_data"
    }
   ],
   "source": [
    "## Display the chart\n",
    "\n",
    "plt.ylabel('Data')   # for label at y-axis \n",
    "  \n",
    "plt.xlabel('stems')   # for label at x-axis \n",
    "  \n",
    "plt.xlim(0, 10)   # limit of the values at x axis \n",
    "  \n",
    "plt.stem(stem, x, use_line_collection=True)   # required plot "
   ]
  },
  {
   "cell_type": "markdown",
   "metadata": {},
   "source": [
    "**Another example.**\n",
    "\n",
    "In this example; we will display the `GPA` data with the stem be the integers in [0, 10].\n",
    "\n",
    "First; viewing the datasets."
   ]
  },
  {
   "cell_type": "code",
   "execution_count": 6,
   "metadata": {},
   "outputs": [
    {
     "data": {
      "text/html": [
       "<div>\n",
       "<style scoped>\n",
       "    .dataframe tbody tr th:only-of-type {\n",
       "        vertical-align: middle;\n",
       "    }\n",
       "\n",
       "    .dataframe tbody tr th {\n",
       "        vertical-align: top;\n",
       "    }\n",
       "\n",
       "    .dataframe thead th {\n",
       "        text-align: right;\n",
       "    }\n",
       "</style>\n",
       "<table border=\"1\" class=\"dataframe\">\n",
       "  <thead>\n",
       "    <tr style=\"text-align: right;\">\n",
       "      <th></th>\n",
       "      <th>ID</th>\n",
       "      <th>GPA</th>\n",
       "      <th>IQ</th>\n",
       "      <th>Gender</th>\n",
       "      <th>SelfConcept</th>\n",
       "    </tr>\n",
       "  </thead>\n",
       "  <tbody>\n",
       "    <tr>\n",
       "      <th>0</th>\n",
       "      <td>1</td>\n",
       "      <td>7.940</td>\n",
       "      <td>111</td>\n",
       "      <td>2</td>\n",
       "      <td>67</td>\n",
       "    </tr>\n",
       "    <tr>\n",
       "      <th>1</th>\n",
       "      <td>2</td>\n",
       "      <td>8.292</td>\n",
       "      <td>107</td>\n",
       "      <td>2</td>\n",
       "      <td>43</td>\n",
       "    </tr>\n",
       "    <tr>\n",
       "      <th>2</th>\n",
       "      <td>3</td>\n",
       "      <td>4.643</td>\n",
       "      <td>100</td>\n",
       "      <td>2</td>\n",
       "      <td>52</td>\n",
       "    </tr>\n",
       "    <tr>\n",
       "      <th>3</th>\n",
       "      <td>4</td>\n",
       "      <td>7.470</td>\n",
       "      <td>107</td>\n",
       "      <td>2</td>\n",
       "      <td>66</td>\n",
       "    </tr>\n",
       "    <tr>\n",
       "      <th>4</th>\n",
       "      <td>5</td>\n",
       "      <td>8.882</td>\n",
       "      <td>114</td>\n",
       "      <td>1</td>\n",
       "      <td>58</td>\n",
       "    </tr>\n",
       "  </tbody>\n",
       "</table>\n",
       "</div>"
      ],
      "text/plain": [
       "   ID    GPA   IQ  Gender  SelfConcept\n",
       "0   1  7.940  111       2           67\n",
       "1   2  8.292  107       2           43\n",
       "2   3  4.643  100       2           52\n",
       "3   4  7.470  107       2           66\n",
       "4   5  8.882  114       1           58"
      ]
     },
     "execution_count": 6,
     "metadata": {},
     "output_type": "execute_result"
    }
   ],
   "source": [
    "import pandas as pd\n",
    "df = pd.read_csv(r\"Grades-and-self-concept.csv\")\n",
    "df.head()"
   ]
  },
  {
   "cell_type": "markdown",
   "metadata": {},
   "source": [
    "`Let's see how the stem&leaf plot describe!!`"
   ]
  },
  {
   "cell_type": "code",
   "execution_count": 7,
   "metadata": {},
   "outputs": [
    {
     "data": {
      "text/plain": [
       "(<Figure size 540x252 with 1 Axes>,\n",
       " <matplotlib.axes._axes.Axes at 0x21ff6de8d48>)"
      ]
     },
     "execution_count": 7,
     "metadata": {},
     "output_type": "execute_result"
    },
    {
     "data": {
      "image/png": "[encoded data removed]",
      "text/plain": [
       "<Figure size 540x252 with 1 Axes>"
      ]
     },
     "metadata": {
      "needs_background": "light"
     },
     "output_type": "display_data"
    }
   ],
   "source": [
    "x = df.GPA\n",
    "\n",
    "stemgraphic.stem_graphic(x)"
   ]
  },
  {
   "cell_type": "markdown",
   "metadata": {},
   "source": [
    "Remind that the data `GPA` is in the range 0, 10; and we want to take the stems = {0, 1, ..., 10}."
   ]
  },
  {
   "cell_type": "code",
   "execution_count": 8,
   "metadata": {},
   "outputs": [
    {
     "data": {
      "text/plain": [
       "<StemContainer object of 3 artists>"
      ]
     },
     "execution_count": 8,
     "metadata": {},
     "output_type": "execute_result"
    },
    {
     "data": {
      "image/png": "[encoded data removed]",
      "text/plain": [
       "<Figure size 432x288 with 1 Axes>"
      ]
     },
     "metadata": {
      "needs_background": "light"
     },
     "output_type": "display_data"
    }
   ],
   "source": [
    "x = sorted(x)\n",
    "stem = np.floor(np.array(x))\n",
    "plt.ylabel('GPA')  \n",
    "plt.xlabel('stems')\n",
    "plt.xlim(-0.1, 10.9)\n",
    "plt.stem(stem, x, use_line_collection=True)   # required plot "
   ]
  }
 ],
 "metadata": {
  "kernelspec": {
   "display_name": "Python 3",
   "language": "python",
   "name": "python3"
  },
  "language_info": {
   "codemirror_mode": {
    "name": "ipython",
    "version": 3
   },
   "file_extension": ".py",
   "mimetype": "text/x-python",
   "name": "python",
   "nbconvert_exporter": "python",
   "pygments_lexer": "ipython3",
   "version": "3.7.6"
  }
 },
 "nbformat": 4,
 "nbformat_minor": 4
}
