{
 "cells": [
  {
   "cell_type": "markdown",
   "metadata": {},
   "source": [
    "**Motivation.** \n",
    "\n",
    "**`Decision tree classifiers`** are attractive models if we care about interpretability. As the name decision tree suggests, we can think of this model as breaking down our data by making decision based on asking a series of questions.\n",
    "\n",
    "**Opening example.** Let's consider the `tennis_playing` problem again!"
   ]
  },
  {
   "cell_type": "code",
   "execution_count": 1,
   "metadata": {},
   "outputs": [
    {
     "data": {
      "text/html": [
       "<div>\n",
       "<style scoped>\n",
       "    .dataframe tbody tr th:only-of-type {\n",
       "        vertical-align: middle;\n",
       "    }\n",
       "\n",
       "    .dataframe tbody tr th {\n",
       "        vertical-align: top;\n",
       "    }\n",
       "\n",
       "    .dataframe thead th {\n",
       "        text-align: right;\n",
       "    }\n",
       "</style>\n",
       "<table border=\"1\" class=\"dataframe\">\n",
       "  <thead>\n",
       "    <tr style=\"text-align: right;\">\n",
       "      <th></th>\n",
       "      <th>Temp</th>\n",
       "      <th>Humidtity</th>\n",
       "      <th>Play tennis?</th>\n",
       "    </tr>\n",
       "    <tr>\n",
       "      <th>DAY</th>\n",
       "      <th></th>\n",
       "      <th></th>\n",
       "      <th></th>\n",
       "    </tr>\n",
       "  </thead>\n",
       "  <tbody>\n",
       "    <tr>\n",
       "      <th>D1</th>\n",
       "      <td>Hot</td>\n",
       "      <td>High</td>\n",
       "      <td>No</td>\n",
       "    </tr>\n",
       "    <tr>\n",
       "      <th>D2</th>\n",
       "      <td>Hot</td>\n",
       "      <td>High</td>\n",
       "      <td>No</td>\n",
       "    </tr>\n",
       "    <tr>\n",
       "      <th>D3</th>\n",
       "      <td>Hot</td>\n",
       "      <td>High</td>\n",
       "      <td>Yes</td>\n",
       "    </tr>\n",
       "    <tr>\n",
       "      <th>D4</th>\n",
       "      <td>Mild</td>\n",
       "      <td>High</td>\n",
       "      <td>Yes</td>\n",
       "    </tr>\n",
       "    <tr>\n",
       "      <th>D5</th>\n",
       "      <td>Cool</td>\n",
       "      <td>Normal</td>\n",
       "      <td>Yes</td>\n",
       "    </tr>\n",
       "    <tr>\n",
       "      <th>D6</th>\n",
       "      <td>Cool</td>\n",
       "      <td>Normal</td>\n",
       "      <td>No</td>\n",
       "    </tr>\n",
       "    <tr>\n",
       "      <th>D7</th>\n",
       "      <td>Cool</td>\n",
       "      <td>Normal</td>\n",
       "      <td>Yes</td>\n",
       "    </tr>\n",
       "    <tr>\n",
       "      <th>D8</th>\n",
       "      <td>Mild</td>\n",
       "      <td>High</td>\n",
       "      <td>No</td>\n",
       "    </tr>\n",
       "    <tr>\n",
       "      <th>D9</th>\n",
       "      <td>Cool</td>\n",
       "      <td>Normal</td>\n",
       "      <td>Yes</td>\n",
       "    </tr>\n",
       "    <tr>\n",
       "      <th>D10</th>\n",
       "      <td>Mild</td>\n",
       "      <td>Normal</td>\n",
       "      <td>Yes</td>\n",
       "    </tr>\n",
       "    <tr>\n",
       "      <th>D11</th>\n",
       "      <td>Mild</td>\n",
       "      <td>Normal</td>\n",
       "      <td>Yes</td>\n",
       "    </tr>\n",
       "    <tr>\n",
       "      <th>D12</th>\n",
       "      <td>Mild</td>\n",
       "      <td>High</td>\n",
       "      <td>Yes</td>\n",
       "    </tr>\n",
       "    <tr>\n",
       "      <th>D13</th>\n",
       "      <td>Hot</td>\n",
       "      <td>Normal</td>\n",
       "      <td>Yes</td>\n",
       "    </tr>\n",
       "    <tr>\n",
       "      <th>D14</th>\n",
       "      <td>Mild</td>\n",
       "      <td>High</td>\n",
       "      <td>No</td>\n",
       "    </tr>\n",
       "  </tbody>\n",
       "</table>\n",
       "</div>"
      ],
      "text/plain": [
       "     Temp Humidtity Play tennis?\n",
       "DAY                             \n",
       "D1    Hot      High           No\n",
       "D2    Hot      High           No\n",
       "D3    Hot      High          Yes\n",
       "D4   Mild      High          Yes\n",
       "D5   Cool    Normal          Yes\n",
       "D6   Cool    Normal           No\n",
       "D7   Cool    Normal          Yes\n",
       "D8   Mild      High           No\n",
       "D9   Cool    Normal          Yes\n",
       "D10  Mild    Normal          Yes\n",
       "D11  Mild    Normal          Yes\n",
       "D12  Mild      High          Yes\n",
       "D13   Hot    Normal          Yes\n",
       "D14  Mild      High           No"
      ]
     },
     "execution_count": 1,
     "metadata": {},
     "output_type": "execute_result"
    }
   ],
   "source": [
    "import numpy as np\n",
    "import pandas as pd\n",
    "import matplotlib.pyplot as plt\n",
    "from sklearn import neighbors, datasets\n",
    "from sklearn.tree import DecisionTreeClassifier \n",
    "from sklearn.model_selection import train_test_split\n",
    "import io\n",
    "import cv2\n",
    "image = cv2.imread(r\"C:\\Users\\Admin\\Desktop\\Nhan_pro\\Data\\illustration_tennis.jpg\")\n",
    "\n",
    "df = pd.read_excel(r\"C:\\Users\\Admin\\Desktop\\Nhan_pro\\Data\\ML\\tennis_weather.xlsx\",\n",
    "                   usecols = [\"DAY\", \"Temp\", \"Humidtity\", \"Play tennis?\"], index_col = 'DAY')\n",
    "df"
   ]
  },
  {
   "cell_type": "markdown",
   "metadata": {},
   "source": [
    "During the **`Decision Tree's building`**, we must\n",
    "- 1) `Select` a `feature` and `split` data into `binary tree`; \n",
    "- 2) `Continue splitting` with `available features`.\n",
    "\n",
    "In the this example, \n",
    "- 1) We want to `predict` whether to `play tennis` based on the features: `\"temperature\"` and `\"humidity\"`\n",
    "- 2) `Segment data` based on features to `predict result: \"play tennis?\"`\n",
    "- 3) Trees that predict categorical results are `decision trees`\n",
    "\n",
    "Based on the features in our training set, the decision tree model learns a series of questions to infer the class labels of the samples. For examle:\n",
    "- If `x_1 (Temp) < t_1 (Mild)`; we will decide `No playing tennis`.\n",
    "- If `x_1 >= t_1`; we consider the `humidity`; \n",
    "- - If `x_2(Humdity) = High `, then `No tennis`\n",
    "- - If not, then `play tennis`\n",
    "\n",
    "Look at the illustration_image below!!\n",
    "\n",
    "https://github.com/Nhan121/Lectures_notes-teaching-in-VN-/blob/master/Statistics/Machine%20Learning/Tree_decision%20%26%20random%20forest/illustration_tennis.JPG"
   ]
  },
  {
   "cell_type": "markdown",
   "metadata": {},
   "source": [
    "- The nodes which displayed the `output` (for instance `No Tennis / Play Tennis`) is called the `leaf_nodes` or `terminal node`!\n",
    "- The nodes which displayed the `questions` (such as `Humidity := Normal`) is called the `non-leaf node`!\n",
    "- The first question: `Temperature: >= Mild` is called the `root node`\n",
    "\n",
    "The `non-leaf nodes` usually have two or more `child nodes`. These `child nodes` can be either a `leaf node` or another `non-leaf node`. \n",
    "\n",
    "`Child nodes` with the same parents are called `sibling nodes`. \n",
    "\n",
    "***`If all non-leaf nodes have only two child nodes, we say that it is a binary decision tree.`***\n",
    "\n",
    "All the `questions` in the `binary decision` tree can be considered as `True or False`. A `Decision trees` for which a leaf node has multiple child nodes can also be taken as a binary decision tree. This is achievable because almost the questions can be asked in the form of `T/ F questions`.\n",
    "\n",
    "In this file; we will discuss the `Decision tree classifiers` in 3 cases of variables:\n",
    "- ***Case 1***: See **`Example 1`**, all the features are `categorical-data` (mostly focus on the categorical), using the dataset: `tennis-weather`.\n",
    "- ***Case 2***: See **`Example 2`**, all the features are `continuous-data` (mostly focus on the range of value or the interval), using `iris dataset`.\n",
    "- ***Case 3***: See **`Example 3`**, the features are `categorical` and `continuous`, using `titanic dataset`"
   ]
  },
  {
   "cell_type": "markdown",
   "metadata": {},
   "source": [
    "There are couple of algorithms there to build a decision tree \n",
    "- 1) `ID3` (Iterative Dichotomiser 3). uses Entropy function and Information gain as metrics.\n",
    "- 2) `CART`(or Classification and Regression Trees): uses `Gini` Index(Classification) as metric."
   ]
  },
  {
   "cell_type": "markdown",
   "metadata": {},
   "source": [
    "###  Algorithm.\n",
    "\n",
    "To create a tree, we need to have a root node first and we know that nodes are features/attributes; such as outlook,temp,humidity and windy.\n",
    "\n",
    "- 1) `Which one do we need to pick first`?? Determine the attribute that best classifies the training data; use this attribute at the root of the tree. Repeat this process at for each branch. This means we are performing top-down, greedy search through the space of possible decision trees.\n",
    "\n",
    "- 2) `How do we choose the best attribute?` Use the attribute with the highest information gain in ID3\n",
    "In order to define information gain precisely, we begin by defining a measure commonly used in information theory, called entropy that characterizes the (im)purity of an arbitrary collection of examples.\n",
    "\n",
    "Hence, applying these metrics to the dataset to split the data (getting the `root node`); we have 4 steps.\n",
    "\n",
    "- **1.compute the gini index for data-set**\n",
    "- **2.for every attribute/feature:**\n",
    "       i. `calculate gini index` for all categorical values\n",
    "       ii. `take average information entropy` for the current attribute \n",
    "       iii. `calculate the gini gain`\n",
    "- **3. pick the best gini gain attribute.**\n",
    "- **4. Repeat until we get the tree we desired.**"
   ]
  },
  {
   "cell_type": "markdown",
   "metadata": {},
   "source": [
    "**What is entropy**. Entropy, sometimes referred to as Shannon entropy. `It is a measure of the amount of uncertainty (an impurity measure) in the dataset` $S = \\lbrace x_1, \\ldots, x_n \\rbrace$, denoted $H(S)$, defined by\n",
    "\n",
    "$$ H(S) = - \\sum_{i=1}^n p_i \\log(p_i) $$\n",
    "\n",
    "where $p_i = P(x = x_i) \\in [0, 1]$ and noting that : \n",
    "\n",
    "$$\\sum_{i=1}^n p_i = 1 \\text{ and }  0 \\log(0) = 0. $$\n",
    "\n",
    "For example, in the binary classification problem (`n = 2`), we have\n",
    "$$ H(S) = p \\log p + (1 - p) \\log (1- p), \\quad \\forall p \\in [0, 1]. $$\n",
    "- If all examples are positive or all are negative then entropy will be zero i.e, low.\n",
    "- If half of the examples are of positive class and half are of negative class then entropy is one i.e, high."
   ]
  },
  {
   "cell_type": "code",
   "execution_count": 2,
   "metadata": {},
   "outputs": [
    {
     "data": {
      "image/png": "[encoded data removed]",
      "text/plain": [
       "<Figure size 432x288 with 1 Axes>"
      ]
     },
     "metadata": {
      "needs_background": "light"
     },
     "output_type": "display_data"
    }
   ],
   "source": [
    "def shanon_entropy2(p):\n",
    "    if (p == 0):\n",
    "        H = 0\n",
    "    else:\n",
    "        H = -(p*np.log(p) + (1-p)*np.log(1-p))\n",
    "    return H\n",
    "\n",
    "t = np.linspace(0.01, 0.99, 100)\n",
    "f = [shanon_entropy2(x) for x in t]\n",
    "plt.plot(t, f)\n",
    "plt.xlabel(\"$p$\")\n",
    "plt.ylabel(\"H(S)\")\n",
    "plt.title(\"$H(S) = p \\log (p) + (1 - p) \\log (1- p)$\")\n",
    "plt.show()"
   ]
  },
  {
   "cell_type": "markdown",
   "metadata": {},
   "source": [
    "**What is `Information Gain (IG)`.**  A `IG` is the measure of the different entropy from before to after the set $S$ is split on an attribute/ feature $x$, that meant `how much uncertainly in` $S$ was reduced after spliting the set $S$ on $x$. Denoted $IG(x, S)$\n",
    "\n",
    "In particularly, if\n",
    "- There are $K-$ class $C_1, \\ldots C_K$ and suppose that we are working on a `non-leaf node` with the `data-points` formed a set $S$ with $\\vert S \\vert = N$.\n",
    "- For each $k$, the class $C_k$ has $N_k$ elements; and hence \n",
    "$$ N = \\sum_{k=1}^K N_k \\text{ and } p_k = P(x \\in C_k) = \\dfrac{N_k}{N} $$\n",
    "and now then the entropy on $S$ became\n",
    "\n",
    "$$ H(S) = - \\sum_{k=1}^K \\dfrac{N_k}{N} \\log \\left( \\dfrac{N_k}{N} \\right) $$\n",
    "\n",
    "- Next, suppose that the `selected feature` be $x$, then the data-point on $S$ will be separated into $J$ `child node` $S_1, S_2, \\ldots, S_J$ with $\\vert S_{j} \\vert = m_{j}$, we define\n",
    "\n",
    "$$ H(x, S) = \\sum_{j=1}^J \\dfrac{m_j}{N} H(S_j) $$\n",
    "\n",
    "Then,\n",
    "$$ IG(A, S) = H(S) - H(s, S) $$\n",
    "\n",
    "In `ID3 algorithm`, we choose $x$ such that\n",
    "$$ x^{*} = \\underset{x}{\\text{argmax}} IG(x, S) = \\underset{x}{\\text{argmin}} H(x, S). $$"
   ]
  },
  {
   "cell_type": "markdown",
   "metadata": {},
   "source": [
    "**What is gini index?** `Gini index or Gini impurity` can be understood as a criterion to minimize the probability of `misclassification`, denoted $I_G(x)$ and defined by\n",
    "$$ I_G(S) = \\sum_{i =1}^n p(i | S) \\left( 1 - p(i| x) \\right) = 1 - \\sum_{i =1}^n p^2(i | S)$$\n",
    "\n",
    "where $ p(i | S)$ is the proportion of the samples that belong to class $i$ for a particular `node` $S$. \n",
    "\n",
    "The Gini impurity is maximal if the classes are perfectly mixed. \n",
    "\n",
    "For example, in a binary class setting (`n = 2`) and suppose that the classes are distributed uniformly with $ p(i = 1 | S) =  p(i = 0 | S) = 0.5 $, then\n",
    "\n",
    "$$ I_G(S) = 1 - \\sum_{i=1}^2 0.5^2 = 0.5. $$\n",
    "\n",
    "**Example 1.** Make a `decision tree` the predict on the whole dataset `tennis-weather`."
   ]
  },
  {
   "cell_type": "code",
   "execution_count": 3,
   "metadata": {},
   "outputs": [
    {
     "data": {
      "text/html": [
       "<div>\n",
       "<style scoped>\n",
       "    .dataframe tbody tr th:only-of-type {\n",
       "        vertical-align: middle;\n",
       "    }\n",
       "\n",
       "    .dataframe tbody tr th {\n",
       "        vertical-align: top;\n",
       "    }\n",
       "\n",
       "    .dataframe thead th {\n",
       "        text-align: right;\n",
       "    }\n",
       "</style>\n",
       "<table border=\"1\" class=\"dataframe\">\n",
       "  <thead>\n",
       "    <tr style=\"text-align: right;\">\n",
       "      <th></th>\n",
       "      <th>Temp</th>\n",
       "      <th>Humidtity</th>\n",
       "      <th>Outlook</th>\n",
       "      <th>Wind</th>\n",
       "      <th>Play tennis?</th>\n",
       "    </tr>\n",
       "    <tr>\n",
       "      <th>DAY</th>\n",
       "      <th></th>\n",
       "      <th></th>\n",
       "      <th></th>\n",
       "      <th></th>\n",
       "      <th></th>\n",
       "    </tr>\n",
       "  </thead>\n",
       "  <tbody>\n",
       "    <tr>\n",
       "      <th>D1</th>\n",
       "      <td>Hot</td>\n",
       "      <td>High</td>\n",
       "      <td>Sunny</td>\n",
       "      <td>Weak</td>\n",
       "      <td>No</td>\n",
       "    </tr>\n",
       "    <tr>\n",
       "      <th>D2</th>\n",
       "      <td>Hot</td>\n",
       "      <td>High</td>\n",
       "      <td>Sunny</td>\n",
       "      <td>Strong</td>\n",
       "      <td>No</td>\n",
       "    </tr>\n",
       "    <tr>\n",
       "      <th>D3</th>\n",
       "      <td>Hot</td>\n",
       "      <td>High</td>\n",
       "      <td>Overcast</td>\n",
       "      <td>Weak</td>\n",
       "      <td>Yes</td>\n",
       "    </tr>\n",
       "    <tr>\n",
       "      <th>D4</th>\n",
       "      <td>Mild</td>\n",
       "      <td>High</td>\n",
       "      <td>Rain</td>\n",
       "      <td>Weak</td>\n",
       "      <td>Yes</td>\n",
       "    </tr>\n",
       "    <tr>\n",
       "      <th>D5</th>\n",
       "      <td>Cool</td>\n",
       "      <td>Normal</td>\n",
       "      <td>Rain</td>\n",
       "      <td>Weak</td>\n",
       "      <td>Yes</td>\n",
       "    </tr>\n",
       "    <tr>\n",
       "      <th>D6</th>\n",
       "      <td>Cool</td>\n",
       "      <td>Normal</td>\n",
       "      <td>Rain</td>\n",
       "      <td>Strong</td>\n",
       "      <td>No</td>\n",
       "    </tr>\n",
       "    <tr>\n",
       "      <th>D7</th>\n",
       "      <td>Cool</td>\n",
       "      <td>Normal</td>\n",
       "      <td>Overcast</td>\n",
       "      <td>Strong</td>\n",
       "      <td>Yes</td>\n",
       "    </tr>\n",
       "    <tr>\n",
       "      <th>D8</th>\n",
       "      <td>Mild</td>\n",
       "      <td>High</td>\n",
       "      <td>Sunny</td>\n",
       "      <td>Weak</td>\n",
       "      <td>No</td>\n",
       "    </tr>\n",
       "    <tr>\n",
       "      <th>D9</th>\n",
       "      <td>Cool</td>\n",
       "      <td>Normal</td>\n",
       "      <td>Sunny</td>\n",
       "      <td>Weak</td>\n",
       "      <td>Yes</td>\n",
       "    </tr>\n",
       "    <tr>\n",
       "      <th>D10</th>\n",
       "      <td>Mild</td>\n",
       "      <td>Normal</td>\n",
       "      <td>Rain</td>\n",
       "      <td>Weak</td>\n",
       "      <td>Yes</td>\n",
       "    </tr>\n",
       "    <tr>\n",
       "      <th>D11</th>\n",
       "      <td>Mild</td>\n",
       "      <td>Normal</td>\n",
       "      <td>Sunny</td>\n",
       "      <td>Strong</td>\n",
       "      <td>Yes</td>\n",
       "    </tr>\n",
       "    <tr>\n",
       "      <th>D12</th>\n",
       "      <td>Mild</td>\n",
       "      <td>High</td>\n",
       "      <td>Overcast</td>\n",
       "      <td>Strong</td>\n",
       "      <td>Yes</td>\n",
       "    </tr>\n",
       "    <tr>\n",
       "      <th>D13</th>\n",
       "      <td>Hot</td>\n",
       "      <td>Normal</td>\n",
       "      <td>Overcast</td>\n",
       "      <td>Weak</td>\n",
       "      <td>Yes</td>\n",
       "    </tr>\n",
       "    <tr>\n",
       "      <th>D14</th>\n",
       "      <td>Mild</td>\n",
       "      <td>High</td>\n",
       "      <td>Rain</td>\n",
       "      <td>Strong</td>\n",
       "      <td>No</td>\n",
       "    </tr>\n",
       "  </tbody>\n",
       "</table>\n",
       "</div>"
      ],
      "text/plain": [
       "     Temp Humidtity   Outlook    Wind Play tennis?\n",
       "DAY                                               \n",
       "D1    Hot      High     Sunny    Weak           No\n",
       "D2    Hot      High     Sunny  Strong           No\n",
       "D3    Hot      High  Overcast    Weak          Yes\n",
       "D4   Mild      High      Rain    Weak          Yes\n",
       "D5   Cool    Normal      Rain    Weak          Yes\n",
       "D6   Cool    Normal      Rain  Strong           No\n",
       "D7   Cool    Normal  Overcast  Strong          Yes\n",
       "D8   Mild      High     Sunny    Weak           No\n",
       "D9   Cool    Normal     Sunny    Weak          Yes\n",
       "D10  Mild    Normal      Rain    Weak          Yes\n",
       "D11  Mild    Normal     Sunny  Strong          Yes\n",
       "D12  Mild      High  Overcast  Strong          Yes\n",
       "D13   Hot    Normal  Overcast    Weak          Yes\n",
       "D14  Mild      High      Rain  Strong           No"
      ]
     },
     "execution_count": 3,
     "metadata": {},
     "output_type": "execute_result"
    }
   ],
   "source": [
    "df = pd.read_excel(r\"C:\\Users\\Admin\\Desktop\\Nhan_pro\\Data\\ML\\tennis_weather.xlsx\", index_col = 'DAY')\n",
    "df"
   ]
  },
  {
   "cell_type": "code",
   "execution_count": 4,
   "metadata": {},
   "outputs": [
    {
     "data": {
      "text/html": [
       "<div>\n",
       "<style scoped>\n",
       "    .dataframe tbody tr th:only-of-type {\n",
       "        vertical-align: middle;\n",
       "    }\n",
       "\n",
       "    .dataframe tbody tr th {\n",
       "        vertical-align: top;\n",
       "    }\n",
       "\n",
       "    .dataframe thead th {\n",
       "        text-align: right;\n",
       "    }\n",
       "</style>\n",
       "<table border=\"1\" class=\"dataframe\">\n",
       "  <thead>\n",
       "    <tr style=\"text-align: right;\">\n",
       "      <th></th>\n",
       "      <th>Outlook_Overcast</th>\n",
       "      <th>Outlook_Rain</th>\n",
       "      <th>Outlook_Sunny</th>\n",
       "      <th>Temp_Cool</th>\n",
       "      <th>Temp_Hot</th>\n",
       "      <th>Temp_Mild</th>\n",
       "      <th>Humidtity_High</th>\n",
       "      <th>Humidtity_Normal</th>\n",
       "      <th>Wind_Strong</th>\n",
       "      <th>Wind_Weak</th>\n",
       "    </tr>\n",
       "    <tr>\n",
       "      <th>DAY</th>\n",
       "      <th></th>\n",
       "      <th></th>\n",
       "      <th></th>\n",
       "      <th></th>\n",
       "      <th></th>\n",
       "      <th></th>\n",
       "      <th></th>\n",
       "      <th></th>\n",
       "      <th></th>\n",
       "      <th></th>\n",
       "    </tr>\n",
       "  </thead>\n",
       "  <tbody>\n",
       "    <tr>\n",
       "      <th>D1</th>\n",
       "      <td>0</td>\n",
       "      <td>0</td>\n",
       "      <td>1</td>\n",
       "      <td>0</td>\n",
       "      <td>1</td>\n",
       "      <td>0</td>\n",
       "      <td>1</td>\n",
       "      <td>0</td>\n",
       "      <td>0</td>\n",
       "      <td>1</td>\n",
       "    </tr>\n",
       "    <tr>\n",
       "      <th>D2</th>\n",
       "      <td>0</td>\n",
       "      <td>0</td>\n",
       "      <td>1</td>\n",
       "      <td>0</td>\n",
       "      <td>1</td>\n",
       "      <td>0</td>\n",
       "      <td>1</td>\n",
       "      <td>0</td>\n",
       "      <td>1</td>\n",
       "      <td>0</td>\n",
       "    </tr>\n",
       "    <tr>\n",
       "      <th>D3</th>\n",
       "      <td>1</td>\n",
       "      <td>0</td>\n",
       "      <td>0</td>\n",
       "      <td>0</td>\n",
       "      <td>1</td>\n",
       "      <td>0</td>\n",
       "      <td>1</td>\n",
       "      <td>0</td>\n",
       "      <td>0</td>\n",
       "      <td>1</td>\n",
       "    </tr>\n",
       "    <tr>\n",
       "      <th>D4</th>\n",
       "      <td>0</td>\n",
       "      <td>1</td>\n",
       "      <td>0</td>\n",
       "      <td>0</td>\n",
       "      <td>0</td>\n",
       "      <td>1</td>\n",
       "      <td>1</td>\n",
       "      <td>0</td>\n",
       "      <td>0</td>\n",
       "      <td>1</td>\n",
       "    </tr>\n",
       "    <tr>\n",
       "      <th>D5</th>\n",
       "      <td>0</td>\n",
       "      <td>1</td>\n",
       "      <td>0</td>\n",
       "      <td>1</td>\n",
       "      <td>0</td>\n",
       "      <td>0</td>\n",
       "      <td>0</td>\n",
       "      <td>1</td>\n",
       "      <td>0</td>\n",
       "      <td>1</td>\n",
       "    </tr>\n",
       "    <tr>\n",
       "      <th>D6</th>\n",
       "      <td>0</td>\n",
       "      <td>1</td>\n",
       "      <td>0</td>\n",
       "      <td>1</td>\n",
       "      <td>0</td>\n",
       "      <td>0</td>\n",
       "      <td>0</td>\n",
       "      <td>1</td>\n",
       "      <td>1</td>\n",
       "      <td>0</td>\n",
       "    </tr>\n",
       "    <tr>\n",
       "      <th>D7</th>\n",
       "      <td>1</td>\n",
       "      <td>0</td>\n",
       "      <td>0</td>\n",
       "      <td>1</td>\n",
       "      <td>0</td>\n",
       "      <td>0</td>\n",
       "      <td>0</td>\n",
       "      <td>1</td>\n",
       "      <td>1</td>\n",
       "      <td>0</td>\n",
       "    </tr>\n",
       "    <tr>\n",
       "      <th>D8</th>\n",
       "      <td>0</td>\n",
       "      <td>0</td>\n",
       "      <td>1</td>\n",
       "      <td>0</td>\n",
       "      <td>0</td>\n",
       "      <td>1</td>\n",
       "      <td>1</td>\n",
       "      <td>0</td>\n",
       "      <td>0</td>\n",
       "      <td>1</td>\n",
       "    </tr>\n",
       "    <tr>\n",
       "      <th>D9</th>\n",
       "      <td>0</td>\n",
       "      <td>0</td>\n",
       "      <td>1</td>\n",
       "      <td>1</td>\n",
       "      <td>0</td>\n",
       "      <td>0</td>\n",
       "      <td>0</td>\n",
       "      <td>1</td>\n",
       "      <td>0</td>\n",
       "      <td>1</td>\n",
       "    </tr>\n",
       "    <tr>\n",
       "      <th>D10</th>\n",
       "      <td>0</td>\n",
       "      <td>1</td>\n",
       "      <td>0</td>\n",
       "      <td>0</td>\n",
       "      <td>0</td>\n",
       "      <td>1</td>\n",
       "      <td>0</td>\n",
       "      <td>1</td>\n",
       "      <td>0</td>\n",
       "      <td>1</td>\n",
       "    </tr>\n",
       "    <tr>\n",
       "      <th>D11</th>\n",
       "      <td>0</td>\n",
       "      <td>0</td>\n",
       "      <td>1</td>\n",
       "      <td>0</td>\n",
       "      <td>0</td>\n",
       "      <td>1</td>\n",
       "      <td>0</td>\n",
       "      <td>1</td>\n",
       "      <td>1</td>\n",
       "      <td>0</td>\n",
       "    </tr>\n",
       "    <tr>\n",
       "      <th>D12</th>\n",
       "      <td>1</td>\n",
       "      <td>0</td>\n",
       "      <td>0</td>\n",
       "      <td>0</td>\n",
       "      <td>0</td>\n",
       "      <td>1</td>\n",
       "      <td>1</td>\n",
       "      <td>0</td>\n",
       "      <td>1</td>\n",
       "      <td>0</td>\n",
       "    </tr>\n",
       "    <tr>\n",
       "      <th>D13</th>\n",
       "      <td>1</td>\n",
       "      <td>0</td>\n",
       "      <td>0</td>\n",
       "      <td>0</td>\n",
       "      <td>1</td>\n",
       "      <td>0</td>\n",
       "      <td>0</td>\n",
       "      <td>1</td>\n",
       "      <td>0</td>\n",
       "      <td>1</td>\n",
       "    </tr>\n",
       "    <tr>\n",
       "      <th>D14</th>\n",
       "      <td>0</td>\n",
       "      <td>1</td>\n",
       "      <td>0</td>\n",
       "      <td>0</td>\n",
       "      <td>0</td>\n",
       "      <td>1</td>\n",
       "      <td>1</td>\n",
       "      <td>0</td>\n",
       "      <td>1</td>\n",
       "      <td>0</td>\n",
       "    </tr>\n",
       "  </tbody>\n",
       "</table>\n",
       "</div>"
      ],
      "text/plain": [
       "     Outlook_Overcast  Outlook_Rain  Outlook_Sunny  Temp_Cool  Temp_Hot  \\\n",
       "DAY                                                                       \n",
       "D1                  0             0              1          0         1   \n",
       "D2                  0             0              1          0         1   \n",
       "D3                  1             0              0          0         1   \n",
       "D4                  0             1              0          0         0   \n",
       "D5                  0             1              0          1         0   \n",
       "D6                  0             1              0          1         0   \n",
       "D7                  1             0              0          1         0   \n",
       "D8                  0             0              1          0         0   \n",
       "D9                  0             0              1          1         0   \n",
       "D10                 0             1              0          0         0   \n",
       "D11                 0             0              1          0         0   \n",
       "D12                 1             0              0          0         0   \n",
       "D13                 1             0              0          0         1   \n",
       "D14                 0             1              0          0         0   \n",
       "\n",
       "     Temp_Mild  Humidtity_High  Humidtity_Normal  Wind_Strong  Wind_Weak  \n",
       "DAY                                                                       \n",
       "D1           0               1                 0            0          1  \n",
       "D2           0               1                 0            1          0  \n",
       "D3           0               1                 0            0          1  \n",
       "D4           1               1                 0            0          1  \n",
       "D5           0               0                 1            0          1  \n",
       "D6           0               0                 1            1          0  \n",
       "D7           0               0                 1            1          0  \n",
       "D8           1               1                 0            0          1  \n",
       "D9           0               0                 1            0          1  \n",
       "D10          1               0                 1            0          1  \n",
       "D11          1               0                 1            1          0  \n",
       "D12          1               1                 0            1          0  \n",
       "D13          0               0                 1            0          1  \n",
       "D14          1               1                 0            1          0  "
      ]
     },
     "execution_count": 4,
     "metadata": {},
     "output_type": "execute_result"
    }
   ],
   "source": [
    "X = pd.get_dummies(df[['Outlook', 'Temp', 'Humidtity', 'Wind']])\n",
    "y = pd.DataFrame(df['Play tennis?'])\n",
    "X"
   ]
  },
  {
   "cell_type": "code",
   "execution_count": 5,
   "metadata": {},
   "outputs": [
    {
     "data": {
      "text/plain": [
       "Index(['Temp', 'Humidtity', 'Outlook', 'Wind', 'Play tennis?'], dtype='object')"
      ]
     },
     "execution_count": 5,
     "metadata": {},
     "output_type": "execute_result"
    }
   ],
   "source": [
    "df.columns"
   ]
  },
  {
   "cell_type": "code",
   "execution_count": 6,
   "metadata": {},
   "outputs": [
    {
     "data": {
      "text/plain": [
       "array(['No', 'No', 'Yes', 'Yes', 'Yes', 'No', 'Yes', 'No', 'Yes', 'Yes',\n",
       "       'Yes', 'Yes', 'Yes', 'No'], dtype=object)"
      ]
     },
     "execution_count": 6,
     "metadata": {},
     "output_type": "execute_result"
    }
   ],
   "source": [
    "tree = DecisionTreeClassifier(criterion = 'gini', \n",
    "                              max_depth = 4, \n",
    "                              random_state = 1) \n",
    "tree.fit(X, y)\n",
    "tree.predict(X)"
   ]
  },
  {
   "cell_type": "code",
   "execution_count": 7,
   "metadata": {},
   "outputs": [
    {
     "data": {
      "text/plain": [
       "1.0"
      ]
     },
     "execution_count": 7,
     "metadata": {},
     "output_type": "execute_result"
    }
   ],
   "source": [
    "from sklearn.metrics import accuracy_score\n",
    "\n",
    "accuracy_score(y, tree.predict(X))"
   ]
  },
  {
   "cell_type": "markdown",
   "metadata": {},
   "source": [
    "Now, we will see the `diagram`"
   ]
  },
  {
   "cell_type": "code",
   "execution_count": 8,
   "metadata": {},
   "outputs": [
    {
     "data": {
      "image/png": "[encoded data removed]",
      "text/plain": [
       "<Figure size 720x360 with 1 Axes>"
      ]
     },
     "metadata": {
      "needs_background": "light"
     },
     "output_type": "display_data"
    }
   ],
   "source": [
    "accs = []\n",
    "\n",
    "for max_depth in range(1, 11):  \n",
    "    clf = DecisionTreeClassifier(max_depth = max_depth)\n",
    "    clf.fit(X, y)\n",
    "    accs.append(accuracy_score(y, clf.predict(X)))\n",
    "\n",
    "plt.figure(figsize = (10, 5))\n",
    "plt.plot(range(1, 11), accs)\n",
    "plt.xlabel('max depth')\n",
    "plt.ylabel(\"accuracy_score\")\n",
    "plt.show()"
   ]
  },
  {
   "cell_type": "markdown",
   "metadata": {},
   "source": [
    "To get the diagram in the link below: https://github.com/Nhan121/Lectures_notes-teaching-in-VN-/blob/master/Statistics/Machine%20Learning/Tree_decision%20%26%20random%20forest/dtree_tennis.png\n",
    "\n",
    "we can run the following code"
   ]
  },
  {
   "cell_type": "code",
   "execution_count": 9,
   "metadata": {},
   "outputs": [
    {
     "data": {
      "text/plain": [
       "<pydotplus.graphviz.Dot at 0x191baa6e3c8>"
      ]
     },
     "execution_count": 9,
     "metadata": {},
     "output_type": "execute_result"
    }
   ],
   "source": [
    "#pip install graphviz\n",
    "#!pip install pydotplus\n",
    "import graphviz\n",
    "from pydotplus import graph_from_dot_data \n",
    "from sklearn.tree import export_graphviz \n",
    "\n",
    "clf = DecisionTreeClassifier(max_depth=4,  criterion = 'gini', min_samples_split= 2)\n",
    "clf.fit(X, y)\n",
    "dot_data = export_graphviz(clf,  filled=True, \n",
    "                  rounded=True, \n",
    "                  feature_names = list(X.columns), class_names = [\"No\", \"Yes\"])\n",
    "\n",
    "graph = graph_from_dot_data(dot_data) \n",
    "# graph.write_png('dtree_tennis.png') \n",
    "graph"
   ]
  },
  {
   "cell_type": "markdown",
   "metadata": {},
   "source": [
    "Now, we will explain step_by_step the detail of this algorithm for the preceding `decision tree`!!\n",
    "\n",
    "Look at the `Play tennis` in this example; we have `5` times the `respone = \"No\"` and `9` for `\"Yes\"`. The `entropy` and the `gini index` at this `root node` $S$ are calculated by\n",
    "$$ H(S) = -\\dfrac{5}{14} \\log \\left( \\dfrac{5}{14} \\right) - \\dfrac{9}{14} \\log \\left( \\dfrac{9}{14} \\right) \\approx 0.65 $$\n",
    "and\n",
    "$$ I_G(S) = \\dfrac{5}{14} \\left( 1 - \\dfrac{5}{14} \\right) + \\dfrac{9}{14} \\left( 1 - \\dfrac{9}{14} \\right) \\approx 0.4592 $$ "
   ]
  },
  {
   "cell_type": "markdown",
   "metadata": {},
   "source": [
    "Therefore, the `root node` must be `out look`. Indeed, based on the maximizing of the `information gain` $IG(x, S)$ (also the minimizing of $H(x, S)$) where $x$ can be `outlook, temperature, humidity` and `windy`. Indeed\n",
    "\n",
    "- For $x =$ `outlook`, there are 3 `child nodes`; denoted by  $S_{\\text{sunny}}, S_{\\text{overcast}}, S_{\\text{rainy}}$. Look at the tables in the link below.\n",
    "https://github.com/Nhan121/Lectures_notes-teaching-in-VN-/blob/master/Statistics/Machine%20Learning/Tree_decision%20%26%20random%20forest/tab.JPG , then\n",
    "\n",
    "$$ H(S_{\\text{sunny}}) = H(S_{\\text{rainy}}) = -\\dfrac{2}{5} \\log \\left( \\frac{2}{5} \\right) -\\dfrac{3}{5} \\log \\left( \\frac{3}{5} \\right) \\approx 0.673, \\text{ and } H(S_{\\text{overcast}}) = 0, $$\n",
    "\n",
    "so,\n",
    "$$ \\begin{array}{ccl} H\\left( x = \\text{outlook}, S \\right) &=& \\dfrac{\\vert S_{\\text{sunny}} \\vert}{N} H\\left( S_{\\text{sunny}} \\right) + \\dfrac{\\vert S_{\\text{rainy}} \\vert}{N} H\\left( S_{\\text{rainy}} \\right) + \\dfrac{\\vert S_{\\text{overcast}} \\vert}{N} H\\left( S_{\\text{overcast}} \\right) \\\\ & = & \\dfrac{5}{14} H\\left( S_{\\text{sunny}} \\right) + \\dfrac{5}{14} H\\left( S_{\\text{rainy}} \\right) + \\dfrac{4}{14} H\\left( S_{\\text{overcast}} \\right) \\approx 0.48. \\end{array} $$"
   ]
  },
  {
   "cell_type": "code",
   "execution_count": 10,
   "metadata": {},
   "outputs": [
    {
     "data": {
      "text/plain": [
       "(0.6517565611726532, 0.6730116670092565)"
      ]
     },
     "execution_count": 10,
     "metadata": {},
     "output_type": "execute_result"
    }
   ],
   "source": [
    "## verify the entropy values above\n",
    "\n",
    "shanon_entropy2(5/14), shanon_entropy2(2/5)"
   ]
  },
  {
   "cell_type": "markdown",
   "metadata": {},
   "source": [
    "- For $x =$ `temperature`, there are 3 `child nodes`; denoted by  $S_{\\text{hot}}, S_{\\text{mild}}, S_{\\text{cool}}$; do the same thing and we obtain\n",
    "\n",
    "$$ \\begin{array}{ccl} H\\left( x = \\text{temperature}, S \\right) &=& \\dfrac{\\vert S_{\\text{hot}} \\vert}{N} H\\left( S_{\\text{hot}} \\right) + \\dfrac{\\vert S_{\\text{mild}} \\vert}{N} H\\left( S_{\\text{mild}} \\right) + \\dfrac{\\vert S_{\\text{cool}} \\vert}{N} H\\left( S_{\\text{cool}} \\right) \\\\ & \\approx & \\dfrac{4}{14} \\times 0.693 + \\dfrac{6}{14} \\times 0.637 + \\dfrac{4}{14} \\times 0.562 \\approx 0.631. \\end{array} $$ \n",
    "\n",
    "- Likewise, we obtain\n",
    "$$ H\\left( x = \\text{humidity}, S \\right) \\approx 0.547  ,\\text{ and } H\\left( x = \\text{windy}, S \\right) \\approx 0.618 $$\n",
    "\n",
    "So \n",
    "\n",
    "$$ \\text{outlook} = \\underset{x}{\\text{argmin}} H(x, S)$$\n",
    "\n",
    "the `root node` $x^{*}$ here must be `outlook` ($H(x, S) \\approx 0.48$)."
   ]
  },
  {
   "cell_type": "code",
   "execution_count": 11,
   "metadata": {},
   "outputs": [],
   "source": [
    "## Define the gini index for the binary classification\n",
    "\n",
    "def gini(p): \n",
    "    return (p)*(1 - (p)) + (1 - p)*(1 - (1-p))"
   ]
  },
  {
   "cell_type": "markdown",
   "metadata": {},
   "source": [
    "We had started with 14 samples at the root and split them into two child nodes with `5(\"No\")` and `9(\"Yes\")` samples, the `gini_index` is about `0.459`. At the `root node` we using the **`outlook_overcast <= 0.5`** (`binary` feature since we used **`pd.get_dummies`**, all features of our dataset become the `binary-feature`) or $x^{*} = $ { `outlook = \"overcast\"`} (contains only the class `\"Yes\"`)\n",
    "\n",
    "After the `first split`, repeat the same thing for sub-trees, we will obtain the next `node` be `humidity` and we can see that :\n",
    "- In the `right child node : outlook == \"overcast\"` is only contains samples from the `play = \"Yes\"` class and the `Gini Impurity` \n",
    "$$ I_G = \\dfrac{0}{4} \\left( 1 - \\dfrac{0}{4} \\right) + \\dfrac{4}{4} \\left( 1 - \\dfrac{4}{4} \\right) = 0.$$\n",
    "\n",
    "- In the `left child note` (that is `outlook != \"overcast\"`), there are 10 samples and observe that\n",
    "$$ P\\left( \\text{\"high\" & \"not overcast\"} \\vert \\text{\"No\"}  \\right) = \\frac{4}{5} = 0.8,  $$\n",
    "$$ P\\left( \\text{\"normal\" & \"not overcast\"} \\vert \\text{\"No\"}  \\right) = \\frac{1}{5} = 0.2  $$\n",
    "\n",
    "Since there are `5` observations in `Humidity = \"High\"` at this `node` then the `gini index` be\n",
    "$$ I_G = \\dfrac{5}{10} \\left( 1 - \\dfrac{5}{10} \\right) + \\dfrac{5}{10} \\left( 1 - \\dfrac{5}{10} \\right) = 0.5. $$\n",
    "in this case! \n",
    "\n",
    "- By the similar calculation; we obtain the rest of the `decision tree.`"
   ]
  },
  {
   "cell_type": "code",
   "execution_count": 12,
   "metadata": {},
   "outputs": [
    {
     "data": {
      "text/plain": [
       "(0, 0.5)"
      ]
     },
     "execution_count": 12,
     "metadata": {},
     "output_type": "execute_result"
    }
   ],
   "source": [
    "## Verify the gini-indexes above\n",
    "\n",
    "gini(0), gini(5/10)"
   ]
  },
  {
   "cell_type": "code",
   "execution_count": 13,
   "metadata": {},
   "outputs": [
    {
     "data": {
      "image/png": "[encoded data removed]",
      "text/plain": [
       "<Figure size 720x360 with 1 Axes>"
      ]
     },
     "metadata": {
      "needs_background": "light"
     },
     "output_type": "display_data"
    }
   ],
   "source": [
    "train_accs = []\n",
    "test_accs = []\n",
    "X_train, X_test, y_train, y_test = train_test_split(X, y, test_size = 6)\n",
    "\n",
    "for max_depth in range(1, 11):  \n",
    "    clf = DecisionTreeClassifier(max_depth = max_depth)\n",
    "    clf.fit(X_train, y_train)\n",
    "    train_accs.append(accuracy_score(y_train, clf.predict(X_train)))\n",
    "    test_accs.append(accuracy_score(y_test, clf.predict(X_test)))\n",
    "\n",
    "plt.figure(figsize = (10, 5))\n",
    "plt.plot(range(1, 11), train_accs, label = 'train_acc')\n",
    "plt.plot(range(1, 11), test_accs, label = 'test_acc')\n",
    "plt.legend()\n",
    "plt.xlabel('max depth')\n",
    "plt.ylabel(\"accuracy_score\")\n",
    "plt.show()"
   ]
  },
  {
   "cell_type": "markdown",
   "metadata": {},
   "source": [
    "Although the preceding figure (for `tennis_weather.csv`) illustrates the concept of a decision tree based on categorical variables, the same concept applies if our features are real numbers, like in the Iris dataset. \n",
    "\n",
    "**Example 2.** We could simply define a `cut-off` value along the sepal width feature axis and ask a binary question."
   ]
  },
  {
   "cell_type": "code",
   "execution_count": 14,
   "metadata": {},
   "outputs": [],
   "source": [
    "from sklearn.datasets import *\n",
    "\n",
    "cancer = load_breast_cancer()\n",
    "X, y = cancer.data, cancer.target"
   ]
  },
  {
   "cell_type": "code",
   "execution_count": 15,
   "metadata": {},
   "outputs": [
    {
     "data": {
      "text/plain": [
       "<pydotplus.graphviz.Dot at 0x191baa67508>"
      ]
     },
     "execution_count": 15,
     "metadata": {},
     "output_type": "execute_result"
    }
   ],
   "source": [
    "clf = DecisionTreeClassifier(max_depth = 10,  criterion = 'gini', \n",
    "                             min_samples_split= 2)\n",
    "\n",
    "clf.fit(cancer.data, cancer.target)\n",
    "\n",
    "dot_data = export_graphviz(clf,  filled=True, \n",
    "                  rounded=True, \n",
    "                  feature_names = cancer.feature_names, class_names = [\"malignant\", \"benign\"])\n",
    "\n",
    "\n",
    "graph = graph_from_dot_data(dot_data) \n",
    "# graph.write_png('dtree_cancer.png') \n",
    "graph"
   ]
  },
  {
   "cell_type": "markdown",
   "metadata": {},
   "source": [
    "https://github.com/Nhan121/Lectures_notes-teaching-in-VN-/blob/master/Statistics/Machine%20Learning/Tree_decision%20%26%20random%20forest/dtree_cancer.png\n",
    "\n",
    "By considering the maximizing value of `information gain` or minimizing value of $H(x, S)$ again, (similar to the explaination \"*why choosing* `outlook` *be the* `root node`\" in **Example 1**); we also get the `root node` now be `worst-radius` in this example. \n",
    "\n",
    "Again by calculation the `gini_index` then looking at the `decision tree` figure, we can now nicely trace back the splits that the decision tree determined from our dataset. For instance, we have `212` samples of `benign` and `317` case of `malignant` so the `gini-index` is about `0.468`\n",
    "\n",
    "Next, we started with `569` samples at the root and split them into `2 child nodes` with `190` and `379` samples, using the `worst-radius cut-off ≤ 16.795`. Hence, after the first split\n",
    "- The `gini-index` at the `right child node` is about `0.109` because there are `179` observations (the totall be `190`) has the `mean_texture ≤ 16.11`\n",
    "- Likewise, in the `left child node`, there are `33` observations (of `379`) has `worst concave point ≤ 0.136` leads the `gini index` is about `0.159`. \n",
    "\n",
    "Do the same thing until the `depth = 10`."
   ]
  },
  {
   "cell_type": "code",
   "execution_count": 16,
   "metadata": {},
   "outputs": [
    {
     "data": {
      "text/plain": [
       "(0.4675300607546925, 0.10908587257617722, 0.1589796785040483)"
      ]
     },
     "execution_count": 16,
     "metadata": {},
     "output_type": "execute_result"
    }
   ],
   "source": [
    "## Check the gini index again!\n",
    "\n",
    "gini(212/569), gini(179/190), gini(33/379)"
   ]
  },
  {
   "cell_type": "markdown",
   "metadata": {},
   "source": [
    "In the example1; the sample_size = 14; it is not enough to reflect a `testing_accuaracy` is good or not! But in this example; we will take a look to study the `testing_acccuarcy` and this model can be make `overfiting or not`?"
   ]
  },
  {
   "cell_type": "code",
   "execution_count": 17,
   "metadata": {},
   "outputs": [
    {
     "data": {
      "image/png": "[encoded data removed]",
      "text/plain": [
       "<Figure size 720x360 with 1 Axes>"
      ]
     },
     "metadata": {
      "needs_background": "light"
     },
     "output_type": "display_data"
    }
   ],
   "source": [
    "train_accs = []\n",
    "test_accs = []\n",
    "X_train, X_test, y_train, y_test = train_test_split(X, y, test_size = 0.33, random_state = 2)\n",
    "\n",
    "for max_depth in range(1, 11):  \n",
    "    clf = DecisionTreeClassifier(max_depth = max_depth)\n",
    "    clf.fit(X_train, y_train)\n",
    "    train_accs.append(accuracy_score(y_train, clf.predict(X_train)))\n",
    "    test_accs.append(accuracy_score(y_test, clf.predict(X_test)) )\n",
    "\n",
    "plt.figure(figsize = (10, 5))\n",
    "plt.plot(range(1, 11), train_accs, label = 'train_acc')\n",
    "plt.plot(range(1, 11), test_accs, label = 'test_acc')\n",
    "plt.legend()\n",
    "plt.xlabel('max depth')\n",
    "plt.ylabel(\"accuracy_score\")\n",
    "plt.show()"
   ]
  },
  {
   "cell_type": "markdown",
   "metadata": {},
   "source": [
    "**Example 3.**"
   ]
  },
  {
   "cell_type": "code",
   "execution_count": 18,
   "metadata": {},
   "outputs": [
    {
     "data": {
      "text/html": [
       "<div>\n",
       "<style scoped>\n",
       "    .dataframe tbody tr th:only-of-type {\n",
       "        vertical-align: middle;\n",
       "    }\n",
       "\n",
       "    .dataframe tbody tr th {\n",
       "        vertical-align: top;\n",
       "    }\n",
       "\n",
       "    .dataframe thead th {\n",
       "        text-align: right;\n",
       "    }\n",
       "</style>\n",
       "<table border=\"1\" class=\"dataframe\">\n",
       "  <thead>\n",
       "    <tr style=\"text-align: right;\">\n",
       "      <th></th>\n",
       "      <th>survived</th>\n",
       "      <th>pclass</th>\n",
       "      <th>sex</th>\n",
       "      <th>age</th>\n",
       "      <th>sibsp</th>\n",
       "      <th>parch</th>\n",
       "      <th>fare</th>\n",
       "      <th>embarked</th>\n",
       "      <th>class</th>\n",
       "      <th>who</th>\n",
       "      <th>adult_male</th>\n",
       "      <th>deck</th>\n",
       "      <th>embark_town</th>\n",
       "      <th>alive</th>\n",
       "      <th>alone</th>\n",
       "    </tr>\n",
       "  </thead>\n",
       "  <tbody>\n",
       "    <tr>\n",
       "      <th>1</th>\n",
       "      <td>1</td>\n",
       "      <td>1</td>\n",
       "      <td>female</td>\n",
       "      <td>38.0</td>\n",
       "      <td>1</td>\n",
       "      <td>0</td>\n",
       "      <td>71.2833</td>\n",
       "      <td>C</td>\n",
       "      <td>First</td>\n",
       "      <td>woman</td>\n",
       "      <td>False</td>\n",
       "      <td>C</td>\n",
       "      <td>Cherbourg</td>\n",
       "      <td>yes</td>\n",
       "      <td>False</td>\n",
       "    </tr>\n",
       "    <tr>\n",
       "      <th>3</th>\n",
       "      <td>1</td>\n",
       "      <td>1</td>\n",
       "      <td>female</td>\n",
       "      <td>35.0</td>\n",
       "      <td>1</td>\n",
       "      <td>0</td>\n",
       "      <td>53.1000</td>\n",
       "      <td>S</td>\n",
       "      <td>First</td>\n",
       "      <td>woman</td>\n",
       "      <td>False</td>\n",
       "      <td>C</td>\n",
       "      <td>Southampton</td>\n",
       "      <td>yes</td>\n",
       "      <td>False</td>\n",
       "    </tr>\n",
       "    <tr>\n",
       "      <th>6</th>\n",
       "      <td>0</td>\n",
       "      <td>1</td>\n",
       "      <td>male</td>\n",
       "      <td>54.0</td>\n",
       "      <td>0</td>\n",
       "      <td>0</td>\n",
       "      <td>51.8625</td>\n",
       "      <td>S</td>\n",
       "      <td>First</td>\n",
       "      <td>man</td>\n",
       "      <td>True</td>\n",
       "      <td>E</td>\n",
       "      <td>Southampton</td>\n",
       "      <td>no</td>\n",
       "      <td>True</td>\n",
       "    </tr>\n",
       "    <tr>\n",
       "      <th>10</th>\n",
       "      <td>1</td>\n",
       "      <td>3</td>\n",
       "      <td>female</td>\n",
       "      <td>4.0</td>\n",
       "      <td>1</td>\n",
       "      <td>1</td>\n",
       "      <td>16.7000</td>\n",
       "      <td>S</td>\n",
       "      <td>Third</td>\n",
       "      <td>child</td>\n",
       "      <td>False</td>\n",
       "      <td>G</td>\n",
       "      <td>Southampton</td>\n",
       "      <td>yes</td>\n",
       "      <td>False</td>\n",
       "    </tr>\n",
       "    <tr>\n",
       "      <th>11</th>\n",
       "      <td>1</td>\n",
       "      <td>1</td>\n",
       "      <td>female</td>\n",
       "      <td>58.0</td>\n",
       "      <td>0</td>\n",
       "      <td>0</td>\n",
       "      <td>26.5500</td>\n",
       "      <td>S</td>\n",
       "      <td>First</td>\n",
       "      <td>woman</td>\n",
       "      <td>False</td>\n",
       "      <td>C</td>\n",
       "      <td>Southampton</td>\n",
       "      <td>yes</td>\n",
       "      <td>True</td>\n",
       "    </tr>\n",
       "  </tbody>\n",
       "</table>\n",
       "</div>"
      ],
      "text/plain": [
       "    survived  pclass     sex   age  sibsp  parch     fare embarked  class  \\\n",
       "1          1       1  female  38.0      1      0  71.2833        C  First   \n",
       "3          1       1  female  35.0      1      0  53.1000        S  First   \n",
       "6          0       1    male  54.0      0      0  51.8625        S  First   \n",
       "10         1       3  female   4.0      1      1  16.7000        S  Third   \n",
       "11         1       1  female  58.0      0      0  26.5500        S  First   \n",
       "\n",
       "      who  adult_male deck  embark_town alive  alone  \n",
       "1   woman       False    C    Cherbourg   yes  False  \n",
       "3   woman       False    C  Southampton   yes  False  \n",
       "6     man        True    E  Southampton    no   True  \n",
       "10  child       False    G  Southampton   yes  False  \n",
       "11  woman       False    C  Southampton   yes   True  "
      ]
     },
     "execution_count": 18,
     "metadata": {},
     "output_type": "execute_result"
    }
   ],
   "source": [
    "import seaborn as sns\n",
    "ttn = sns.load_dataset(\"titanic\")\n",
    "ttn = ttn.dropna()\n",
    "ttn.head()"
   ]
  },
  {
   "cell_type": "code",
   "execution_count": 19,
   "metadata": {},
   "outputs": [
    {
     "data": {
      "image/png": "[encoded data removed]",
      "text/plain": [
       "<Figure size 720x360 with 1 Axes>"
      ]
     },
     "metadata": {
      "needs_background": "light"
     },
     "output_type": "display_data"
    }
   ],
   "source": [
    "X = pd.get_dummies(ttn[['sex', 'embarked', 'who', 'adult_male', 'embark_town', 'alone']])\n",
    "X['pclass'] = ttn['pclass']\n",
    "X['fare'] = ttn['fare']\n",
    "X['age'] = ttn['age']\n",
    "X['parch'] = ttn['parch']\n",
    "X.shape\n",
    "y = pd.DataFrame(ttn[\"alive\"])\n",
    "\n",
    "accs = []\n",
    "\n",
    "for max_depth in range(1, 31):  \n",
    "    clf = DecisionTreeClassifier(max_depth = max_depth)\n",
    "    clf.fit(X, y)\n",
    "    accs.append(accuracy_score(y, clf.predict(X)))\n",
    "\n",
    "plt.figure(figsize = (10, 5))\n",
    "plt.plot(range(1, 31), accs)\n",
    "plt.xlabel('max depth')\n",
    "plt.ylabel(\"accuracy_score\")\n",
    "plt.show()"
   ]
  },
  {
   "cell_type": "code",
   "execution_count": 20,
   "metadata": {},
   "outputs": [],
   "source": [
    "from pydotplus import graph_from_dot_data \n",
    "from sklearn.tree import export_graphviz \n",
    "\n",
    "clf = DecisionTreeClassifier(max_depth=15,  criterion = 'gini', min_samples_split= 2)\n",
    "clf.fit(X, y)\n",
    "dot_data = export_graphviz(clf,  filled=True, \n",
    "                  rounded=True, \n",
    "                  feature_names = list(X.columns), class_names = [\"No\", \"Yes\"])\n",
    "\n",
    "graph = graph_from_dot_data(dot_data) \n",
    "#graph.write_png('dtree_titanic.png') "
   ]
  },
  {
   "cell_type": "markdown",
   "metadata": {},
   "source": [
    "- For `max_depth = 10`: https://github.com/Nhan121/Lectures_notes-teaching-in-VN-/blob/master/Statistics/Machine%20Learning/Tree_decision%20%26%20random%20forest/dtree_titanic.png\n",
    "\n",
    "- For `max_depth = 14`: https://github.com/Nhan121/Lectures_notes-teaching-in-VN-/blob/master/Statistics/Machine%20Learning/Tree_decision%20%26%20random%20forest/dtree_titanic_depth%3D14.png"
   ]
  },
  {
   "cell_type": "code",
   "execution_count": 21,
   "metadata": {},
   "outputs": [
    {
     "data": {
      "image/png": "[encoded data removed]",
      "text/plain": [
       "<Figure size 720x360 with 1 Axes>"
      ]
     },
     "metadata": {
      "needs_background": "light"
     },
     "output_type": "display_data"
    }
   ],
   "source": [
    "train_accs = []\n",
    "test_accs = []\n",
    "X_train, X_test, y_train, y_test = train_test_split(X, y, test_size = 0.33, random_state = 12)\n",
    "\n",
    "for max_depth in range(1, 21):  \n",
    "    clf = DecisionTreeClassifier(max_depth = max_depth)\n",
    "    clf.fit(X_train, y_train)\n",
    "    train_accs.append(accuracy_score(y_train, clf.predict(X_train)))\n",
    "    test_accs.append(accuracy_score(y_test, clf.predict(X_test)))\n",
    "\n",
    "plt.figure(figsize = (10, 5))\n",
    "plt.plot(range(1, 21), train_accs, label = 'train_acc')\n",
    "plt.plot(range(1, 21), test_accs, label = 'test_acc')\n",
    "plt.legend()\n",
    "plt.xlabel('max depth')\n",
    "plt.ylabel(\"accuracy_score\")\n",
    "plt.show()"
   ]
  }
 ],
 "metadata": {
  "kernelspec": {
   "display_name": "Python 3",
   "language": "python",
   "name": "python3"
  },
  "language_info": {
   "codemirror_mode": {
    "name": "ipython",
    "version": 3
   },
   "file_extension": ".py",
   "mimetype": "text/x-python",
   "name": "python",
   "nbconvert_exporter": "python",
   "pygments_lexer": "ipython3",
   "version": "3.7.7"
  }
 },
 "nbformat": 4,
 "nbformat_minor": 4
}
