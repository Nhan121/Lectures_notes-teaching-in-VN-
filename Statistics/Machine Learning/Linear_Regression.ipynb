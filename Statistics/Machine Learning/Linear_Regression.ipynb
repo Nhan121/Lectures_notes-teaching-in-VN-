{
 "cells": [
  {
   "cell_type": "markdown",
   "metadata": {},
   "source": [
    "***`Linear regression`*** is a statistical approach for modelling relationship between a `dependent variable (Y)` with a given set of `independent variables (X_i)`.\n",
    "\n",
    "Note: In this article,\n",
    "- 1) we refer `dependent variables as response` and `independent variables as features` for simplicity.\n",
    "- 2) we focus on `simple linear regression` (as a simple case) then `multiple linear regression`"
   ]
  },
  {
   "cell_type": "markdown",
   "metadata": {},
   "source": [
    "**`Simple linear regression.`** is an approach for predicting a response using a single feature.\n",
    "\n",
    "It is assumed that the two variables are linearly related. Hence, we try to find a linear function that predicts the response value(y) as accurately as possible as a function of the feature or independent variable(x)\n",
    "\n",
    "$$ Y_i = X_i + \\xi_i, \\quad \\forall i = 1, \\ldots, n $$\n",
    "\n",
    "where $Y_i, X_i$ be the $i^{th}-$observation of the `respone(y)` and the `feature(x)` respectively. The $\\xi_i$ be supposed the independent `random noise`.\n",
    "\n",
    "Now, our problem is to find a `line which fits best` for the `scatter plot (of the pair (x_i, y_i))` so that we can predict the response for any new feature values. (i.e a value of x not present in dataset). This line is called ***`regression line`*** and will be represented as:\n",
    "\n",
    "$$ \\hat{Y}_i = \\phi(X_i) = \\beta_0 + \\beta_1 X_i , \\quad \\forall i = 1, \\ldots, n.$$\n",
    "\n",
    "Here,\n",
    "- $\\hat{Y}_i $ represents the `predicted response value` for $i^{th}$ observation.\n",
    "- $\\beta_0, \\beta_1$ be called the `regression coefficients` and represent the `intercept` and `slope` of regression line respectively. \n",
    "\n",
    "Then, we will estimate the values of `regression coefficients` by using the trick `Least Squares technique`. Now we will consider the `residual error` defined as\n",
    "$$ \\hat{\\xi}_i = \\hat{Y}_i - Y_i $$\n",
    "According to the `Least Squares technique`, we will minimize the loss function defined by\n",
    "$$ L(\\beta_0, \\beta_1) = \\sum_{i=1}^n \\hat{\\xi}_i^2 = \\sum_{i=1}^n \\left( \\beta_0 + \\beta_1 x_i - y_i \\right)^2 $$\n",
    "and the `optimal solution` will be hold the equation\n",
    "\n",
    "$$\\left \\lbrace \\begin{array}{ccl} \\dfrac{\\partial L}{\\partial \\beta_0} &=& 0 \\\\ \\dfrac{\\partial L}{\\partial \\beta_1} &=& 0 \\end{array} \\right.$$\n",
    "\n",
    "$$\\Rightarrow\\left \\lbrace \\begin{array}{ccl} \\hat{\\beta}_1 &=& \\dfrac{S_{xy}}{S_{xx}} = \\dfrac{\\sum_{i=1}^n (x_i - \\bar{x})(y_i - \\bar{y})}{\\sum_{i=1}^n (x_i - \\bar{x})^2} \\\\ \\hat{\\beta}_0 &=& \\bar{y} - \\hat{\\beta}_1 \\bar{x} \\end{array} \\right.$$\n",
    "\n",
    "where $\\bar{x} = n^{-1} \\sum_{i=1}^n x_i$ and $\\bar{y} = n^{-1} \\sum_{i=1}^n y_i$.\n",
    "\n",
    "\n",
    "**Example 1. Simple linear regression's application.** Here, we consider a dataset where we have a value of `response (y): weight (in pound)` and the `feature(x) : height (in inches)` from the dataset `weight-height.csv`.\n",
    "\n",
    "Source : https://www.kaggle.com/mustafaali96/weight-height\n",
    "\n",
    "Firstly, we study step by step the algorithm with the function in `scikit-learn` before comparing within `statsmodels.formula.api`\n",
    "\n",
    "**Loading & viewing dataset.**"
   ]
  },
  {
   "cell_type": "code",
   "execution_count": 2,
   "metadata": {},
   "outputs": [
    {
     "data": {
      "text/html": [
       "<div>\n",
       "<style scoped>\n",
       "    .dataframe tbody tr th:only-of-type {\n",
       "        vertical-align: middle;\n",
       "    }\n",
       "\n",
       "    .dataframe tbody tr th {\n",
       "        vertical-align: top;\n",
       "    }\n",
       "\n",
       "    .dataframe thead th {\n",
       "        text-align: right;\n",
       "    }\n",
       "</style>\n",
       "<table border=\"1\" class=\"dataframe\">\n",
       "  <thead>\n",
       "    <tr style=\"text-align: right;\">\n",
       "      <th></th>\n",
       "      <th>Gender</th>\n",
       "      <th>Height</th>\n",
       "      <th>Weight</th>\n",
       "    </tr>\n",
       "  </thead>\n",
       "  <tbody>\n",
       "    <tr>\n",
       "      <th>0</th>\n",
       "      <td>Male</td>\n",
       "      <td>73.847017</td>\n",
       "      <td>241.893563</td>\n",
       "    </tr>\n",
       "    <tr>\n",
       "      <th>1</th>\n",
       "      <td>Male</td>\n",
       "      <td>68.781904</td>\n",
       "      <td>162.310473</td>\n",
       "    </tr>\n",
       "    <tr>\n",
       "      <th>2</th>\n",
       "      <td>Male</td>\n",
       "      <td>74.110105</td>\n",
       "      <td>212.740856</td>\n",
       "    </tr>\n",
       "    <tr>\n",
       "      <th>3</th>\n",
       "      <td>Male</td>\n",
       "      <td>71.730978</td>\n",
       "      <td>220.042470</td>\n",
       "    </tr>\n",
       "    <tr>\n",
       "      <th>4</th>\n",
       "      <td>Male</td>\n",
       "      <td>69.881796</td>\n",
       "      <td>206.349801</td>\n",
       "    </tr>\n",
       "  </tbody>\n",
       "</table>\n",
       "</div>"
      ],
      "text/plain": [
       "  Gender     Height      Weight\n",
       "0   Male  73.847017  241.893563\n",
       "1   Male  68.781904  162.310473\n",
       "2   Male  74.110105  212.740856\n",
       "3   Male  71.730978  220.042470\n",
       "4   Male  69.881796  206.349801"
      ]
     },
     "execution_count": 2,
     "metadata": {},
     "output_type": "execute_result"
    }
   ],
   "source": [
    "import numpy as np\n",
    "import pandas as pd\n",
    "import matplotlib.pyplot as plt\n",
    "\n",
    "## to evaluate the score on the test_set\n",
    "from sklearn.metrics import mean_squared_error as mse, r2_score\n",
    "\n",
    "## Loading dataset\n",
    "df = pd.read_csv(r\"C:\\Users\\Admin\\Desktop\\Nhan_pro\\Data\\ML\\weight-height.csv\")\n",
    "\n",
    "## viewing the first 5 lines\n",
    "df.head()"
   ]
  },
  {
   "cell_type": "markdown",
   "metadata": {},
   "source": [
    "**Assign the `respone` and `feature` to `x, y` then viewing its shape (or sample size)**"
   ]
  },
  {
   "cell_type": "code",
   "execution_count": 3,
   "metadata": {},
   "outputs": [
    {
     "data": {
      "text/plain": [
       "((10000,), (10000,))"
      ]
     },
     "execution_count": 3,
     "metadata": {},
     "output_type": "execute_result"
    }
   ],
   "source": [
    "x = df['Height'].to_numpy()\n",
    "y = df['Weight'].to_numpy()\n",
    "x.shape, y.shape"
   ]
  },
  {
   "cell_type": "markdown",
   "metadata": {},
   "source": [
    "**Visualizing data via the `scatter plot`**"
   ]
  },
  {
   "cell_type": "code",
   "execution_count": 4,
   "metadata": {},
   "outputs": [
    {
     "data": {
      "image/png": "[encoded data removed]",
      "text/plain": [
       "<Figure size 864x360 with 1 Axes>"
      ]
     },
     "metadata": {
      "needs_background": "light"
     },
     "output_type": "display_data"
    }
   ],
   "source": [
    "plt.figure(figsize = (12, 5))\n",
    "plt.plot(x, y, 'r.', markersize = 2, alpha = 0.8)\n",
    "plt.axis([53, 80, 50, 300])\n",
    "plt.xlabel('Height (inches)')\n",
    "plt.ylabel('Weight (pounds)')\n",
    "plt.show()"
   ]
  },
  {
   "cell_type": "markdown",
   "metadata": {},
   "source": [
    "**Comments:**\n",
    "- 1) This data set is not realistic at all for human weights and heights\n",
    "- 2) Look at the `scatter plot`, we can see that the `data-points` are mostly concentrated on a linear function; we suppose that\n",
    "\n",
    "$$ \\text{(weight)}_i = \\beta_0 + \\beta_1 * \\text{(height)}_i + \\xi_i, \\quad \\forall i = 1, \\ldots, n $$\n",
    "\n",
    "or equivalent \n",
    "\n",
    "$$ \\textbf{Y} = \\textbf{X} \\beta + \\xi $$\n",
    "where $\\textbf{Y} = \\left[ \\begin{array}{c} Y_1 \\\\ Y_2 \\\\ \\vdots \\\\ Y_n \\end{array} \\right]$, $\\xi = \\left[ \\begin{array}{c} \\xi_1 \\\\ \\xi_2 \\\\ \\vdots \\\\ \\xi_n \\end{array} \\right]$, $\\beta = \\left[ \\begin{array}{c} \\beta_0 \\\\ \\beta_1 \\end{array} \\right]$ and $\\textbf{X} = \\left( \\begin{array}{cc} 1 & x_1 \\\\ 1 & x_2 \\\\ \\vdots & \\vdots \\\\ 1 & x_n \\end{array} \\right)$\n",
    "\n",
    "Because the `LinearRegression` in the `sklearn.linear_model` understand **X** as a matrix (defined as above), so we will modify an `1D column_vector` to a matrix by adding a `column_vector` $1_n$"
   ]
  },
  {
   "cell_type": "code",
   "execution_count": 5,
   "metadata": {},
   "outputs": [],
   "source": [
    "one = np.ones((x.shape[0], 1))\n",
    "X = np.concatenate((one, x.reshape(-1,1)), axis = 1)"
   ]
  },
  {
   "cell_type": "markdown",
   "metadata": {},
   "source": [
    "#### calculate the estimations of beta0 and beta1"
   ]
  },
  {
   "cell_type": "code",
   "execution_count": 6,
   "metadata": {},
   "outputs": [
    {
     "data": {
      "text/plain": [
       "array([-350.73719181,    7.71728764])"
      ]
     },
     "execution_count": 6,
     "metadata": {},
     "output_type": "execute_result"
    }
   ],
   "source": [
    "from sklearn.linear_model import LinearRegression\n",
    "lm = LinearRegression(fit_intercept = False) # fit_intercept = False for calculating the bias\n",
    "lm.fit(X, y)\n",
    "\n",
    "lm.coef_ "
   ]
  },
  {
   "cell_type": "markdown",
   "metadata": {},
   "source": [
    "#### check again with step by step `calculation_formulation` . "
   ]
  },
  {
   "cell_type": "code",
   "execution_count": 7,
   "metadata": {},
   "outputs": [
    {
     "name": "stdout",
     "output_type": "stream",
     "text": [
      "est of beta1 : 7.717287640785389\n",
      "est of beta0 : -350.737191812137\n"
     ]
    }
   ],
   "source": [
    "x_bar = np.mean(x)\n",
    "y_bar = np.mean(y)\n",
    "S_xx = np.sum((x - x_bar)**2)\n",
    "S_xy = np.sum((x - x_bar)*(y-y_bar))\n",
    "\n",
    "beta1_hat = S_xy / S_xx\n",
    "beta0_hat = y_bar - beta1_hat * x_bar\n",
    "\n",
    "print(\"est of beta1 :\", beta1_hat)\n",
    "print(\"est of beta0 :\", beta0_hat)"
   ]
  },
  {
   "cell_type": "markdown",
   "metadata": {},
   "source": [
    "Hence, our results fit with the coefficients in the `preceding step`. Now, plot the `regression line` on the `scatter_plot`"
   ]
  },
  {
   "cell_type": "code",
   "execution_count": 8,
   "metadata": {},
   "outputs": [
    {
     "data": {
      "image/png": "[encoded data removed]",
      "text/plain": [
       "<Figure size 864x432 with 1 Axes>"
      ]
     },
     "metadata": {
      "needs_background": "light"
     },
     "output_type": "display_data"
    }
   ],
   "source": [
    "plt.figure(figsize = (12, 6))\n",
    "pred = lm.predict(X)\n",
    "plt.plot(x, y, 'r.', markersize = 2, alpha = 0.8)\n",
    "plt.plot(x, pred, 'b', markersize = 4, alpha = 0.9)\n",
    "plt.axis([53, 80, 50, 300])\n",
    "plt.xlabel('Height (inches)')\n",
    "plt.ylabel('Weight (pounds)')\n",
    "plt.show()"
   ]
  },
  {
   "cell_type": "markdown",
   "metadata": {},
   "source": [
    "Finaly, we use the `train_test_split` and both criteria `mse, r2_score` to evaluate the `loss_function`."
   ]
  },
  {
   "cell_type": "code",
   "execution_count": 9,
   "metadata": {},
   "outputs": [
    {
     "name": "stdout",
     "output_type": "stream",
     "text": [
      "training_MSE:  149.3736986484211\n",
      "testing_MSE:  149.00350418448133\n",
      "R2_training: 0.8545053200432668\n",
      "R2_testing:  0.8577317777038498\n"
     ]
    }
   ],
   "source": [
    "from sklearn.model_selection import train_test_split \n",
    "X_train,X_test,y_train,y_test=train_test_split(X, y, test_size = 0.2, random_state=42)\n",
    "\n",
    "model = LinearRegression(fit_intercept = False).fit(X_train, y_train)\n",
    "y_train_pred = model.predict(X_train)\n",
    "y_test_pred = model.predict(X_test)\n",
    "\n",
    "from sklearn.metrics import mean_squared_error as mse,r2_score\n",
    "\n",
    "print(\"training_MSE: \", mse(y_train, y_train_pred))\n",
    "print(\"testing_MSE: \", mse(y_test, y_test_pred))\n",
    "\n",
    "print(\"R2_training:\", r2_score(y_train, y_train_pred))\n",
    "print(\"R2_testing: \", r2_score(y_test, y_test_pred))"
   ]
  },
  {
   "cell_type": "markdown",
   "metadata": {},
   "source": [
    "**Comments.**\n",
    "- 1) `MSE` : is the average of the square of the errors. The larger the number the larger the error; In mathematic; it's defined by\n",
    "\n",
    "$$ MSE = n^{-1} \\sum_{k = 1}^n (Y_i - \\hat{Y}_i)^2 $$\n",
    "\n",
    "- 2) `R2_score` or also called the `coefficient of determination`; defined by\n",
    "\n",
    "$$ R^2 = 1 - \\dfrac{MSE}{Var(y)} $$\n",
    "\n",
    "The `R2_score` varies in (0, 1). It is closely related to the `MSE`, but not the same. it is the `proportion of the variance in the dependent variable that is predictable from the independent variable(s).`  So if it is 100%, the two variables are perfectly correlated, i.e., with no variance at all. A low value would show a low level of correlation, meaning a regression model that is not valid, but not in all cases.\n",
    "\n",
    "Now, let's verify the formular!"
   ]
  },
  {
   "cell_type": "code",
   "execution_count": 10,
   "metadata": {},
   "outputs": [
    {
     "name": "stdout",
     "output_type": "stream",
     "text": [
      "Verifying .....\n",
      "mse_train: 149.3736986484211\n",
      "mse_test:  149.00350418448133\n",
      "r2_train: 0.8545053200432668\n",
      "r2_test: 0.8577317777038499\n"
     ]
    }
   ],
   "source": [
    "print(\"Verifying .....\")\n",
    "\n",
    "## calculate the mse\n",
    "mse_score_train = np.mean((y_train_pred - y_train)**2)\n",
    "mse_score_test = np.mean((y_test_pred - y_test)**2)\n",
    "\n",
    "## calculate the r2_score :\n",
    "## for the training_set\n",
    "## The total sum of squares (proportional to the variance of the data\n",
    "S_tot_train = np.mean((y_train - np.mean(y_train))**2)\n",
    "\n",
    "## The coefficient of determination; denoted r2_score\n",
    "r2_train = 1 - (mse_score_train / S_tot_train)\n",
    "\n",
    "## for the testing set\n",
    "S_tot_test = np.mean((y_test - np.mean(y_test))**2)\n",
    "r2_test = 1 - (mse_score_test / S_tot_test)\n",
    "\n",
    "print(\"mse_train:\", mse_score_train)\n",
    "print(\"mse_test: \" , mse_score_test)\n",
    "\n",
    "print(\"r2_train:\", r2_train)\n",
    "print(\"r2_test:\", r2_test)"
   ]
  },
  {
   "cell_type": "markdown",
   "metadata": {},
   "source": [
    "***In the remaining of this part, we will use the `statsmodels.formula.api` to verify the regression_coefficient in the preceding example!***"
   ]
  },
  {
   "cell_type": "code",
   "execution_count": 11,
   "metadata": {},
   "outputs": [
    {
     "data": {
      "text/html": [
       "<table class=\"simpletable\">\n",
       "<caption>OLS Regression Results</caption>\n",
       "<tr>\n",
       "  <th>Dep. Variable:</th>         <td>Weight</td>      <th>  R-squared:         </th> <td>   0.855</td> \n",
       "</tr>\n",
       "<tr>\n",
       "  <th>Model:</th>                   <td>OLS</td>       <th>  Adj. R-squared:    </th> <td>   0.855</td> \n",
       "</tr>\n",
       "<tr>\n",
       "  <th>Method:</th>             <td>Least Squares</td>  <th>  F-statistic:       </th> <td>5.904e+04</td>\n",
       "</tr>\n",
       "<tr>\n",
       "  <th>Date:</th>             <td>Sun, 12 Apr 2020</td> <th>  Prob (F-statistic):</th>  <td>  0.00</td>  \n",
       "</tr>\n",
       "<tr>\n",
       "  <th>Time:</th>                 <td>12:18:15</td>     <th>  Log-Likelihood:    </th> <td> -39219.</td> \n",
       "</tr>\n",
       "<tr>\n",
       "  <th>No. Observations:</th>      <td> 10000</td>      <th>  AIC:               </th> <td>7.844e+04</td>\n",
       "</tr>\n",
       "<tr>\n",
       "  <th>Df Residuals:</th>          <td>  9998</td>      <th>  BIC:               </th> <td>7.846e+04</td>\n",
       "</tr>\n",
       "<tr>\n",
       "  <th>Df Model:</th>              <td>     1</td>      <th>                     </th>     <td> </td>    \n",
       "</tr>\n",
       "<tr>\n",
       "  <th>Covariance Type:</th>      <td>nonrobust</td>    <th>                     </th>     <td> </td>    \n",
       "</tr>\n",
       "</table>\n",
       "<table class=\"simpletable\">\n",
       "<tr>\n",
       "      <td></td>         <th>coef</th>     <th>std err</th>      <th>t</th>      <th>P>|t|</th>  <th>[0.025</th>    <th>0.975]</th>  \n",
       "</tr>\n",
       "<tr>\n",
       "  <th>Intercept</th> <td> -350.7372</td> <td>    2.111</td> <td> -166.109</td> <td> 0.000</td> <td> -354.876</td> <td> -346.598</td>\n",
       "</tr>\n",
       "<tr>\n",
       "  <th>Height</th>    <td>    7.7173</td> <td>    0.032</td> <td>  242.975</td> <td> 0.000</td> <td>    7.655</td> <td>    7.780</td>\n",
       "</tr>\n",
       "</table>\n",
       "<table class=\"simpletable\">\n",
       "<tr>\n",
       "  <th>Omnibus:</th>       <td> 2.141</td> <th>  Durbin-Watson:     </th> <td>   1.677</td>\n",
       "</tr>\n",
       "<tr>\n",
       "  <th>Prob(Omnibus):</th> <td> 0.343</td> <th>  Jarque-Bera (JB):  </th> <td>   2.150</td>\n",
       "</tr>\n",
       "<tr>\n",
       "  <th>Skew:</th>          <td> 0.036</td> <th>  Prob(JB):          </th> <td>   0.341</td>\n",
       "</tr>\n",
       "<tr>\n",
       "  <th>Kurtosis:</th>      <td> 2.991</td> <th>  Cond. No.          </th> <td>1.15e+03</td>\n",
       "</tr>\n",
       "</table><br/><br/>Warnings:<br/>[1] Standard Errors assume that the covariance matrix of the errors is correctly specified.<br/>[2] The condition number is large, 1.15e+03. This might indicate that there are<br/>strong multicollinearity or other numerical problems."
      ],
      "text/plain": [
       "<class 'statsmodels.iolib.summary.Summary'>\n",
       "\"\"\"\n",
       "                            OLS Regression Results                            \n",
       "==============================================================================\n",
       "Dep. Variable:                 Weight   R-squared:                       0.855\n",
       "Model:                            OLS   Adj. R-squared:                  0.855\n",
       "Method:                 Least Squares   F-statistic:                 5.904e+04\n",
       "Date:                Sun, 12 Apr 2020   Prob (F-statistic):               0.00\n",
       "Time:                        12:18:15   Log-Likelihood:                -39219.\n",
       "No. Observations:               10000   AIC:                         7.844e+04\n",
       "Df Residuals:                    9998   BIC:                         7.846e+04\n",
       "Df Model:                           1                                         \n",
       "Covariance Type:            nonrobust                                         \n",
       "==============================================================================\n",
       "                 coef    std err          t      P>|t|      [0.025      0.975]\n",
       "------------------------------------------------------------------------------\n",
       "Intercept   -350.7372      2.111   -166.109      0.000    -354.876    -346.598\n",
       "Height         7.7173      0.032    242.975      0.000       7.655       7.780\n",
       "==============================================================================\n",
       "Omnibus:                        2.141   Durbin-Watson:                   1.677\n",
       "Prob(Omnibus):                  0.343   Jarque-Bera (JB):                2.150\n",
       "Skew:                           0.036   Prob(JB):                        0.341\n",
       "Kurtosis:                       2.991   Cond. No.                     1.15e+03\n",
       "==============================================================================\n",
       "\n",
       "Warnings:\n",
       "[1] Standard Errors assume that the covariance matrix of the errors is correctly specified.\n",
       "[2] The condition number is large, 1.15e+03. This might indicate that there are\n",
       "strong multicollinearity or other numerical problems.\n",
       "\"\"\""
      ]
     },
     "execution_count": 11,
     "metadata": {},
     "output_type": "execute_result"
    }
   ],
   "source": [
    "#!pip install statsmodels\n",
    "from statsmodels.formula.api import ols\n",
    "\n",
    "model = ols(\"Weight ~ Height\", data = df).fit()\n",
    "model.summary()"
   ]
  },
  {
   "cell_type": "markdown",
   "metadata": {},
   "source": [
    "Looking at the above table, \n",
    "- The `intercept` explains $\\hat{\\beta}_0 = -350.7372$ and the `Height` is the `slope` or $\\hat{\\beta}_1 = 7.7173$\n",
    "- The `r2_score` for whole dataset is about $0.855$\n",
    "- The `AIC (Akaike Information Criterion)` is defined by\n",
    "$$ \\text{AIC} = 2 k - 2 LL $$\n",
    "\n",
    "- The `BIC` is defined by\n",
    "$$ \\text{BIC} = k \\log(n) - 2 LL $$\n",
    "where:\n",
    "- `LL` is the `log-likelihood` function from the model (look at the table, this term equals to `-39219`)\n",
    "- `n` is the number of observations,\n",
    "- `k` is the number of parameters estimated by the model. For example, in multiple linear regression, the estimated parameters included `the intercept`, the `slope parameters: p`, and the constant variance of the errors; thus, ${\\displaystyle k = p + 2}$\n",
    "\n",
    "Ref: \n",
    "- (AIC) https://en.wikipedia.org/wiki/Akaike_information_criterion\n",
    "- (BIC) https://en.wikipedia.org/wiki/Bayesian_information_criterion\n",
    "\n",
    "Now, let verify the formula again!"
   ]
  },
  {
   "cell_type": "code",
   "execution_count": 12,
   "metadata": {},
   "outputs": [
    {
     "data": {
      "text/plain": [
       "(78444, 78465.63102111593)"
      ]
     },
     "execution_count": 12,
     "metadata": {},
     "output_type": "execute_result"
    }
   ],
   "source": [
    "LL = -39219\n",
    "k = 3\n",
    "n = 10000\n",
    "aic = 2*k - 2*LL\n",
    "bic = k*np.log(n) -2*LL \n",
    "aic, bic"
   ]
  },
  {
   "cell_type": "markdown",
   "metadata": {},
   "source": [
    "Following is some example for extracting information from the `summary_table`: https://www.statsmodels.org/devel/generated/statsmodels.regression.linear_model.RegressionResults.html"
   ]
  },
  {
   "cell_type": "code",
   "execution_count": 13,
   "metadata": {},
   "outputs": [
    {
     "data": {
      "text/plain": [
       "0.8551597265851066"
      ]
     },
     "execution_count": 13,
     "metadata": {},
     "output_type": "execute_result"
    }
   ],
   "source": [
    "model.params  ## Regression_coef_\n",
    "model.bse  ## Standard_errors\n",
    "model.pvalues  ## p_values for each coef_s\n",
    "model.f_pvalue  ## The p-value of the F-statistic.\n",
    "model.aic, model.bic, model.llf  ## The criteria AIC, BIC and log-likelihood\n",
    "model.tvalues\n",
    "model.rsquared\n",
    "model.rsquared_adj"
   ]
  },
  {
   "cell_type": "markdown",
   "metadata": {},
   "source": [
    "**In the finally section (of this topic), we will discuss the `multiple-linear-regression`**. \n",
    "`Multiple linear regression` attempts to model the relationship between two or more features and a response by fitting a linear equation to observed data. Clearly, it is nothing but an extension of Simple linear regression.\n",
    "\n",
    "Here, we consider a dataset with *p* `features(or independent variables)` and  `1 response(or dependent variable)`. Also, the dataset contains n rows/observations. Now, the model can be writen as\n",
    "\n",
    "$$ \\textbf{Y} = \\textbf{X} \\beta + \\xi $$\n",
    "\n",
    "where \n",
    "$\\textbf{Y} = \\left[ \\begin{array}{c} Y_1 \\\\ Y_2 \\\\ \\vdots \\\\ Y_n \\end{array} \\right],$ $\\xi = \\left[ \\begin{array}{c} \\xi_1 \\\\ \\xi_2 \\\\ \\vdots \\\\ \\xi_n \\end{array} \\right],$ $\\beta = \\left[ \\begin{array}{c} \\beta_0 \\\\ \\beta_1 \\\\ \\vdots \\\\ \\beta_p \\end{array} \\right]$ and $\\textbf{X} = \\left( \\begin{array}{ccccc} 1 & x_{11} & x_{12} & \\ldots & x_{1p} \\\\ 1 & x_{21} & x_{22} & \\ldots & x_{2p} \\\\ \\vdots & \\vdots \\\\ 1 & x_{n1} & x_{n2} & \\ldots & x_{np} \\end{array} \\right)$\n",
    "\n",
    "- Recall that for $b$ ís a $p \\times 1$ vector and $A$ is a $p \\times p$ symmetric matrix; then\n",
    "\n",
    "$$ \\dfrac{\\partial b^T x}{\\partial x} = b, \\quad \\dfrac{\\partial^2 x^T A x}{\\partial x^T \\partial x} = A^T 2Ax \\text{ and } \\dfrac{\\partial A^T x + x^T A}{\\partial x} = \\dfrac{\\partial 2 A x}{\\partial x} = 2A $$\n",
    "\n",
    "- Using `Least square technique again,` the loss function now is defined by\n",
    "\n",
    "$$ L(\\beta) = \\xi^T \\xi = \\left( \\textbf{Y} - \\mathcal{X} \\beta \\right)^T \\left( \\textbf{Y} - \\mathcal{X} \\beta \\right) = \\textbf{Y}^T \\textbf{Y} - \\beta^T \\textbf{X}^T \\textbf{Y} - \\textbf{Y}^T \\textbf{X} \\beta + \\beta^T \\textbf{X}^T \\textbf{X} \\beta $$\n",
    "\n",
    "We have\n",
    "\n",
    "$$ \\dfrac{\\partial L}{\\partial \\beta} = \\dfrac{\\partial \\left( \\textbf{Y}^T \\textbf{Y} - 2 \\beta^T \\textbf{X}^T \\textbf{Y} - + \\beta^T \\textbf{X}^T \\textbf{X} \\beta \\right)}{\\partial \\beta} = -2 \\textbf{X}^T \\textbf{Y} + 2 \\textbf{X}^T \\textbf{X} \\beta$$\n",
    "and\n",
    "$$ \\dfrac{\\partial^2 L}{\\partial \\beta \\partial \\beta^T} = 2 \\textbf{X}^T \\textbf{X}. $$\n",
    "\n",
    "The matrix $\\textbf{X}$ has full rank so the $\\textbf{X}^T \\textbf{X}$ is `positive define`, and hence, the `least square solution` $\\hat{\\beta}$ will be found as\n",
    "\n",
    "$$ \\displaystyle \\hat{\\beta} = \\text{argmin}_{\\beta} L(\\beta) = \\left( \\textbf{X}^T \\textbf{X} \\right)^{-1} \\textbf{X}^T \\textbf{Y}  $$"
   ]
  },
  {
   "cell_type": "markdown",
   "metadata": {},
   "source": [
    "**Example 2.** The dataset now is `tips.` `Food servers’ tips` in restaurants may be influenced by many factors, including the `nature` of the restaurant, `size` of the party, and `table locations` in the restaurant. \n",
    "\n",
    "Restaurant managers need to know which factors matter when they assign tables to food servers. For the sake of staff morale, they usually want to avoid either the substance or the appearance of unfair treatment of the servers, for whom tips (at least in restaurants in the United States) are a major component of pay. \n",
    "\n",
    "In one restaurant, a food server recorded the following data on all customers they served during an interval of two and a half months in early 1990. The restaurant, located in a suburban shopping mall, was part of a national chain and served a varied menu. In observance of local law, the restaurant offered to seat in a `non-smoking` section to patrons who requested it. \n",
    "\n",
    "Each record includes a day and time, and taken together, they show the server’s work schedule.\n",
    "\n",
    "***But, here! We consider the `multiple_linear_regression` with the `respone` is `tip` and the features are `total_bill` and `size` only!!***\n",
    "\n",
    "$$ \\text{(tip)}_i = \\beta_0 + \\beta_1*\\text{(total_bill)}_i + \\beta_2*\\text{(size)}_i, \\quad \\forall i = 1, \\ldots, n. $$\n",
    "\n",
    "and we want to find the estimations $\\hat{\\beta}$ for the regression_coefficient $\\beta$\n",
    "\n",
    "**Now, loading & viewing dataset**"
   ]
  },
  {
   "cell_type": "code",
   "execution_count": 14,
   "metadata": {},
   "outputs": [
    {
     "data": {
      "text/html": [
       "<div>\n",
       "<style scoped>\n",
       "    .dataframe tbody tr th:only-of-type {\n",
       "        vertical-align: middle;\n",
       "    }\n",
       "\n",
       "    .dataframe tbody tr th {\n",
       "        vertical-align: top;\n",
       "    }\n",
       "\n",
       "    .dataframe thead th {\n",
       "        text-align: right;\n",
       "    }\n",
       "</style>\n",
       "<table border=\"1\" class=\"dataframe\">\n",
       "  <thead>\n",
       "    <tr style=\"text-align: right;\">\n",
       "      <th></th>\n",
       "      <th>total_bill</th>\n",
       "      <th>tip</th>\n",
       "      <th>sex</th>\n",
       "      <th>smoker</th>\n",
       "      <th>day</th>\n",
       "      <th>time</th>\n",
       "      <th>size</th>\n",
       "    </tr>\n",
       "  </thead>\n",
       "  <tbody>\n",
       "    <tr>\n",
       "      <th>0</th>\n",
       "      <td>16.99</td>\n",
       "      <td>1.01</td>\n",
       "      <td>Female</td>\n",
       "      <td>No</td>\n",
       "      <td>Sun</td>\n",
       "      <td>Dinner</td>\n",
       "      <td>2</td>\n",
       "    </tr>\n",
       "    <tr>\n",
       "      <th>1</th>\n",
       "      <td>10.34</td>\n",
       "      <td>1.66</td>\n",
       "      <td>Male</td>\n",
       "      <td>No</td>\n",
       "      <td>Sun</td>\n",
       "      <td>Dinner</td>\n",
       "      <td>3</td>\n",
       "    </tr>\n",
       "    <tr>\n",
       "      <th>2</th>\n",
       "      <td>21.01</td>\n",
       "      <td>3.50</td>\n",
       "      <td>Male</td>\n",
       "      <td>No</td>\n",
       "      <td>Sun</td>\n",
       "      <td>Dinner</td>\n",
       "      <td>3</td>\n",
       "    </tr>\n",
       "    <tr>\n",
       "      <th>3</th>\n",
       "      <td>23.68</td>\n",
       "      <td>3.31</td>\n",
       "      <td>Male</td>\n",
       "      <td>No</td>\n",
       "      <td>Sun</td>\n",
       "      <td>Dinner</td>\n",
       "      <td>2</td>\n",
       "    </tr>\n",
       "    <tr>\n",
       "      <th>4</th>\n",
       "      <td>24.59</td>\n",
       "      <td>3.61</td>\n",
       "      <td>Female</td>\n",
       "      <td>No</td>\n",
       "      <td>Sun</td>\n",
       "      <td>Dinner</td>\n",
       "      <td>4</td>\n",
       "    </tr>\n",
       "  </tbody>\n",
       "</table>\n",
       "</div>"
      ],
      "text/plain": [
       "   total_bill   tip     sex smoker  day    time  size\n",
       "0       16.99  1.01  Female     No  Sun  Dinner     2\n",
       "1       10.34  1.66    Male     No  Sun  Dinner     3\n",
       "2       21.01  3.50    Male     No  Sun  Dinner     3\n",
       "3       23.68  3.31    Male     No  Sun  Dinner     2\n",
       "4       24.59  3.61  Female     No  Sun  Dinner     4"
      ]
     },
     "execution_count": 14,
     "metadata": {},
     "output_type": "execute_result"
    }
   ],
   "source": [
    "import seaborn as sns\n",
    "\n",
    "tips = sns.load_dataset('tips')\n",
    "tips.head()"
   ]
  },
  {
   "cell_type": "markdown",
   "metadata": {},
   "source": [
    "*Descriptions*:\n",
    "- `total_bill`: Total bill (cost of the meal), including tax, in US dollars\n",
    "- `tip`: Tip (gratuity) in US dollars\n",
    "- `sex` : gender of person paying for the meal; of course here `Male` and `Female` :D\n",
    "- `time`: Time of the meal; include `Dinner` and `Lunch`\n",
    "- `smoker`: smoker in the restaurant or not?\n",
    "- `size` : Size of the party.\n",
    "\n",
    "Now, clarify the shape of features and the respone before checking it by `matrix multiplication`"
   ]
  },
  {
   "cell_type": "code",
   "execution_count": 15,
   "metadata": {},
   "outputs": [
    {
     "data": {
      "text/plain": [
       "((244, 2), (244,))"
      ]
     },
     "execution_count": 15,
     "metadata": {},
     "output_type": "execute_result"
    }
   ],
   "source": [
    "X = tips[['total_bill', 'size']]\n",
    "y = tips['tip']\n",
    "X.shape, y.shape"
   ]
  },
  {
   "cell_type": "markdown",
   "metadata": {},
   "source": [
    "Fit the model and find the estimation!"
   ]
  },
  {
   "cell_type": "code",
   "execution_count": 16,
   "metadata": {},
   "outputs": [
    {
     "data": {
      "text/html": [
       "<table class=\"simpletable\">\n",
       "<caption>OLS Regression Results</caption>\n",
       "<tr>\n",
       "  <th>Dep. Variable:</th>           <td>tip</td>       <th>  R-squared:         </th> <td>   0.468</td>\n",
       "</tr>\n",
       "<tr>\n",
       "  <th>Model:</th>                   <td>OLS</td>       <th>  Adj. R-squared:    </th> <td>   0.463</td>\n",
       "</tr>\n",
       "<tr>\n",
       "  <th>Method:</th>             <td>Least Squares</td>  <th>  F-statistic:       </th> <td>   105.9</td>\n",
       "</tr>\n",
       "<tr>\n",
       "  <th>Date:</th>             <td>Sun, 12 Apr 2020</td> <th>  Prob (F-statistic):</th> <td>9.67e-34</td>\n",
       "</tr>\n",
       "<tr>\n",
       "  <th>Time:</th>                 <td>12:18:15</td>     <th>  Log-Likelihood:    </th> <td> -347.99</td>\n",
       "</tr>\n",
       "<tr>\n",
       "  <th>No. Observations:</th>      <td>   244</td>      <th>  AIC:               </th> <td>   702.0</td>\n",
       "</tr>\n",
       "<tr>\n",
       "  <th>Df Residuals:</th>          <td>   241</td>      <th>  BIC:               </th> <td>   712.5</td>\n",
       "</tr>\n",
       "<tr>\n",
       "  <th>Df Model:</th>              <td>     2</td>      <th>                     </th>     <td> </td>   \n",
       "</tr>\n",
       "<tr>\n",
       "  <th>Covariance Type:</th>      <td>nonrobust</td>    <th>                     </th>     <td> </td>   \n",
       "</tr>\n",
       "</table>\n",
       "<table class=\"simpletable\">\n",
       "<tr>\n",
       "       <td></td>         <th>coef</th>     <th>std err</th>      <th>t</th>      <th>P>|t|</th>  <th>[0.025</th>    <th>0.975]</th>  \n",
       "</tr>\n",
       "<tr>\n",
       "  <th>Intercept</th>  <td>    0.6689</td> <td>    0.194</td> <td>    3.455</td> <td> 0.001</td> <td>    0.288</td> <td>    1.050</td>\n",
       "</tr>\n",
       "<tr>\n",
       "  <th>total_bill</th> <td>    0.0927</td> <td>    0.009</td> <td>   10.172</td> <td> 0.000</td> <td>    0.075</td> <td>    0.111</td>\n",
       "</tr>\n",
       "<tr>\n",
       "  <th>size</th>       <td>    0.1926</td> <td>    0.085</td> <td>    2.258</td> <td> 0.025</td> <td>    0.025</td> <td>    0.361</td>\n",
       "</tr>\n",
       "</table>\n",
       "<table class=\"simpletable\">\n",
       "<tr>\n",
       "  <th>Omnibus:</th>       <td>24.753</td> <th>  Durbin-Watson:     </th> <td>   2.100</td>\n",
       "</tr>\n",
       "<tr>\n",
       "  <th>Prob(Omnibus):</th> <td> 0.000</td> <th>  Jarque-Bera (JB):  </th> <td>  46.169</td>\n",
       "</tr>\n",
       "<tr>\n",
       "  <th>Skew:</th>          <td> 0.545</td> <th>  Prob(JB):          </th> <td>9.43e-11</td>\n",
       "</tr>\n",
       "<tr>\n",
       "  <th>Kurtosis:</th>      <td> 4.831</td> <th>  Cond. No.          </th> <td>    67.6</td>\n",
       "</tr>\n",
       "</table><br/><br/>Warnings:<br/>[1] Standard Errors assume that the covariance matrix of the errors is correctly specified."
      ],
      "text/plain": [
       "<class 'statsmodels.iolib.summary.Summary'>\n",
       "\"\"\"\n",
       "                            OLS Regression Results                            \n",
       "==============================================================================\n",
       "Dep. Variable:                    tip   R-squared:                       0.468\n",
       "Model:                            OLS   Adj. R-squared:                  0.463\n",
       "Method:                 Least Squares   F-statistic:                     105.9\n",
       "Date:                Sun, 12 Apr 2020   Prob (F-statistic):           9.67e-34\n",
       "Time:                        12:18:15   Log-Likelihood:                -347.99\n",
       "No. Observations:                 244   AIC:                             702.0\n",
       "Df Residuals:                     241   BIC:                             712.5\n",
       "Df Model:                           2                                         \n",
       "Covariance Type:            nonrobust                                         \n",
       "==============================================================================\n",
       "                 coef    std err          t      P>|t|      [0.025      0.975]\n",
       "------------------------------------------------------------------------------\n",
       "Intercept      0.6689      0.194      3.455      0.001       0.288       1.050\n",
       "total_bill     0.0927      0.009     10.172      0.000       0.075       0.111\n",
       "size           0.1926      0.085      2.258      0.025       0.025       0.361\n",
       "==============================================================================\n",
       "Omnibus:                       24.753   Durbin-Watson:                   2.100\n",
       "Prob(Omnibus):                  0.000   Jarque-Bera (JB):               46.169\n",
       "Skew:                           0.545   Prob(JB):                     9.43e-11\n",
       "Kurtosis:                       4.831   Cond. No.                         67.6\n",
       "==============================================================================\n",
       "\n",
       "Warnings:\n",
       "[1] Standard Errors assume that the covariance matrix of the errors is correctly specified.\n",
       "\"\"\""
      ]
     },
     "execution_count": 16,
     "metadata": {},
     "output_type": "execute_result"
    }
   ],
   "source": [
    "from statsmodels.formula.api import ols\n",
    "\n",
    "model = ols(\"tip ~ total_bill + size\", data = tips).fit()\n",
    "model.summary()"
   ]
  },
  {
   "cell_type": "code",
   "execution_count": 25,
   "metadata": {},
   "outputs": [
    {
     "data": {
      "text/plain": [
       "Intercept     0.668945\n",
       "total_bill    0.092713\n",
       "size          0.192598\n",
       "dtype: float64"
      ]
     },
     "execution_count": 25,
     "metadata": {},
     "output_type": "execute_result"
    }
   ],
   "source": [
    "model.params"
   ]
  },
  {
   "cell_type": "markdown",
   "metadata": {},
   "source": [
    "That meant\n",
    "- `intercept` : $\\hat{\\beta}_0$\n",
    "- `total_bill`: $\\hat{\\beta}_1$\n",
    "- `size` : $\\hat{\\beta}_2$\n",
    "\n",
    "#### Checking again!"
   ]
  },
  {
   "cell_type": "code",
   "execution_count": 24,
   "metadata": {},
   "outputs": [
    {
     "name": "stdout",
     "output_type": "stream",
     "text": [
      "w =  [0.66894474 0.09271334 0.19259779]\n"
     ]
    }
   ],
   "source": [
    "one = np.ones((X.shape[0], 1))\n",
    "Xbar = np.concatenate((one, X), axis = 1)\n",
    "# Calculating weights of the fitting line \n",
    "A = np.dot(Xbar.T, Xbar)\n",
    "b = np.dot(Xbar.T, y)\n",
    "w = np.dot(np.linalg.pinv(A), b)\n",
    "print('w = ', w)"
   ]
  },
  {
   "cell_type": "markdown",
   "metadata": {},
   "source": [
    "In this file; we didn't discuss the `preprocessing`, `cross-validation`, and `regulization`!! We will study these problems in another topic!"
   ]
  }
 ],
 "metadata": {
  "kernelspec": {
   "display_name": "Python 3",
   "language": "python",
   "name": "python3"
  }
 },
 "nbformat": 4,
 "nbformat_minor": 4
}
