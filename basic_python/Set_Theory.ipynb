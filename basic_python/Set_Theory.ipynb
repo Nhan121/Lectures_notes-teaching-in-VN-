{
 "cells": [
  {
   "cell_type": "markdown",
   "metadata": {},
   "source": [
    "### 0. Creating a set\n",
    "\n",
    "We can easily create a set just by inputing directly the values in the curly braces: `{}`"
   ]
  },
  {
   "cell_type": "code",
   "execution_count": 1,
   "metadata": {},
   "outputs": [
    {
     "data": {
      "text/plain": [
       "set"
      ]
     },
     "execution_count": 1,
     "metadata": {},
     "output_type": "execute_result"
    }
   ],
   "source": [
    "set_A = {1, 2, 3, \"hello\", \"cut\"}\n",
    "type(set_A)"
   ]
  },
  {
   "cell_type": "markdown",
   "metadata": {},
   "source": [
    "using `set(list of something)`"
   ]
  },
  {
   "cell_type": "code",
   "execution_count": 2,
   "metadata": {},
   "outputs": [
    {
     "data": {
      "text/plain": [
       "set"
      ]
     },
     "execution_count": 2,
     "metadata": {},
     "output_type": "execute_result"
    }
   ],
   "source": [
    "set_B = set([1, 2, 3, \"hello\", \"cut\"])\n",
    "type(set_B)"
   ]
  },
  {
   "cell_type": "markdown",
   "metadata": {},
   "source": [
    "or `set(numpy_array of something)`"
   ]
  },
  {
   "cell_type": "code",
   "execution_count": 3,
   "metadata": {},
   "outputs": [
    {
     "data": {
      "text/plain": [
       "set"
      ]
     },
     "execution_count": 3,
     "metadata": {},
     "output_type": "execute_result"
    }
   ],
   "source": [
    "import numpy as np\n",
    "set_C = set(np.arange(0, 3, 1))\n",
    "type(set_C)"
   ]
  },
  {
   "cell_type": "markdown",
   "metadata": {},
   "source": [
    "### 1. complement and (regular) difference.\n",
    "\n",
    "Let $S$ be a universal set, and A, B be its subsets, we have\n",
    "\n",
    "$$ A \\setminus B = \\lbrace x \\in A : x \\not \\in B \\rbrace $$\n",
    "\n",
    "Moreover, the set $A^C$ defined by\n",
    "\n",
    "$$ A^C = S \\setminus A = \\lbrace x \\in S : x \\not \\in A \\rbrace $$\n",
    "\n",
    "is called the complement of $A$ in $S$."
   ]
  },
  {
   "cell_type": "code",
   "execution_count": 4,
   "metadata": {},
   "outputs": [],
   "source": [
    "S = set([\"cat1\", \"dog1\", \"cat2\", \"dog2\", \"cat3\", \"cat4\", 2j, False, 1, 1j+2, 2.5, 1+2j])\n",
    "A = set([\"cat1\", \"dog1\", \"cat2\", \"dog2\", 1, 2.5, False, 1+2j])\n",
    "B = set([\"cat1\", \"dog1\", \"cat2\", \"dog2\", \"cat3\", \"cat4\", 2j])"
   ]
  },
  {
   "cell_type": "markdown",
   "metadata": {},
   "source": [
    "We can use both of \n",
    "\n",
    "                        S.difference(A) \n",
    "and\n",
    "\n",
    "                        S - A \n",
    "to simplify the expression $S \\setminus A$"
   ]
  },
  {
   "cell_type": "code",
   "execution_count": 5,
   "metadata": {},
   "outputs": [
    {
     "name": "stdout",
     "output_type": "stream",
     "text": [
      "{'cat4', (2+1j), 2j, 'cat3'}\n",
      "{'cat4', (2+1j), 2j, 'cat3'}\n"
     ]
    }
   ],
   "source": [
    "print(S.difference(A))\n",
    "print(S - A)"
   ]
  },
  {
   "cell_type": "code",
   "execution_count": 6,
   "metadata": {},
   "outputs": [
    {
     "name": "stdout",
     "output_type": "stream",
     "text": [
      "{'cat4', (2+1j), 2j, 'cat3'}\n",
      "{False, 1, 2.5, (2+1j), (1+2j)}\n"
     ]
    }
   ],
   "source": [
    "print(S - A)\n",
    "print(S - B)"
   ]
  },
  {
   "cell_type": "markdown",
   "metadata": {},
   "source": [
    "But, noting that the `set_difference` is not **`symmetric`**, that is\n",
    "$$ A \\setminus B \\neq B \\setminus A $$\n",
    "iff $A \\neq B$"
   ]
  },
  {
   "cell_type": "code",
   "execution_count": 7,
   "metadata": {},
   "outputs": [
    {
     "name": "stdout",
     "output_type": "stream",
     "text": [
      "{'cat4', 2j, 'cat3'}\n",
      "{False, 1, 2.5, (1+2j)}\n"
     ]
    }
   ],
   "source": [
    "print(B - A)\n",
    "print(A - B)"
   ]
  },
  {
   "cell_type": "markdown",
   "metadata": {},
   "source": [
    "Obviousky, $A \\setminus A = \\emptyset$"
   ]
  },
  {
   "cell_type": "code",
   "execution_count": 8,
   "metadata": {},
   "outputs": [
    {
     "data": {
      "text/plain": [
       "set()"
      ]
     },
     "execution_count": 8,
     "metadata": {},
     "output_type": "execute_result"
    }
   ],
   "source": [
    "A - A"
   ]
  },
  {
   "cell_type": "markdown",
   "metadata": {},
   "source": [
    "### 2. Intersection.\n",
    "\n",
    "\n",
    "We have  $$ A \\cap B = B \\cap A = \\lbrace x \\in A \\text{ and } x \\in B \\rbrace = A \\setminus ( A \\setminus B ) = B \\setminus ( B \\setminus A ) $$\n"
   ]
  },
  {
   "cell_type": "code",
   "execution_count": 9,
   "metadata": {},
   "outputs": [
    {
     "name": "stdout",
     "output_type": "stream",
     "text": [
      "{'cat2', 'dog1', 'cat1', 'dog2'}\n",
      "{'cat2', 'dog1', 'cat1', 'dog2'}\n",
      "{'cat2', 'dog1', 'cat1', 'dog2'}\n",
      "{'cat2', 'dog1', 'cat1', 'dog2'}\n"
     ]
    }
   ],
   "source": [
    "print(A - (A - B))\n",
    "print(B - (B - A))\n",
    "print(B.intersection(A))\n",
    "print(A.intersection(B))"
   ]
  },
  {
   "cell_type": "markdown",
   "metadata": {},
   "source": [
    "Moreover, we can call `A & B` to simplify the expression $A \\cap B$"
   ]
  },
  {
   "cell_type": "code",
   "execution_count": 10,
   "metadata": {},
   "outputs": [
    {
     "data": {
      "text/plain": [
       "{'cat1', 'cat2', 'dog1', 'dog2'}"
      ]
     },
     "execution_count": 10,
     "metadata": {},
     "output_type": "execute_result"
    }
   ],
   "source": [
    "A & B"
   ]
  },
  {
   "cell_type": "markdown",
   "metadata": {},
   "source": [
    "### 3. Union.\n",
    "\n",
    "We have  $$ A \\cup B = B \\cup A = \\lbrace x \\in A \\text{ or } x \\in B \\rbrace $$"
   ]
  },
  {
   "cell_type": "code",
   "execution_count": 11,
   "metadata": {},
   "outputs": [
    {
     "name": "stdout",
     "output_type": "stream",
     "text": [
      "{False, 1, 2.5, 2j, (1+2j), 'cat4', 'dog2', 'cat2', 'cat3', 'cat1', 'dog1'}\n",
      "{False, 1, 2.5, 2j, (1+2j), 'cat4', 'dog2', 'cat2', 'cat3', 'cat1', 'dog1'}\n"
     ]
    }
   ],
   "source": [
    "print(A.union(B))\n",
    "print(B.union(A))"
   ]
  },
  {
   "cell_type": "markdown",
   "metadata": {},
   "source": [
    "Likewise, we can call `A | B` to simplify the expression $A \\cup B$"
   ]
  },
  {
   "cell_type": "code",
   "execution_count": 12,
   "metadata": {},
   "outputs": [
    {
     "name": "stdout",
     "output_type": "stream",
     "text": [
      "{False, 1, 2.5, 2j, (1+2j), 'cat4', 'dog2', 'cat2', 'cat3', 'cat1', 'dog1'}\n"
     ]
    }
   ],
   "source": [
    "print(A | B)"
   ]
  },
  {
   "cell_type": "markdown",
   "metadata": {},
   "source": [
    "### 4. Symmetric difference.\n",
    "\n",
    "The `symmetric difference` is equivalent to the union of both relative complements, that is:\n",
    "\n",
    "$${\\displaystyle A\\,\\triangle \\,B=\\left(A\\setminus B\\right)\\cup \\left(B\\setminus A\\right) = \\displaystyle B \\triangle \\displaystyle A,}$$"
   ]
  },
  {
   "cell_type": "code",
   "execution_count": 13,
   "metadata": {},
   "outputs": [
    {
     "name": "stdout",
     "output_type": "stream",
     "text": [
      "{False, 1, 2.5, 2j, (1+2j), 'cat4', 'cat3'}\n",
      "{False, 1, 2.5, 2j, (1+2j), 'cat4', 'cat3'}\n",
      "Verify: \n",
      "\n"
     ]
    },
    {
     "data": {
      "text/plain": [
       "{(1+2j), 1, 2.5, 2j, False, 'cat3', 'cat4'}"
      ]
     },
     "execution_count": 13,
     "metadata": {},
     "output_type": "execute_result"
    }
   ],
   "source": [
    "print(A.symmetric_difference(B))\n",
    "print(B.symmetric_difference(A))\n",
    "print('Verify: \\n')\n",
    "(A - B).union(B - A)"
   ]
  },
  {
   "cell_type": "markdown",
   "metadata": {},
   "source": [
    "**Properties.**\n",
    "\n",
    "1. The symmetric difference is commutative and associative:\n",
    "\n",
    "$${\\displaystyle {\\begin{aligned} A\\,\\triangle \\,B &= B\\,\\triangle \\,A \\,\\\\(A\\,\\triangle \\,B)\\,\\triangle \\,C &= A\\,\\triangle \\,(B\\,\\triangle \\,C).\\end{aligned}}}$$\n",
    "\n",
    "Moreover,\n",
    "\n",
    "$$ A\\,\\triangle \\,B = A^C \\, \\triangle B^C.$$\n",
    "\n",
    "2. $A \\cup B$ can be expressed by the disjoint-union of $A \\cap B$ and $A\\,\\triangle \\,B$, So the symmetric difference can also be expressed as the union of the two sets, minus their intersection:\n",
    "\n",
    "$$ {\\displaystyle A\\,\\triangle \\,B=(A\\cup B)\\setminus (A\\cap B),}$$\n",
    "\n",
    "3. The empty set is neutral, and every set is its own inverse:\n",
    "\n",
    "$${\\displaystyle {\\begin{aligned}A\\,\\triangle \\,\\emptyset &=A, \\end{aligned}}} \\\\ {\\displaystyle {\\begin{aligned}A\\,\\triangle A\\ &= \\emptyset .\\end{aligned}}}$$\n",
    "\n",
    "4. Distributes over symmetric difference\n",
    "\n",
    "$$ {\\displaystyle (A\\,\\triangle \\,B)\\,\\triangle \\,(B\\,\\triangle \\,C)=A\\,\\triangle \\,C.} $$\n",
    "\n",
    "$$ A\\cap (B\\,\\triangle \\,C)=(A\\cap B)\\,\\triangle \\,(A\\cap C),$$\n",
    "\n",
    "5. $\\left(\\bigcup _{\\alpha \\in {\\mathcal {I}}}A_{\\alpha }\\right)\\triangle \\left(\\bigcup _{\\alpha \\in {\\mathcal {I}}}B_{\\alpha }\\right)\\subseteq \\bigcup _{\\alpha \\in {\\mathcal {I}}}\\left(A_{\\alpha }\\triangle B_{\\alpha }\\right),$ where $\\displaystyle {\\mathcal {I}}$ is an arbitrary non-empty index set."
   ]
  },
  {
   "cell_type": "code",
   "execution_count": 14,
   "metadata": {},
   "outputs": [
    {
     "name": "stdout",
     "output_type": "stream",
     "text": [
      "Illustration example\n",
      "Let S = {1, 2, 3, '1', '2', '3'} be the sample_space and \n",
      " \t\t\t A = {1, 2, '1'}, B = {'2', 2, 1}, C = {1, 2, '3'} be its subsets\n",
      "properties 1: \n",
      "\t  i) A sym_diff B = {'2', '1'} = {'1', '2'} = B sym_diff A \n",
      "\t ii) (A sym_diff B) sym_diff C = {1, 2, '1', '2', '3'} = {1, 2, '1', '2', '3'} = A sym_diff (B sym_diff C)\n",
      "\tiii) A sym_diff B = {'2', '1'} = {'2', '1'} = A^c sym_diff B^c\n",
      "properties 2: \n",
      " \t A sym_diff B = {'2', '1'} = {'2', '1'} = {1, 2, '1', '2'} \\ {1, 2} = (A U B) \\ (A \\cap B)\n",
      "properties 3:\n",
      "\t  i) A sym_diff emptyset = {1, 2, '1'} = A\n",
      "\t ii) A sym_diff A = set() = emptyset\n",
      "properties 4:\n",
      "\t  i) (A sym_diff B) sym_diff (B sym_diff C) = {'1', '3'} = {'1', '3'} = A sym_diff C\n",
      "\t ii) A cap (B sym_diff C) = set() = set() = (A cap B) sym_diff (A cap C)\n"
     ]
    }
   ],
   "source": [
    "print('Illustration example')\n",
    "##############################################\n",
    "A = set([1 , 2, \"1\"])\n",
    "B = set([2, \"2\", 1])\n",
    "C = set([\"3\", 1, 2])\n",
    "S = set([1,2,3, \"1\", \"2\", \"3\"])\n",
    "E = set([])\n",
    "print('Let S = %s be the sample_space and \\n \\t\\t\\t A = %s, B = %s, C = %s be its subsets'%(S , A, B, C))\n",
    "##############################################\n",
    "print('properties 1: \\n\\t  i) A sym_diff B = %s = %s = B sym_diff A '%(\n",
    "    A.symmetric_difference(B), B.symmetric_difference(A)))\n",
    "print('\\t ii) (A sym_diff B) sym_diff C = %s = %s = A sym_diff (B sym_diff C)'%(\n",
    "    (A.symmetric_difference(B)).symmetric_difference(C), \n",
    "    A.symmetric_difference((B).symmetric_difference(C))))\n",
    "print('\\tiii) A sym_diff B = %s = %s = A^c sym_diff B^c' %(\n",
    "    A.symmetric_difference(B), (S - A).symmetric_difference(S - B) ) )\n",
    "##############################################\n",
    "print('properties 2: \\n \\t A sym_diff B = %s = %s = %s \\ %s = (A U B) \\ (A \\cap B)'%(\n",
    "    A.symmetric_difference(B), \n",
    "    ( A.union(B) ) - ( A.intersection(B) ),  \n",
    "    A.union(B), A.intersection(B) ) )\n",
    "##############################################\n",
    "print('properties 3:')\n",
    "print('\\t  i) A sym_diff emptyset = %s = A'%(A.symmetric_difference(E)))\n",
    "print('\\t ii) A sym_diff A = %s = emptyset'%(A.symmetric_difference(A)))\n",
    "##############################################\n",
    "print('properties 4:')\n",
    "print('\\t  i) (A sym_diff B) sym_diff (B sym_diff C) = %s = %s = A sym_diff C'%(\n",
    "    (A.symmetric_difference(B) ).symmetric_difference( (B.symmetric_difference(C) ) ),\n",
    "    A.symmetric_difference(C)))\n",
    "print('\\t ii) A cap (B sym_diff C) = %s = %s = (A cap B) sym_diff (A cap C)'%(\n",
    "    A.intersection( B.symmetric_difference(C) ), \n",
    "    ( A.intersection(B) ).symmetric_difference( A.intersection(C) ) ) )\n",
    "##############################################"
   ]
  },
  {
   "cell_type": "markdown",
   "metadata": {},
   "source": [
    "**Remarks.** We can also use `A ^ B` to express the operation $A \\, \\triangle B$"
   ]
  },
  {
   "cell_type": "code",
   "execution_count": 15,
   "metadata": {},
   "outputs": [
    {
     "name": "stdout",
     "output_type": "stream",
     "text": [
      "{'2', '1'}\n",
      "{'2', '1'}\n"
     ]
    }
   ],
   "source": [
    "print(A ^ B)\n",
    "print(A.symmetric_difference(B))"
   ]
  },
  {
   "cell_type": "markdown",
   "metadata": {},
   "source": [
    "### 5. Isdisjoint. Checking any 2 set is disjoint or not!\n",
    "\n",
    "**Quick reminder!** 2 set $X, Y$ is called `disjoint` if $$ X \\cap Y = \\emptyset $$\n",
    "\n",
    "Obviously, $A \\cap \\emptyset = \\emptyset,$ for any set $A$"
   ]
  },
  {
   "cell_type": "code",
   "execution_count": 16,
   "metadata": {},
   "outputs": [
    {
     "name": "stdout",
     "output_type": "stream",
     "text": [
      "Is A and B disjoint? \t\tFalse\n",
      "Is A and C disjoint? \t\tFalse\n",
      "Is B and C disjoint? \t\tFalse\n",
      "Is A and E = emptyset disjoint? True\n",
      "Is D and A disjoint? \t\tTrue\n",
      "Is D and B disjoint? \t\tFalse\n",
      "Is D and C disjoint? \t\tTrue\n",
      "Is D and E disjoint? \t\tTrue\n"
     ]
    }
   ],
   "source": [
    "D = set([5, \"6\", \"2\"])\n",
    "print('Is A and B disjoint? \\t\\t%s'%A.isdisjoint(B))\n",
    "print('Is A and C disjoint? \\t\\t%s'%A.isdisjoint(C))\n",
    "print('Is B and C disjoint? \\t\\t%s'%C.isdisjoint(B))\n",
    "print('Is A and E = emptyset disjoint? %s'%A.isdisjoint(E))\n",
    "print('Is D and A disjoint? \\t\\t%s'%D.isdisjoint(A))\n",
    "print('Is D and B disjoint? \\t\\t%s'%D.isdisjoint(B))\n",
    "print('Is D and C disjoint? \\t\\t%s'%D.isdisjoint(C))\n",
    "print('Is D and E disjoint? \\t\\t%s'%E.isdisjoint(D))"
   ]
  },
  {
   "cell_type": "markdown",
   "metadata": {},
   "source": [
    "### 6. Issubset & issuperset. \n",
    "\n",
    "Using `set_A.issubset(set_B)` to verify the given set $A$ is a subset of $B$ or not? \n",
    "\n",
    "In the other hand; using `set_B.issuperset(set_A)` to verify whether $B$ contains $A$ or not?"
   ]
  },
  {
   "cell_type": "code",
   "execution_count": 17,
   "metadata": {},
   "outputs": [
    {
     "name": "stdout",
     "output_type": "stream",
     "text": [
      "\"A is a subset of B??\". This statement is: False.\n",
      "\"A is contained in S??\". This statement is: True.\n",
      "\"E is a subset of B??\". This statement is: True.\n",
      "\"D is a subset of D??\". This statement is: True.\n",
      "\"D is contained in D??\". This statement is: True.\n"
     ]
    }
   ],
   "source": [
    "print('\"A is a subset of B??\". This statement is: %s.'%A.issubset(B))\n",
    "print('\"A is contained in S??\". This statement is: %s.'%S.issuperset(A))\n",
    "print('\"E is a subset of B??\". This statement is: %s.'%E.issubset(B))\n",
    "print('\"D is a subset of D??\". This statement is: %s.'%D.issubset(D))\n",
    "print('\"D is contained in D??\". This statement is: %s.'%D.issuperset(D))"
   ]
  },
  {
   "cell_type": "markdown",
   "metadata": {},
   "source": [
    "To distinguish the operator $\\subset$ and $\\subseteq$ in Python, we can use `<` and `<=` for any sets. For example"
   ]
  },
  {
   "cell_type": "code",
   "execution_count": 18,
   "metadata": {},
   "outputs": [
    {
     "name": "stdout",
     "output_type": "stream",
     "text": [
      "{'2', 5, '6'} is a subset or identical to {'2', 5, '6'}\n",
      "{'2', 5, '6'} is not subset of {1, 2, 3, '1', '2', '3'}\n",
      "{1, 2, '1'} is a proper subset of {1, 2, 3, '1', '2', '3'}\n",
      "{1, 2, '1'} is not subset of {'2', 2, 1}\n"
     ]
    }
   ],
   "source": [
    "def is_sub_propsub(x , y):   \n",
    "    \"\"\" \n",
    "        Input: x, y (set)\n",
    "        return: x is subset or proper_subset or not a subset of y\n",
    "    \"\"\"\n",
    "    if x < y:\n",
    "        print('%s is a proper subset of %s'%(str(x), str(y)))\n",
    "    elif x <= y:\n",
    "        print('%s is a subset or identical to %s'%(str(x), str(y)))\n",
    "    else:\n",
    "        print('%s is not subset of %s'%(str(x), str(y)))\n",
    "        \n",
    "is_sub_propsub(D, D)\n",
    "is_sub_propsub(D, S)\n",
    "is_sub_propsub(A, S)\n",
    "is_sub_propsub(A, B)"
   ]
  },
  {
   "cell_type": "code",
   "execution_count": 19,
   "metadata": {},
   "outputs": [
    {
     "name": "stdout",
     "output_type": "stream",
     "text": [
      "Help on function is_sub_propsub in module __main__:\n",
      "\n",
      "is_sub_propsub(x, y)\n",
      "    Input: x, y (set)\n",
      "    return: x is subset or proper_subset or not a subset of y\n",
      "\n"
     ]
    }
   ],
   "source": [
    "help(is_sub_propsub)"
   ]
  },
  {
   "cell_type": "code",
   "execution_count": 20,
   "metadata": {},
   "outputs": [
    {
     "name": "stdout",
     "output_type": "stream",
     "text": [
      "{1, 2, '1'} is a superset or identical to {1, 2, '1'}\n",
      "{1, 2, 3, '1', '2', '3'} is a proper superset of {1, 2, '1'}\n",
      "{'2', 5, '6'} is not superset of {1, 2, '1'}\n"
     ]
    }
   ],
   "source": [
    "def is_sup_propsup(x , y):\n",
    "    if x > y:\n",
    "        print('%s is a proper superset of %s'%(str(x), str(y)))\n",
    "    elif x >= y:\n",
    "        print('%s is a superset or identical to %s'%(str(x), str(y)))\n",
    "    else:\n",
    "        print('%s is not superset of %s'%(str(x), str(y)))\n",
    "        \n",
    "is_sup_propsup(A, A)\n",
    "is_sup_propsup(S, A)\n",
    "is_sup_propsup(D, A)"
   ]
  }
 ],
 "metadata": {
  "kernelspec": {
   "display_name": "Python 3",
   "language": "python",
   "name": "python3"
  },
  "language_info": {
   "codemirror_mode": {
    "name": "ipython",
    "version": 3
   },
   "file_extension": ".py",
   "mimetype": "text/x-python",
   "name": "python",
   "nbconvert_exporter": "python",
   "pygments_lexer": "ipython3",
   "version": "3.7.7"
  },
  "toc": {
   "base_numbering": 1,
   "nav_menu": {},
   "number_sections": false,
   "sideBar": true,
   "skip_h1_title": false,
   "title_cell": "Table of Contents",
   "title_sidebar": "Contents",
   "toc_cell": false,
   "toc_position": {},
   "toc_section_display": true,
   "toc_window_display": false
  }
 },
 "nbformat": 4,
 "nbformat_minor": 4
}
