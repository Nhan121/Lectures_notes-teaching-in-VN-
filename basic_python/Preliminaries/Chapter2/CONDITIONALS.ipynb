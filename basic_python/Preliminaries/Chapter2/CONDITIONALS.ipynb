{
 "cells": [
  {
   "cell_type": "markdown",
   "metadata": {},
   "source": [
    "## Conditions in Python \n",
    "\n",
    "We use the word conditional for code that is run according to some `boolean value`. In this `kernel`, we will discuss 2 approachs of **`Python conditional:`**:\n",
    "- **`if - elif - else`**\n",
    "- **`switch-case:`**\n",
    "\n",
    "### 1. Conditions using `if-elif-else`\n",
    "\n",
    "#### 1.1. The `if statement`\n",
    "\n",
    "Such a thing is based on a if statement:\n",
    "\n",
    "**Syntax:**\n",
    "\n",
    "            if (your conditions) :\n",
    "                your statements\n",
    "**Example 1.1.1.** Compare the two given numbers `a, b` then print out the statement which one is greater?"
   ]
  },
  {
   "cell_type": "code",
   "execution_count": 1,
   "metadata": {},
   "outputs": [
    {
     "name": "stdout",
     "output_type": "stream",
     "text": [
      "2018 is greater than 2009\n"
     ]
    }
   ],
   "source": [
    "a = 2018\n",
    "b = 2009\n",
    "if a > b:\n",
    "    print(\"%s is greater than %s\"%(a, b))"
   ]
  },
  {
   "cell_type": "markdown",
   "metadata": {},
   "source": [
    "**Code explaination.**\n",
    "\n",
    "- The **`if`** `statement` ends with the character `:` and the next line has to start with some `spaces` or a `TAB`. \n",
    "\n",
    "- If the condition is **`True`** (here is `a > b`), this `statement line` is `run`. \n",
    "\n",
    "- If the condition is **`False`**, the `statement line` is `ignored` and the `run continues`. \n",
    "\n",
    "- You can choose the `number of spaces` *at the beginning of the line but it has to be strictly positive*. \n",
    "\n",
    "- These `spaces` delimit the `bunch of code` to run if the `condition` is **`True`** and their number must remain the same along all the line of the `conditional block`.\n",
    "\n",
    "Hence, the `if statement` will raise an `error message` in the following examples:\n",
    "\n",
    "**Example 1.1.2. No spacing when running `if condition`** \n",
    "\n",
    "Missing the `TAB` or `spaces` before `your statement` leads to an **`IndentationError`**"
   ]
  },
  {
   "cell_type": "code",
   "execution_count": 2,
   "metadata": {},
   "outputs": [
    {
     "ename": "IndentationError",
     "evalue": "expected an indented block (<ipython-input-2-e3e71efc609e>, line 3)",
     "output_type": "error",
     "traceback": [
      "\u001b[1;36m  File \u001b[1;32m\"<ipython-input-2-e3e71efc609e>\"\u001b[1;36m, line \u001b[1;32m3\u001b[0m\n\u001b[1;33m    print(\"a is negative\")\u001b[0m\n\u001b[1;37m        ^\u001b[0m\n\u001b[1;31mIndentationError\u001b[0m\u001b[1;31m:\u001b[0m expected an indented block\n"
     ]
    }
   ],
   "source": [
    "a = -3\n",
    "if a < 0:\n",
    "print(\"a is negative\")"
   ]
  },
  {
   "cell_type": "markdown",
   "metadata": {},
   "source": [
    "So, the **corrrect `if` statement** must be"
   ]
  },
  {
   "cell_type": "code",
   "execution_count": 3,
   "metadata": {},
   "outputs": [
    {
     "name": "stdout",
     "output_type": "stream",
     "text": [
      "a is negative\n"
     ]
    }
   ],
   "source": [
    "a = -3\n",
    "if a < 0:\n",
    "    print(\"a is negative\")"
   ]
  },
  {
   "cell_type": "markdown",
   "metadata": {},
   "source": [
    "#### Example 1.1.3. Incorrect number of spaces.\n",
    "In this case, the `indentation level` in the third line `print('OK! good job')` has `2 space levels` which is not the same with the previous line: `print(\"Number %s is a negative\"%a)` which has `4 space levels`"
   ]
  },
  {
   "cell_type": "code",
   "execution_count": 5,
   "metadata": {},
   "outputs": [
    {
     "ename": "IndentationError",
     "evalue": "unindent does not match any outer indentation level (<tokenize>, line 3)",
     "output_type": "error",
     "traceback": [
      "\u001b[1;36m  File \u001b[1;32m\"<tokenize>\"\u001b[1;36m, line \u001b[1;32m3\u001b[0m\n\u001b[1;33m    print(\"OK! good job\")\u001b[0m\n\u001b[1;37m    ^\u001b[0m\n\u001b[1;31mIndentationError\u001b[0m\u001b[1;31m:\u001b[0m unindent does not match any outer indentation level\n"
     ]
    }
   ],
   "source": [
    "if a < 0:\n",
    "    print(\"Number %s is a negative\"%a)\n",
    "  print(\"OK! good job\")"
   ]
  },
  {
   "cell_type": "markdown",
   "metadata": {},
   "source": [
    "Again, the **correct one** must be:"
   ]
  },
  {
   "cell_type": "code",
   "execution_count": 6,
   "metadata": {},
   "outputs": [
    {
     "name": "stdout",
     "output_type": "stream",
     "text": [
      "Number -3 is a negative\n",
      "OK! good job\n"
     ]
    }
   ],
   "source": [
    "if a < 0:\n",
    "    print(\"Number %s is a negative\"%a)\n",
    "    print(\"OK! good job\")"
   ]
  },
  {
   "cell_type": "markdown",
   "metadata": {},
   "source": [
    "#### Example 1.1.4. The `statement` is out of `conditional block`"
   ]
  },
  {
   "cell_type": "code",
   "execution_count": 7,
   "metadata": {},
   "outputs": [
    {
     "name": "stdout",
     "output_type": "stream",
     "text": [
      "Yeah!\n"
     ]
    }
   ],
   "source": [
    "a = -93\n",
    "if a > 0:\n",
    "    print('%s is positive'%a)\n",
    "print('Yeah!')"
   ]
  },
  {
   "cell_type": "markdown",
   "metadata": {},
   "source": [
    "**Code explaination.**\n",
    "- In this case, your `condition` is `a > 0` and the given value `a = -93` which is not satisfied; so, there is no output in the `statement line : print('%s is positive'%a)`!!\n",
    "- Moreover, the `final print function` is **out of your `if` statement** so it will be displayed in your output command!"
   ]
  },
  {
   "cell_type": "markdown",
   "metadata": {},
   "source": [
    "Now, we know how to write an instruction `block`, we can construct richer conditionals by running some block if the condition is true and an other `block otherwise`. Such a structure is known as a `if ... else statement`.\n",
    "\n",
    "#### 1.2. The `if-else statement`\n",
    "\n",
    "Firstly, how to implement the `if-else`'s syntax??\n",
    "\n",
    "                if True_condition:\n",
    "                    Right_statement\n",
    "                else:\n",
    "                    Wrong_statement\n",
    "                    \n",
    "**Example 1.2.1.** The first example on **`if-else`** `statement`!"
   ]
  },
  {
   "cell_type": "code",
   "execution_count": 8,
   "metadata": {},
   "outputs": [
    {
     "name": "stdout",
     "output_type": "stream",
     "text": [
      "Condition is true\n",
      "a is positive\n"
     ]
    }
   ],
   "source": [
    "a = 2018\n",
    "if a > 0:\n",
    "    print('Condition is true')\n",
    "    print('a is positive')\n",
    "else:\n",
    "    print('Condition is false')\n",
    "    print('a is nonpositive')"
   ]
  },
  {
   "cell_type": "markdown",
   "metadata": {},
   "source": [
    "Quite often, we use a conditional to give a value to a variable according to some condition:"
   ]
  },
  {
   "cell_type": "code",
   "execution_count": 9,
   "metadata": {},
   "outputs": [
    {
     "name": "stdout",
     "output_type": "stream",
     "text": [
      "Odd number\n"
     ]
    }
   ],
   "source": [
    "a = 29\n",
    "if a % 2 == 1:\n",
    "    val = 'Odd number'\n",
    "else:\n",
    "    val = 'Even number'\n",
    "print(val)"
   ]
  },
  {
   "cell_type": "markdown",
   "metadata": {},
   "source": [
    "Such a code is a bit long and to reduce its size, **`Python`** offers ***inline conditional***:\n",
    "\n",
    "                (Right_statement) if (True_condition) else (Wrong_statement)"
   ]
  },
  {
   "cell_type": "code",
   "execution_count": 10,
   "metadata": {},
   "outputs": [
    {
     "name": "stdout",
     "output_type": "stream",
     "text": [
      "Odd number\n"
     ]
    }
   ],
   "source": [
    "val = 29\n",
    "val = 'Odd number' if (a % 2 == 1) else 'Even number'\n",
    "print(val)"
   ]
  },
  {
   "cell_type": "markdown",
   "metadata": {},
   "source": [
    "An **`if ... else`** `statement` is adapted to test a `single condition` but it becomes ***less easy when multiple nested conditions are needed***.\n",
    "\n",
    "**Example 1.2.2.** Write an `if-else statement` to print out the results of the `remainder` in the `quotient` by `4`.\n",
    "\n",
    "We have known that\n",
    "\n",
    "            a % 4 == 0  then remainder = 0\n",
    "            a % 4 == 1  then remainder = 1\n",
    "            a % 4 == 2  then remainder = 2\n",
    "            a % 4 == 3  then remainder = 3\n",
    "            \n",
    "In case of using only **`if-else`** `statement`, this really take a lots of lines in your condition and statement.\n",
    "\n",
    "           if a % 4 == 0 \n",
    "               remainder = 0\n",
    "           else:   ## this cass a % 4 == 1 or == 2 or == 3\n",
    "               ## then this need to an if-else inside the else's statement\n",
    "               if a % 4 == 1:\n",
    "                   remainder = 1\n",
    "               else:\n",
    "                   ## this time; the remainders can be 2 or 3\n",
    "                   if a % 4 == 2:\n",
    "                       remainder = 2\n",
    "                   else:\n",
    "                       remainder = 3                   \n",
    "Look at the following code!"
   ]
  },
  {
   "cell_type": "code",
   "execution_count": 11,
   "metadata": {},
   "outputs": [
    {
     "name": "stdout",
     "output_type": "stream",
     "text": [
      "The remainder of 29 by 4 is 1\n"
     ]
    }
   ],
   "source": [
    "if a % 4 == 0:\n",
    "    res = 0\n",
    "else:\n",
    "    if a % 4 == 1:\n",
    "        res = 1\n",
    "    else:\n",
    "        if a % 4 == 2:\n",
    "            res = 2\n",
    "        else:\n",
    "            res = 4\n",
    "print(\"The remainder of %s by 4 is %s\"%(a, res))"
   ]
  },
  {
   "cell_type": "markdown",
   "metadata": {},
   "source": [
    "To produce a code easier to read and test the various conditions one by one, we can deal with a **`if ... elif ... else`** statement.\n",
    "\n",
    "#### 1.3.  The  `if ... elif ... else` statement\n",
    "The **syntax** be\n",
    "\n",
    "                if (your first condition):\n",
    "                    first_statement\n",
    "                elif (your 2nd condition):\n",
    "                    2nd_statement\n",
    "                ...\n",
    "                elif (your k th condition):\n",
    "                    k_th_statement\n",
    "                else:\n",
    "                    last_statement\n",
    "So, the previous example can elegantly be rewritten as follows:\n",
    "\n",
    "**Example 1.3.1.** Rewrite the preceding code using `if-elif-else` statement!"
   ]
  },
  {
   "cell_type": "code",
   "execution_count": 12,
   "metadata": {},
   "outputs": [
    {
     "name": "stdout",
     "output_type": "stream",
     "text": [
      "The remainder of 29 by 4 is 1\n"
     ]
    }
   ],
   "source": [
    "if a % 4 == 0:\n",
    "    res = 0\n",
    "elif a % 4 == 1:\n",
    "    res = 1\n",
    "elif a % 4 == 2:\n",
    "    res = 2\n",
    "else:\n",
    "    res = 3\n",
    "print(\"The remainder of %s by 4 is %s\"%(a, res))"
   ]
  },
  {
   "cell_type": "markdown",
   "metadata": {},
   "source": [
    "**Example 1.3.2.** Using `if-elif-else` statement to named the `month` based on the integer inputs. For example: \n",
    "- `input = 1` then `output = \"January`\n",
    "- `input = 10` then `output = October`"
   ]
  },
  {
   "cell_type": "code",
   "execution_count": 13,
   "metadata": {},
   "outputs": [
    {
     "name": "stdout",
     "output_type": "stream",
     "text": [
      "month_int = 8, month_name = August\n"
     ]
    }
   ],
   "source": [
    "month_int = 8\n",
    "\n",
    "if month_int == 1: \n",
    "    month_name = \"January\"\n",
    "elif month_int == 2: \n",
    "    month_name = \"February\"\n",
    "elif month_int == 3: \n",
    "    month_name = \"March\"\n",
    "elif month_int == 4: \n",
    "    month_name = \"April\"\n",
    "elif month_int == 5: \n",
    "    month_name = \"May\"\n",
    "elif month_int == 6: \n",
    "    month_name = \"June\"\n",
    "elif month_int == 7: \n",
    "    month_name = \"July\"\n",
    "elif month_int == 8: \n",
    "    month_name = \"August\"\n",
    "elif month_int == 9: \n",
    "    month_name = \"September\"\n",
    "elif month_int == 10: \n",
    "    month_name = \"October\"\n",
    "elif month_int == 11: \n",
    "    month_name = \"November\"\n",
    "else: \n",
    "    month_name = \"December\"\n",
    "\n",
    "print(\"month_int = %s, month_name = %s\"%(month_int, month_name))"
   ]
  },
  {
   "cell_type": "markdown",
   "metadata": {},
   "source": [
    "But, we see that using `if-elif-else` in this case remained many complexities in your code, isn't it? To make it more simplifier, we will introduce another approach : **`switch-case`** `statement`!\n",
    "\n",
    "## 2. Switch-case statement!\n",
    "\n",
    "**Syntax:**\n",
    "        \n",
    "            switcher = {\n",
    "                        case 1: statement_1,\n",
    "                        case 2: statement_2,\n",
    "                                ...  .... ,\n",
    "                        case n: statement_n\n",
    "                        }\n",
    "            switcher.get(args, \"default statement (otherwise)\")"
   ]
  },
  {
   "cell_type": "code",
   "execution_count": 14,
   "metadata": {},
   "outputs": [],
   "source": [
    "switcher = {\n",
    "            1: \"January\",\n",
    "            2: \"February\",\n",
    "            3: \"March\",\n",
    "            4: \"April\",\n",
    "            5: \"May\",\n",
    "            6: \"June\",\n",
    "            7: \"July\",\n",
    "            8: \"August\",\n",
    "            9: \"September\",\n",
    "            10: \"October\",\n",
    "            11: \"November\",\n",
    "            12: \"December\"\n",
    "            }"
   ]
  },
  {
   "cell_type": "markdown",
   "metadata": {},
   "source": [
    "Now, verify our results with the `input = 8, 10, 14` repestively, and we expect that the `input = 14` returns the `\"invalid month\"`!"
   ]
  },
  {
   "cell_type": "code",
   "execution_count": 15,
   "metadata": {},
   "outputs": [
    {
     "name": "stdout",
     "output_type": "stream",
     "text": [
      "August\n",
      "October\n",
      "invalid month\n"
     ]
    }
   ],
   "source": [
    "month_int = 8; print(switcher.get(month_int, \"invalid month\"))\n",
    "month_int = 10; print(switcher.get(month_int, \"invalid month\"))\n",
    "month_int = 14; print(switcher.get(month_int, \"invalid month\"))"
   ]
  },
  {
   "cell_type": "markdown",
   "metadata": {},
   "source": [
    "## 3. Practices & exercises.\n",
    "\n",
    "**Exercise 3.1.** Being given some variable `v`, write a conditional to test if `v` is **`None`** or not!\n",
    "\n",
    "**SOLUTION.**\n",
    "\n",
    "Firstly, we will verify with `v = 3` or `v` is not **`None`**!"
   ]
  },
  {
   "cell_type": "code",
   "execution_count": 16,
   "metadata": {},
   "outputs": [
    {
     "name": "stdout",
     "output_type": "stream",
     "text": [
      "Fuck!! v is not None\n"
     ]
    }
   ],
   "source": [
    "v = 3\n",
    "if v == None:\n",
    "    print(\"Exactly!! v is None\")\n",
    "else:\n",
    "    print(\"Fuck!! v is not None\")"
   ]
  },
  {
   "cell_type": "markdown",
   "metadata": {},
   "source": [
    "and in case `v` is **`None`**!"
   ]
  },
  {
   "cell_type": "code",
   "execution_count": 17,
   "metadata": {},
   "outputs": [
    {
     "name": "stdout",
     "output_type": "stream",
     "text": [
      "Exactly!! v is None\n"
     ]
    }
   ],
   "source": [
    "v = None\n",
    "if v == None:\n",
    "    print(\"Exactly!! v is None\")\n",
    "else:\n",
    "    print(\"Fuck!! v is not None\")"
   ]
  },
  {
   "cell_type": "markdown",
   "metadata": {},
   "source": [
    "**Exercise 3.2.**  Being given two `strings: s1 and s2`, write a conditional to test if they have the same length or not?\n",
    "\n",
    "**SOLUTION.**\n",
    "\n",
    "The behind idea is using the `function` `len()` to find exactly the length of a `string`!"
   ]
  },
  {
   "cell_type": "code",
   "execution_count": 18,
   "metadata": {},
   "outputs": [
    {
     "name": "stdout",
     "output_type": "stream",
     "text": [
      "Not equal! Since length(s1) = 73, while length(s2) = 74\n"
     ]
    }
   ],
   "source": [
    "s1 = \"Hello!! My name is Nhan and I graduated Master in Paul Sabatier, France!!\"\n",
    "s2 = \"I have been a Data Scientist and Machine Learning Engineering for 2 years.\"\n",
    "\n",
    "if len(s1) == len(s2):\n",
    "    print(\"the string s1 is the same length with the s2 string\")\n",
    "else:\n",
    "    print(\"Not equal! Since length(s1) = %s, while length(s2) = %s\"%(len(s1), len(s2)))"
   ]
  },
  {
   "cell_type": "markdown",
   "metadata": {},
   "source": [
    "**Exercise 3.3.** For some numeric value `v`, write a **`if ... elif ... else`** `statement` that prints `different messages` according to the `positivity, nullity` or `negativity` of `v`."
   ]
  },
  {
   "cell_type": "code",
   "execution_count": 19,
   "metadata": {},
   "outputs": [
    {
     "name": "stdout",
     "output_type": "stream",
     "text": [
      "2015.5 is positivity\n"
     ]
    }
   ],
   "source": [
    "v = 2015.5\n",
    "if v > 0:\n",
    "    print(\"%s is positivity\"%v)\n",
    "elif v < 0:\n",
    "    print(\"%s is negativity\"%v)\n",
    "else:\n",
    "    print(\"%s is nullity\"%v)"
   ]
  },
  {
   "cell_type": "markdown",
   "metadata": {},
   "source": [
    "**Exercise 3.4.** Using the `if-elif-else` `statement` to define the `numbers of day` in a given `month`, `year`? For example:\n",
    "\n",
    "| input: `year` | input: `month` | output : `numbers_of_day` |\n",
    "|-|-|-|\n",
    "| 2001 | 3 | 31|\n",
    "| 2001 | 2 | 28 |\n",
    "| 2000 | 2 | 29 |"
   ]
  },
  {
   "cell_type": "code",
   "execution_count": 20,
   "metadata": {
    "scrolled": true
   },
   "outputs": [
    {
     "name": "stdout",
     "output_type": "stream",
     "text": [
      "Mon = 2, year = 2001 has 28 days\n"
     ]
    }
   ],
   "source": [
    "month = 2\n",
    "year = 2001\n",
    "\n",
    "if (month == 2) and (year % 4 == 0):\n",
    "    numbers_of_day = 29\n",
    "elif (month == 2) and (year % 4 != 0):\n",
    "    numbers_of_day = 28\n",
    "elif month in [4, 6, 9, 11]:\n",
    "    numbers_of_day = 30\n",
    "else:\n",
    "    numbers_of_day = 31\n",
    "print(\"Mon = %s, year = %s has %s days\"%(month, year, numbers_of_day))"
   ]
  },
  {
   "cell_type": "markdown",
   "metadata": {},
   "source": [
    "Another checking in loop year!"
   ]
  },
  {
   "cell_type": "code",
   "execution_count": 21,
   "metadata": {},
   "outputs": [
    {
     "name": "stdout",
     "output_type": "stream",
     "text": [
      "Mon = 2, year = 2000 has 29 days\n"
     ]
    }
   ],
   "source": [
    "month = 2; year = 2000\n",
    "\n",
    "if (month == 2) and (year % 4 == 0):\n",
    "    numbers_of_day = 29\n",
    "elif (month == 2) and (year % 4 != 0):\n",
    "    numbers_of_day = 28\n",
    "elif month in [4, 6, 9, 11]:\n",
    "    numbers_of_day = 30\n",
    "else:\n",
    "    numbers_of_day = 31\n",
    "\n",
    "print(\"Mon = %s, year = %s has %s days\"%(month, year, numbers_of_day))"
   ]
  },
  {
   "cell_type": "markdown",
   "metadata": {},
   "source": [
    "Final checking!"
   ]
  },
  {
   "cell_type": "code",
   "execution_count": 22,
   "metadata": {},
   "outputs": [
    {
     "name": "stdout",
     "output_type": "stream",
     "text": [
      "Mon = 3, year = 2001 has 31 days\n"
     ]
    }
   ],
   "source": [
    "month = 3; year = 2001\n",
    "\n",
    "if (month == 2) and (year % 4 == 0):\n",
    "    numbers_of_day = 29\n",
    "elif (month == 2) and (year % 4 != 0):\n",
    "    numbers_of_day = 28\n",
    "elif month in [4, 6, 9, 11]:\n",
    "    numbers_of_day = 30\n",
    "else:\n",
    "    numbers_of_day = 31\n",
    "\n",
    "print(\"Mon = %s, year = %s has %s days\"%(month, year, numbers_of_day))"
   ]
  }
 ],
 "metadata": {
  "kernelspec": {
   "display_name": "Python 3",
   "language": "python",
   "name": "python3"
  },
  "language_info": {
   "codemirror_mode": {
    "name": "ipython",
    "version": 3
   },
   "file_extension": ".py",
   "mimetype": "text/x-python",
   "name": "python",
   "nbconvert_exporter": "python",
   "pygments_lexer": "ipython3",
   "version": "3.7.6"
  },
  "toc": {
   "base_numbering": 1,
   "nav_menu": {},
   "number_sections": false,
   "sideBar": true,
   "skip_h1_title": false,
   "title_cell": "Table of Contents",
   "title_sidebar": "Contents",
   "toc_cell": false,
   "toc_position": {},
   "toc_section_display": true,
   "toc_window_display": false
  }
 },
 "nbformat": 4,
 "nbformat_minor": 4
}
