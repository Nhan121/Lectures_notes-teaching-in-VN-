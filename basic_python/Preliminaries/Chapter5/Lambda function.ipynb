{
 "cells": [
  {
   "cell_type": "markdown",
   "metadata": {},
   "source": [
    "## 1. Introduction to lambda expression-lambda function!\n",
    "#### Definition.\n",
    "A **`Lambda Function`** in **`Python programming`** is an `anonymous function` or a function having `no name`. It is a small and restricted function having no more than one line. Just like a `normal function`, a `Lambda function` can have multiple arguments with one expression.\n",
    "#### Structure.\n",
    "In **`Python`**, `lambda expressions` (or lambda forms) are utilized to `construct anonymous functions`. To do so, you will use the `lambda keyword` (just as you use def to define normal functions). Every `anonymous function` you define in `Python` will have 3 essential parts:\n",
    "- The `lambda keyword`.\n",
    "- The `parameters` (or bound variables), and\n",
    "- The `function body`.\n",
    "\n",
    "**`Syntax:`**\n",
    "\n",
    "                    lambda params_1, params_2 : expression\n",
    "\n",
    "> Here, `params_1` and `params_2` are the parameters (the 2nd part) which are passed to the `lambda function`. You can add as many or few parameters as you need.\n",
    "\n",
    "> `Expression (or function body)` is the 3rd part is any valid python expression that operates on the parameters you provide to the function; that describe the purpose of the `anonymous function.` \n",
    "\n",
    "#### Comments & remarks\n",
    "- However, notice that we do not use `brackets ()` around the `parameters` as we do with `regular functions`. \n",
    "\n",
    "- A `lambda function` can have any number of `parameters`, but the `function body` can only contain `one expression`. \n",
    "\n",
    "- Moreover, a `lambda` is written in a `single line of code` and can also be **`invoked immediately`**. You will see all this in action in the upcoming examples.\n",
    "\n",
    "#### Example 1.1. Sum of 2 input variables."
   ]
  },
  {
   "cell_type": "code",
   "execution_count": 1,
   "metadata": {},
   "outputs": [
    {
     "name": "stdout",
     "output_type": "stream",
     "text": [
      "8\n"
     ]
    }
   ],
   "source": [
    "adder = lambda x, y: x + y\n",
    "print(adder(3, 5))"
   ]
  },
  {
   "cell_type": "markdown",
   "metadata": {},
   "source": [
    "#### Code Explanation\n",
    "Here, we define a variable that will hold the result returned by the `lambda function`.\n",
    "> 1. The `lambda keyword` used to define an `anonymous function`.\n",
    "\n",
    "> 2. `x` and `y` are the `parameters` that we pass to the `lambda function`.\n",
    "\n",
    "> 3. This is the `body of the function`, which `adds` the `2 parameters` we passed. Notice that it is a `single expression`. ***You cannot write multiple statements in the `body` of a `lambda function`.***\n",
    "\n",
    "> 4. We `call` the function and print the `returned value`.\n",
    "\n",
    "#### Example 1.2.  Mean of a vector with lambda expression.\n",
    "So, we will use another function from [**Numpy**](https://numpy.org/doc/stable/reference/generated/numpy.mean.html?highlight=mean)"
   ]
  },
  {
   "cell_type": "code",
   "execution_count": 2,
   "metadata": {},
   "outputs": [
    {
     "data": {
      "text/plain": [
       "2.75"
      ]
     },
     "execution_count": 2,
     "metadata": {},
     "output_type": "execute_result"
    }
   ],
   "source": [
    "import numpy as np\n",
    "\n",
    "mean_dat = lambda x : np.mean(x)\n",
    "mean_dat([1, 2, 3, 5])"
   ]
  },
  {
   "cell_type": "markdown",
   "metadata": {},
   "source": [
    "#### Example 1.3. That was a basic example to understand the fundamentals and `syntax of lambda`.\n",
    "Let's now try to print out a `lambda` and see the result. "
   ]
  },
  {
   "cell_type": "code",
   "execution_count": 3,
   "metadata": {},
   "outputs": [
    {
     "name": "stdout",
     "output_type": "stream",
     "text": [
      "<function <lambda> at 0x000001D2D3C02288>\n"
     ]
    }
   ],
   "source": [
    "string = 'some kind of a useless lambda'\n",
    "print(lambda string : print(string))"
   ]
  },
  {
   "cell_type": "markdown",
   "metadata": {},
   "source": [
    "**Code explaination.**\n",
    "> 1) Here, we define a `string` that you'll pass as a `parameter` to the `lambda`.\n",
    "\n",
    "> 2) We declare a `lambda` that calls a **`print` statement** and prints the result.\n",
    "\n",
    "But why doesn't the program **`print`** the string we pass? This is because the `lambda itself` returns a `function object`. \n",
    "\n",
    "In this example, the `lambda` is not being called by the **`print`** function but simply returning the function object and the `memory location` where it is stored. That's what gets printed at the `console`.\n",
    "\n",
    "However, if you write a `program` like this:"
   ]
  },
  {
   "cell_type": "code",
   "execution_count": 4,
   "metadata": {},
   "outputs": [
    {
     "name": "stdout",
     "output_type": "stream",
     "text": [
      "some kind of a useless lambda\n"
     ]
    }
   ],
   "source": [
    "x = \"some kind of a useless lambda\" # What a lambda returns in this case?\n",
    "(lambda x : print(x))(x)"
   ]
  },
  {
   "cell_type": "markdown",
   "metadata": {},
   "source": [
    "Now, the `lambda` is being called, and the string we pass gets printed at the `console`. But what is that weird syntax, and why is the `lambda definition` covered in `brackets ()`?\n",
    "\n",
    "**Code Explanation**\n",
    "- Here is the ***same string*** we defined in the *previous example*.\n",
    "- In this part, we are defining a `lambda` and calling it ***immediately by passing the string as an `argument`***. This is something called an `IIFE`, and you'll learn more about it in the upcoming sections of this `tutorial`.\n",
    "\n",
    "#### Example 1.4. Let's look at a final example to understand `how lambdas and regular functions are executed`. \n",
    "\n"
   ]
  },
  {
   "cell_type": "code",
   "execution_count": 5,
   "metadata": {},
   "outputs": [
    {
     "name": "stdout",
     "output_type": "stream",
     "text": [
      "printer 1 REGULAR CALL\n",
      "printer 2 REGULAR CALL \n",
      "\n",
      "printer 1 LAMBDA CALL\n",
      "printer 2 LAMBDA CALL\n"
     ]
    }
   ],
   "source": [
    "# A REGULAR FUNCTION\n",
    "def guru( funct, *args ):\n",
    "    funct( *args )\n",
    "def printer_one( arg ):\n",
    "    return print (arg)\n",
    "def printer_two( arg ):\n",
    "    print(arg)\n",
    "    \n",
    "#CALL A REGULAR FUNCTION \n",
    "guru( printer_one, 'printer 1 REGULAR CALL' )\n",
    "guru( printer_two, 'printer 2 REGULAR CALL \\n' )\n",
    "\n",
    "#CALL A REGULAR FUNCTION THRU A LAMBDA\n",
    "guru(lambda: printer_one('printer 1 LAMBDA CALL'))\n",
    "guru(lambda: printer_two('printer 2 LAMBDA CALL'))"
   ]
  },
  {
   "cell_type": "markdown",
   "metadata": {},
   "source": [
    "**Code Explanation.**\n",
    "- A function called `guru` that **takes another function as the first parameter and any other `arguments` following it**.\n",
    "- `printer_one` is a *simple function which prints the parameter passed to it and returns it*.\n",
    "- `printer_two` is *similar to* `printer_one` **but without the return statement**.\n",
    "- In this part, we are calling the `guru function` and passing the `printer functions` and a `string` as `parameters`.\n",
    "- This is the syntax to achieve the fourth step (i.e., calling the `guru` function) but using lambdas.\n",
    "- In the next section, you will learn how to use `lambda functions` with `map()`, `reduce()`, and `filter()` in `Python`.\n",
    "\n",
    "## 2. Using `lambdas function?` \n",
    "### 2.1. with `Python built-ins`\n",
    "`Lambda functions` provide an elegant and powerful way to perform operations using **`built-in methods`** in `Python`. It is possible because `lambdas` can be invoked immediately and passed as an `argument` to `these functions`.\n",
    "\n",
    "#### `IIFE in Python Lambda`\n",
    "`IIFE` stands for immediately invoked `function execution`. \n",
    "\n",
    "It means that a `lambda function` is **`callable` as soon as it is `defined`**. Let's understand this with an example; "
   ]
  },
  {
   "cell_type": "code",
   "execution_count": 6,
   "metadata": {},
   "outputs": [
    {
     "data": {
      "text/plain": [
       "4"
      ]
     },
     "execution_count": 6,
     "metadata": {},
     "output_type": "execute_result"
    }
   ],
   "source": [
    "(lambda x: x + x)(2) "
   ]
  },
  {
   "cell_type": "markdown",
   "metadata": {},
   "source": [
    "**Code explanation:**\n",
    "- This ability of `lambda`s to be invoked immediately allows you to use them inside functions like `map()` and `reduce()`. \n",
    "\n",
    "- It is useful because you may not want to use these `function`s again.\n",
    "\n",
    "### 2.2.  `Lambdas in filter()`\n",
    "The `filter function` is used to select some particular elements from a sequence of elements. The sequence can be any iterator like [lists, sets, tuples, etc (read in Section 2, chapter1)](https://github.com/Nhan121/Lectures_notes-teaching-in-VN-/tree/master/basic_python/Preliminaries/Chapter1).\n",
    "\n",
    "The elements which will be selected is based on some `pre-defined constraint`. It takes 2 `parameters`:\n",
    "\n",
    "- 1) A `function` that defines the `filtering constraint`.\n",
    "- 2) A `sequence` (any iterator like `lists`, `tuples`, etc.)\n",
    "\n",
    "**`Syntax`**\n",
    "\n",
    "                        filter(lambda params : function[[i.e., expresion_of_params_condition]], input_sequence)\n",
    "                        \n",
    "Look at the following examples!"
   ]
  },
  {
   "cell_type": "code",
   "execution_count": 7,
   "metadata": {},
   "outputs": [
    {
     "name": "stdout",
     "output_type": "stream",
     "text": [
      "[10, 8, 7, 5, 4, 11]\n"
     ]
    }
   ],
   "source": [
    "sequences = [10,2,8,7,5,-7,4,3,11,0, 1,-2]\n",
    "filtered_result = filter(lambda x: x > 3, sequences) \n",
    "print(list(filtered_result))"
   ]
  },
  {
   "cell_type": "markdown",
   "metadata": {},
   "source": [
    "**Code Explanation:**\n",
    "- 1. In the `first statement`, we define a list called sequences which contains some numbers.\n",
    "\n",
    "- 2. Here, we declare a `variable` called `filtered_result`, which will store the filtered values returned by the `filter() function`.\n",
    "\n",
    "- 3. A `lambda function` which runs on each element of the list and returns true if it is greater than 3.\n",
    "\n",
    "- 4. Print the result returned by the `filter function`.\n",
    "\n",
    "### 2.3. `lambdas in map()`\n",
    "The `map function` is used to apply a particular operation to every `element` in a `sequence`. Like `filter()`, it also takes 2 `parameters`:\n",
    "\n",
    "- i) A `function` that defines the op to perform on the `elements`\n",
    "- ii) One or more `sequences`.\n",
    "\n",
    "**Syntax**\n",
    "\n",
    "                    map(lambda params : function, input_sequences)\n",
    "                    \n",
    "For example, here is a program that prints the squares of numbers in a given list:"
   ]
  },
  {
   "cell_type": "code",
   "execution_count": 8,
   "metadata": {},
   "outputs": [
    {
     "name": "stdout",
     "output_type": "stream",
     "text": [
      "[100, 4, 64, 49, 25, 49, 16, 9, 121, 0, 1, 4]\n"
     ]
    }
   ],
   "source": [
    "filtered_result_2 = map(lambda x: x*x, sequences) \n",
    "print(list(filtered_result_2))"
   ]
  },
  {
   "cell_type": "markdown",
   "metadata": {},
   "source": [
    "**Code Explanation:**\n",
    "- Here, we define a list called `sequences` which contains some numbers.\n",
    "- We declare a variable called `filtered_result_2` which will store the `mapped values`\n",
    "- A `lambda function` which runs on `each element of the list` and returns the `square of that number`.\n",
    "- Print the result returned by the map `function`.\n",
    "\n",
    "### 2.4. `lambdas in reduce()`\n",
    "The `reduce function`, like `map()`, is used to apply an operation to every element in a sequence. However, it differs from the map in its working. These are the steps followed by the reduce() function to compute an output:\n",
    "\n",
    "- **Step 1)** `Perform` the defined `operation` on the `first 2 elements` of the `sequence`.\n",
    "- **Step 2)** `Save` this result\n",
    "- **Step 3)** `Perform` the `operation` with the `saved result` and the `next element` in the `sequence`.\n",
    "- **Step 4)** `Repeat` until no `more elements are left`.\n",
    "\n",
    "It also takes two parameters:\n",
    "- (i) A `function` that defines the `operation` to be performed\n",
    "- (ii) A `sequence` (any iterator like `lists`, `tuples`, etc.)\n",
    "\n",
    "**Syntax:**\n",
    "\n",
    "                        reduce(lambda params : function, sequences)\n",
    "\n",
    "For example, here is a program that returns the product of all elements in a list:"
   ]
  },
  {
   "cell_type": "code",
   "execution_count": 9,
   "metadata": {},
   "outputs": [
    {
     "name": "stdout",
     "output_type": "stream",
     "text": [
      "120\n"
     ]
    }
   ],
   "source": [
    "from functools import reduce\n",
    "sequences = [1,2,3,4,5]\n",
    "product = reduce (lambda x, y: x*y, sequences)\n",
    "print(product)"
   ]
  },
  {
   "cell_type": "markdown",
   "metadata": {},
   "source": [
    "**Code Explanation:**\n",
    "- `Import` **`reduce`** from the `functools module`\n",
    "- Again, we define a `list` called `sequences` which contains some numbers.\n",
    "- We declare a variable called `product` which will store the `reduced value`\n",
    "- A `lambda function` that runs on `each element` of the list. It will return the ***product of that number as per the previous result***.\n",
    "- Print the result returned by the `reduce function`.\n",
    "\n",
    "### Why (and why not) use lambda functions?\n",
    "As you will see in the next section, `lambdas` are treated the same as **`regular functions`** at the *interpreter level*. In a way, you could say that lambdas provide `compact syntax` for writing `functions` which return a `single expression`.\n",
    "\n",
    "However, you should know when it is a good idea to use `lambdas` and when to avoid them. In this section, you will learn some of the design principles used by python developers when writing `lambdas`.\n",
    "\n",
    "One of the most common use cases for lambdas is in functional programming as **`Python`** supports a `paradigm` (or style) of `programming` known as functional programming.\n",
    "\n",
    "It allows you to provide a `function` as a `parameter` to another function (for example, in `map`, `filter`, etc.). In such cases, using `lambdas` offer an elegant way to create a one-time function and pass it as the `parameter`.\n",
    "\n",
    "#### When should you not use `Lambda`?\n",
    "You should never write complicated `lambda functions` in a production environment. It will be very difficult for coders who maintain your code to decrypt it. \n",
    "\n",
    "If you find yourself making complex `one-liner expressions`, it would be a much superior practice to define a proper function. \n",
    "\n",
    "***As a best practice, you need to remember that `simple code` is always better than `complex code`.***\n",
    "\n",
    "### 2.5. Lambdas vs. Regular functions\n",
    "As previously stated, `lambda`s are`[vV4][J5]` just `function`s which do not have an identifier bound to them. \n",
    "\n",
    "In simpler words, they are `functions with no names` (hence, **`anonymous`**). Here is a `syntax exampe` & `table` to illustrate the ***difference between lambdas and regular functions in `Python`***.\n",
    "\n",
    "#### Lambdas\n",
    "\n",
    "                lambda x : x + x\n",
    "#### Regular Functions\n",
    "\n",
    "                def (x) :\n",
    "                    return x + x \n",
    "                   \n",
    "#### Comparisions.\n",
    "\n",
    "| `Lambda functions` | `Regular functions` |\n",
    "|:-|-:|\n",
    "| Can only have one `expression` in their body. | Can have multiple `expressions` and statements in their body. |\n",
    "| `Lambda`s do not have a name associated with them. \\\\\\\\ That's why they are also known as `anonymous functions`.| `Regular functions` must have a name and signature.|\n",
    "| `Lambda`s do not contain a return statement because the body is automatically returned.|`Functions` which need to return value should include a return statement.|\n",
    "\n",
    "#### Explanation of the differences?\n",
    "The **`primary difference`** between a `lambda` and a `regular function` is that the `lambda function` evaluates only a single expression and yields a function object. Consequently, we can name the result of the lambda function and use it in our program as we did in the previous example.\n",
    "\n",
    "A `regular function` for the above example would look like this:"
   ]
  },
  {
   "cell_type": "code",
   "execution_count": 10,
   "metadata": {},
   "outputs": [
    {
     "name": "stdout",
     "output_type": "stream",
     "text": [
      "3\n"
     ]
    }
   ],
   "source": [
    "def adder (x, y):\n",
    "    return x + y \n",
    "print (adder (1, 2))"
   ]
  },
  {
   "cell_type": "markdown",
   "metadata": {},
   "source": [
    "Here, we have to define a name for the function which returns the result when we call it. A `lambda function` doesn't contain a return statement because it will have only a single expression which is always returned by `default`. You don't even have to assign a `lambda` either as it can be immediately invoked (see the next section). As you will see in the following example, `lambda`s become particularly powerful when we use them with `Python's built-in functions`.\n",
    "\n",
    "However, you may still be wondering how `lambda`s are any different from a function that returns a `single expression` (like the one above). At the `interpreter level`, there is not much difference. It may sound surprising, but any `lambda function` that you define in **`Python`** is treated as a normal function by the `interpreter`.\n",
    "\n",
    "As you can see in the diagram, the two definitions are handled in the same way by the `Python interpreter` when converted to `bytecode`. Now, you cannot name a `function lambda` because it is reserved by `Python`, but any `other function name` will yield the same `bytecode`.\n",
    "\n",
    "### Summary\n",
    "- `Lambda`s, also known as `anonymous functions`, are small, restricted *functions which do not need a name* (i.e., an identifier).\n",
    "- Every `lambda function` in Python has 3 `essential parts`: The lambda keyword; The parameters (or bound variables), and The function body.\n",
    "- The `syntax` for writing a `lambda` is: `lambda parameter: expression`\n",
    "- `Lambda`s can have any number of `parameters`, but they are not enclosed in `braces ()`\n",
    "- A `lambda` can have only 1 `expression` in its `function body`, which is returned by `default`.\n",
    "- At the `bytecode level`, there is not much difference between how lambdas and regular functions are handled by the interpreter.\n",
    "- `Lambdas` support `IIFE` thru this `syntax: (lambda parameter: expression)(argument)`\n",
    "- `Lambda`s are commonly used with the following `Python built-ins`:\n",
    "\n",
    "> `Filter`: `filter (lambda parameter: expression, iterable-sequence)`\n",
    "\n",
    "> `Map`: `map (lambda parameter: expression, iterable-sequences)`\n",
    "\n",
    "> `Reduce`: `reduce (lambda parameter1, parameter2: expression, iterable-sequence)`\n",
    "\n",
    "- Do not write complicated `lambda functions` in a production environment because it will be difficult for `code-maintainers`."
   ]
  },
  {
   "cell_type": "markdown",
   "metadata": {},
   "source": [
    "## 3. Practices & Exercises.\n",
    "\n",
    "#### Exercise 3.1. \n",
    "Build a **`lamnda function`** with `default values` and use this to calculate the difference between the 4th values and the first one in `Fibonacci sequences`!\n",
    "\n",
    "**SOLUTION.**\n",
    "\n",
    "Remind that a `basic Fibonacci sequence` in `Mathematic` is defined by\n",
    "\n",
    "                        x_1 = 1\n",
    "                        x_2 = 1\n",
    "                        x_n = x_(n-1) + x_(n-2),  for n is greater than 2\n",
    "So, we must to calculate the values of `x_4 - x_1`"
   ]
  },
  {
   "cell_type": "code",
   "execution_count": 11,
   "metadata": {},
   "outputs": [
    {
     "data": {
      "text/plain": [
       "2"
      ]
     },
     "execution_count": 11,
     "metadata": {},
     "output_type": "execute_result"
    }
   ],
   "source": [
    "fibo = lambda x1 = 1, x2 = 1, x3 = 2 : x3 + x2 - x1\n",
    "fibo()"
   ]
  },
  {
   "cell_type": "markdown",
   "metadata": {},
   "source": [
    "#### Exercise 3.2. \n",
    "What will happen if we **only obmit the `params (args)` in the `lambda function`?**\n",
    "\n",
    "**SOLUTION.**\n",
    "Nothing happen! \n",
    "\n",
    "Exactly, without using `params` and your `expression` doesn't depend on any `params` then there is no message error in the `output`! \n",
    "\n",
    "Look at the following example,"
   ]
  },
  {
   "cell_type": "code",
   "execution_count": 12,
   "metadata": {},
   "outputs": [
    {
     "data": {
      "text/plain": [
       "5"
      ]
     },
     "execution_count": 12,
     "metadata": {},
     "output_type": "execute_result"
    }
   ],
   "source": [
    "sum_2 = lambda : 2 + 3\n",
    "sum_2()"
   ]
  },
  {
   "cell_type": "markdown",
   "metadata": {},
   "source": [
    "**But, `omitting the expression` in case of existing params leads to the `Syntax Error:`**"
   ]
  },
  {
   "cell_type": "code",
   "execution_count": 13,
   "metadata": {},
   "outputs": [
    {
     "ename": "SyntaxError",
     "evalue": "invalid syntax (<ipython-input-13-8ce6dac8418c>, line 1)",
     "output_type": "error",
     "traceback": [
      "\u001b[1;36m  File \u001b[1;32m\"<ipython-input-13-8ce6dac8418c>\"\u001b[1;36m, line \u001b[1;32m1\u001b[0m\n\u001b[1;33m    sum_2 = lambda x, y : ## nothing in your expression here\u001b[0m\n\u001b[1;37m                                                            ^\u001b[0m\n\u001b[1;31mSyntaxError\u001b[0m\u001b[1;31m:\u001b[0m invalid syntax\n"
     ]
    }
   ],
   "source": [
    "sum_2 = lambda x, y : ## nothing in your expression here"
   ]
  },
  {
   "cell_type": "markdown",
   "metadata": {},
   "source": [
    "#### Exercise 3.3.\n",
    "Write the `lambda function`to calculate the `factorial` $n!$ with the input is an integer $n$.\n",
    "\n",
    "**Noting that: do not using `reduce()` belong with your `lambda function`**\n",
    "\n",
    "**SOLUTION.**\n",
    "\n",
    "Because of restricting of using `reduce()`; but we can use another tool in **Numpy**, for instance `numpy.prod()` and `numpy.arange()`"
   ]
  },
  {
   "cell_type": "code",
   "execution_count": 14,
   "metadata": {},
   "outputs": [
    {
     "name": "stdout",
     "output_type": "stream",
     "text": [
      "3! =  6\n",
      "5! =  120\n",
      "10! =  3628800\n"
     ]
    }
   ],
   "source": [
    "factorial = lambda n :np.arange(1, n+1).prod()\n",
    "\n",
    "## print out results\n",
    "print(\"3! = \", factorial(3))\n",
    "print(\"5! = \", factorial(5))\n",
    "print(\"10! = \", factorial(10))"
   ]
  },
  {
   "cell_type": "markdown",
   "metadata": {},
   "source": [
    "#### Exercise 3.4.\n",
    "Write a `lambda function` to test `an integer` is **`squared number (S.N)`** or not?\n",
    "\n",
    "**SOLUTION.**\n",
    "\n",
    "Here, we can not use the **`if-else`** `conditions` in the `lambda function`.\n",
    "\n",
    "Instead, the `behind idea` is using \n",
    "\n",
    "                (condition is True)*(Right statement) + (condition is False)*(Wrong statement)\n",
    "                \n",
    "where,\n",
    "- the first term meants the `if statement = True : doing something`\n",
    "- the last term print the otherwise case with the `else statement`!\n",
    "\n",
    "Now, look at my solution!"
   ]
  },
  {
   "cell_type": "code",
   "execution_count": 15,
   "metadata": {},
   "outputs": [
    {
     "name": "stdout",
     "output_type": "stream",
     "text": [
      "4 is Sq.No\n",
      "9 is Sq.No\n",
      "3 is not Sq.No\n"
     ]
    }
   ],
   "source": [
    "is_squared = lambda n : ((int(np.sqrt(n)))**2 == n)*\"is Sq.No\" + ((int(np.sqrt(n)))**2 != n)*'is not Sq.No'\n",
    "print('4', is_squared(4))\n",
    "print('9', is_squared(9))\n",
    "print('3', is_squared(3))"
   ]
  },
  {
   "cell_type": "markdown",
   "metadata": {},
   "source": [
    "#### Exercise 3.5. `Filter()`\n",
    "Now, write a `lambda function` to find the name in the given list which started by letter `T`!\n",
    "\n",
    "**SOLUTION.**\n",
    "\n",
    "Remind that to verify the `many first characters` in a `string`; we can use the syntax\n",
    "\n",
    "                    your_strings.startswith(some_characters or letter)"
   ]
  },
  {
   "cell_type": "code",
   "execution_count": 16,
   "metadata": {},
   "outputs": [
    {
     "data": {
      "text/plain": [
       "['Tim', 'Tom', 'Teddy', 'Tan']"
      ]
     },
     "execution_count": 16,
     "metadata": {},
     "output_type": "execute_result"
    }
   ],
   "source": [
    "name_list = ['Anna', 'Adam', 'Tim', 'Tom', 'Teddy', 'Susan', 'John', 'Tan', 'Liu', 'Zhang']\n",
    "\n",
    "## write the lambda function in the filter()\n",
    "letter_T = filter(lambda name : name.startswith('T'), name_list)\n",
    "\n",
    "## print out the result\n",
    "list(letter_T)"
   ]
  },
  {
   "cell_type": "markdown",
   "metadata": {},
   "source": [
    "#### Exercise 3.6. Advanced practices with `filter()`\n",
    "Likewise, you will write a `lambda function` to find the date in a given list which in `April`!\n",
    "\n",
    "Assume that your `date_list` is \n",
    "- a list of `string`, each `string_value` is the information of a `datetime value`,\n",
    "- only contained `year, month, day`, and \n",
    "- satified the `ISO criteria format: yyyy/mm/dd`.\n",
    "\n",
    "**SOLUTION.**\n",
    "\n",
    "Now our `string_data` has stored the information of `Month` at the `mm` hence the position(`index`) in **`Python`** is `[5: 7]`! "
   ]
  },
  {
   "cell_type": "code",
   "execution_count": 17,
   "metadata": {},
   "outputs": [
    {
     "data": {
      "text/plain": [
       "['2020/04/29', '2020/04/01', '2020/04/17']"
      ]
     },
     "execution_count": 17,
     "metadata": {},
     "output_type": "execute_result"
    }
   ],
   "source": [
    "date_list = ['2020/04/29', '2020/08/07', '2020/08/09', '2020/10/06', '2020/04/01', '2020/12/31', '2020/04/17']\n",
    "\n",
    "## write the lambda function in the filter()\n",
    "month_April = filter(lambda name : name[5:7] == '04', date_list)\n",
    "\n",
    "## print out the result\n",
    "list(month_April)"
   ]
  },
  {
   "cell_type": "markdown",
   "metadata": {},
   "source": [
    "#### Exercise 3.7. `Map()`\n",
    "Write a `lambda function` with `map` to print out all the results of a number in a given list is positive or not?\n",
    "\n",
    "**SOLUTION.**\n",
    "\n",
    "Look back **`Section 2.3: lambdas in map()`**, in this `kernel/file`"
   ]
  },
  {
   "cell_type": "code",
   "execution_count": 18,
   "metadata": {},
   "outputs": [
    {
     "data": {
      "text/plain": [
       "[True, True, True, True, True, False, True, True, True, False, True, False]"
      ]
     },
     "execution_count": 18,
     "metadata": {},
     "output_type": "execute_result"
    }
   ],
   "source": [
    "sequences = [10,2,8,7,5,-7,4,3,11,0, 1,-2]\n",
    "\n",
    "is_positive = map(lambda x: x > 0, sequences)\n",
    "list(is_positive)"
   ]
  },
  {
   "cell_type": "markdown",
   "metadata": {},
   "source": [
    "#### Exercise 3.8. Advanced practices with `Map()`\n",
    "Now, use `lambda function` and `map` to create a new variable `three_years_later` from a given `list`: `current_date`!\n",
    "\n",
    "Assume that the data in `current_year` has the same format with the `date_list` in **Exercise 3.6.**\n",
    "\n",
    "**SOLUTION.**\n",
    "- Noting that, to obtain the `3 years later`, we must extract the `current_year` firstly from your `current_date` by using the first 4 characters in each value of `current_date`. In **`Python`**, that can be simplied as appending the term `[: 4]`; and in my following code, this is `x[ : 4]` where `x` is each value in the `current_year`.\n",
    "- Next, apply the function **`int()`** to the `current_year` convert `string` to `integer` before adding `3` to get the values of `3 years later` in `numeric form!`; that is the term `x[: 4] + 3`.\n",
    "- Then, convert the previous `numeric form` to `string` again by using the **`str()`**.\n",
    "- Finally, combine the `3 years later: str(int(x[:4]) + 3)` to the `date of current year: x[4 : ]` to obtain the final result."
   ]
  },
  {
   "cell_type": "code",
   "execution_count": 19,
   "metadata": {},
   "outputs": [
    {
     "name": "stdout",
     "output_type": "stream",
     "text": [
      "['2021/08/21', '2021/12/29', '2022/08/09', '2022/10/06', '2023/01/11', '2023/08/07', '2023/10/06']\n"
     ]
    }
   ],
   "source": [
    "current_date = ['2018/08/21', '2018/12/29', '2019/08/09', '2019/10/06', '2020/01/11', '2020/08/07', '2020/10/06']\n",
    "\n",
    "three_years_later = map(lambda x: str(int(x[:4]) + 3) + x[4:], current_date)\n",
    "print(list(three_years_later))"
   ]
  },
  {
   "cell_type": "markdown",
   "metadata": {},
   "source": [
    "#### Exercise 3.9. Reduce()\n",
    "\n",
    "Assume that we want to calculate the following values\n",
    "\n",
    "$$ \\frac{abc}{ab + bc + ac} $$\n",
    "where `a, b, c` is the inputs in your given `sequences`.\n",
    "\n",
    "**SOLUTION.**"
   ]
  },
  {
   "cell_type": "code",
   "execution_count": 20,
   "metadata": {},
   "outputs": [
    {
     "name": "stdout",
     "output_type": "stream",
     "text": [
      "0.5714285714285714\n",
      "verify result: True\n"
     ]
    }
   ],
   "source": [
    "from functools import reduce\n",
    "sequences = [1,2,4]\n",
    "product = reduce (lambda x, y: (x*y)/(x+y), sequences)\n",
    "print(product)\n",
    "print(\"verify result:\", product == ((1*2*4)/ (1*4 + 1*2 + 4*2)))"
   ]
  }
 ],
 "metadata": {
  "kernelspec": {
   "display_name": "Python 3",
   "language": "python",
   "name": "python3"
  },
  "language_info": {
   "codemirror_mode": {
    "name": "ipython",
    "version": 3
   },
   "file_extension": ".py",
   "mimetype": "text/x-python",
   "name": "python",
   "nbconvert_exporter": "python",
   "pygments_lexer": "ipython3",
   "version": "3.7.7"
  },
  "toc": {
   "base_numbering": 1,
   "nav_menu": {},
   "number_sections": false,
   "sideBar": true,
   "skip_h1_title": false,
   "title_cell": "Table of Contents",
   "title_sidebar": "Contents",
   "toc_cell": false,
   "toc_position": {},
   "toc_section_display": true,
   "toc_window_display": false
  }
 },
 "nbformat": 4,
 "nbformat_minor": 4
}
