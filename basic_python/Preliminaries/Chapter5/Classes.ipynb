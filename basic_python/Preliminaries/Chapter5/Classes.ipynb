{
 "cells": [
  {
   "cell_type": "markdown",
   "metadata": {},
   "source": [
    "## 1. Introduction\n",
    "This is beyond the scope of this document to provide a complete introduction to **`object oriented programming`**. \n",
    "\n",
    "### 1.1. Definition & structure of a classes\n",
    "\n",
    "A `class` is a structure which can contain:\n",
    "- `variables`, called `attributes`, and \n",
    "- `functions`, called `methods`, which can be accessed with a `dot .` symbol. \n",
    "\n",
    "A `class` is used as `template` to contruct `objects`, we say that an object instantiates a `class`. \n",
    "\n",
    "**Example 1.1.1.** Look at the following `class: greeting`"
   ]
  },
  {
   "cell_type": "code",
   "execution_count": 1,
   "metadata": {},
   "outputs": [],
   "source": [
    "class greetings:\n",
    "    \"\"\" \n",
    "        This class is used for introduce shortly about someone's background\n",
    "    \"\"\"\n",
    "    name = \"Nhan\"   ## this is an attributes or variables\n",
    "    def my_greeting(self):   # A method, see further for self\n",
    "        return \"Hello, I am Nhan and I come from VietNam.\""
   ]
  },
  {
   "cell_type": "markdown",
   "metadata": {},
   "source": [
    "Now, **instance your `classes` with `variable_names` be `object_1` and `object_2`.**\n",
    "\n",
    "**`Syntax`: `your_object = name_of_class()`**"
   ]
  },
  {
   "cell_type": "code",
   "execution_count": 2,
   "metadata": {},
   "outputs": [],
   "source": [
    "object_1 = greetings()\n",
    "object_2 = greetings()"
   ]
  },
  {
   "cell_type": "markdown",
   "metadata": {},
   "source": [
    "**Verify your `type` is `class` or not?**\n",
    "\n",
    "**`Syntax` : `type(your_object)`**"
   ]
  },
  {
   "cell_type": "code",
   "execution_count": 3,
   "metadata": {},
   "outputs": [
    {
     "data": {
      "text/plain": [
       "__main__.greetings"
      ]
     },
     "execution_count": 3,
     "metadata": {},
     "output_type": "execute_result"
    }
   ],
   "source": [
    "type(object_1)"
   ]
  },
  {
   "cell_type": "markdown",
   "metadata": {},
   "source": [
    "So, **how to call your attribute?**\n",
    "\n",
    "**`Syntax`: `your_object.attribute_name_in_your_class`**\n",
    "\n",
    "Noting that, we didn't use the `brackets ()` to call the `attributes`"
   ]
  },
  {
   "cell_type": "code",
   "execution_count": 4,
   "metadata": {},
   "outputs": [
    {
     "name": "stdout",
     "output_type": "stream",
     "text": [
      "object_1.name: Nhan\n",
      "object_2.name: Nhan\n"
     ]
    }
   ],
   "source": [
    "print(\"object_1.name:\", object_1.name)\n",
    "print(\"object_2.name:\", object_2.name)"
   ]
  },
  {
   "cell_type": "markdown",
   "metadata": {},
   "source": [
    "**What happens if we `assign` the new values to your `object.attribue`??**"
   ]
  },
  {
   "cell_type": "code",
   "execution_count": 5,
   "metadata": {},
   "outputs": [
    {
     "name": "stdout",
     "output_type": "stream",
     "text": [
      "object_1.name: Someone\n",
      "object_2.name: Nhan\n"
     ]
    }
   ],
   "source": [
    "object_1.name = \"Someone\"\n",
    "print(\"object_1.name:\", object_1.name)\n",
    "print(\"object_2.name:\", object_2.name)"
   ]
  },
  {
   "cell_type": "markdown",
   "metadata": {},
   "source": [
    "Therefore, assigning the new values to your `object.attribute` only changes the values in the `assigned_objects`! In the other words, *assigning `value` is in the `scope` of the `instance`, not the one of the `class`*\n",
    "\n",
    "Finally, **how to call your `method`?**\n",
    "\n",
    "**`Syntax`: `your_object.function_name()`**"
   ]
  },
  {
   "cell_type": "code",
   "execution_count": 6,
   "metadata": {},
   "outputs": [
    {
     "data": {
      "text/plain": [
       "'Hello, I am Nhan and I come from VietNam.'"
      ]
     },
     "execution_count": 6,
     "metadata": {},
     "output_type": "execute_result"
    }
   ],
   "source": [
    "object_1.my_greeting()"
   ]
  },
  {
   "cell_type": "markdown",
   "metadata": {},
   "source": [
    "**Remark 1.** If you called the **`undefined attribute or method`** in your `objects`, this leads to the **`AttributeError:`**"
   ]
  },
  {
   "cell_type": "code",
   "execution_count": 7,
   "metadata": {},
   "outputs": [
    {
     "name": "stdout",
     "output_type": "stream",
     "text": [
      "Case 1: undefined attribute!\tAttributeError : 'greetings' object has no attribute 'age'\n",
      "Case 2: undefined method!\tAttributeError : 'greetings' object has no attribute 'hello'\n"
     ]
    }
   ],
   "source": [
    "try : object_1.age\n",
    "except AttributeError as error: print(\"Case 1: undefined attribute!\\tAttributeError :\", error)\n",
    "\n",
    "try: object_1.hello()\n",
    "except AttributeError as error: print(\"Case 2: undefined method!\\tAttributeError :\", error)"
   ]
  },
  {
   "cell_type": "markdown",
   "metadata": {},
   "source": [
    "As illustrated in the example, an `attribute` is a `variable` defined in the `scope` of the instance. This point is important and actually not well illustrated by our `class:` **`greetings`**. \n",
    "\n",
    "Indeed, defining an `attribute` in the `class definition` like we did for `name` provide a reference to the `class` that can be overwritten in an `instance`. This can be problematic for `mutable types`.\n",
    "\n",
    "#### Example 1.1.2.  A `class` with `attribute` only "
   ]
  },
  {
   "cell_type": "code",
   "execution_count": 8,
   "metadata": {},
   "outputs": [
    {
     "name": "stdout",
     "output_type": "stream",
     "text": [
      "Class-level attributes: \n",
      "\t 1st class_level_attribute: course = 2020\n",
      "\t 2nd class_level_attribute: semesters = [1, 2, 3]\n"
     ]
    }
   ],
   "source": [
    "class Class_only_attributes:\n",
    "    course = 2020\n",
    "    semesters = [1, 2, 3]  ## mutable attributes\n",
    "\n",
    "print(\"Class-level attributes: \")\n",
    "print(\"\\t 1st class_level_attribute: course =\", Class_only_attributes.course)\n",
    "print(\"\\t 2nd class_level_attribute: semesters =\", Class_only_attributes.semesters)"
   ]
  },
  {
   "cell_type": "code",
   "execution_count": 9,
   "metadata": {},
   "outputs": [
    {
     "name": "stdout",
     "output_type": "stream",
     "text": [
      "Instance-level attributes\n",
      "\t 1st instance_level_attr: course = 2020\n",
      "\t 2nd instance_level_attr: semesters = [1, 2, 3]\n"
     ]
    }
   ],
   "source": [
    "print(\"Instance-level attributes\")\n",
    "obj = Class_only_attributes()\n",
    "print(\"\\t 1st instance_level_attr: course =\", obj.course)\n",
    "print(\"\\t 2nd instance_level_attr: semesters =\", obj.semesters)"
   ]
  },
  {
   "cell_type": "code",
   "execution_count": 10,
   "metadata": {},
   "outputs": [
    {
     "name": "stdout",
     "output_type": "stream",
     "text": [
      "Attributes can be overwritten ...\n",
      "\t Instance-level; 1st_attr: course = 2018\n",
      "\t Class-level; 1st_attr: course = 2020\n"
     ]
    }
   ],
   "source": [
    "print(\"Attributes can be overwritten ...\")\n",
    "obj.course = 2018\n",
    "print(\"\\t Instance-level; 1st_attr: course =\", obj.course)\n",
    "print(\"\\t Class-level; 1st_attr: course =\", Class_only_attributes.course)"
   ]
  },
  {
   "cell_type": "code",
   "execution_count": 11,
   "metadata": {},
   "outputs": [
    {
     "name": "stdout",
     "output_type": "stream",
     "text": [
      "... but be careful with mutable types\n",
      "\t Instance-level; 2nd_attr: semesters = [1, 5, 3]\n",
      "\t Class-level; 2nd_attr: semesters = [1, 5, 3]\n"
     ]
    }
   ],
   "source": [
    "print(\"... but be careful with mutable types\")\n",
    "obj.semesters[1] = 5\n",
    "print(\"\\t Instance-level; 2nd_attr: semesters =\", obj.semesters)\n",
    "print(\"\\t Class-level; 2nd_attr: semesters =\", Class_only_attributes.semesters)"
   ]
  },
  {
   "cell_type": "markdown",
   "metadata": {},
   "source": [
    "### 1.2. The `__init__` function!\n",
    "\n",
    "`Class-level attributes` can be useful for specific role but to avoid problems like the one illustrated in the previous example, the attributes should be defined at `instance-level`. \n",
    "\n",
    "To do it, we need a reference to the `instance itself` which has not already been created `...` it is a `vicious circle`! The solution is based on the statement usually denoted by self (this word is a simple convention) which is used to precisely designate this reference to an instance. \n",
    "\n",
    "The common way to define `instance-level attributes` is to do it in a special method **`__init__`**, called `constructor`, that receives self as `first argument`, potentially followed by `other arguments`, and that is *silently called when the object is created*.\n",
    "\n",
    "#### Example 1.2.1.  A `class` with only one `attribute`  contained in the `__init__` function (`constructor`)"
   ]
  },
  {
   "cell_type": "code",
   "execution_count": 12,
   "metadata": {},
   "outputs": [
    {
     "name": "stdout",
     "output_type": "stream",
     "text": [
      "No more class-level attribute! Indeed, let's try the syntax class_name.attr?\n"
     ]
    },
    {
     "ename": "AttributeError",
     "evalue": "type object 'Class_with_constructor' has no attribute 'course'",
     "output_type": "error",
     "traceback": [
      "\u001b[1;31m---------------------------------------------------------------------------\u001b[0m",
      "\u001b[1;31mAttributeError\u001b[0m                            Traceback (most recent call last)",
      "\u001b[1;32m<ipython-input-12-7fa5cd6aae79>\u001b[0m in \u001b[0;36m<module>\u001b[1;34m\u001b[0m\n\u001b[0;32m      4\u001b[0m \u001b[1;33m\u001b[0m\u001b[0m\n\u001b[0;32m      5\u001b[0m \u001b[0mprint\u001b[0m\u001b[1;33m(\u001b[0m\u001b[1;34m\"No more class-level attribute! Indeed, let's try the syntax class_name.attr?\"\u001b[0m\u001b[1;33m)\u001b[0m\u001b[1;33m\u001b[0m\u001b[1;33m\u001b[0m\u001b[0m\n\u001b[1;32m----> 6\u001b[1;33m \u001b[0mprint\u001b[0m\u001b[1;33m(\u001b[0m\u001b[0mClass_with_constructor\u001b[0m\u001b[1;33m.\u001b[0m\u001b[0mcourse\u001b[0m\u001b[1;33m)\u001b[0m\u001b[1;33m\u001b[0m\u001b[1;33m\u001b[0m\u001b[0m\n\u001b[0m",
      "\u001b[1;31mAttributeError\u001b[0m: type object 'Class_with_constructor' has no attribute 'course'"
     ]
    }
   ],
   "source": [
    "class Class_with_constructor:\n",
    "    def __init__(self):\n",
    "        self.course = 2020 # Instance-level attribute via the __init__ function\n",
    "        \n",
    "print(\"No more class-level attribute! Indeed, let's try the syntax class_name.attr?\")\n",
    "print(Class_with_constructor.course)"
   ]
  },
  {
   "cell_type": "markdown",
   "metadata": {},
   "source": [
    "Now, because we had use the `attr (attribute)` inside the **`__init__`** `function`! \n",
    "\n",
    "So, we can not called it by the same way as we did in the `preceding class`. See the following code!"
   ]
  },
  {
   "cell_type": "code",
   "execution_count": 13,
   "metadata": {},
   "outputs": [
    {
     "name": "stdout",
     "output_type": "stream",
     "text": [
      "... but if using class_name.attr:  2020\n",
      "... and this called the __init__(self) funtion in silent!\n"
     ]
    }
   ],
   "source": [
    "print(\"... but if using class_name.attr: \", Class_with_constructor().course)\n",
    "print(\"... and this called the __init__(self) funtion in silent!\")"
   ]
  },
  {
   "cell_type": "markdown",
   "metadata": {},
   "source": [
    "Next, try the more complex `class` by using more than 2 `attributes` in your **`__init__`** `function`; beside using `arguments/params` in the `__init__` function or `constructor`!!\n",
    "\n",
    "#### Example 1.2.2. A `constructor` can have arguments"
   ]
  },
  {
   "cell_type": "code",
   "execution_count": 14,
   "metadata": {},
   "outputs": [
    {
     "name": "stdout",
     "output_type": "stream",
     "text": [
      "Nhan\n",
      "Hello\n"
     ]
    }
   ],
   "source": [
    "class ClassWithArgs:\n",
    "    def __init__(self, name, greet='Hello'): # First self, then arguments\n",
    "        self.name = name\n",
    "        self.message = greet\n",
    "\n",
    "obj_1 = ClassWithArgs(\"Nhan\")\n",
    "print(obj_1.name)\n",
    "print(obj_1.message)"
   ]
  },
  {
   "cell_type": "markdown",
   "metadata": {},
   "source": [
    "Then, for the 2nd object; named `obj_2`! I want to assign the new values :\n",
    "- `Someone` to `name`\n",
    "- `Oh yeah!!` to the attribute `message`"
   ]
  },
  {
   "cell_type": "code",
   "execution_count": 15,
   "metadata": {},
   "outputs": [
    {
     "name": "stdout",
     "output_type": "stream",
     "text": [
      "Someone\n",
      "Oh yeah!\n"
     ]
    }
   ],
   "source": [
    "obj_2 = ClassWithArgs(\"Someone\", 'Oh yeah!')\n",
    "print(obj_2.name)\n",
    "print(obj_2.message)"
   ]
  },
  {
   "cell_type": "markdown",
   "metadata": {},
   "source": [
    "**`Comments.`**\n",
    "\n",
    "In our first **`class`** example, you can note that we have already use `self` as `argument` for the `method`: `my_greeting`. \n",
    "\n",
    "Similarly, if you omit it, the `method` is defined at `class-level`. \n",
    "\n",
    "But, with it, the `method` is defined at `instance-level` which is usually what we want.\n",
    "\n",
    "**Example 1.2.3. A `class` with `constructor` and `methods`**"
   ]
  },
  {
   "cell_type": "code",
   "execution_count": 16,
   "metadata": {},
   "outputs": [],
   "source": [
    "class ClassWithMethods:\n",
    "    # Constructor\n",
    "    def __init__(self, x):\n",
    "        self.value = x\n",
    "    \n",
    "    # Instance-level method\n",
    "    def f1(self):\n",
    "        # Here, self exists because instance exists\n",
    "        print('Value: {}'.format(self.value))\n",
    "    \n",
    "    # Class-level method\n",
    "    def f2():\n",
    "        # Here, self does not exist\n",
    "        print('I am at class-level')\n",
    "\n",
    "x = ClassWithMethods(42)"
   ]
  },
  {
   "cell_type": "code",
   "execution_count": 17,
   "metadata": {},
   "outputs": [
    {
     "name": "stdout",
     "output_type": "stream",
     "text": [
      "Value: 42\n",
      "Use: obj.method() :  None\n"
     ]
    }
   ],
   "source": [
    "print(\"Use: obj.method() : \", x.f1())"
   ]
  },
  {
   "cell_type": "markdown",
   "metadata": {},
   "source": [
    "***But you will reach an error if you missed the `argument` in method.***\n",
    "\n",
    "As we discuss previously, ignore the `argument` for the the `method` then the `method` is defined at a `class-level`; **not a `instance-level`**"
   ]
  },
  {
   "cell_type": "code",
   "execution_count": 18,
   "metadata": {},
   "outputs": [
    {
     "name": "stdout",
     "output_type": "stream",
     "text": [
      "Get error if using class_name.method()\n"
     ]
    },
    {
     "ename": "TypeError",
     "evalue": "f1() missing 1 required positional argument: 'self'",
     "output_type": "error",
     "traceback": [
      "\u001b[1;31m---------------------------------------------------------------------------\u001b[0m",
      "\u001b[1;31mTypeError\u001b[0m                                 Traceback (most recent call last)",
      "\u001b[1;32m<ipython-input-18-3954968e1137>\u001b[0m in \u001b[0;36m<module>\u001b[1;34m\u001b[0m\n\u001b[0;32m      1\u001b[0m \u001b[0mprint\u001b[0m\u001b[1;33m(\u001b[0m\u001b[1;34m\"Get error if using class_name.method()\"\u001b[0m\u001b[1;33m)\u001b[0m\u001b[1;33m\u001b[0m\u001b[1;33m\u001b[0m\u001b[0m\n\u001b[1;32m----> 2\u001b[1;33m \u001b[0mClassWithMethods\u001b[0m\u001b[1;33m.\u001b[0m\u001b[0mf1\u001b[0m\u001b[1;33m(\u001b[0m\u001b[1;33m)\u001b[0m\u001b[1;33m\u001b[0m\u001b[1;33m\u001b[0m\u001b[0m\n\u001b[0m",
      "\u001b[1;31mTypeError\u001b[0m: f1() missing 1 required positional argument: 'self'"
     ]
    }
   ],
   "source": [
    "print(\"Get error if using class_name.method()\")\n",
    "ClassWithMethods.f1()"
   ]
  },
  {
   "cell_type": "markdown",
   "metadata": {},
   "source": [
    "**Code explaination.**\n",
    "\n",
    "Since the `method: f1(self)` contains one `argument: \"self\"` inherit from the `constructor:` `self.value = x`; then obmitting the `arguments` will lead to the **`TypeError`**\n",
    "\n",
    "**How to correct?**\n",
    "\n",
    "                    class_name(arguments).method_at_instance_level()"
   ]
  },
  {
   "cell_type": "code",
   "execution_count": 19,
   "metadata": {},
   "outputs": [
    {
     "name": "stdout",
     "output_type": "stream",
     "text": [
      "Value: 42\n",
      "Use: class_name(value).method() :  None\n"
     ]
    }
   ],
   "source": [
    "print(\"Use: class_name(value).method() : \", ClassWithMethods(42).f1())"
   ]
  },
  {
   "cell_type": "markdown",
   "metadata": {},
   "source": [
    "**`Comments.`**\n",
    "\n",
    "Likewise, using `object.method()` in case the `method` is a `class-level` also makes an **`TypeError`**."
   ]
  },
  {
   "cell_type": "code",
   "execution_count": 20,
   "metadata": {},
   "outputs": [
    {
     "ename": "TypeError",
     "evalue": "f2() takes 0 positional arguments but 1 was given",
     "output_type": "error",
     "traceback": [
      "\u001b[1;31m---------------------------------------------------------------------------\u001b[0m",
      "\u001b[1;31mTypeError\u001b[0m                                 Traceback (most recent call last)",
      "\u001b[1;32m<ipython-input-20-4e09695f4af7>\u001b[0m in \u001b[0;36m<module>\u001b[1;34m\u001b[0m\n\u001b[1;32m----> 1\u001b[1;33m \u001b[0mx\u001b[0m\u001b[1;33m.\u001b[0m\u001b[0mf2\u001b[0m\u001b[1;33m(\u001b[0m\u001b[1;33m)\u001b[0m \u001b[1;31m# Error\u001b[0m\u001b[1;33m\u001b[0m\u001b[1;33m\u001b[0m\u001b[0m\n\u001b[0m",
      "\u001b[1;31mTypeError\u001b[0m: f2() takes 0 positional arguments but 1 was given"
     ]
    }
   ],
   "source": [
    "x.f2() # Error"
   ]
  },
  {
   "cell_type": "markdown",
   "metadata": {},
   "source": [
    "**How to correct?** You must using directly from the `class_name`, not an `object`!!\n",
    "\n",
    "                    class_name.method_at_class_level()"
   ]
  },
  {
   "cell_type": "code",
   "execution_count": 21,
   "metadata": {},
   "outputs": [
    {
     "name": "stdout",
     "output_type": "stream",
     "text": [
      "I am at class-level\n"
     ]
    }
   ],
   "source": [
    "ClassWithMethods.f2()"
   ]
  },
  {
   "cell_type": "markdown",
   "metadata": {},
   "source": [
    "For vocabulary, **`class-level`** `attributes` or `methods` are said to be *static*.\n",
    "\n",
    "We have seen that an `exception` is `raised` when an `error` occurs (**`TypeError, SyntaxError`**). \n",
    "\n",
    "So, what happens when an **`unhandled exception is raised in a constructor`**? The question is not naive because it is related to the existence of an `object`. Actually, if an `unhandled exception` is raised in a `constructor`, *the `object` is not created and the statement is simply ignored*. *Then, if the `variable` already exists, it is not modified.*\n",
    "\n",
    "**Example 1.2.4. Creat a very simple `class` to calculate the `inverse number`**"
   ]
  },
  {
   "cell_type": "code",
   "execution_count": 22,
   "metadata": {},
   "outputs": [
    {
     "name": "stdout",
     "output_type": "stream",
     "text": [
      "0.5\n"
     ]
    }
   ],
   "source": [
    "class Inverse:\n",
    "    def __init__(self, x):\n",
    "        self.value = 1 / x # Ready to raise exception\n",
    "        \n",
    "x = Inverse(2) # No problem\n",
    "id(x); print(x.value) # Object x exists"
   ]
  },
  {
   "cell_type": "code",
   "execution_count": 23,
   "metadata": {},
   "outputs": [
    {
     "ename": "ZeroDivisionError",
     "evalue": "division by zero",
     "output_type": "error",
     "traceback": [
      "\u001b[1;31m---------------------------------------------------------------------------\u001b[0m",
      "\u001b[1;31mZeroDivisionError\u001b[0m                         Traceback (most recent call last)",
      "\u001b[1;32m<ipython-input-23-eb0845e3ad8f>\u001b[0m in \u001b[0;36m<module>\u001b[1;34m\u001b[0m\n\u001b[1;32m----> 1\u001b[1;33m \u001b[0my\u001b[0m \u001b[1;33m=\u001b[0m \u001b[0mInverse\u001b[0m\u001b[1;33m(\u001b[0m\u001b[1;36m0\u001b[0m\u001b[1;33m)\u001b[0m \u001b[1;31m# Exception is raised\u001b[0m\u001b[1;33m\u001b[0m\u001b[1;33m\u001b[0m\u001b[0m\n\u001b[0m",
      "\u001b[1;32m<ipython-input-22-9721f2cc4dba>\u001b[0m in \u001b[0;36m__init__\u001b[1;34m(self, x)\u001b[0m\n\u001b[0;32m      1\u001b[0m \u001b[1;32mclass\u001b[0m \u001b[0mInverse\u001b[0m\u001b[1;33m:\u001b[0m\u001b[1;33m\u001b[0m\u001b[1;33m\u001b[0m\u001b[0m\n\u001b[0;32m      2\u001b[0m     \u001b[1;32mdef\u001b[0m \u001b[0m__init__\u001b[0m\u001b[1;33m(\u001b[0m\u001b[0mself\u001b[0m\u001b[1;33m,\u001b[0m \u001b[0mx\u001b[0m\u001b[1;33m)\u001b[0m\u001b[1;33m:\u001b[0m\u001b[1;33m\u001b[0m\u001b[1;33m\u001b[0m\u001b[0m\n\u001b[1;32m----> 3\u001b[1;33m         \u001b[0mself\u001b[0m\u001b[1;33m.\u001b[0m\u001b[0mvalue\u001b[0m \u001b[1;33m=\u001b[0m \u001b[1;36m1\u001b[0m \u001b[1;33m/\u001b[0m \u001b[0mx\u001b[0m \u001b[1;31m# Ready to raise exception\u001b[0m\u001b[1;33m\u001b[0m\u001b[1;33m\u001b[0m\u001b[0m\n\u001b[0m\u001b[0;32m      4\u001b[0m \u001b[1;33m\u001b[0m\u001b[0m\n\u001b[0;32m      5\u001b[0m \u001b[0mx\u001b[0m \u001b[1;33m=\u001b[0m \u001b[0mInverse\u001b[0m\u001b[1;33m(\u001b[0m\u001b[1;36m2\u001b[0m\u001b[1;33m)\u001b[0m \u001b[1;31m# No problem\u001b[0m\u001b[1;33m\u001b[0m\u001b[1;33m\u001b[0m\u001b[0m\n",
      "\u001b[1;31mZeroDivisionError\u001b[0m: division by zero"
     ]
    }
   ],
   "source": [
    "y = Inverse(0) # Exception is raised"
   ]
  },
  {
   "cell_type": "code",
   "execution_count": null,
   "metadata": {},
   "outputs": [],
   "source": [
    "print(id(y)) # Object y has not been created"
   ]
  },
  {
   "cell_type": "markdown",
   "metadata": {},
   "source": [
    "**Try to replace x but `exception` is raised.**"
   ]
  },
  {
   "cell_type": "code",
   "execution_count": 24,
   "metadata": {},
   "outputs": [
    {
     "name": "stdout",
     "output_type": "stream",
     "text": [
      "ZeroDivisionError : division by zero\n"
     ]
    }
   ],
   "source": [
    "try : x = Inverse(0)\n",
    "except ZeroDivisionError as e: print(\"ZeroDivisionError :\", e)"
   ]
  },
  {
   "cell_type": "code",
   "execution_count": 25,
   "metadata": {},
   "outputs": [
    {
     "name": "stdout",
     "output_type": "stream",
     "text": [
      "1985991248648\n",
      "0.5\n"
     ]
    }
   ],
   "source": [
    "print(id(x))\n",
    "print(x.value) # Previous line is ignored, x does not change"
   ]
  },
  {
   "cell_type": "markdown",
   "metadata": {},
   "source": [
    "### 1.3. Inheritance in object oriented programming\n",
    "\n",
    "The power of **`object oriented programming`** mainly comes from the `inheritance principle` (tính kế thừa).\n",
    "\n",
    "Indeed, we can derive a `class` from some existing `base class` in order to adapt it or to enhance it for a specific purpose, for instance. To use this mechanism, you just have to mention the name of the `base class` between parentheses when you defined the `devired class`.\n",
    "\n",
    "**Example 1.3.1. Create the `class: Base` with `constructor` and 2 `methods: print_value, say_hello`.**"
   ]
  },
  {
   "cell_type": "code",
   "execution_count": 26,
   "metadata": {},
   "outputs": [
    {
     "name": "stdout",
     "output_type": "stream",
     "text": [
      "#1, base():\n",
      "Base constructor\n",
      "#2, base.print_value():\n",
      "My value is 2020\n",
      "#3, base.say_hello():\n",
      "Hello !\n"
     ]
    }
   ],
   "source": [
    "class Base:\n",
    "    def __init__(self):\n",
    "        print('Base constructor')\n",
    "        self.value = 2020\n",
    "    def print_value(self):\n",
    "        print('My value is {}'.format(self.value))\n",
    "    def say_hello(self):\n",
    "        print('Hello !')\n",
    "\n",
    "print(\"#1, base():\"); base = Base()\n",
    "print(\"#2, base.print_value():\"); base.print_value()\n",
    "print(\"#3, base.say_hello():\"); base.say_hello()"
   ]
  },
  {
   "cell_type": "markdown",
   "metadata": {},
   "source": [
    " **Example 1.3.2. Create a `class: Derived_1` which inherited from the previous `class: Base`**"
   ]
  },
  {
   "cell_type": "code",
   "execution_count": 27,
   "metadata": {},
   "outputs": [
    {
     "name": "stdout",
     "output_type": "stream",
     "text": [
      "# Firstly, Noting that the parent_constructor is not called\n",
      "Derived_1 constructor\n",
      "# Now, attributes and methods from Base are available\n",
      "123\n",
      "My value is 123\n",
      "Hello !\n"
     ]
    }
   ],
   "source": [
    "class Derived_1(Base): # Derived inherits from Base\n",
    "    def __init__(self, value):\n",
    "        print('Derived_1 constructor')\n",
    "        self.value = value\n",
    "\n",
    "print(\"# Firstly, Noting that the parent_constructor is not called\")\n",
    "derived = Derived_1(123)\n",
    "\n",
    "print(\"# Now, attributes and methods from Base are available\")\n",
    "print(derived.value)\n",
    "derived.print_value()\n",
    "derived.say_hello()"
   ]
  },
  {
   "cell_type": "markdown",
   "metadata": {},
   "source": [
    "#### Example 1.3.3. Again, create the other derived `class: Derived_2` which inherited from `class: Base`"
   ]
  },
  {
   "cell_type": "code",
   "execution_count": 28,
   "metadata": {},
   "outputs": [
    {
     "name": "stdout",
     "output_type": "stream",
     "text": [
      "Derived_2 constructor\n",
      "### Value : 456 ###\n",
      "Hello !\n"
     ]
    }
   ],
   "source": [
    "class Derived_2(Base):\n",
    "    def __init__(self, value):\n",
    "        print('Derived_2 constructor')\n",
    "        self.value = value\n",
    "    def print_value(self): # Methods can be overwritten\n",
    "        print('### Value : {} ###'.format(self.value))\n",
    "\n",
    "derived = Derived_2(456)        \n",
    "derived.print_value() # Overwritten method\n",
    "derived.say_hello() # Original method"
   ]
  },
  {
   "cell_type": "markdown",
   "metadata": {},
   "source": [
    "#### Example 1.3.4. Again with the `class: Derived_3` but this time only contains the `constructor`"
   ]
  },
  {
   "cell_type": "code",
   "execution_count": 29,
   "metadata": {},
   "outputs": [
    {
     "name": "stdout",
     "output_type": "stream",
     "text": [
      "Base constructor\n",
      "Derived_3 constructor\n",
      "My value is 2020\n",
      "Hello !\n"
     ]
    }
   ],
   "source": [
    "class Derived_3(Base):\n",
    "    def __init__(self):\n",
    "        # Parent constructor has to be explicitly called, if needed\n",
    "        super().__init__()\n",
    "        print('Derived_3 constructor')\n",
    "\n",
    "derived = Derived_3()\n",
    "derived.print_value()\n",
    "derived.say_hello()"
   ]
  },
  {
   "cell_type": "markdown",
   "metadata": {},
   "source": [
    "This is quite common to check if some **`object`** has a `given type` or *if a class inherits from* another **`given class`**. \n",
    "\n",
    "The `built-in functions` **`isinstance`** and **`issubclass`** are available for that."
   ]
  },
  {
   "cell_type": "code",
   "execution_count": 30,
   "metadata": {},
   "outputs": [
    {
     "name": "stdout",
     "output_type": "stream",
     "text": [
      "# Checking the object base is inherited from the class Base True\n",
      "# Verifying the object derived is inherited from Base : True\n",
      "# Checking the class Derived_1 is subclass from Base : True\n",
      "# Verifying Class Base is a subclass of itself True\n"
     ]
    }
   ],
   "source": [
    "print(\"# Checking the object base is inherited from the class Base\", isinstance(base, Base))\n",
    "print(\"# Verifying the object derived is inherited from Base :\", isinstance(derived, Base))\n",
    "print(\"# Checking the class Derived_1 is subclass from Base :\", issubclass(Derived_1, Base))\n",
    "print(\"# Verifying Class Base is a subclass of itself\", issubclass(Base, Base))"
   ]
  },
  {
   "cell_type": "markdown",
   "metadata": {},
   "source": [
    "**`Comments.`**\n",
    "\n",
    "Of course, we do not have to always inherit from custom classes and we can derive `from built-in classes`. \n",
    "\n",
    "To illustrate that, let us give a useful example to derive **`custom exception classes`**. We have already introduced the [**class: Exception**](https://docs.python.org/3.4/library/exceptions.html#Exception) from which any `custom exception class` should be derived."
   ]
  },
  {
   "cell_type": "code",
   "execution_count": 31,
   "metadata": {},
   "outputs": [
    {
     "name": "stdout",
     "output_type": "stream",
     "text": [
      "MyException catched!\n",
      "Argument is 42\n",
      "I am a custom exception\n",
      "*** Message : in a bottle\n",
      "*** Argument: 42\n",
      "\n"
     ]
    }
   ],
   "source": [
    "class MyException(Exception):\n",
    "    def __init__(self, message, other_arg):\n",
    "        # Calling base constructor allows standard behavior\n",
    "        super().__init__('I am a custom exception\\n'\n",
    "                        + '*** Message : {}\\n'.format(message)\n",
    "                        + '*** Argument: {}\\n'.format(other_arg)\n",
    "                        )\n",
    "        # Some attributes\n",
    "        self.arg = other_arg\n",
    "        self.message = message\n",
    "def f():\n",
    "    # Custom exception can be raised as other ones\n",
    "    raise MyException('in a bottle', 42)\n",
    "\n",
    "try: f()\n",
    "except MyException as e: \n",
    "    print('MyException catched!')\n",
    "    print('Argument is {}'.format(e.arg))\n",
    "    print(e) # Inheritance power!"
   ]
  },
  {
   "cell_type": "markdown",
   "metadata": {},
   "source": [
    "We have seen the special method **`__init__`** which defines the `class constructor`. Actually, there are a lot of other special `methods` that can be defined in a `class` to give it some `specific behaviors`. These `data models` are described in a devoted [**documentation page**](https://docs.python.org/3.4/reference/datamodel.html) and it would be beyond the `scope` of this document to make an exhaustive review. The **`special methods`** are\n",
    "all surrounded by `double underscores _ _` and are listed in [**Section 3.3**](https://docs.python.org/3.4/reference/datamodel.html#special-method-names) of the `documentation page`. \n",
    "\n",
    "Hereafter, we give some examples of such `methods`.\n",
    "\n",
    "**Example 1.3.5. Create a `class` that can be converted as a `string`**"
   ]
  },
  {
   "cell_type": "code",
   "execution_count": 32,
   "metadata": {},
   "outputs": [
    {
     "name": "stdout",
     "output_type": "stream",
     "text": [
      "A object (1985990617736)\n"
     ]
    }
   ],
   "source": [
    "class A:\n",
    "    def __str__(self):\n",
    "        return 'A object ({})'.format(id(self))\n",
    "a = A()\n",
    "str(a) # Explicit conversion\n",
    "print(a) # Silent call to a.__str__()"
   ]
  },
  {
   "cell_type": "markdown",
   "metadata": {},
   "source": [
    "#### Example 1.3.6. A (very) minimal and `stupid sequence`,-like `class`"
   ]
  },
  {
   "cell_type": "code",
   "execution_count": 33,
   "metadata": {},
   "outputs": [
    {
     "name": "stdout",
     "output_type": "stream",
     "text": [
      "42\n"
     ]
    }
   ],
   "source": [
    "class B:\n",
    "    def __len__(self):\n",
    "        # Fixed length of 42 ...\n",
    "        return 42\n",
    "    def __getitem__(self, key):\n",
    "        # Implement read-only self[key]\n",
    "        if isinstance(key, int):\n",
    "            # Dummy content\n",
    "            return key % 2\n",
    "        else:\n",
    "            # Integer key only\n",
    "            raise TypeError('B class allows only integers')\n",
    "b = B()\n",
    "print(len(b))"
   ]
  },
  {
   "cell_type": "markdown",
   "metadata": {},
   "source": [
    "**But using `b['Ni']`** will except an `TypeError` since the `class B` only allows the integers value, not `string`!\n",
    "\n",
    "Again; I will use the `struture:` **`try: something`; `execept Error`** as follow to simplifier the result!"
   ]
  },
  {
   "cell_type": "code",
   "execution_count": 34,
   "metadata": {},
   "outputs": [
    {
     "name": "stdout",
     "output_type": "stream",
     "text": [
      "TypeError is : B class allows only integers\n"
     ]
    }
   ],
   "source": [
    "try: print(b['Ni'])\n",
    "except TypeError as err: print(\"TypeError is :\", err)"
   ]
  },
  {
   "cell_type": "code",
   "execution_count": 35,
   "metadata": {},
   "outputs": [
    {
     "name": "stdout",
     "output_type": "stream",
     "text": [
      "1\n"
     ]
    }
   ],
   "source": [
    "print(b[17])"
   ]
  },
  {
   "cell_type": "markdown",
   "metadata": {},
   "source": [
    "## 2. Exercises - Questions\n",
    "\n",
    "**Exercise 2.1.** \n",
    "\n",
    "Create a `class: Pet` which contains two `attributes: age` and `name` and a `method: get_info` that returns a string with informations about the pet. \n",
    "\n",
    "**Cach 1. Simple structure!**"
   ]
  },
  {
   "cell_type": "code",
   "execution_count": 36,
   "metadata": {},
   "outputs": [
    {
     "name": "stdout",
     "output_type": "stream",
     "text": [
      "3\n",
      "Lucy\n",
      "Lucy is a 3 years old female Yorkshire Terrier dog!\n"
     ]
    }
   ],
   "source": [
    "class pet:\n",
    "    age = 3\n",
    "    name = \"Lucy\"\n",
    "    def get_info(self):\n",
    "        return \"Lucy is a 3 years old female Yorkshire Terrier dog!\"\n",
    "    \n",
    "obj = pet()\n",
    "print(obj.age)\n",
    "print(obj.name)\n",
    "print(obj.get_info())"
   ]
  },
  {
   "cell_type": "markdown",
   "metadata": {},
   "source": [
    "#### Cach 2. A little complex structure with `constructor`."
   ]
  },
  {
   "cell_type": "code",
   "execution_count": 37,
   "metadata": {},
   "outputs": [
    {
     "name": "stdout",
     "output_type": "stream",
     "text": [
      "5\n",
      "Lucian\n",
      "Lucian is 5 years old dog\n"
     ]
    }
   ],
   "source": [
    "class Pet:\n",
    "    def __init__(self, name, age):  ## this is constructor\n",
    "        self.name = name  ## this is your attribute\n",
    "        self.age = age\n",
    "    def get_info(self):\n",
    "        print(\"%s is %s years old dog\"%(self.name, self.age))\n",
    "        \n",
    "obj2 = Pet(\"Lucian\", 5)\n",
    "print(obj2.age)\n",
    "print(obj2.name)\n",
    "obj2.get_info()"
   ]
  },
  {
   "cell_type": "markdown",
   "metadata": {},
   "source": [
    "#### Exercise 2.2.  Derive two `classes Cat` and `Dog` from `Pet` and improve the `method get_info` in these specifices cases.\n",
    "\n",
    "Look back what we did in these **`classes:`** `derived_1` and `derived_2`"
   ]
  },
  {
   "cell_type": "code",
   "execution_count": 38,
   "metadata": {},
   "outputs": [
    {
     "name": "stdout",
     "output_type": "stream",
     "text": [
      "tuoi cua meo = 5, cua cho = 4\n",
      "ten cua meo = miu, cua cho = Lulu\n",
      "Thong tin chi tiet:\n",
      "miu is 5 years old cat\n",
      "Lulu is 4 years old dog\n"
     ]
    }
   ],
   "source": [
    "class Cat(Pet):\n",
    "    def __init__(self, name, age):  ## this is constructor\n",
    "        self.name = name  ## this is your attribute\n",
    "        self.age = age\n",
    "    def get_info(self):\n",
    "        print(\"%s is %s years old cat\"%(self.name, self.age))\n",
    "        \n",
    "class Dog(Pet):\n",
    "    def __init__(self, name, age):  ## this is constructor\n",
    "        self.name = name  ## this is your attribute\n",
    "        self.age = age\n",
    "    def get_info(self):\n",
    "        print(\"%s is %s years old dog\"%(self.name, self.age))       \n",
    "        \n",
    "meo = Cat(\"miu\", 5)\n",
    "cho = Dog(\"Lulu\", 4)\n",
    "\n",
    "print(\"tuoi cua meo = %s, cua cho = %s\"%(meo.age, cho.age))\n",
    "print(\"ten cua meo = %s, cua cho = %s\"%(meo.name, cho.name))\n",
    "print(\"Thong tin chi tiet:\")\n",
    "meo.get_info()\n",
    "cho.get_info()"
   ]
  },
  {
   "cell_type": "markdown",
   "metadata": {},
   "source": [
    "#### Exercise 2.3.  Create a `custom exception BadPetAge` to be raised when an `error` about the `age` occurs!\n",
    "\n",
    "This meant the `custom Exception` must throw the `error message` for the **invalid age**, for example `a string` is entered!"
   ]
  },
  {
   "cell_type": "code",
   "execution_count": 39,
   "metadata": {},
   "outputs": [
    {
     "name": "stdout",
     "output_type": "stream",
     "text": [
      "Now, verifying with the string of age (for instance '2') is inputed!\n"
     ]
    },
    {
     "ename": "TypeError",
     "evalue": "Your pet's age must be an integer",
     "output_type": "error",
     "traceback": [
      "\u001b[1;31m---------------------------------------------------------------------------\u001b[0m",
      "\u001b[1;31mTypeError\u001b[0m                                 Traceback (most recent call last)",
      "\u001b[1;32m<ipython-input-39-b427d0fc2a0d>\u001b[0m in \u001b[0;36m<module>\u001b[1;34m\u001b[0m\n\u001b[0;32m     11\u001b[0m \u001b[1;33m\u001b[0m\u001b[0m\n\u001b[0;32m     12\u001b[0m \u001b[0mprint\u001b[0m\u001b[1;33m(\u001b[0m\u001b[1;34m\"Now, verifying with the string of age (for instance '2') is inputed!\"\u001b[0m\u001b[1;33m)\u001b[0m\u001b[1;33m\u001b[0m\u001b[1;33m\u001b[0m\u001b[0m\n\u001b[1;32m---> 13\u001b[1;33m \u001b[0mobj\u001b[0m \u001b[1;33m=\u001b[0m \u001b[0mBadPetAge\u001b[0m\u001b[1;33m(\u001b[0m\u001b[1;34m\"Anna\"\u001b[0m\u001b[1;33m,\u001b[0m \u001b[1;34m\"2\"\u001b[0m\u001b[1;33m)\u001b[0m\u001b[1;33m\u001b[0m\u001b[1;33m\u001b[0m\u001b[0m\n\u001b[0m",
      "\u001b[1;32m<ipython-input-39-b427d0fc2a0d>\u001b[0m in \u001b[0;36m__init__\u001b[1;34m(self, name, age)\u001b[0m\n\u001b[0;32m      6\u001b[0m             \u001b[1;32mreturn\u001b[0m \u001b[0mself\u001b[0m\u001b[1;33m.\u001b[0m\u001b[0mage\u001b[0m\u001b[1;33m\u001b[0m\u001b[1;33m\u001b[0m\u001b[0m\n\u001b[0;32m      7\u001b[0m         \u001b[1;32melse\u001b[0m\u001b[1;33m:\u001b[0m\u001b[1;33m\u001b[0m\u001b[1;33m\u001b[0m\u001b[0m\n\u001b[1;32m----> 8\u001b[1;33m             \u001b[1;32mraise\u001b[0m \u001b[0mTypeError\u001b[0m\u001b[1;33m(\u001b[0m\u001b[1;34m\"Your pet's age must be an integer\"\u001b[0m\u001b[1;33m)\u001b[0m\u001b[1;33m\u001b[0m\u001b[1;33m\u001b[0m\u001b[0m\n\u001b[0m\u001b[0;32m      9\u001b[0m     \u001b[1;32mdef\u001b[0m \u001b[0mget_info\u001b[0m\u001b[1;33m(\u001b[0m\u001b[0mself\u001b[0m\u001b[1;33m)\u001b[0m\u001b[1;33m:\u001b[0m\u001b[1;33m\u001b[0m\u001b[1;33m\u001b[0m\u001b[0m\n\u001b[0;32m     10\u001b[0m         \u001b[0mprint\u001b[0m\u001b[1;33m(\u001b[0m\u001b[1;34m\"pet info\"\u001b[0m\u001b[1;33m)\u001b[0m\u001b[1;33m\u001b[0m\u001b[1;33m\u001b[0m\u001b[0m\n",
      "\u001b[1;31mTypeError\u001b[0m: Your pet's age must be an integer"
     ]
    }
   ],
   "source": [
    "class BadPetAge(Pet):\n",
    "    def __init__(self, name, age):\n",
    "        self.name = name\n",
    "        self.age = age\n",
    "        if isinstance(age, int):\n",
    "            return self.age\n",
    "        else:\n",
    "            raise TypeError(\"Your pet's age must be an integer\")\n",
    "    def get_info(self):\n",
    "        print(\"pet info\")\n",
    "        \n",
    "print(\"Now, verifying with the string of age (for instance '2') is inputed!\") \n",
    "obj = BadPetAge(\"Anna\", \"2\")"
   ]
  },
  {
   "cell_type": "markdown",
   "metadata": {},
   "source": [
    "#### Exercise 2.4.  Enhance the constructor of `Pet` to raise a `BadPetAge` if `age` is negative.\n",
    "\n",
    "This meant we must **improve the `__init__` function in the original class: `Pet`**"
   ]
  },
  {
   "cell_type": "code",
   "execution_count": 40,
   "metadata": {},
   "outputs": [
    {
     "name": "stdout",
     "output_type": "stream",
     "text": [
      "Now, verifying with the negative age is inputed!\n"
     ]
    },
    {
     "ename": "ValueError",
     "evalue": "Your pet's age must be an positive integer or not a string!",
     "output_type": "error",
     "traceback": [
      "\u001b[1;31m---------------------------------------------------------------------------\u001b[0m",
      "\u001b[1;31mValueError\u001b[0m                                Traceback (most recent call last)",
      "\u001b[1;32m<ipython-input-40-79488e37465d>\u001b[0m in \u001b[0;36m<module>\u001b[1;34m\u001b[0m\n\u001b[0;32m     11\u001b[0m \u001b[1;33m\u001b[0m\u001b[0m\n\u001b[0;32m     12\u001b[0m \u001b[0mprint\u001b[0m\u001b[1;33m(\u001b[0m\u001b[1;34m\"Now, verifying with the negative age is inputed!\"\u001b[0m\u001b[1;33m)\u001b[0m\u001b[1;33m\u001b[0m\u001b[1;33m\u001b[0m\u001b[0m\n\u001b[1;32m---> 13\u001b[1;33m \u001b[0mobj\u001b[0m \u001b[1;33m=\u001b[0m \u001b[0mPet\u001b[0m\u001b[1;33m(\u001b[0m\u001b[1;34m\"Lala\"\u001b[0m\u001b[1;33m,\u001b[0m \u001b[1;33m-\u001b[0m\u001b[1;36m3\u001b[0m\u001b[1;33m)\u001b[0m\u001b[1;33m\u001b[0m\u001b[1;33m\u001b[0m\u001b[0m\n\u001b[0m",
      "\u001b[1;32m<ipython-input-40-79488e37465d>\u001b[0m in \u001b[0;36m__init__\u001b[1;34m(self, name, age)\u001b[0m\n\u001b[0;32m      6\u001b[0m             \u001b[1;32mpass\u001b[0m\u001b[1;33m\u001b[0m\u001b[1;33m\u001b[0m\u001b[0m\n\u001b[0;32m      7\u001b[0m         \u001b[1;32melse\u001b[0m\u001b[1;33m:\u001b[0m\u001b[1;33m\u001b[0m\u001b[1;33m\u001b[0m\u001b[0m\n\u001b[1;32m----> 8\u001b[1;33m             \u001b[1;32mraise\u001b[0m \u001b[0mValueError\u001b[0m\u001b[1;33m(\u001b[0m\u001b[1;34m\"Your pet's age must be an positive integer or not a string!\"\u001b[0m\u001b[1;33m)\u001b[0m\u001b[1;33m\u001b[0m\u001b[1;33m\u001b[0m\u001b[0m\n\u001b[0m\u001b[0;32m      9\u001b[0m     \u001b[1;32mdef\u001b[0m \u001b[0mget_info\u001b[0m\u001b[1;33m(\u001b[0m\u001b[0mself\u001b[0m\u001b[1;33m)\u001b[0m\u001b[1;33m:\u001b[0m\u001b[1;33m\u001b[0m\u001b[1;33m\u001b[0m\u001b[0m\n\u001b[0;32m     10\u001b[0m         \u001b[0mprint\u001b[0m\u001b[1;33m(\u001b[0m\u001b[1;34m\"%s is %s years old dog\"\u001b[0m\u001b[1;33m%\u001b[0m\u001b[1;33m(\u001b[0m\u001b[0mself\u001b[0m\u001b[1;33m.\u001b[0m\u001b[0mname\u001b[0m\u001b[1;33m,\u001b[0m \u001b[0mself\u001b[0m\u001b[1;33m.\u001b[0m\u001b[0mage\u001b[0m\u001b[1;33m)\u001b[0m\u001b[1;33m)\u001b[0m\u001b[1;33m\u001b[0m\u001b[1;33m\u001b[0m\u001b[0m\n",
      "\u001b[1;31mValueError\u001b[0m: Your pet's age must be an positive integer or not a string!"
     ]
    }
   ],
   "source": [
    "class Pet:\n",
    "    def __init__(self, name, age):  ## this is constructor\n",
    "        self.name = name  ## this is your attribute\n",
    "        self.age = age\n",
    "        if (age > 0) and isinstance(age, int):\n",
    "            pass\n",
    "        else:\n",
    "            raise ValueError(\"Your pet's age must be an positive integer or not a string!\")\n",
    "    def get_info(self):\n",
    "        print(\"%s is %s years old dog\"%(self.name, self.age))\n",
    "\n",
    "print(\"Now, verifying with the negative age is inputed!\")        \n",
    "obj = Pet(\"Lala\", -3)"
   ]
  },
  {
   "cell_type": "markdown",
   "metadata": {},
   "source": [
    "#### Exercise 2.5.  Add `comparison methods` to the `class: Pet` to order them according to their `age`.\n",
    "\n",
    "For example, like the following code\n",
    "\n",
    "            felix = Cat('Felix', 5)\n",
    "            puppy = Dog('Puppy', 3)\n",
    "            felix > puppy # Should return True\n",
    "            puppy > puppy # Should return False\n",
    "            felix <= puppy # Should return False"
   ]
  },
  {
   "cell_type": "code",
   "execution_count": 41,
   "metadata": {},
   "outputs": [
    {
     "data": {
      "text/plain": [
       "['Felix', '>', 'Puppy']"
      ]
     },
     "execution_count": 41,
     "metadata": {},
     "output_type": "execute_result"
    }
   ],
   "source": [
    "felix = Cat(\"Felix\", 5)\n",
    "puppy = Dog(\"Puppy\", 3)\n",
    "\n",
    "class Pet:\n",
    "    def __init__(self, name, age):  ## this is constructor\n",
    "        self.name = name  ## this is your attribute\n",
    "        self.age = age\n",
    "        if (age > 0) and isinstance(age, int):\n",
    "            pass\n",
    "        else:\n",
    "            raise ValueError(\"Your pet's age must be a positive integer or not a string!!\")\n",
    "    def get_info(self):\n",
    "        print(\"%s is %s years old dog\"%(self.name, self.age))\n",
    "    \n",
    "    def so_sanh(self):\n",
    "        if felix.age > puppy.age:\n",
    "            return [felix.name, '>', puppy.name]\n",
    "        else:\n",
    "            return [puppy.name, '>', felix.name]\n",
    "\n",
    "compare_pet = Pet(\"Felix\", 5)\n",
    "compare_pet.so_sanh()"
   ]
  }
 ],
 "metadata": {
  "kernelspec": {
   "display_name": "Python 3",
   "language": "python",
   "name": "python3"
  },
  "language_info": {
   "codemirror_mode": {
    "name": "ipython",
    "version": 3
   },
   "file_extension": ".py",
   "mimetype": "text/x-python",
   "name": "python",
   "nbconvert_exporter": "python",
   "pygments_lexer": "ipython3",
   "version": "3.7.7"
  },
  "toc": {
   "base_numbering": 1,
   "nav_menu": {},
   "number_sections": false,
   "sideBar": true,
   "skip_h1_title": false,
   "title_cell": "Table of Contents",
   "title_sidebar": "Contents",
   "toc_cell": false,
   "toc_position": {},
   "toc_section_display": true,
   "toc_window_display": false
  }
 },
 "nbformat": 4,
 "nbformat_minor": 4
}
