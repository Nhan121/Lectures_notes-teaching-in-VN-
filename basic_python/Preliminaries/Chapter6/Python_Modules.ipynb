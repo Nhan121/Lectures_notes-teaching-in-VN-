{
 "cells": [
  {
   "cell_type": "markdown",
   "metadata": {},
   "source": [
    "## 1. Extending `Python` with `modules`\n",
    "### 1.1 What is a `Python module`?\n",
    "\n",
    "If we restrict ourselves to `built-in types` and `functions`, we will have to define a lot of things and, most importantly, to do it in all our `scripts`. Of course, we do not do it and, when a program gets longer, we split it into several files. This practice makes code maintenance easier and helps us to organize our code. Then, to use some handy `function` or `class` located in a file, we just have to tell `Python` to look for the definition in this file. Such a file containing definitions is called a module and we say that we **`import`** it.\n",
    "\n",
    "A **`module`** is nothing else than a **`Python file`** and the file name is the module name with the `suffix .py` appended. Within a `module`, the module’s name is available as a string through the `global variable` **`__name__`**. \n",
    "\n",
    "To serve as an example, consider the module `my_basic_sequences_module` given by a [my_basic_sequences_module.py](https://github.com/Nhan121/Lectures_notes-teaching-in-VN-/blob/master/basic_python/Preliminaries/Chapter6/my%20modules/my_basic_sequence_module.py) as follows:"
   ]
  },
  {
   "cell_type": "code",
   "execution_count": 1,
   "metadata": {},
   "outputs": [],
   "source": [
    "import my_basic_sequence_module as mbsm"
   ]
  },
  {
   "cell_type": "markdown",
   "metadata": {},
   "source": [
    "**To list everything in the `module`**, \n",
    "\n",
    "*Press* \n",
    "\n",
    "                    dir(module_assigned_name)\n",
    "\n",
    "For example; we had imported `my_basic_sequence_module` alias `mbsm`, then the `module_assigned_name` here is `mbsm`"
   ]
  },
  {
   "cell_type": "code",
   "execution_count": 2,
   "metadata": {},
   "outputs": [
    {
     "name": "stdout",
     "output_type": "stream",
     "text": [
      "['__builtins__', '__cached__', '__doc__', '__file__', '__loader__', '__name__', '__package__', '__spec__', 'arith_progr', 'fibo_seq', 'geom_seq', 'harmc_seq', 'syracuse']\n"
     ]
    }
   ],
   "source": [
    "print(dir(mbsm))"
   ]
  },
  {
   "cell_type": "markdown",
   "metadata": {},
   "source": [
    "## 1.2. Importing from a module comparision\n",
    "\n",
    "**Without alias**\n",
    "\n",
    "| syntax_methodology | Examples | Methods_descriptions |\n",
    "|:-|:-|:-:|\n",
    "|`import module_name ` | `import my_basic_sequence_module` | Import all definitions contained in your `module` by the **full_name** |\n",
    "|`from moulde_name import function_name` | `from my_basic_sequence_module import fibo_seq`| Import the specified `functions` in your `module` with their **full_names** |\n",
    "\n",
    "**Using alias**\n",
    "\n",
    "| syntax_methodology | Examples | Methods_descriptions |\n",
    "|:-|:-|:-:|\n",
    "|`import module_name as short_name` | `import my_basic_sequence_module as mbsm` | Import all `definitions` contained in your `module` by the **shorter_name** |\n",
    "|`from moulde_name import function_name as shorter_name` | `from my_basic_sequence_module import fibo_seq  as fsq`| Import the specified `functions` in your `module` with their **shorter_assigned_names** |\n",
    "\n",
    "**Import all!**\n",
    "\n",
    "| syntax_methodology | Examples | Methods_descriptions |\n",
    "|:-|:-|:-:|\n",
    "|`from module_name import *`| `from my_basic_sequence_module import *` | Import everything from the `module` with all the `function_names` stored in `module`|"
   ]
  },
  {
   "cell_type": "markdown",
   "metadata": {},
   "source": [
    "### 1.3. Examples & code explaination!"
   ]
  },
  {
   "cell_type": "code",
   "execution_count": 3,
   "metadata": {},
   "outputs": [],
   "source": [
    "## import all definitions contained in the \"my_basic_sequence_module\"\n",
    "import my_basic_sequence_module\n",
    "\n",
    "## import the specific functions; here be \"fibo_seq\" and \"harmc_seq\" from the previous module\n",
    "from my_basic_sequence_module import fibo_seq, harmc_seq\n",
    "\n",
    "## import all definitions in the shorter_name: \"mbsm\"\n",
    "import my_basic_sequence_module as mbsm\n",
    "\n",
    "## import the specific functions: \"fibo_seq\" and \"harmc_seq\" then alias them to the shorter name\n",
    "from my_basic_sequence_module import fibo_seq as fbs, harmc_seq as hcs\n",
    "\n",
    "## import everything from the module and keep all the function_names which stored in your module\n",
    "from my_basic_sequence_module import *"
   ]
  },
  {
   "cell_type": "markdown",
   "metadata": {},
   "source": [
    "Before going to our example; we will delete all with the function `exit()` then importing the module name again!"
   ]
  },
  {
   "cell_type": "code",
   "execution_count": 4,
   "metadata": {},
   "outputs": [],
   "source": [
    "exit()"
   ]
  },
  {
   "cell_type": "markdown",
   "metadata": {},
   "source": [
    "Now, look at the names in the list from `dir(mbsm)`, and now **to get information & description of some function in your module!** \n",
    "\n",
    "*Syntax*\n",
    "        \n",
    "                    help(module_assigned_name.function_name)\n",
    "For example, if we want to understand what the function `fibo_seq` works;"
   ]
  },
  {
   "cell_type": "code",
   "execution_count": 1,
   "metadata": {},
   "outputs": [
    {
     "name": "stdout",
     "output_type": "stream",
     "text": [
      "Help on function fibo_seq in module my_basic_sequence_module:\n",
      "\n",
      "fibo_seq(n, x0, x1)\n",
      "    This function generate a Fibonacci sequences length n.\n",
      "    ===============================================================\n",
      "    Input: \n",
      "        n (int) is the length of sequence\n",
      "        x0, x1 (int): the first 2 initial values in the sequence\n",
      "    --------------------------------------------------------------------------\n",
      "    Output: a Fibonacci sequence of length n and the first 2 initial value x0, x1\n",
      "\n"
     ]
    }
   ],
   "source": [
    "import my_basic_sequence_module as mbsm\n",
    "help(mbsm.fibo_seq)"
   ]
  },
  {
   "cell_type": "markdown",
   "metadata": {},
   "source": [
    "Hence, the `function : \"fibo_seq\"` is used to generate a series likes [Fibonacci seqquence](https://en.wikipedia.org/wiki/Fibonacci_number) of length `n`; e.g.,\n",
    "\n",
    "                1    1    2    3    5    8    13    ...\n",
    "then the first 2 initial values in the sequence be `x0 = 1` and `x1 = 1`.\n",
    "\n",
    "For example, to print out the first 10 values from the Fibonacci sequence which started with `1, 1` at the first 2 values!"
   ]
  },
  {
   "cell_type": "code",
   "execution_count": 2,
   "metadata": {},
   "outputs": [
    {
     "data": {
      "text/plain": [
       "[1, 1, 2, 3, 5, 8, 13, 21, 34, 55]"
      ]
     },
     "execution_count": 2,
     "metadata": {},
     "output_type": "execute_result"
    }
   ],
   "source": [
    "mbsm.fibo_seq(10, 1, 1)"
   ]
  },
  {
   "cell_type": "markdown",
   "metadata": {},
   "source": [
    "And if the sequence began with `-1, 1` at the first 2 values!!"
   ]
  },
  {
   "cell_type": "code",
   "execution_count": 3,
   "metadata": {},
   "outputs": [
    {
     "data": {
      "text/plain": [
       "[-1, 1, 0, 1, 1, 2, 3, 5, 8, 13]"
      ]
     },
     "execution_count": 3,
     "metadata": {},
     "output_type": "execute_result"
    }
   ],
   "source": [
    "mbsm.fibo_seq(10, -1, 1)"
   ]
  },
  {
   "cell_type": "markdown",
   "metadata": {},
   "source": [
    "#### Look at the functions from another sequence; such as the `arith_progr`\n",
    "Do it again with the `help`'s command"
   ]
  },
  {
   "cell_type": "code",
   "execution_count": 4,
   "metadata": {},
   "outputs": [
    {
     "name": "stdout",
     "output_type": "stream",
     "text": [
      "Help on function arith_progr in module my_basic_sequence_module:\n",
      "\n",
      "arith_progr(x0, d, n)\n",
      "    This function generate an arithmetic progression with\n",
      "        =============================================================   \n",
      "        Inputs:\n",
      "            x0 (numeric): an initial values in the sequence\n",
      "            d (numeric): the common difference in the sequence\n",
      "            n (int) : the sequence_length or the numbers of elements in the sequence\n",
      "        ---------------------------------------------------------------\n",
      "        Output / returns:\n",
      "            a sequence of the arithmetic sequence with initial value (x0) and a common difference (d)\n",
      "\n"
     ]
    }
   ],
   "source": [
    "help(mbsm.arith_progr)"
   ]
  },
  {
   "cell_type": "markdown",
   "metadata": {},
   "source": [
    "As we know, the `arithmetic progression` length `n = 10` with the initial value (`x0 = -1`) and a common difference (`d = 3`) is defined as\n",
    "\n",
    "$$ a_n = a_{n-1} + d; \\; a_0 = x_0; \\quad \\forall n \\geq 1$$\n",
    "\n",
    "Now, print out the first 10 values from this sequence!"
   ]
  },
  {
   "cell_type": "code",
   "execution_count": 5,
   "metadata": {},
   "outputs": [
    {
     "data": {
      "text/plain": [
       "[-1, 2, 5, 8, 11, 14, 17, 20, 23, 26]"
      ]
     },
     "execution_count": 5,
     "metadata": {},
     "output_type": "execute_result"
    }
   ],
   "source": [
    "mbsm.arith_progr(-1, 3, 10)"
   ]
  },
  {
   "cell_type": "markdown",
   "metadata": {},
   "source": [
    "Now, the **`harmc_seq`** `function`; checking again with `help` function!"
   ]
  },
  {
   "cell_type": "code",
   "execution_count": 6,
   "metadata": {},
   "outputs": [
    {
     "name": "stdout",
     "output_type": "stream",
     "text": [
      "Help on function harmc_seq in module my_basic_sequence_module:\n",
      "\n",
      "harmc_seq(x0, d, n)\n",
      "    This function generate a harmonic progression with an initial denominator (x0 : a non-zero) and a common diff (d)\n",
      "    ==========================================================\n",
      "    Inputs args:\n",
      "        defined similarly in the function arith_progr in this module\n",
      "    ----------------------------------------------------------\n",
      "    Output / returns:\n",
      "        A harmonic sequence\n",
      "\n"
     ]
    }
   ],
   "source": [
    "help(mbsm.harmc_seq)"
   ]
  },
  {
   "cell_type": "markdown",
   "metadata": {},
   "source": [
    "We all known that a `harmonic sequence` is defined by\n",
    "\n",
    "$$ a_n = \\dfrac{1}{a_0 + nd}, \\forall n \\geq 1 $$\n",
    "\n",
    "conditional on $$ a_0 \\neq 0 \\text{ and } a_0 + nd \\neq 0; \\quad n \\geq 1$$"
   ]
  },
  {
   "cell_type": "code",
   "execution_count": 7,
   "metadata": {},
   "outputs": [
    {
     "name": "stdout",
     "output_type": "stream",
     "text": [
      "[-1.0, 0.5, 0.2, 0.125, 0.09090909090909091, 0.07142857142857142]\n"
     ]
    }
   ],
   "source": [
    "print(mbsm.harmc_seq(-1, 3, 6))"
   ]
  },
  {
   "cell_type": "markdown",
   "metadata": {},
   "source": [
    "Now, the **`geom_seq`** or `geometric sequence`; which defined by\n",
    "\n",
    "$$ a_n = r a_{n-1}; \\quad \\forall n \\geq 1; $$\n",
    "\n",
    "where\n",
    "- $a_0$ is the `initial values`\n",
    "- $r$ is the `common ratio`"
   ]
  },
  {
   "cell_type": "code",
   "execution_count": 8,
   "metadata": {},
   "outputs": [
    {
     "data": {
      "text/plain": [
       "[3, 6, 12, 24, 48, 96, 192, 384, 768, 1536]"
      ]
     },
     "execution_count": 8,
     "metadata": {},
     "output_type": "execute_result"
    }
   ],
   "source": [
    "mbsm.geom_seq(3, 2, 10)"
   ]
  },
  {
   "cell_type": "markdown",
   "metadata": {},
   "source": [
    "Finally, this is **`syracuse`** function! The behind idea is based on the [Collatz conjecture problem](https://en.wikipedia.org/wiki/Collatz_conjecture); or called `Syracuse problem`! \n",
    "\n",
    "Shortly, you can understand the formular via this equation:\n",
    "\n",
    "$$ \\begin{array}{cll} s_n &=& 1 \\\\ s_k &=& f(s_{k-1}), \\quad \\forall k = 1,\\ldots,n \\end{array} $$\n",
    "\n",
    "where\n",
    "$$ f(k) = \\left\\lbrace \\begin{array}{cll} \\frac{k}{2} &,& k \\text{ mod } 2 = 0 \\\\ 3k+1 &,& \\text{otherwise} \\end{array} \\right. $$"
   ]
  },
  {
   "cell_type": "code",
   "execution_count": 9,
   "metadata": {},
   "outputs": [
    {
     "data": {
      "text/plain": [
       "[15, 46, 23, 70, 35, 106, 53, 160, 80, 40, 20, 10, 5, 16, 8, 4, 2, 1]"
      ]
     },
     "execution_count": 9,
     "metadata": {},
     "output_type": "execute_result"
    }
   ],
   "source": [
    "mbsm.syracuse(15)"
   ]
  },
  {
   "cell_type": "markdown",
   "metadata": {},
   "source": [
    "## 3.  Student's exercise.\n",
    "\n",
    "Now, look at the following module: [my_first_module.py](https://github.com/Nhan121/Lectures_notes-teaching-in-VN-/blob/master/basic_python/Preliminaries/Chapter6/my%20modules/my_first_module.py)\n",
    "\n",
    "#### How to list everything in the module"
   ]
  },
  {
   "cell_type": "code",
   "execution_count": 10,
   "metadata": {},
   "outputs": [
    {
     "name": "stdout",
     "output_type": "stream",
     "text": [
      "['__builtins__', '__cached__', '__doc__', '__file__', '__loader__', '__name__', '__package__', '__spec__', 'box_plot_info', 'mean', 'mode', 'phan_vi', 'standard_deviation', 'variance_hc']\n"
     ]
    }
   ],
   "source": [
    "import my_first_module as mfm\n",
    "print(dir(mfm))"
   ]
  },
  {
   "cell_type": "markdown",
   "metadata": {},
   "source": [
    "#### How to load"
   ]
  },
  {
   "cell_type": "code",
   "execution_count": 11,
   "metadata": {},
   "outputs": [
    {
     "data": {
      "text/plain": [
       "[('box_plot_info', <function my_first_module.box_plot_info(data)>),\n",
       " ('mean', <function my_first_module.mean(data)>),\n",
       " ('mode', <function my_first_module.mode(data)>),\n",
       " ('phan_vi', <function my_first_module.phan_vi(data, alpha)>),\n",
       " ('standard_deviation', <function my_first_module.standard_deviation(data)>),\n",
       " ('variance_hc', <function my_first_module.variance_hc(data)>)]"
      ]
     },
     "execution_count": 11,
     "metadata": {},
     "output_type": "execute_result"
    }
   ],
   "source": [
    "from inspect import getmembers, isfunction\n",
    "\n",
    "functions_list = [o for o in getmembers(mfm) if isfunction(o[1])]\n",
    "functions_list"
   ]
  },
  {
   "cell_type": "markdown",
   "metadata": {},
   "source": [
    "#### Questions! Explain these following code in the rest of this kernel!"
   ]
  },
  {
   "cell_type": "code",
   "execution_count": 12,
   "metadata": {},
   "outputs": [
    {
     "name": "stdout",
     "output_type": "stream",
     "text": [
      "2.0\n",
      "1.0\n",
      "1.0\n"
     ]
    }
   ],
   "source": [
    "x = list(range(1,4))\n",
    "\n",
    "print(mfm.mean(x))\n",
    "print(mfm.variance_hc(x))\n",
    "print(mfm.standard_deviation(x))"
   ]
  },
  {
   "cell_type": "code",
   "execution_count": 13,
   "metadata": {},
   "outputs": [
    {
     "name": "stdout",
     "output_type": "stream",
     "text": [
      "Help on function phan_vi in module my_first_module:\n",
      "\n",
      "phan_vi(data, alpha)\n",
      "    Ham nay duoc su dung de tinh phan vi voi cac tham so:\n",
      "        data (list or array of the numeric)\n",
      "        alpha (float): must be in (0, 1) is the quantiles level\n",
      "        \n",
      "    This function returns the quantiles of your input_data\n",
      "\n"
     ]
    },
    {
     "data": {
      "text/plain": [
       "5.5"
      ]
     },
     "execution_count": 13,
     "metadata": {},
     "output_type": "execute_result"
    }
   ],
   "source": [
    "help(mfm.phan_vi)\n",
    "mfm.phan_vi(list(range(1, 11, 1)), 0.5)"
   ]
  },
  {
   "cell_type": "markdown",
   "metadata": {},
   "source": [
    "**Compare the function `var` & `std` which defined in `Numpy`**\n",
    "\n",
    "Explain the different?\n",
    "\n",
    "**Hint!** Noting that the function `var` is not `adjusted variance`"
   ]
  },
  {
   "cell_type": "code",
   "execution_count": 14,
   "metadata": {},
   "outputs": [
    {
     "data": {
      "text/plain": [
       "(8.25, 2.8722813232690143)"
      ]
     },
     "execution_count": 14,
     "metadata": {},
     "output_type": "execute_result"
    }
   ],
   "source": [
    "import numpy as np\n",
    "\n",
    "x = list(range(10))\n",
    "np.var(x), np.std(x)"
   ]
  },
  {
   "cell_type": "code",
   "execution_count": 15,
   "metadata": {},
   "outputs": [
    {
     "data": {
      "text/plain": [
       "(88, -6, 8.0, 8.0, 8.0, 0.0, [-6, -1, 3, 3, 4, 5, 7, 7, 88])"
      ]
     },
     "execution_count": 15,
     "metadata": {},
     "output_type": "execute_result"
    }
   ],
   "source": [
    "z = [-1,3,4,5,-6, 3,7,7,8,8,8,8,8,8,8,8,88,8,8,8,8,8,8,8,8,8,8,8,8,8,8,8]\n",
    "mfm.box_plot_info(z)"
   ]
  },
  {
   "cell_type": "code",
   "execution_count": 16,
   "metadata": {},
   "outputs": [
    {
     "data": {
      "text/plain": [
       "(2.7, 2.6999999999999997)"
      ]
     },
     "execution_count": 16,
     "metadata": {},
     "output_type": "execute_result"
    }
   ],
   "source": [
    "x.sort(); x\n",
    "mfm.standard_deviation([1,2,3])\n",
    "mfm.phan_vi(x, 0.3), np.percentile(x, 30)"
   ]
  }
 ],
 "metadata": {
  "kernelspec": {
   "display_name": "Python 3",
   "language": "python",
   "name": "python3"
  },
  "language_info": {
   "codemirror_mode": {
    "name": "ipython",
    "version": 3
   },
   "file_extension": ".py",
   "mimetype": "text/x-python",
   "name": "python",
   "nbconvert_exporter": "python",
   "pygments_lexer": "ipython3",
   "version": "3.7.6"
  },
  "toc": {
   "base_numbering": 1,
   "nav_menu": {},
   "number_sections": false,
   "sideBar": true,
   "skip_h1_title": false,
   "title_cell": "Table of Contents",
   "title_sidebar": "Contents",
   "toc_cell": false,
   "toc_position": {},
   "toc_section_display": true,
   "toc_window_display": false
  }
 },
 "nbformat": 4,
 "nbformat_minor": 4
}
