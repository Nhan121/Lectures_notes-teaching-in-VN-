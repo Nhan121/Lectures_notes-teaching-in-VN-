{
 "cells": [
  {
   "cell_type": "markdown",
   "metadata": {},
   "source": [
    "## 1. Some basic operations in python; without using any library or package!!\n",
    "\n",
    "### 1.1. Arithmetic operations\n",
    "\n",
    "| Operations |  Meanings | Input examples | Results |\n",
    "|-|-|-|-|\n",
    "| `x + y` | sum of `x` and `y` | `x = 2, y = 3.14` | `3.14` |\n",
    "| `x - y` | difference of `x` and `y` | `x = 4, y = 1.2` | `2.8` | \n",
    "| `abs(x)`| absolute value of `x` | `x = -2.1` | `2` |\n",
    "| `x * y` | multiply `x` and `y` | `x = 2, y = 3` | `6` |\n",
    "| `x**y`  | `x` power `y` | `x = 2, y = 3` | `8` |\n",
    "| `pow(x, y)`| the same with `x**y` | | |\n",
    "| `x / y` | quotient of `x` and `y` | `x = 3, y = 2` | `1.5` |\n",
    "| `round(x, y)` | `x` rounded to `y` digits | `x = 2.1239, y = 2` | `2.12`\n",
    "| `x // y`| floored quotient of `x` and `y` | `x = 7, y = 3`| `2` |\n",
    "| `x % y` | reminder of `x` and `y` | `x = 7, y = 3` | `1`|\n",
    "\n",
    "You can read the other `Mathematic_operations` in [Numpy-mathmatic-functions](https://numpy.org/doc/stable/reference/routines.math.html)."
   ]
  },
  {
   "cell_type": "markdown",
   "metadata": {},
   "source": [
    "### 1.2. Identity operators\n",
    "\n",
    "| Operations |  Meanings | Input examples | Final_results |\n",
    "|-|-|-|-|\n",
    "|`x is y` | Verify `x` and `y` is the same value? | `x = 2, y = '2'` | `False` |\n",
    "|`x is not y`| Verify `x` and `y` is the same value? | `x = 2, y = '2'` | `True`"
   ]
  },
  {
   "cell_type": "code",
   "execution_count": 1,
   "metadata": {},
   "outputs": [
    {
     "name": "stdout",
     "output_type": "stream",
     "text": [
      "Statement (2 is 2) returns True\n",
      "Statement (2 is '2') returns False\n",
      "Statement ('2' is '2') returns True\n",
      "Statement (2 is not '2') returns True\n",
      "Statement ('2' is not '2') returns False\n"
     ]
    }
   ],
   "source": [
    "print(\"Statement (2 is 2) returns\", 2 is 2)\n",
    "print(\"Statement (2 is '2') returns\", 2 is '2')\n",
    "print(\"Statement ('2' is '2') returns\", '2' is '2')\n",
    "print(\"Statement (2 is not '2') returns\", 2 is not '2')\n",
    "print(\"Statement ('2' is not '2') returns\", '2' is not '2')"
   ]
  },
  {
   "cell_type": "markdown",
   "metadata": {},
   "source": [
    "###  1.3. Basic bit-wise operators.\n",
    "These operators work via the `binary numbers`,\n",
    "#### Quick reminder.\n",
    "The `binary` number is a number that contains only `0` and `1`! We can convert a `decimal number` to `binary form` by the following technique: \n",
    "\n",
    "$$ \\begin{array}{ccll} 3 &=& 2 + 1 = \\textbf{1}*2^1 + \\textbf{1}*2^0 & \\text{so the binary form of 3 is 11} \\\\ 11 &=& \\textbf{1}*2^3 + \\textbf{0}*2^2 + \\textbf{1}*2^1 + \\textbf{1}*2^0 & \\text{so the binary form of 11 is 1011} \\end{array} $$\n",
    "\n",
    "In **`Python`,** we can find a `binary form` of any `decimal number` by the function `bin()`.\n",
    "\n",
    "> In the ouput we will receive a `string` (the first one in the output results : `0b1011`), and the first 2 letters `0b` means `binary form in Python.` \n",
    "\n",
    "> Hence, to get the `exactly value of the convert`, we will exclude the `0b` by appending the term `[2 :]` (look at the last one in the output result: `1011`)"
   ]
  },
  {
   "cell_type": "code",
   "execution_count": 2,
   "metadata": {},
   "outputs": [
    {
     "data": {
      "text/plain": [
       "('0b1011', '1011')"
      ]
     },
     "execution_count": 2,
     "metadata": {},
     "output_type": "execute_result"
    }
   ],
   "source": [
    "bin(11), bin(11)[2:]"
   ]
  },
  {
   "cell_type": "markdown",
   "metadata": {},
   "source": [
    "Now, comeback our `bit-wise operators`\n",
    "\n",
    "| Operations | Descriptions & Explain the examples | `x` | `y` | `bin(x)` | `bin(y)` | Final Results. |\n",
    "|:-:|:-|-|-|-|-|-|\n",
    "|`~x`| `decimal_form` of the `binary_complement`. \\\\\\\\ This meant `~x = - convert_bin2dec(complement of binary(x))` \\\\\\\\ For example, `x = 3`, then `bin(x) = 11` \\\\\\\\ so its complement is `100` and `dec_from_bin(100) = 4`| `2`| `null` | `10`|unknown (not given `y`)| `~x = -3`|\n",
    "|| Therefore, `~x = -(x+1)` | `3` | `null` | `11` | unknown | `~x = -4` |\n",
    "|| | `0` | `null` | `00` | unknown | `~x = -1` |\n",
    "|`x & y`|Formular_meaning: `x & y = convert_bin2dec(bin(x) AND bin(y) )`. \\\\\\\\ For example, first we take `x=3`, `y=-2`. \\\\\\\\ We have `bin(x) = 11` and `bin(2) = 10`; noting that the  `bin(-y) = 110` by appending `1` before the term `bin(y)`. \\\\\\\\ So, `bin(x) AND bin(y)` = `011 AND 110` pointwise, that meants at their fisrt letter then `0 AND 1 = 0`; `1 AND 1 = 1` for the 2nd pairs; `1 AND 0 = 0` for the last one. | ` 5`| ` -2` | `101` | `110` |  `x&y = 4` |\n",
    "||Finally, we obtain `x & y = convert_bin2dec(010) = 2`| ` 3`| ` -2` | `011` | `110` |  `x&y = 2` ||||\n",
    "|||`5`| `3` | `101` | `011` | `x&y = 1` |\n",
    "||In case all the inputs be negative, then `x & y = ~(abs(x)`$\\vert$ `abs(y) )`; presented bellow! |`-3`| `-2` | `1011` | `0110` | `x&y = -4` |\n",
    "|`x` $\\vert$ `y`| Do the same thing as above but change **`AND`** into **`OR`**. For example, `x=4, y = 3` so we had `bin(x) = 100; bin(y) = 011` \\\\\\\\ Then, `100 OR 011 = (1 OR 0)_(0 OR 1)_(0 OR 1) = 111` is `7` in `dec`  |`3`|`4`|`11`|`100`|`x`$\\vert$`y = 7`|\n",
    "|||`10`|`7`|`1010`|`111`|`15`|\n",
    "||if one of the inputs is negative, then the first letter `1` is converted to the `minus (-)` then adding `2` in your final result. For example, `x=3, y=-5` then `bin(x) OR bin(y) = 0011 OR 1101 = 1111 = -(111) = -7` in `dec`; then adding `2` to `-7` and we obatain `-5` |`3`|`-5`|`0011`|`1101`| `-5`|\n",
    "||Likewise, `x=-4, y = 9`, we have `bin(4) OR bin(9) = 1100 OR 1011 = 1101 = -5` in `dec`; adding `2` and we obatain `-3`|`-4`|`9`|`1100`|`1001`|`-3`|\n",
    "||In case all the inputs be negative, then this returns `~(~x & ~y)`| `-3`| `-6`|`110`|`1110`|`-1`|\n",
    "|`x ^ y`| Do the same thing but change the operations into **`EXOR`**. Noting that the **`Python bitwise XOR operator`** returns **1 if one of the bits is 0 and the other bit is 1**. If **both the bits are 0 or 1, then it returns 0**. For example, `101 AND 011 = 110` since the 2 last letters be `1` which returns `0`| `5`|`3`|`101`|`011`|`6`|\n",
    "||if one of your inputs be negative, for instance `x < 0`, then `x ^ y = -1 -(~x ^ y)`. For example, `x=-3, y =5` then `~x = 2 ` and `x ^ y = convert_bin2dec(110 EXOR 111) = 7` |`-3`|`-5`|`101`|`110`| `-8`|\n",
    "|||`-2`|`5`|`110`|`101`|`-5`|\n",
    "|`x << y` | **`Bitwise Left Shift operator`**, this function shifts the left operand bits towards the left side for the given number of times in the right operand. In simple terms, the binary number is appended with 0s at the end. For example, `x=10, y=2` then `bin(x) = 1010`; `y=2` so we add 2 letter `0` in the right of `bin(x)` and we obtain **`(1010)(00) = 101000`** which returns `40` in `decimal` | `10`| `2` | `1010`| | `40` |\n",
    "||if `x < 0` then `x << y = -(abs(x) << y)`|`-10`|`2`|`11010`| | `-40`|\n",
    "||`y` must be positive in the **`bitwise Left Shift operator`**| | |\n",
    "|`x >> y` | **`Bitwise Right Shift Operator`**, this operator is exactly the opposite of **`the left shift operator`**. Then left side operand bits are moved towards the right side for the given number of times. In simple terms, the right side bits are removed. For example, `x = 23, y = 2` so we have `bin(x) = 10111` and we remove the first 2 letters `10` from the right, hence we obtain `x >> y = 111 (in bin) = 5 (in dec)`| `23` | `2` | `10111` | |`5`|\n",
    "| | |`23`|`3`|`10111`||`2`|\n",
    "||Likewise, `y` must be positive and if `x < 0`, for example `x = -23, y = 3` then `bin(x) = 110111`; removing the first 3 letters from the right `111` so we obtain `110 (in bin) = 6 (in dec)` | `-23`| `3`| `110111`| | `6`|"
   ]
  },
  {
   "cell_type": "markdown",
   "metadata": {},
   "source": [
    "#### Example of `~x`"
   ]
  },
  {
   "cell_type": "code",
   "execution_count": 3,
   "metadata": {},
   "outputs": [
    {
     "name": "stdout",
     "output_type": "stream",
     "text": [
      "For a = 3 then ~a = -4. \n",
      "For b = -2 then ~b = 1\n"
     ]
    }
   ],
   "source": [
    "print(\"For a = 3 then ~a = %s. \\nFor b = -2 then ~b = %s\"%(~3, ~-2))"
   ]
  },
  {
   "cell_type": "markdown",
   "metadata": {},
   "source": [
    "#### Example of `x & y`"
   ]
  },
  {
   "cell_type": "code",
   "execution_count": 4,
   "metadata": {},
   "outputs": [
    {
     "name": "stdout",
     "output_type": "stream",
     "text": [
      "(3 & 2) =  2 ;\t (3 & -2) =  2 ;\t (5 & 3) =  1 ;\t (3 & 4) =  0\n",
      "if both of them be negative! For example:\n",
      "( (-3&-2) == ~(3|2)) returns True \n",
      "and ((-7&-6) == ~(7|6)) returns True\n"
     ]
    }
   ],
   "source": [
    "print(\"(3 & 2) = \", (3 & 2), \";\\t (3 & -2) = \", \n",
    "      (3 & -2), \";\\t (5 & 3) = \", (5 & 3), \";\\t (3 & 4) = \", (3 & 4))\n",
    "\n",
    "print(\"if both of them be negative! For example:\")\n",
    "print(\"( (-3&-2) == ~(3|2)) returns\", (-3 & -2) == ~(3 | 2), \"\\nand ((-7&-6) == ~(7|6)) returns\", (-7 & -6) == ~(7 | 6))"
   ]
  },
  {
   "cell_type": "markdown",
   "metadata": {},
   "source": [
    "#### Example of `x | y`"
   ]
  },
  {
   "cell_type": "code",
   "execution_count": 5,
   "metadata": {},
   "outputs": [
    {
     "name": "stdout",
     "output_type": "stream",
     "text": [
      "(3 | 4) =  7 ;\t(4 | 3) =  7 ;\t(10 | 7) =  15 ;\t(3 | -5) =  -5 ;\t(-4| 9) =  -3\n",
      "if both of them be negative, for example\n",
      "(-3 | -6) =  -1 ; \t and ~(~-3 & ~-6) =  -1\n",
      "(-52 | -19) =  -19 ; \t and ~(~-52 & ~-19) =  -19\n"
     ]
    }
   ],
   "source": [
    "print(\"(3 | 4) = \", (3 | 4), \";\\t(4 | 3) = \", \n",
    "      (4 | 3), \";\\t(10 | 7) = \", (10 | 7), \";\\t(3 | -5) = \", \n",
    "      (3 | -5), \";\\t(-4| 9) = \", (-4| 9))\n",
    "\n",
    "print(\"if both of them be negative, for example\")\n",
    "print(\"(-3 | -6) = \", (-3 | -6), \"; \\t and ~(~-3 & ~-6) = \", ~(~-3 & ~-6))\n",
    "print(\"(-52 | -19) = \", (-52 | -19), \"; \\t and ~(~-52 & ~-19) = \", ~(~-52 & ~-19))"
   ]
  },
  {
   "cell_type": "markdown",
   "metadata": {},
   "source": [
    "#### Example of `x^y`"
   ]
  },
  {
   "cell_type": "code",
   "execution_count": 6,
   "metadata": {},
   "outputs": [
    {
     "name": "stdout",
     "output_type": "stream",
     "text": [
      "(3 ^ 5) =  6 ;\t(5 ^ 3) =  6 ;\t(5 ^ -3) =  -8 ;\t(-2 ^ 5) =  -5 ;\t(2 ^ 5) =  7 ;\t(10^-3) =  -9\n"
     ]
    }
   ],
   "source": [
    "print(\"(3 ^ 5) = \", (3 ^ 5), \";\\t(5 ^ 3) = \", (5 ^ 3), \n",
    "      \";\\t(5 ^ -3) = \", (5 ^ -3), \n",
    "      \";\\t(-2 ^ 5) = \", (-2 ^ 5), \";\\t(2 ^ 5) = \", (2 ^ 5), \";\\t(10^-3) = \", (10^-3))"
   ]
  },
  {
   "cell_type": "markdown",
   "metadata": {},
   "source": [
    "#### Example of `x << y`"
   ]
  },
  {
   "cell_type": "code",
   "execution_count": 7,
   "metadata": {},
   "outputs": [
    {
     "data": {
      "text/plain": [
       "(40, -40)"
      ]
     },
     "execution_count": 7,
     "metadata": {},
     "output_type": "execute_result"
    }
   ],
   "source": [
    "10 << 2, -10 << 2"
   ]
  },
  {
   "cell_type": "markdown",
   "metadata": {},
   "source": [
    "#### example of `x >> y`"
   ]
  },
  {
   "cell_type": "code",
   "execution_count": 8,
   "metadata": {},
   "outputs": [
    {
     "data": {
      "text/plain": [
       "(5, 2, -6)"
      ]
     },
     "execution_count": 8,
     "metadata": {},
     "output_type": "execute_result"
    }
   ],
   "source": [
    "23 >> 2, 23 >> 3, -23 >> 2"
   ]
  },
  {
   "cell_type": "markdown",
   "metadata": {},
   "source": [
    "### 1.4. Relational operators.\n",
    "\n",
    "| Operations |  Meanings | Input examples | Results. |\n",
    "|-|-|-|-|\n",
    "|`x < y` | Checking `x` is less than `y` or not? | `x = 3, y = 3.1` | `True` |\n",
    "|`x <= y` | Checking `x` is less than or equal to `y` or not? | `x = 3, y = 3.0` | `True` |\n",
    "|`x > y` | Checking `x` is greater than `y` or not? | `x = 3, y = 3.1` | `False` |\n",
    "|`x >= y` | Checking `x` is greater than or equal to `y` or not? | `x = 3, y = 3.0` | `True` |\n",
    "|`x == y` | Checking `x` is equal to `y` or not? | `x = 3, y = 3.0` | `True` |\n",
    "|`x != y` | Checking `x` is equal to `y` or not? | `x = 3, y = 3.0` | `True` |"
   ]
  },
  {
   "cell_type": "code",
   "execution_count": 9,
   "metadata": {},
   "outputs": [
    {
     "name": "stdout",
     "output_type": "stream",
     "text": [
      "Let x = 3, y =3.1, then the statement (x < y) returns True\n",
      "Let x = 3, y =3.0, then the statement (x <= y) returns True\n",
      "Let x = 3, y =3.1, then the statement (x > y) returns False\n",
      "Let x = 3, y =3.0, then the statement (x >= y) returns True\n",
      "Let x = 3, y =3.0, then the statement (x == y) returns True\n",
      "Let x = 3, y =3.0, then the statement (x != y) returns True\n"
     ]
    }
   ],
   "source": [
    "x = 3\n",
    "y = 3.1; print(\"Let x = %s, y =%s, then the statement (x < y) returns %s\"%(x, y, x < y))\n",
    "y = 3.0; print(\"Let x = %s, y =%s, then the statement (x <= y) returns %s\"%(x, y, x <= y))\n",
    "y = 3.1; print(\"Let x = %s, y =%s, then the statement (x > y) returns %s\"%(x, y, x > y))\n",
    "y = 3.0; print(\"Let x = %s, y =%s, then the statement (x >= y) returns %s\"%(x, y, x >= y))\n",
    "y = 3.0; print(\"Let x = %s, y =%s, then the statement (x == y) returns %s\"%(x, y, x == y))\n",
    "y = 3.0; print(\"Let x = %s, y =%s, then the statement (x != y) returns %s\"%(x, y, x == y))"
   ]
  },
  {
   "cell_type": "markdown",
   "metadata": {},
   "source": [
    "### 1.5. Logical operators\n",
    "\n",
    "| Operations |  Meanings | Input examples | Results. |\n",
    "|-|-|-|-|\n",
    "|`x and y`| checking both of conditions | `x = (1 < 2), y = (1 != 2)` | `True`\n",
    "| `x & y` | the same with `x and y` |  `x = (1 < 2), y = ( 1 > 2) ` | `False`\n",
    "|`x or y`| checking one of the statements `x, y` is true | `x = (1 < 2), y = (1 > 2) ` | `True` \n",
    "| $\\vert$ | the same with `x or y` | `x = (1 > 2), y = (1 == 2)` | `False`"
   ]
  },
  {
   "cell_type": "code",
   "execution_count": 10,
   "metadata": {},
   "outputs": [
    {
     "name": "stdout",
     "output_type": "stream",
     "text": [
      "Let x = (1 < 2), y = (1 != 2), then (x and y) returns True\n",
      "Let x = (1 < 2), y = (1 > 2), then (x and y) returns False\n",
      "Let x = (1 < 2), y = (1 > 2), then (x or y) returns True\n",
      "Let x = (1 > 2), y = (1 == 2), then (x | y) returns False\n"
     ]
    }
   ],
   "source": [
    "x = (1 < 2); y = (1 != 2); print(\"Let x = (1 < 2), y = (1 != 2), then (x and y) returns %s\"%(x and y))\n",
    "x = (1 < 2); y = (1 > 2); print(\"Let x = (1 < 2), y = (1 > 2), then (x and y) returns %s\"%(x & y))\n",
    "x = (1 < 2); y = (1 > 2); print(\"Let x = (1 < 2), y = (1 > 2), then (x or y) returns %s\"%(x or y))\n",
    "x = (1 > 2); y = (1 == 2); print(\"Let x = (1 > 2), y = (1 == 2), then (x | y) returns %s\"%(x | y))"
   ]
  },
  {
   "cell_type": "markdown",
   "metadata": {},
   "source": [
    "### 1.6. Membership operators.\n",
    "\n",
    "| Operations |  Meanings | Input examples | Results. |\n",
    "|-|-|-|-|\n",
    "| `x in y` | Verify `x` belongs to `y` or not | `x = \"m\", y = 'me'` | **`True`**|\n",
    "| `x not in y` | Verify `x` belongs to `y` or not | `x = \"em\", y = 'me'` | **`False`**|"
   ]
  },
  {
   "cell_type": "code",
   "execution_count": 11,
   "metadata": {},
   "outputs": [
    {
     "name": "stdout",
     "output_type": "stream",
     "text": [
      "Let x = \"m\", y = \"me\", then the statement (x in y) returns True\n",
      "Let x = \"em\", y = \"me\", then the statement (x in y) returns False\n",
      "Let x = 2020, y = [2018, 2019, 2020, 2021], then the statement (x in y) returns True\n",
      "Let x = \"University of Science\", y = \"I hate University of Science, just kidding!\",\n",
      "\t then the statement (x in y) returns True\n"
     ]
    }
   ],
   "source": [
    "x = \"m\"; y = 'me'; print('Let x = \"%s\", y = \"%s\", then the statement (x in y) returns %s'%(x, y, x in y))\n",
    "x = \"em\"; y = 'me'; print('Let x = \"%s\", y = \"%s\", then the statement (x in y) returns %s'%(x, y, x in y))\n",
    "\n",
    "x = 2020; y = [2018, 2019, 2020, 2021]\n",
    "print('Let x = %s, y = %s, then the statement (x in y) returns %s'%(x, y, x in y))\n",
    "\n",
    "x = \"University of Science\"; y = \"I hate University of Science, just kidding!\"\n",
    "print('Let x = \"%s\", y = \"%s\",\\n\\t then the statement (x in y) returns %s'%(x, y, x in y))"
   ]
  },
  {
   "cell_type": "markdown",
   "metadata": {},
   "source": [
    "### 1.7. Assignment operations.\n",
    "\n",
    "| Operations |  Meanings | Input examples | Results after assignment |\n",
    "|-|-|-|-|\n",
    "| `x += y` | update / assign `x` by adding `y`. That is: `x (after) = x (given) + y` | `x = 2, y = 1` | `x = 3` |\n",
    "| `x -= y` | update `x` by subtracting `y` | `x = 2, y = 1`| `x = 1` |\n",
    "| `x *= y` | update `x` by multiplying by `y` | `x = 2, y = .5` | `x = 1.0` |\n",
    "| `x /= y` | update `x` by dividing by `y` and noting that `y` must be non-zeros | `x = 2, y = 4` | `x = 0.5` |\n",
    "| `x %= y` | assign `x = x % y`, the reminder of division `x` by `y` | `x = 7, y = 4` | `x = 3`\n",
    "| `x **= y`| assign `x = x**y`, the `x` power `y` | `x = 7, y = 2 ` | `x = 49` |\n",
    "| `x //= y`| assign `x = x // y` | `x = 7, y = 2` | `x = 3`\n",
    "| `x ^= y` | assign `x = x^y`, the operation `^` has been mentioned in Section 3 of this kernel/file | `x = 7, y = 2` | `x = 5`\n",
    "\n",
    "**Comparison examples!**"
   ]
  },
  {
   "cell_type": "code",
   "execution_count": 12,
   "metadata": {},
   "outputs": [
    {
     "name": "stdout",
     "output_type": "stream",
     "text": [
      "x = 2;\t y = 1;\t x += y;\t\t then x =  3\n",
      "x = 2;\t y = 1;\t x -= y;\t\t then x =  3\n",
      "x = 2;\t y =.5;\t x *= y;\t\t then x =  1.0\n",
      "x = 2;\t y = 4;\t x /= y;\t\t then x =  0.5\n",
      "x = 7;\t y = 4;\t x %= y;\t\t then x =  3\n",
      "x = 7;\t y = 2;\t x **= y;\t\t then x =  49\n",
      "x = 7;\t y = 2;\t x //= y;\t\t then x =  3\n",
      "x = 7;\t y = 2;\t x ^= y;\t\t then x =  5\n"
     ]
    }
   ],
   "source": [
    "x=2; y=1; x += y; print(\"x = 2;\\t y = 1;\\t x += y;\\t\\t then x = \", x)\n",
    "x=2; y=1; x += y; print(\"x = 2;\\t y = 1;\\t x -= y;\\t\\t then x = \", x)\n",
    "x=2; y=.5; x *= y; print(\"x = 2;\\t y =.5;\\t x *= y;\\t\\t then x = \", x)\n",
    "x=2; y=4; x /= y; print(\"x = 2;\\t y = 4;\\t x /= y;\\t\\t then x = \", x)\n",
    "x=7; y=4; x %= y; print(\"x = 7;\\t y = 4;\\t x %= y;\\t\\t then x = \", x)\n",
    "x=7; y=2; x **= y; print(\"x = 7;\\t y = 2;\\t x **= y;\\t\\t then x = \", x)\n",
    "x=7; y=2; x //= y; print(\"x = 7;\\t y = 2;\\t x //= y;\\t\\t then x = \", x)\n",
    "x=7; y=2; x ^= y; print(\"x = 7;\\t y = 2;\\t x ^= y;\\t\\t then x = \", x)"
   ]
  },
  {
   "cell_type": "markdown",
   "metadata": {},
   "source": [
    "## 2. Set theory and its operators!\n",
    "\n",
    "See: [Set-theory](https://github.com/Nhan121/Lectures_notes-teaching-in-VN-/blob/master/basic_python/Set_Theory.ipynb)!"
   ]
  }
 ],
 "metadata": {
  "kernelspec": {
   "display_name": "Python 3",
   "language": "python",
   "name": "python3"
  },
  "language_info": {
   "codemirror_mode": {
    "name": "ipython",
    "version": 3
   },
   "file_extension": ".py",
   "mimetype": "text/x-python",
   "name": "python",
   "nbconvert_exporter": "python",
   "pygments_lexer": "ipython3",
   "version": "3.7.7"
  },
  "toc": {
   "base_numbering": 1,
   "nav_menu": {},
   "number_sections": false,
   "sideBar": true,
   "skip_h1_title": false,
   "title_cell": "Table of Contents",
   "title_sidebar": "Contents",
   "toc_cell": false,
   "toc_position": {},
   "toc_section_display": true,
   "toc_window_display": false
  }
 },
 "nbformat": 4,
 "nbformat_minor": 4
}
